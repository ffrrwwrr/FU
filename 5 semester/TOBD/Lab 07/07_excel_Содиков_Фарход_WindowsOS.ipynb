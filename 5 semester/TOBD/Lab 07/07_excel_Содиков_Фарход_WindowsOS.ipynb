{
 "cells": [
  {
   "cell_type": "markdown",
   "metadata": {},
   "source": [
    "# Работа с Excel"
   ]
  },
  {
   "cell_type": "markdown",
   "metadata": {},
   "source": [
    "Материалы:\n",
    "* Макрушин С.В. Лекция 7: Работа с Excel\n",
    "* https://docs.xlwings.org/en/stable/quickstart.html\n",
    "* https://nbviewer.jupyter.org/github/pybokeh/jupyter_notebooks/blob/master/xlwings/Excel_Formatting.ipynb#search_text\n"
   ]
  },
  {
   "cell_type": "markdown",
   "metadata": {},
   "source": [
    "## Задачи для совместного разбора"
   ]
  },
  {
   "cell_type": "code",
   "execution_count": 1,
   "metadata": {},
   "outputs": [
    {
     "data": {
      "text/plain": [
       "'0.24.9'"
      ]
     },
     "execution_count": 1,
     "metadata": {},
     "output_type": "execute_result"
    }
   ],
   "source": [
    "import xlwings as xw\n",
    "import numpy as np\n",
    "xw.__version__"
   ]
  },
  {
   "cell_type": "markdown",
   "metadata": {},
   "source": [
    "1. На листе \"Рецептура\" файла `себестоимостьА_в1.xlsx` для области \"Пшеничный хлеб\" рассчитать себестоимость всех видов продукции."
   ]
  },
  {
   "cell_type": "code",
   "execution_count": 2,
   "metadata": {},
   "outputs": [],
   "source": [
    "wb = xw.Book('./07_excel_data/sebestoimostA_v1.xlsx')"
   ]
  },
  {
   "cell_type": "code",
   "execution_count": 11,
   "metadata": {},
   "outputs": [
    {
     "data": {
      "text/plain": [
       "array([21.48 , 16.525, 17.423, 18.085])"
      ]
     },
     "execution_count": 11,
     "metadata": {},
     "output_type": "execute_result"
    }
   ],
   "source": [
    "sheet = wb.sheets['Рецептура']\n",
    "consumption = sheet.range('G7:O10').options(np.array).value\n",
    "consumption\n",
    "unit_price = sheet.range('G14:O14').options(np.array).value\n",
    "unit_price\n",
    "cost = np.nan_to_num(consumption * unit_price).sum(axis=1)\n",
    "cost"
   ]
  },
  {
   "cell_type": "markdown",
   "metadata": {},
   "source": [
    "2. Результаты расчетов 1.1 сохранить в отдельном столбце области \"Пшеничный хлеб\""
   ]
  },
  {
   "cell_type": "code",
   "execution_count": 12,
   "metadata": {},
   "outputs": [],
   "source": [
    "sheet.range('T7:T10').options(transpose=True).value = cost\n",
    "sheet.range('T6').value = 'Себестоимость'"
   ]
  },
  {
   "cell_type": "markdown",
   "metadata": {},
   "source": [
    "3. Приблизить форматирование столбца, добавленного в задаче 2 к оформлению всей области."
   ]
  },
  {
   "cell_type": "code",
   "execution_count": 13,
   "metadata": {},
   "outputs": [],
   "source": [
    "sheet.range('T4:T6').api.Merge()"
   ]
  },
  {
   "cell_type": "markdown",
   "metadata": {},
   "source": [
    "4. Выполнить 3 с помощью \"протягиваемых\" формул."
   ]
  },
  {
   "cell_type": "code",
   "execution_count": 14,
   "metadata": {},
   "outputs": [],
   "source": [
    "from xlwings.constants import AutoFillType"
   ]
  },
  {
   "cell_type": "code",
   "execution_count": 15,
   "metadata": {},
   "outputs": [
    {
     "data": {
      "text/plain": [
       "True"
      ]
     },
     "execution_count": 15,
     "metadata": {},
     "output_type": "execute_result"
    }
   ],
   "source": [
    "sheet.range('V7').formula = '=SUMPRODUCT(G7:O7, $G$14:$O$14)'\n",
    "sheet.range('V7').api.AutoFill(sheet.range('V7:V10').api, AutoFillType.xlFillDefault)"
   ]
  },
  {
   "cell_type": "markdown",
   "metadata": {},
   "source": [
    "## Лабораторная работа 7"
   ]
  },
  {
   "cell_type": "code",
   "execution_count": 1,
   "metadata": {},
   "outputs": [],
   "source": [
    "import pandas as pd\n",
    "import numpy as np\n",
    "import xlwings as xw\n",
    "from xlwings.constants import AutoFillType"
   ]
  },
  {
   "cell_type": "markdown",
   "metadata": {},
   "source": [
    "1. Загрузите данные из файлов `reviews_sample.csv` (__ЛР2__) и `recipes_sample_with_tags_ingredients.csv` (__ЛР5__) в виде `pd.DataFrame`. Обратите внимание на корректное считывание столбца(ов) с индексами. Оставьте в таблице с рецептами следующие столбцы: `id`, `name`, `minutes`, `submitted`, `description`, `n_ingredients`"
   ]
  },
  {
   "cell_type": "code",
   "execution_count": 2,
   "metadata": {},
   "outputs": [],
   "source": [
    "reviews_sample = pd.read_csv('./07_excel_data/reviews_sample.csv', sep=',')\n",
    "reviews_sample = reviews_sample.rename(columns={\"Unnamed: 0\": \"index\"})\n",
    "reviews_sample = reviews_sample.set_index(\"index\")\n",
    "# reviews_sample\n",
    "recipes_sample_with_tags_ingredients = pd.read_csv('./07_excel_data/recipes_sample_with_tags_ingredients.csv', sep=',')\n",
    "recipes_sample_with_tags_ingredients = recipes_sample_with_tags_ingredients.rename(columns={\"Unnamed: 0\": \"index\"})\n",
    "recipes_sample_with_tags_ingredients = recipes_sample_with_tags_ingredients.set_index(\"index\")\n",
    "recipes_sample_with_tags_ingredients.drop([\"contributor_id\", \"n_steps\",\"n_tags\",\"tags\",\"ingredients\"], axis=1, inplace=True)\n",
    "# recipes_sample_with_tags_ingredients"
   ]
  },
  {
   "cell_type": "markdown",
   "metadata": {},
   "source": [
    "2. Случайным образом выберите 5% строк из каждой таблицы и сохраните две таблицы на разные листы в один файл `recipes.xlsx`. Дайте листам названия \"Рецепты\" и \"Отзывы\", соответствующие содержанию таблиц. "
   ]
  },
  {
   "cell_type": "code",
   "execution_count": 3,
   "metadata": {},
   "outputs": [],
   "source": [
    "new_file = pd.ExcelWriter('recipes.xlsx')\n",
    "recipes = recipes_sample_with_tags_ingredients.sample(frac = 0.05)\n",
    "recipes.to_excel(new_file, sheet_name='Рецепты')\n",
    "\n",
    "reviews = reviews_sample.sample(frac = 0.05)\n",
    "reviews.to_excel(new_file, sheet_name='Отзывы') \n",
    "new_file.save()"
   ]
  },
  {
   "cell_type": "markdown",
   "metadata": {},
   "source": [
    "3. Используя `xlwings`, добавьте на лист `Рецепты` столбец `seconds_assign`, показывающий время выполнения рецепта в секундах. Выполните задание при помощи присваивания массива значений диапазону ячеек."
   ]
  },
  {
   "cell_type": "code",
   "execution_count": 4,
   "metadata": {},
   "outputs": [],
   "source": [
    "wb = xw.Book('recipes.xlsx')\n",
    "sheet = wb.sheets['Рецепты']\n",
    "sheet.range(\"H1\").value = 'seconds_assign'\n",
    "\n",
    "sheet.range(\"H2:H1501\").options(transpose = True).value = (recipes['minutes'] * 60).to_numpy() # options(transpose=True) для четния и записи"
   ]
  },
  {
   "cell_type": "markdown",
   "metadata": {},
   "source": [
    "4. Используя `xlwings`, добавьте на лист `Рецепты` столбец `seconds_formula`, показывающий время выполнения рецепта в секундах. Выполните задание при помощи формул Excel."
   ]
  },
  {
   "cell_type": "code",
   "execution_count": 5,
   "metadata": {},
   "outputs": [
    {
     "data": {
      "text/plain": [
       "True"
      ]
     },
     "execution_count": 5,
     "metadata": {},
     "output_type": "execute_result"
    }
   ],
   "source": [
    "sheet.range(\"I1\").value = 'seconds_formula'\n",
    "sheet.range(\"I2\").formula = '=D2*60'\n",
    "\n",
    "sheet.range('I2').api.AutoFill(sheet.range('I2:I1501').api, AutoFillType.xlFillDefault)"
   ]
  },
  {
   "cell_type": "markdown",
   "metadata": {},
   "source": [
    "5. Добавьте на лист `Рецепты`  столбец `n_reviews`, содержащий кол-во отзывов для этого рецепта. Выполните задание при помощи формул Excel."
   ]
  },
  {
   "cell_type": "code",
   "execution_count": 6,
   "metadata": {},
   "outputs": [
    {
     "data": {
      "text/plain": [
       "True"
      ]
     },
     "execution_count": 6,
     "metadata": {},
     "output_type": "execute_result"
    }
   ],
   "source": [
    "sheet.range(\"J1\").value = \"n_reviews\"\n",
    "\n",
    "n = str(len(reviews) + 1)\n",
    "sheet.range(\"J2\").formula = f'=COUNTIF(Отзывы!$C$2:$C${n}, \"=\"&B2)'\n",
    "sheet.range('J2').api.AutoFill(sheet.range(\"J2:J1501\").api, AutoFillType.xlFillDefault)"
   ]
  },
  {
   "cell_type": "markdown",
   "metadata": {},
   "source": [
    "6. Сделайте названия всех добавленных столбцов полужирными и выровняйте по центру ячейки."
   ]
  },
  {
   "cell_type": "code",
   "execution_count": 7,
   "metadata": {},
   "outputs": [],
   "source": [
    "sheet['H1:J1'].api.HorizontalAlignment = xw.constants.HAlign.xlHAlignCenter"
   ]
  },
  {
   "cell_type": "markdown",
   "metadata": {},
   "source": [
    "7. Раскрасьте ячейки столбца `minutes` в соответствии со следующим правилом: если рецепт выполняется быстрее 5 минут, то цвет - зеленый; от 5 до 10 минут - жёлтый; и больше 10 - красный."
   ]
  },
  {
   "cell_type": "code",
   "execution_count": 11,
   "metadata": {},
   "outputs": [],
   "source": [
    "values = sheet.range(\"D2:D1501\").value\n",
    "\n",
    "for j in range(len(values)):\n",
    "    if (values[j] < 5):\n",
    "        sheet.range(f\"D{j+2}\").color = (0, 255, 0) # зелёный\n",
    "    elif (5 <= values[j] <= 10):\n",
    "        sheet.range(f\"D{j+2}\").color = (255, 255, 0) # жёлтый\n",
    "    else:\n",
    "        sheet.range(f\"D{j+2}\").color = (255, 0, 0) # красный"
   ]
  },
  {
   "cell_type": "markdown",
   "metadata": {},
   "source": [
    "8. Напишите функцию `validate()`, которая проверяет соответствие всех строк из листа `Отзывы` следующим правилам:\n",
    "    * Рейтинг - это число от 0 до 5 включительно\n",
    "    * Соответствующий рецепт имеется на листе `Рецепты`\n",
    "    \n",
    "В случае несоответствия этим правилам, выделите строку красным цветом"
   ]
  },
  {
   "cell_type": "code",
   "execution_count": null,
   "metadata": {},
   "outputs": [],
   "source": [
    "from typing import Union\n",
    "def validate(data : Union[xw.main.Sheet, xw.main.Book]) -> None:\n",
    "    \n",
    "    sheet = None\n",
    "    if isinstance(data, xw.main.Book):\n",
    "        try:\n",
    "            sheet = data.sheets[\"Отзывы\"]\n",
    "        except Exception as e:\n",
    "            raise ValueError(\"Нет отзывов в данном файле Excel!\")\n",
    "    \n",
    "    elif isinstance(data, xw.main.Sheet):\n",
    "        sheet = data\n",
    "    \n",
    "    else:\n",
    "        raise ValueError(\"data должен принимать либо Book, либо Sheet!\")\n",
    "\n",
    "    rng = sheet.range('A1')\n",
    "    n = rng.current_region.end('down').row\n",
    "\n",
    "    sheet.range(\"H2\").formula = '=COUNTIF(Рецепты!$B$2:Рецепты!$B$1501,\"=\"&C2)>0'\n",
    "    sheet.range(\"H2\").api.autofill(type=AutoFillType.xlFillDefault, destination=sheet.range(f\"H2:H{n}\").api)\n",
    "\n",
    "    for i in range(2, int(n)+1):\n",
    "        \n",
    "        rating = sheet.range(f\"E{i}\").value\n",
    "        exist_flag = sheet.range(f\"H{i}\").value\n",
    "        \n",
    "        if rating not in range(0,6) or not exist_flag:\n",
    "            sheet.range(f\"A{i}:G{i}\").color = (255, 0, 0)\n",
    "    \n",
    "    sheet.range('H:H').value = \" \""
   ]
  }
 ],
 "metadata": {
  "interpreter": {
   "hash": "247ab06e135bb35fa78c5eff31b2a9a0050dcb5fb773c2631d2a29ac689eeccb"
  },
  "kernelspec": {
   "display_name": "Python 3.9.6 64-bit",
   "name": "python3"
  },
  "language_info": {
   "codemirror_mode": {
    "name": "ipython",
    "version": 3
   },
   "file_extension": ".py",
   "mimetype": "text/x-python",
   "name": "python",
   "nbconvert_exporter": "python",
   "pygments_lexer": "ipython3",
   "version": "3.9.6"
  }
 },
 "nbformat": 4,
 "nbformat_minor": 4
}
