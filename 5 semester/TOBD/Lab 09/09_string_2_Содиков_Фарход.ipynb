{
 "cells": [
  {
   "cell_type": "markdown",
   "metadata": {
    "collapsed": false
   },
   "source": [
    "# Введение в обработку текста на естественном языке"
   ]
  },
  {
   "cell_type": "markdown",
   "metadata": {
    "collapsed": false
   },
   "source": [
    "Материалы:\n",
    "* Макрушин С.В. Лекция 9: Введение в обработку текста на естественном языке\\\n",
    "* https://realpython.com/nltk-nlp-python/\n",
    "* https://scikit-learn.org/stable/modules/feature_extraction.html"
   ]
  },
  {
   "cell_type": "markdown",
   "metadata": {
    "collapsed": false
   },
   "source": [
    "## Задачи для совместного разбора"
   ]
  },
  {
   "cell_type": "markdown",
   "metadata": {
    "collapsed": false
   },
   "source": [
    "1. Считайте слова из файла `litw-win.txt` и запишите их в список `words`. В заданном предложении исправьте все опечатки, заменив слова с опечатками на ближайшие (в смысле расстояния Левенштейна) к ним слова из списка `words`. Считайте, что в слове есть опечатка, если данное слово не содержится в списке `words`."
   ]
  },
  {
   "cell_type": "code",
   "execution_count": 1,
   "metadata": {
    "collapsed": false,
    "pycharm": {
     "name": "#%%\n"
    }
   },
   "outputs": [],
   "source": [
    "text = 'с велечайшим усилием выбравшись из потока убегающих людей Кутузов со свитой уменьшевшейся вдвое поехал на звуки выстрелов русских орудий'"
   ]
  },
  {
   "cell_type": "code",
   "execution_count": null,
   "metadata": {
    "collapsed": false,
    "pycharm": {
     "name": "#%%\n"
    }
   },
   "outputs": [],
   "source": []
  },
  {
   "cell_type": "markdown",
   "metadata": {
    "collapsed": false
   },
   "source": [
    "2. Разбейте текст из формулировки задания 1 на слова; проведите стемминг и лемматизацию слов."
   ]
  },
  {
   "cell_type": "code",
   "execution_count": null,
   "metadata": {
    "collapsed": false,
    "pycharm": {
     "name": "#%%\n"
    }
   },
   "outputs": [],
   "source": []
  },
  {
   "cell_type": "markdown",
   "metadata": {
    "collapsed": false
   },
   "source": [
    "3. Преобразуйте предложения из формулировки задания 1 в векторы при помощи `CountVectorizer`."
   ]
  },
  {
   "cell_type": "code",
   "execution_count": null,
   "metadata": {
    "collapsed": false,
    "pycharm": {
     "name": "#%%\n"
    }
   },
   "outputs": [],
   "source": []
  },
  {
   "cell_type": "markdown",
   "metadata": {
    "collapsed": false
   },
   "source": [
    "## Лабораторная работа 9"
   ]
  },
  {
   "cell_type": "markdown",
   "metadata": {
    "collapsed": false
   },
   "source": [
    "### Расстояние редактирования"
   ]
  },
  {
   "cell_type": "markdown",
   "metadata": {
    "collapsed": false
   },
   "source": [
    "1.1 Загрузите предобработанные описания рецептов из файла `preprocessed_descriptions.csv`. Получите набор уникальных слов `words`, содержащихся в текстах описаний рецептов (воспользуйтесь `word_tokenize` из `nltk`)."
   ]
  },
  {
   "cell_type": "code",
   "execution_count": 2,
   "metadata": {
    "collapsed": false,
    "pycharm": {
     "name": "#%%\n"
    }
   },
   "outputs": [
    {
     "data": {
      "text/html": [
       "<div>\n",
       "<style scoped>\n",
       "    .dataframe tbody tr th:only-of-type {\n",
       "        vertical-align: middle;\n",
       "    }\n",
       "\n",
       "    .dataframe tbody tr th {\n",
       "        vertical-align: top;\n",
       "    }\n",
       "\n",
       "    .dataframe thead th {\n",
       "        text-align: right;\n",
       "    }\n",
       "</style>\n",
       "<table border=\"1\" class=\"dataframe\">\n",
       "  <thead>\n",
       "    <tr style=\"text-align: right;\">\n",
       "      <th></th>\n",
       "      <th>name</th>\n",
       "      <th>preprocessed_descriptions</th>\n",
       "    </tr>\n",
       "  </thead>\n",
       "  <tbody>\n",
       "    <tr>\n",
       "      <th>0</th>\n",
       "      <td>george s at the cove  black bean soup</td>\n",
       "      <td>an original recipe created by chef scott meska...</td>\n",
       "    </tr>\n",
       "    <tr>\n",
       "      <th>1</th>\n",
       "      <td>healthy for them  yogurt popsicles</td>\n",
       "      <td>my children and their friends ask for my homem...</td>\n",
       "    </tr>\n",
       "    <tr>\n",
       "      <th>2</th>\n",
       "      <td>i can t believe it s spinach</td>\n",
       "      <td>these were so go it surprised even me</td>\n",
       "    </tr>\n",
       "    <tr>\n",
       "      <th>3</th>\n",
       "      <td>italian  gut busters</td>\n",
       "      <td>my sisterinlaw made these for us at a family g...</td>\n",
       "    </tr>\n",
       "    <tr>\n",
       "      <th>4</th>\n",
       "      <td>love is in the air  beef fondue   sauces</td>\n",
       "      <td>i think a fondue is a very romantic casual din...</td>\n",
       "    </tr>\n",
       "    <tr>\n",
       "      <th>...</th>\n",
       "      <td>...</td>\n",
       "      <td>...</td>\n",
       "    </tr>\n",
       "    <tr>\n",
       "      <th>29995</th>\n",
       "      <td>zurie s holey rustic olive and cheddar bread</td>\n",
       "      <td>this is based on a french recipe but i changed...</td>\n",
       "    </tr>\n",
       "    <tr>\n",
       "      <th>29996</th>\n",
       "      <td>zwetschgenkuchen  bavarian plum cake</td>\n",
       "      <td>this is a traditional fresh plum cake thought ...</td>\n",
       "    </tr>\n",
       "    <tr>\n",
       "      <th>29997</th>\n",
       "      <td>zwiebelkuchen   southwest german onion cake</td>\n",
       "      <td>this is a traditional late summer early fall s...</td>\n",
       "    </tr>\n",
       "    <tr>\n",
       "      <th>29998</th>\n",
       "      <td>zydeco soup</td>\n",
       "      <td>this is a delicious soup that i originally fou...</td>\n",
       "    </tr>\n",
       "    <tr>\n",
       "      <th>29999</th>\n",
       "      <td>cookies by design   cookies on a stick</td>\n",
       "      <td>ive heard of the cookies by design company but...</td>\n",
       "    </tr>\n",
       "  </tbody>\n",
       "</table>\n",
       "<p>29369 rows × 2 columns</p>\n",
       "</div>"
      ],
      "text/plain": [
       "                                               name  \\\n",
       "0             george s at the cove  black bean soup   \n",
       "1                healthy for them  yogurt popsicles   \n",
       "2                      i can t believe it s spinach   \n",
       "3                              italian  gut busters   \n",
       "4          love is in the air  beef fondue   sauces   \n",
       "...                                             ...   \n",
       "29995  zurie s holey rustic olive and cheddar bread   \n",
       "29996          zwetschgenkuchen  bavarian plum cake   \n",
       "29997   zwiebelkuchen   southwest german onion cake   \n",
       "29998                                   zydeco soup   \n",
       "29999        cookies by design   cookies on a stick   \n",
       "\n",
       "                               preprocessed_descriptions  \n",
       "0      an original recipe created by chef scott meska...  \n",
       "1      my children and their friends ask for my homem...  \n",
       "2                  these were so go it surprised even me  \n",
       "3      my sisterinlaw made these for us at a family g...  \n",
       "4      i think a fondue is a very romantic casual din...  \n",
       "...                                                  ...  \n",
       "29995  this is based on a french recipe but i changed...  \n",
       "29996  this is a traditional fresh plum cake thought ...  \n",
       "29997  this is a traditional late summer early fall s...  \n",
       "29998  this is a delicious soup that i originally fou...  \n",
       "29999  ive heard of the cookies by design company but...  \n",
       "\n",
       "[29369 rows x 2 columns]"
      ]
     },
     "execution_count": 2,
     "metadata": {},
     "output_type": "execute_result"
    }
   ],
   "source": [
    "import pandas as pd\n",
    "\n",
    "data = pd.read_csv('preprocessed_descriptions.csv', sep=',')\n",
    "data = data.dropna()\n",
    "data"
   ]
  },
  {
   "cell_type": "code",
   "execution_count": 3,
   "metadata": {
    "collapsed": false,
    "pycharm": {
     "name": "#%%\n"
    }
   },
   "outputs": [
    {
     "data": {
      "text/plain": [
       "30823"
      ]
     },
     "execution_count": 3,
     "metadata": {},
     "output_type": "execute_result"
    }
   ],
   "source": [
    "from nltk import word_tokenize\n",
    "\n",
    "col = 'preprocessed_descriptions'\n",
    "preproc_desc = data[col]\n",
    "words = set()\n",
    "for desc in preproc_desc:\n",
    "    for word in word_tokenize(desc):\n",
    "        if word not in words:\n",
    "            words.add(word)\n",
    "\n",
    "words = list(words)\n",
    "len(words)"
   ]
  },
  {
   "cell_type": "markdown",
   "metadata": {
    "collapsed": false
   },
   "source": [
    "1.2 Сгенерируйте 5 пар случайно выбранных слов и посчитайте между ними расстояние редактирования."
   ]
  },
  {
   "cell_type": "code",
   "execution_count": 4,
   "metadata": {
    "collapsed": false,
    "pycharm": {
     "name": "#%%\n"
    }
   },
   "outputs": [
    {
     "data": {
      "text/plain": [
       "{('redbook', 'necessary'): 8,\n",
       " ('jigglers', 'palomara'): 7,\n",
       " ('beefycheesy', 'reveal'): 9,\n",
       " ('quincy', 'halva'): 6,\n",
       " ('timess', 'bakeno'): 5}"
      ]
     },
     "execution_count": 4,
     "metadata": {},
     "output_type": "execute_result"
    }
   ],
   "source": [
    "import numpy as np\n",
    "from nltk import edit_distance\n",
    "\n",
    "\n",
    "words_edit_distance = {}\n",
    "for i in range(5):\n",
    "    word_pair = np.random.choice(words, size=2)\n",
    "    word_pair = tuple(word_pair)\n",
    "    words_edit_distance[word_pair] = edit_distance(word_pair[0], word_pair[1])\n",
    "\n",
    "words_edit_distance"
   ]
  },
  {
   "cell_type": "markdown",
   "metadata": {
    "collapsed": false
   },
   "source": [
    "1.3 Напишите функцию, которая для заданного слова `word` возвращает `k` ближайших к нему слов из списка `words` (близость слов измеряется с помощью расстояния Левенштейна)"
   ]
  },
  {
   "cell_type": "code",
   "execution_count": 5,
   "metadata": {
    "collapsed": false,
    "pycharm": {
     "name": "#%%\n"
    }
   },
   "outputs": [],
   "source": [
    "from heapq import nsmallest\n",
    "\n",
    "\n",
    "def find_k_sim_words(word, k):\n",
    "    edit_distance_list = []\n",
    "    for w in words:\n",
    "        edit_distance_list.append((w, edit_distance(word, w)))\n",
    "\n",
    "    sim_words = nsmallest(k, edit_distance_list, key=lambda x: x[1])\n",
    "    res = []\n",
    "    for w in sim_words:\n",
    "        res.append(w[0])\n",
    "    return res"
   ]
  },
  {
   "cell_type": "code",
   "execution_count": 6,
   "metadata": {
    "collapsed": false,
    "pycharm": {
     "name": "#%%\n"
    }
   },
   "outputs": [
    {
     "data": {
      "text/plain": [
       "['word', 'woud', 'worm', 'work', 'ward', 'wood', 'words']"
      ]
     },
     "execution_count": 6,
     "metadata": {},
     "output_type": "execute_result"
    }
   ],
   "source": [
    "find_k_sim_words('word', 7)"
   ]
  },
  {
   "cell_type": "markdown",
   "metadata": {
    "collapsed": false
   },
   "source": [
    "### Стемминг, лемматизация"
   ]
  },
  {
   "cell_type": "markdown",
   "metadata": {
    "collapsed": false
   },
   "source": [
    "2.1 На основе результатов 1.1 создайте `pd.DataFrame` со столбцами:\n",
    "    * word\n",
    "    * stemmed_word\n",
    "    * normalized_word\n",
    "\n",
    "Столбец `word` укажите в качестве индекса.\n",
    "\n",
    "Для стемминга воспользуйтесь `SnowballStemmer`, для лемматизации слов - `WordNetLemmatizer`. Сравните результаты стемминга и лемматизации."
   ]
  },
  {
   "cell_type": "code",
   "execution_count": 7,
   "metadata": {
    "collapsed": false,
    "pycharm": {
     "name": "#%%\n"
    }
   },
   "outputs": [
    {
     "data": {
      "text/html": [
       "<div>\n",
       "<style scoped>\n",
       "    .dataframe tbody tr th:only-of-type {\n",
       "        vertical-align: middle;\n",
       "    }\n",
       "\n",
       "    .dataframe tbody tr th {\n",
       "        vertical-align: top;\n",
       "    }\n",
       "\n",
       "    .dataframe thead th {\n",
       "        text-align: right;\n",
       "    }\n",
       "</style>\n",
       "<table border=\"1\" class=\"dataframe\">\n",
       "  <thead>\n",
       "    <tr style=\"text-align: right;\">\n",
       "      <th></th>\n",
       "      <th>stemmed_word</th>\n",
       "      <th>normalized_word</th>\n",
       "    </tr>\n",
       "    <tr>\n",
       "      <th>word</th>\n",
       "      <th></th>\n",
       "      <th></th>\n",
       "    </tr>\n",
       "  </thead>\n",
       "  <tbody>\n",
       "    <tr>\n",
       "      <th>schoolchildren</th>\n",
       "      <td>schoolchildren</td>\n",
       "      <td>schoolchildren</td>\n",
       "    </tr>\n",
       "    <tr>\n",
       "      <th>panswrap</th>\n",
       "      <td>panswrap</td>\n",
       "      <td>panswrap</td>\n",
       "    </tr>\n",
       "    <tr>\n",
       "      <th>chair</th>\n",
       "      <td>chair</td>\n",
       "      <td>chair</td>\n",
       "    </tr>\n",
       "    <tr>\n",
       "      <th>colt</th>\n",
       "      <td>colt</td>\n",
       "      <td>colt</td>\n",
       "    </tr>\n",
       "    <tr>\n",
       "      <th>daves</th>\n",
       "      <td>dave</td>\n",
       "      <td>daves</td>\n",
       "    </tr>\n",
       "    <tr>\n",
       "      <th>...</th>\n",
       "      <td>...</td>\n",
       "      <td>...</td>\n",
       "    </tr>\n",
       "    <tr>\n",
       "      <th>quinoas</th>\n",
       "      <td>quinoa</td>\n",
       "      <td>quinoas</td>\n",
       "    </tr>\n",
       "    <tr>\n",
       "      <th>faye</th>\n",
       "      <td>fay</td>\n",
       "      <td>faye</td>\n",
       "    </tr>\n",
       "    <tr>\n",
       "      <th>simmered</th>\n",
       "      <td>simmer</td>\n",
       "      <td>simmered</td>\n",
       "    </tr>\n",
       "    <tr>\n",
       "      <th>109</th>\n",
       "      <td>109</td>\n",
       "      <td>109</td>\n",
       "    </tr>\n",
       "    <tr>\n",
       "      <th>perfecting</th>\n",
       "      <td>perfect</td>\n",
       "      <td>perfecting</td>\n",
       "    </tr>\n",
       "  </tbody>\n",
       "</table>\n",
       "<p>30823 rows × 2 columns</p>\n",
       "</div>"
      ],
      "text/plain": [
       "                  stemmed_word normalized_word\n",
       "word                                          \n",
       "schoolchildren  schoolchildren  schoolchildren\n",
       "panswrap              panswrap        panswrap\n",
       "chair                    chair           chair\n",
       "colt                      colt            colt\n",
       "daves                     dave           daves\n",
       "...                        ...             ...\n",
       "quinoas                 quinoa         quinoas\n",
       "faye                       fay            faye\n",
       "simmered                simmer        simmered\n",
       "109                        109             109\n",
       "perfecting             perfect      perfecting\n",
       "\n",
       "[30823 rows x 2 columns]"
      ]
     },
     "execution_count": 7,
     "metadata": {},
     "output_type": "execute_result"
    }
   ],
   "source": [
    "from nltk import SnowballStemmer, WordNetLemmatizer\n",
    "\n",
    "stemmer = SnowballStemmer('english')\n",
    "lemmatizer = WordNetLemmatizer()\n",
    "\n",
    "table = pd.DataFrame({'word': words})\n",
    "table['stemmed_word'] = table['word'].apply(lambda w: stemmer.stem(w))\n",
    "table['normalized_word'] = table['word'].apply(lambda w: lemmatizer.lemmatize(w))\n",
    "table = table.set_index('word')\n",
    "table"
   ]
  },
  {
   "cell_type": "code",
   "execution_count": 8,
   "metadata": {
    "collapsed": false,
    "pycharm": {
     "name": "#%%\n"
    }
   },
   "outputs": [
    {
     "data": {
      "text/plain": [
       "17424"
      ]
     },
     "execution_count": 8,
     "metadata": {},
     "output_type": "execute_result"
    }
   ],
   "source": [
    "# совпадает результатов стемминга и лемматизации\n",
    "(table['stemmed_word'] == table['normalized_word']).sum()"
   ]
  },
  {
   "cell_type": "markdown",
   "metadata": {
    "collapsed": false
   },
   "source": [
    "2.2. Удалите стоп-слова из описаний рецептов. Какую долю об общего количества слов составляли стоп-слова? Сравните топ-10 самых часто употребляемых слов до и после удаления стоп-слов."
   ]
  },
  {
   "cell_type": "code",
   "execution_count": 9,
   "metadata": {
    "collapsed": false,
    "pycharm": {
     "name": "#%%\n"
    }
   },
   "outputs": [
    {
     "name": "stdout",
     "output_type": "stream",
     "text": [
      "Всего:\n",
      "1071865\n",
      "Без стоп-слов:\n",
      "581919\n"
     ]
    }
   ],
   "source": [
    "from nltk.corpus import stopwords\n",
    "\n",
    "stop_words = stopwords.words('english')\n",
    "total_word_list = []\n",
    "clear_word_list = []\n",
    "for desc in preproc_desc:\n",
    "    for word in word_tokenize(desc):\n",
    "        total_word_list.append(word)\n",
    "        if word not in stop_words:\n",
    "            clear_word_list.append(word)\n",
    "\n",
    "print('Всего:')\n",
    "print(len(total_word_list))\n",
    "print('Без стоп-слов:')\n",
    "print(len(clear_word_list))"
   ]
  },
  {
   "cell_type": "code",
   "execution_count": 10,
   "metadata": {
    "collapsed": false,
    "pycharm": {
     "name": "#%%\n"
    }
   },
   "outputs": [
    {
     "name": "stdout",
     "output_type": "stream",
     "text": [
      "Доля:\n",
      "0.4570967425935169\n"
     ]
    }
   ],
   "source": [
    "print('Доля:')\n",
    "print((len(total_word_list) - len(clear_word_list)) / len(total_word_list))"
   ]
  },
  {
   "cell_type": "code",
   "execution_count": 11,
   "metadata": {
    "collapsed": false,
    "pycharm": {
     "name": "#%%\n"
    }
   },
   "outputs": [
    {
     "name": "stdout",
     "output_type": "stream",
     "text": [
      "Топ-10 по частоте (всех)\n",
      "[('the', 40210), ('a', 34994), ('and', 30279), ('this', 27048), ('i', 25111), ('to', 23499), ('is', 20290), ('it', 19863), ('of', 18372), ('for', 15988)]\n",
      "Топ-10 по частоте (без стоп-слов:)\n",
      "[('recipe', 14957), ('make', 6353), ('time', 5180), ('use', 4635), ('great', 4453), ('like', 4175), ('easy', 4175), ('one', 3886), ('good', 3820), ('made', 3814)]\n"
     ]
    }
   ],
   "source": [
    "from collections import Counter\n",
    "\n",
    "print('Топ-10 по частоте (всех)')\n",
    "print(Counter(total_word_list).most_common(10))\n",
    "print('Топ-10 по частоте (без стоп-слов:)')\n",
    "print(Counter(clear_word_list).most_common(10))"
   ]
  },
  {
   "cell_type": "markdown",
   "metadata": {
    "collapsed": false
   },
   "source": [
    "### Векторное представление текста"
   ]
  },
  {
   "cell_type": "markdown",
   "metadata": {
    "collapsed": false
   },
   "source": [
    "3.1 Выберите случайным образом 5 рецептов из набора данных. Представьте описание каждого рецепта в виде числового вектора при помощи `TfidfVectorizer`"
   ]
  },
  {
   "cell_type": "code",
   "execution_count": 12,
   "metadata": {
    "collapsed": false,
    "pycharm": {
     "name": "#%%\n"
    }
   },
   "outputs": [
    {
     "data": {
      "text/html": [
       "<div>\n",
       "<style scoped>\n",
       "    .dataframe tbody tr th:only-of-type {\n",
       "        vertical-align: middle;\n",
       "    }\n",
       "\n",
       "    .dataframe tbody tr th {\n",
       "        vertical-align: top;\n",
       "    }\n",
       "\n",
       "    .dataframe thead th {\n",
       "        text-align: right;\n",
       "    }\n",
       "</style>\n",
       "<table border=\"1\" class=\"dataframe\">\n",
       "  <thead>\n",
       "    <tr style=\"text-align: right;\">\n",
       "      <th></th>\n",
       "      <th>name</th>\n",
       "      <th>preprocessed_descriptions</th>\n",
       "    </tr>\n",
       "  </thead>\n",
       "  <tbody>\n",
       "    <tr>\n",
       "      <th>10224</th>\n",
       "      <td>easy southern oven fried chicken</td>\n",
       "      <td>quick and easy from newspaper one of most requ...</td>\n",
       "    </tr>\n",
       "    <tr>\n",
       "      <th>5640</th>\n",
       "      <td>chicken apple grape salad</td>\n",
       "      <td>very refreshing on a hot summer night</td>\n",
       "    </tr>\n",
       "    <tr>\n",
       "      <th>26748</th>\n",
       "      <td>sweet potato souffle by bessinger s bar b que</td>\n",
       "      <td>as served on the buffet at the one in charlest...</td>\n",
       "    </tr>\n",
       "    <tr>\n",
       "      <th>3612</th>\n",
       "      <td>braised onions a la julia child</td>\n",
       "      <td>these onions are included in the recipe for bo...</td>\n",
       "    </tr>\n",
       "    <tr>\n",
       "      <th>5351</th>\n",
       "      <td>chef lyles homemade spaghetti sauce</td>\n",
       "      <td>this is my grandmothers recipe with a chefs im...</td>\n",
       "    </tr>\n",
       "  </tbody>\n",
       "</table>\n",
       "</div>"
      ],
      "text/plain": [
       "                                                name  \\\n",
       "10224               easy southern oven fried chicken   \n",
       "5640                       chicken apple grape salad   \n",
       "26748  sweet potato souffle by bessinger s bar b que   \n",
       "3612                 braised onions a la julia child   \n",
       "5351             chef lyles homemade spaghetti sauce   \n",
       "\n",
       "                               preprocessed_descriptions  \n",
       "10224  quick and easy from newspaper one of most requ...  \n",
       "5640               very refreshing on a hot summer night  \n",
       "26748  as served on the buffet at the one in charlest...  \n",
       "3612   these onions are included in the recipe for bo...  \n",
       "5351   this is my grandmothers recipe with a chefs im...  "
      ]
     },
     "execution_count": 12,
     "metadata": {},
     "output_type": "execute_result"
    }
   ],
   "source": [
    "data_rand_5 = data.sample(5)\n",
    "data_rand_5"
   ]
  },
  {
   "cell_type": "code",
   "execution_count": 13,
   "metadata": {
    "collapsed": false,
    "pycharm": {
     "name": "#%%\n"
    }
   },
   "outputs": [
    {
     "data": {
      "text/html": [
       "<div>\n",
       "<style scoped>\n",
       "    .dataframe tbody tr th:only-of-type {\n",
       "        vertical-align: middle;\n",
       "    }\n",
       "\n",
       "    .dataframe tbody tr th {\n",
       "        vertical-align: top;\n",
       "    }\n",
       "\n",
       "    .dataframe thead th {\n",
       "        text-align: right;\n",
       "    }\n",
       "</style>\n",
       "<table border=\"1\" class=\"dataframe\">\n",
       "  <thead>\n",
       "    <tr style=\"text-align: right;\">\n",
       "      <th></th>\n",
       "      <th>name</th>\n",
       "      <th>preprocessed_descriptions</th>\n",
       "      <th>tfid</th>\n",
       "    </tr>\n",
       "  </thead>\n",
       "  <tbody>\n",
       "    <tr>\n",
       "      <th>10224</th>\n",
       "      <td>easy southern oven fried chicken</td>\n",
       "      <td>quick and easy from newspaper one of most requ...</td>\n",
       "      <td>[[0.0, 0.0, 0.0, 0.0, 0.0, 0.1938635048628883,...</td>\n",
       "    </tr>\n",
       "    <tr>\n",
       "      <th>5640</th>\n",
       "      <td>chicken apple grape salad</td>\n",
       "      <td>very refreshing on a hot summer night</td>\n",
       "      <td>[[0.0, 0.0, 0.0, 0.0, 0.0, 0.0, 0.0, 0.0, 0.0,...</td>\n",
       "    </tr>\n",
       "    <tr>\n",
       "      <th>26748</th>\n",
       "      <td>sweet potato souffle by bessinger s bar b que</td>\n",
       "      <td>as served on the buffet at the one in charlest...</td>\n",
       "      <td>[[0.0, 0.0, 0.0, 0.0, 0.0, 0.0, 0.0, 0.3445741...</td>\n",
       "    </tr>\n",
       "    <tr>\n",
       "      <th>3612</th>\n",
       "      <td>braised onions a la julia child</td>\n",
       "      <td>these onions are included in the recipe for bo...</td>\n",
       "      <td>[[0.0, 0.09489598848871032, 0.0, 0.0, 0.0, 0.0...</td>\n",
       "    </tr>\n",
       "    <tr>\n",
       "      <th>5351</th>\n",
       "      <td>chef lyles homemade spaghetti sauce</td>\n",
       "      <td>this is my grandmothers recipe with a chefs im...</td>\n",
       "      <td>[[0.06888887131706582, 0.0, 0.0688888713170658...</td>\n",
       "    </tr>\n",
       "  </tbody>\n",
       "</table>\n",
       "</div>"
      ],
      "text/plain": [
       "                                                name  \\\n",
       "10224               easy southern oven fried chicken   \n",
       "5640                       chicken apple grape salad   \n",
       "26748  sweet potato souffle by bessinger s bar b que   \n",
       "3612                 braised onions a la julia child   \n",
       "5351             chef lyles homemade spaghetti sauce   \n",
       "\n",
       "                               preprocessed_descriptions  \\\n",
       "10224  quick and easy from newspaper one of most requ...   \n",
       "5640               very refreshing on a hot summer night   \n",
       "26748  as served on the buffet at the one in charlest...   \n",
       "3612   these onions are included in the recipe for bo...   \n",
       "5351   this is my grandmothers recipe with a chefs im...   \n",
       "\n",
       "                                                    tfid  \n",
       "10224  [[0.0, 0.0, 0.0, 0.0, 0.0, 0.1938635048628883,...  \n",
       "5640   [[0.0, 0.0, 0.0, 0.0, 0.0, 0.0, 0.0, 0.0, 0.0,...  \n",
       "26748  [[0.0, 0.0, 0.0, 0.0, 0.0, 0.0, 0.0, 0.3445741...  \n",
       "3612   [[0.0, 0.09489598848871032, 0.0, 0.0, 0.0, 0.0...  \n",
       "5351   [[0.06888887131706582, 0.0, 0.0688888713170658...  "
      ]
     },
     "execution_count": 13,
     "metadata": {},
     "output_type": "execute_result"
    }
   ],
   "source": [
    "from sklearn.feature_extraction.text import TfidfVectorizer\n",
    "\n",
    "tfid_vectorizer = TfidfVectorizer()\n",
    "tfid_vectorizer.fit(data_rand_5[col])\n",
    "data_rand_5['tfid'] = data_rand_5[col].apply(lambda x: tfid_vectorizer.transform([x]).toarray())\n",
    "data_rand_5"
   ]
  },
  {
   "cell_type": "markdown",
   "metadata": {
    "collapsed": false
   },
   "source": [
    "3.2 Вычислите близость между каждой парой рецептов, выбранных в задании 3.1, используя косинусное расстояние (`scipy.spatial.distance.cosine`) Результаты оформите в виде таблицы `pd.DataFrame`. В качестве названий строк и столбцов используйте названия рецептов."
   ]
  },
  {
   "cell_type": "code",
   "execution_count": 14,
   "metadata": {
    "collapsed": false,
    "pycharm": {
     "name": "#%%\n"
    }
   },
   "outputs": [
    {
     "data": {
      "text/html": [
       "<div>\n",
       "<style scoped>\n",
       "    .dataframe tbody tr th:only-of-type {\n",
       "        vertical-align: middle;\n",
       "    }\n",
       "\n",
       "    .dataframe tbody tr th {\n",
       "        vertical-align: top;\n",
       "    }\n",
       "\n",
       "    .dataframe thead th {\n",
       "        text-align: right;\n",
       "    }\n",
       "</style>\n",
       "<table border=\"1\" class=\"dataframe\">\n",
       "  <thead>\n",
       "    <tr style=\"text-align: right;\">\n",
       "      <th>name</th>\n",
       "      <th>easy southern oven fried chicken</th>\n",
       "      <th>chicken apple grape salad</th>\n",
       "      <th>sweet potato souffle by bessinger s bar b que</th>\n",
       "      <th>braised onions a la julia child</th>\n",
       "      <th>chef lyles homemade spaghetti sauce</th>\n",
       "    </tr>\n",
       "    <tr>\n",
       "      <th>name</th>\n",
       "      <th></th>\n",
       "      <th></th>\n",
       "      <th></th>\n",
       "      <th></th>\n",
       "      <th></th>\n",
       "    </tr>\n",
       "  </thead>\n",
       "  <tbody>\n",
       "    <tr>\n",
       "      <th>easy southern oven fried chicken</th>\n",
       "      <td>0.000000</td>\n",
       "      <td>0.976136</td>\n",
       "      <td>0.927306</td>\n",
       "      <td>0.933459</td>\n",
       "      <td>0.832765</td>\n",
       "    </tr>\n",
       "    <tr>\n",
       "      <th>chicken apple grape salad</th>\n",
       "      <td>0.976136</td>\n",
       "      <td>0.000000</td>\n",
       "      <td>0.965779</td>\n",
       "      <td>0.990576</td>\n",
       "      <td>0.986317</td>\n",
       "    </tr>\n",
       "    <tr>\n",
       "      <th>sweet potato souffle by bessinger s bar b que</th>\n",
       "      <td>0.927306</td>\n",
       "      <td>0.965779</td>\n",
       "      <td>0.000000</td>\n",
       "      <td>0.818015</td>\n",
       "      <td>0.818876</td>\n",
       "    </tr>\n",
       "    <tr>\n",
       "      <th>braised onions a la julia child</th>\n",
       "      <td>0.933459</td>\n",
       "      <td>0.990576</td>\n",
       "      <td>0.818015</td>\n",
       "      <td>0.000000</td>\n",
       "      <td>0.711149</td>\n",
       "    </tr>\n",
       "    <tr>\n",
       "      <th>chef lyles homemade spaghetti sauce</th>\n",
       "      <td>0.832765</td>\n",
       "      <td>0.986317</td>\n",
       "      <td>0.818876</td>\n",
       "      <td>0.711149</td>\n",
       "      <td>0.000000</td>\n",
       "    </tr>\n",
       "  </tbody>\n",
       "</table>\n",
       "</div>"
      ],
      "text/plain": [
       "name                                           easy southern oven fried chicken  \\\n",
       "name                                                                              \n",
       "easy southern oven fried chicken                                       0.000000   \n",
       "chicken apple grape salad                                              0.976136   \n",
       "sweet potato souffle by bessinger s bar b que                          0.927306   \n",
       "braised onions a la julia child                                        0.933459   \n",
       "chef lyles homemade spaghetti sauce                                    0.832765   \n",
       "\n",
       "name                                           chicken apple grape salad  \\\n",
       "name                                                                       \n",
       "easy southern oven fried chicken                                0.976136   \n",
       "chicken apple grape salad                                       0.000000   \n",
       "sweet potato souffle by bessinger s bar b que                   0.965779   \n",
       "braised onions a la julia child                                 0.990576   \n",
       "chef lyles homemade spaghetti sauce                             0.986317   \n",
       "\n",
       "name                                           sweet potato souffle by bessinger s bar b que  \\\n",
       "name                                                                                           \n",
       "easy southern oven fried chicken                                                    0.927306   \n",
       "chicken apple grape salad                                                           0.965779   \n",
       "sweet potato souffle by bessinger s bar b que                                       0.000000   \n",
       "braised onions a la julia child                                                     0.818015   \n",
       "chef lyles homemade spaghetti sauce                                                 0.818876   \n",
       "\n",
       "name                                           braised onions a la julia child  \\\n",
       "name                                                                             \n",
       "easy southern oven fried chicken                                      0.933459   \n",
       "chicken apple grape salad                                             0.990576   \n",
       "sweet potato souffle by bessinger s bar b que                         0.818015   \n",
       "braised onions a la julia child                                       0.000000   \n",
       "chef lyles homemade spaghetti sauce                                   0.711149   \n",
       "\n",
       "name                                           chef lyles homemade spaghetti sauce  \n",
       "name                                                                                \n",
       "easy southern oven fried chicken                                          0.832765  \n",
       "chicken apple grape salad                                                 0.986317  \n",
       "sweet potato souffle by bessinger s bar b que                             0.818876  \n",
       "braised onions a la julia child                                           0.711149  \n",
       "chef lyles homemade spaghetti sauce                                       0.000000  "
      ]
     },
     "execution_count": 14,
     "metadata": {},
     "output_type": "execute_result"
    }
   ],
   "source": [
    "from scipy.spatial.distance import cosine\n",
    "\n",
    "cosine_array = np.zeros((len(data_rand_5['tfid'].values), len(data_rand_5['tfid'].values)))\n",
    "for i, u in enumerate(data_rand_5['tfid']):\n",
    "    for j, v in enumerate(data_rand_5['tfid']):\n",
    "        cosine_array[i, j] = cosine(u, v)\n",
    "\n",
    "cosine_data = pd.DataFrame(cosine_array, index=data_rand_5['name'], columns=data_rand_5['name'])\n",
    "cosine_data"
   ]
  },
  {
   "cell_type": "markdown",
   "metadata": {
    "collapsed": false,
    "pycharm": {
     "name": "#%% md\n"
    }
   },
   "source": [
    "3.3 Какие рецепты являются наиболее похожими? Прокомментируйте результат (словами)."
   ]
  },
  {
   "cell_type": "code",
   "execution_count": 15,
   "metadata": {
    "collapsed": false,
    "pycharm": {
     "name": "#%%\n"
    }
   },
   "outputs": [
    {
     "name": "stdout",
     "output_type": "stream",
     "text": [
      "0\n",
      "0.0542075668668055\n"
     ]
    }
   ],
   "source": [
    "print(cosine([3, 2, 4], [3, 2, 4]))\n",
    "print(cosine([3, 2, 4], [3, 2, 2]))"
   ]
  },
  {
   "cell_type": "code",
   "execution_count": 16,
   "metadata": {
    "collapsed": false,
    "pycharm": {
     "name": "#%%\n"
    }
   },
   "outputs": [],
   "source": [
    "# Если косинусное расстояние равняется 0, то описания идентичны\n",
    "# Если косинусное расстояние в промежутке (0, 1), то есть схожесть между описаниями\n",
    "# Если косинусное расстояние равняется 1, то тексты совсем не похожи\n"
   ]
  }
 ],
 "metadata": {
  "kernelspec": {
   "display_name": "Python 3",
   "language": "python",
   "name": "python3"
  },
  "language_info": {
   "codemirror_mode": {
    "name": "ipython",
    "version": 3
   },
   "file_extension": ".py",
   "mimetype": "text/x-python",
   "name": "python",
   "nbconvert_exporter": "python",
   "pygments_lexer": "ipython3",
   "version": "3.9.6"
  }
 },
 "nbformat": 4,
 "nbformat_minor": 0
}
