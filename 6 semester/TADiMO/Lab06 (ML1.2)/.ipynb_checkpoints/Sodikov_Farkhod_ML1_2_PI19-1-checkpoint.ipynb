{
 "cells": [
  {
   "cell_type": "markdown",
   "id": "5dc113b3",
   "metadata": {},
   "source": [
    "# Содиков Фарход, ПИ19-1, ML1.2"
   ]
  },
  {
   "cell_type": "code",
   "execution_count": 35,
   "id": "022f1fae",
   "metadata": {},
   "outputs": [],
   "source": [
    "import random\n",
    "import numpy as np\n",
    "import pandas as pd\n",
    "import matplotlib.pyplot as plt\n",
    "import sklearn\n",
    "from sklearn import linear_model\n",
    "from sklearn.linear_model import LinearRegression\n",
    "from sklearn.model_selection import train_test_split\n",
    "from sklearn.metrics import r2_score,mean_squared_error, mean_absolute_error"
   ]
  },
  {
   "cell_type": "code",
   "execution_count": 36,
   "id": "fb5251e6",
   "metadata": {},
   "outputs": [],
   "source": [
    "X = pd.read_csv('./data/19_x.csv', header = None)\n",
    "Y = pd.read_csv('./data/19_y.csv', header = None)"
   ]
  },
  {
   "cell_type": "code",
   "execution_count": 37,
   "id": "3dcbac65",
   "metadata": {},
   "outputs": [
    {
     "name": "stdout",
     "output_type": "stream",
     "text": [
      "\n",
      "Shape of X: (70, 3) \n",
      "Shape of Y: (70, 1)\n",
      "\n",
      "Describe of X:\n",
      "               0          1          2\n",
      "count  70.000000  70.000000  70.000000\n",
      "mean    0.083273  -0.111627   0.002190\n",
      "std     1.060233   0.980703   0.840765\n",
      "min    -2.606880  -2.129910  -1.896352\n",
      "25%    -0.600220  -0.936378  -0.429161\n",
      "50%     0.128845  -0.049244   0.003797\n",
      "75%     0.611285   0.543912   0.556886\n",
      "max     3.483627   1.902446   2.503449\n",
      "\n",
      "Describe of Y:\n",
      "                0\n",
      "count   70.000000\n",
      "mean     2.788599\n",
      "std     47.560602\n",
      "min   -117.088327\n",
      "25%    -30.715606\n",
      "50%      0.333113\n",
      "75%     25.953389\n",
      "max    121.263402\n",
      "\n"
     ]
    }
   ],
   "source": [
    "print(f'''\n",
    "Shape of X: {X.shape} \n",
    "Shape of Y: {Y.shape}\n",
    "\n",
    "Describe of X:\n",
    "{X.describe()}\n",
    "\n",
    "Describe of Y:\n",
    "{Y.describe()}\n",
    "''')"
   ]
  },
  {
   "cell_type": "code",
   "execution_count": 44,
   "id": "b948cfab",
   "metadata": {},
   "outputs": [
    {
     "data": {
      "text/plain": [
       "LinearRegression()"
      ]
     },
     "execution_count": 44,
     "metadata": {},
     "output_type": "execute_result"
    }
   ],
   "source": [
    "reg = linear_model.LinearRegression() #create model\n",
    "reg.fit(X, Y) #fit()"
   ]
  },
  {
   "cell_type": "code",
   "execution_count": 45,
   "id": "67dc17e6",
   "metadata": {},
   "outputs": [
    {
     "name": "stdout",
     "output_type": "stream",
     "text": [
      "Coef: [[41.88849166  0.50737491 13.27827397]]\n",
      "\n",
      "Intercept: [-0.67202679]\n",
      "\n",
      "Prediction: [[ 2.01810448e+01]\n",
      " [ 2.50125286e+01]\n",
      " [-4.09094992e+01]\n",
      " [-6.84657012e-04]\n",
      " [ 8.96296107e+01]]\n",
      "\n",
      "Iloc:            0\n",
      "0  12.847083\n",
      "1  32.599461\n",
      "2 -64.148684\n",
      "3  -4.926700\n",
      "4  76.160027\n"
     ]
    }
   ],
   "source": [
    "print(f'''Coef: {reg.coef_}\n",
    "\n",
    "Intercept: {reg.intercept_}\n",
    "\n",
    "Prediction: {reg.predict(X.iloc[0:5])}\n",
    "\n",
    "Iloc: {Y.iloc[0:5]}''')"
   ]
  },
  {
   "cell_type": "code",
   "execution_count": 46,
   "id": "f49cd16a",
   "metadata": {},
   "outputs": [],
   "source": [
    "x_train, x_test, y_train, y_test = train_test_split(X, Y, test_size = 0.2)"
   ]
  },
  {
   "cell_type": "code",
   "execution_count": 47,
   "id": "ea853516",
   "metadata": {},
   "outputs": [],
   "source": [
    "reg2 = linear_model.LinearRegression().fit(x_train, y_train) #создали и обучили"
   ]
  },
  {
   "cell_type": "code",
   "execution_count": 48,
   "id": "3dd945df",
   "metadata": {},
   "outputs": [
    {
     "name": "stdout",
     "output_type": "stream",
     "text": [
      "Модель, которая обучалась на 80% выборки:  0.9425023736926526\n",
      "Модель, которая обучалась на всей выборке:  0.9485700071586209\n"
     ]
    }
   ],
   "source": [
    "#оценка \n",
    "print('Модель, которая обучалась на 80% выборки: ', reg2.score(x_test, y_test))\n",
    "#вторая оценка для сравнения\n",
    "print('Модель, которая обучалась на всей выборке: ', reg.score(x_test, y_test))\n",
    "\n",
    "#сравнение не совсем объективное, так как одна из моделей уже \"видела\" тестовую выборку\n",
    "#однако это дает ясно понять, что, очевидно, у модели, которая \"видела\" тестовую выборку, будет выше score\n",
    "#лучший показатель - 1.0"
   ]
  },
  {
   "cell_type": "code",
   "execution_count": 49,
   "id": "eca4fe13",
   "metadata": {},
   "outputs": [
    {
     "data": {
      "image/png": "[encoded data removed]",
      "text/plain": [
       "<Figure size 432x288 with 1 Axes>"
      ]
     },
     "metadata": {
      "needs_background": "light"
     },
     "output_type": "display_data"
    }
   ],
   "source": [
    "plt.figure()\n",
    "plt.scatter(np.arange(0, len(X), 1), reg2.predict(X), color='g') #предсказано\n",
    "plt.scatter(np.arange(0, len(X), 1), Y, color='r') #реальные данные\n",
    "plt.show()"
   ]
  },
  {
   "cell_type": "code",
   "execution_count": 50,
   "id": "cf286cc1",
   "metadata": {},
   "outputs": [
    {
     "data": {
      "image/png": "[encoded data removed]",
      "text/plain": [
       "<Figure size 432x288 with 1 Axes>"
      ]
     },
     "metadata": {
      "needs_background": "light"
     },
     "output_type": "display_data"
    }
   ],
   "source": [
    "plt.figure()\n",
    "plt.plot(np.arange(0, len(X), 1), reg2.predict(X), color='g') #предсказано\n",
    "plt.scatter(np.arange(0, len(X), 1), Y, color='r') #реальные данные\n",
    "plt.show()"
   ]
  },
  {
   "cell_type": "code",
   "execution_count": 51,
   "id": "4eeee4b8",
   "metadata": {},
   "outputs": [
    {
     "name": "stdout",
     "output_type": "stream",
     "text": [
      "Реально:             0\n",
      "0  12.847083\n",
      "1  32.599461\n",
      "2 -64.148684\n",
      "3  -4.926700\n",
      "4  76.160027\n",
      "Предсказано:  [[ 18.78070835]\n",
      " [ 24.58886401]\n",
      " [-40.26054549]\n",
      " [ -0.90352004]\n",
      " [ 87.853383  ]]\n"
     ]
    }
   ],
   "source": [
    "#посмотрим конкретные примеры предсказания, убедимся, что всё работает довольно точно\n",
    "print('Реально: ', Y.iloc[0:5])\n",
    "print('Предсказано: ', reg2.predict(X.iloc[0:5]))"
   ]
  },
  {
   "cell_type": "code",
   "execution_count": 52,
   "id": "3a39aed1",
   "metadata": {},
   "outputs": [
    {
     "name": "stdout",
     "output_type": "stream",
     "text": [
      "ПО СТОЛБЦУ НОМЕР:  1 из 4\n",
      "Score:  0.9183949902536329\n",
      "Коэффициент:  [[42.13306199]]\n"
     ]
    },
    {
     "data": {
      "image/png": "[encoded data removed]",
      "text/plain": [
       "<Figure size 432x288 with 1 Axes>"
      ]
     },
     "metadata": {
      "needs_background": "light"
     },
     "output_type": "display_data"
    },
    {
     "name": "stdout",
     "output_type": "stream",
     "text": [
      "Примеры предсказания:\n",
      "     Реально  Предсказано\n",
      "0  12.847083    34.501460\n",
      "1  32.599461    17.774056\n",
      "2 -64.148684   -42.230858\n",
      "3  -4.926700     1.471799\n",
      "4  76.160027    80.354963\n",
      "\n",
      "\n",
      "\n",
      "\n",
      "ПО СТОЛБЦУ НОМЕР:  2 из 4\n",
      "Score:  -0.023562708671215793\n",
      "Коэффициент:  [[11.81304099]]\n"
     ]
    },
    {
     "data": {
      "image/png": "[encoded data removed]",
      "text/plain": [
       "<Figure size 432x288 with 1 Axes>"
      ]
     },
     "metadata": {
      "needs_background": "light"
     },
     "output_type": "display_data"
    },
    {
     "name": "stdout",
     "output_type": "stream",
     "text": [
      "Примеры предсказания:\n",
      "     Реально  Предсказано\n",
      "0  12.847083     7.493033\n",
      "1  32.599461     8.312248\n",
      "2 -64.148684    10.803921\n",
      "3  -4.926700    -0.562274\n",
      "4  76.160027     3.779837\n",
      "\n",
      "\n",
      "\n",
      "\n",
      "ПО СТОЛБЦУ НОМЕР:  3 из 4\n",
      "Score:  -0.03648103748590792\n",
      "Коэффициент:  [[17.01043905]]\n"
     ]
    },
    {
     "data": {
      "image/png": "[encoded data removed]",
      "text/plain": [
       "<Figure size 432x288 with 1 Axes>"
      ]
     },
     "metadata": {
      "needs_background": "light"
     },
     "output_type": "display_data"
    },
    {
     "name": "stdout",
     "output_type": "stream",
     "text": [
      "Примеры предсказания:\n",
      "     Реально  Предсказано\n",
      "0  12.847083   -17.477054\n",
      "1  32.599461     9.971991\n",
      "2 -64.148684     1.808426\n",
      "3  -4.926700    -0.820309\n",
      "4  76.160027    13.295233\n",
      "\n",
      "\n",
      "\n",
      "\n"
     ]
    }
   ],
   "source": [
    "regs_list = [] #здесь будем хранить все парные регрессии (4 всего)\n",
    "\n",
    "#в цикле проходимся по каждому столбцу обучающей выборки для построения парной регресии (с целевым признаком)\n",
    "for col in x_train.columns:\n",
    "    print('ПО СТОЛБЦУ НОМЕР: ', col + 1, 'из 4')\n",
    "    new_reg = linear_model.LinearRegression().fit(x_train[col].values.reshape((-1, 1)), y_train) #создали модель\n",
    "    print('Score: ', new_reg.score(x_test[col].values.reshape((-1,1)), y_test)) #выводим score на тестовой выборке\n",
    "    print('Коэффициент: ', new_reg.coef_)\n",
    "    regs_list.append(new_reg) #сохраняем в список модель\n",
    "    \n",
    "    plt.figure() #строим график\n",
    "    plt.scatter(X[col], Y, color='r') #реальные данные\n",
    "    plt.plot(X[col], new_reg.predict(X[col].values.reshape((-1, 1))), color='g') #предсказанные\n",
    "    plt.show()\n",
    "    \n",
    "    #парочка примеров с предсказанием для наглядности\n",
    "    print('Примеры предсказания:')\n",
    "    empt_data = {'Реально':[],\n",
    "                'Предсказано':[]}\n",
    "    some_exmpl = pd.DataFrame(empt_data, columns = ['Реально', 'Предсказано'])\n",
    "    some_exmpl['Реально'] = Y[0][0:5]\n",
    "    some_exmpl['Предсказано'] = new_reg.predict(X[col].iloc[0:5].values.reshape((-1,1)))\n",
    "    print(some_exmpl)\n",
    "    \n",
    "    print('\\n\\n\\n')"
   ]
  },
  {
   "cell_type": "code",
   "execution_count": null,
   "id": "2d3fe0ca",
   "metadata": {},
   "outputs": [],
   "source": []
  }
 ],
 "metadata": {
  "kernelspec": {
   "display_name": "Python 3 (ipykernel)",
   "language": "python",
   "name": "python3"
  },
  "language_info": {
   "codemirror_mode": {
    "name": "ipython",
    "version": 3
   },
   "file_extension": ".py",
   "mimetype": "text/x-python",
   "name": "python",
   "nbconvert_exporter": "python",
   "pygments_lexer": "ipython3",
   "version": "3.9.7"
  }
 },
 "nbformat": 4,
 "nbformat_minor": 5
}
