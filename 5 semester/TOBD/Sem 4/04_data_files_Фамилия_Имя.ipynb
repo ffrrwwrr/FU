{
 "cells": [
  {
   "cell_type": "markdown",
   "metadata": {},
   "source": [
    "# Форматы данных (1)"
   ]
  },
  {
   "cell_type": "markdown",
   "metadata": {},
   "source": [
    "Материалы:\n",
    "* Макрушин С.В. \"Лекция 4: Форматы данных\"\n",
    "* https://docs.python.org/3/library/json.html\n",
    "* https://docs.python.org/3/library/pickle.html\n",
    "* https://www.crummy.com/software/BeautifulSoup/bs4/doc.ru/bs4ru.html\n",
    "* Уэс Маккини. Python и анализ данных"
   ]
  },
  {
   "cell_type": "markdown",
   "metadata": {},
   "source": [
    "## Задачи для совместного разбора"
   ]
  },
  {
   "cell_type": "markdown",
   "metadata": {},
   "source": [
    "1. Вывести все адреса электронной почты, содержащиеся в адресной книге `addres-book.json`"
   ]
  },
  {
   "cell_type": "markdown",
   "metadata": {},
   "source": [
    "2. Вывести телефоны, содержащиеся в адресной книге `addres-book.json`"
   ]
  },
  {
   "cell_type": "markdown",
   "metadata": {},
   "source": [
    "3. По данным из файла `addres-book-q.xml` сформировать список словарей с телефонами каждого из людей. "
   ]
  },
  {
   "cell_type": "markdown",
   "metadata": {},
   "source": [
    "## Лабораторная работа №4"
   ]
  },
  {
   "cell_type": "markdown",
   "metadata": {},
   "source": [
    "### JSON"
   ]
  },
  {
   "cell_type": "code",
   "execution_count": 1,
   "metadata": {},
   "outputs": [],
   "source": [
    "import json\n",
    "import pandas as pd"
   ]
  },
  {
   "cell_type": "markdown",
   "metadata": {},
   "source": [
    "1.1 Считайте файл `contributors_sample.json`. Воспользовавшись модулем `json`, преобразуйте содержимое файла в соответствующие объекты python. Выведите на экран информацию о первых 3 пользователях."
   ]
  },
  {
   "cell_type": "code",
   "execution_count": 2,
   "metadata": {},
   "outputs": [
    {
     "name": "stdout",
     "output_type": "stream",
     "text": [
      "[Task 1.1] Answer:\n",
      "\n",
      "First user: \n",
      "{'username': 'uhebert', 'name': 'Lindsey Nguyen', 'sex': 'F', 'address': '01261 Cameron Spring\\nTaylorfurt, AK 97791', 'mail': 'jsalazar@gmail.com', 'jobs': ['Energy engineer', 'Engineer, site', 'Environmental health practitioner', 'Biomedical scientist', 'Jewellery designer'], 'id': 35193}\n",
      "\n",
      "Second user: \n",
      "{'username': 'vickitaylor', 'name': 'Cheryl Lewis', 'sex': 'F', 'address': '66992 Welch Brooks\\nMarshallshire, ID 56004', 'mail': 'bhudson@gmail.com', 'jobs': ['Music therapist', 'Volunteer coordinator', 'Designer, interior/spatial'], 'id': 91970}\n",
      "\n",
      "Third user: \n",
      "{'username': 'sheilaadams', 'name': 'Julia Allen', 'sex': 'F', 'address': 'Unit 1632 Box 2971\\nDPO AE 23297', 'mail': 'darren44@yahoo.com', 'jobs': ['Management consultant', 'Engineer, structural', 'Lecturer, higher education', 'Theatre manager', 'Designer, textile'], 'id': 1848091}\n",
      "\n",
      "Three users: \n",
      "      username            name sex  \\\n",
      "0      uhebert  Lindsey Nguyen   F   \n",
      "1  vickitaylor    Cheryl Lewis   F   \n",
      "2  sheilaadams     Julia Allen   F   \n",
      "\n",
      "                                       address                mail  \\\n",
      "0   01261 Cameron Spring\\nTaylorfurt, AK 97791  jsalazar@gmail.com   \n",
      "1  66992 Welch Brooks\\nMarshallshire, ID 56004   bhudson@gmail.com   \n",
      "2             Unit 1632 Box 2971\\nDPO AE 23297  darren44@yahoo.com   \n",
      "\n",
      "                                                jobs       id  \n",
      "0  [Energy engineer, Engineer, site, Environmenta...    35193  \n",
      "1  [Music therapist, Volunteer coordinator, Desig...    91970  \n",
      "2  [Management consultant, Engineer, structural, ...  1848091  \n"
     ]
    }
   ],
   "source": [
    "print(f\"[Task 1.1] Answer:\\n\")\n",
    "with open(\"./data/contributors_sample.json\", \"r\") as file:\n",
    "    data = json.load(file)\n",
    "\n",
    "print(f\"First user: \\n{data[0]}\\n\\nSecond user: \\n{data[1]}\\n\\nThird user: \\n{data[2]}\\n\")\n",
    "print(f\"Three users: \\n{pd.DataFrame(data[:3])}\") # pandas"
   ]
  },
  {
   "cell_type": "markdown",
   "metadata": {},
   "source": [
    "1.2 Выведите уникальные почтовые домены, содержащиеся в почтовых адресах людей"
   ]
  },
  {
   "cell_type": "code",
   "execution_count": 3,
   "metadata": {},
   "outputs": [
    {
     "name": "stdout",
     "output_type": "stream",
     "text": [
      "[Task 1.2] Answer:\n",
      "\n",
      "{'yahoo.com', 'gmail.com', 'hotmail.com'}\n"
     ]
    }
   ],
   "source": [
    "print(f\"[Task 1.2] Answer:\\n\")\n",
    "\n",
    "domainList = []\n",
    "\n",
    "for i in data:\n",
    "    domainList.append(i['mail'].split(\"@\")[1])\n",
    "\n",
    "print(set(domainList))"
   ]
  },
  {
   "cell_type": "markdown",
   "metadata": {},
   "source": [
    "1.3 Напишите функцию, которая по `username` ищет человека и выводит информацию о нем. Если пользователь с заданным `username` отсутствует, возбудите исключение `ValueError`"
   ]
  },
  {
   "cell_type": "code",
   "execution_count": 4,
   "metadata": {},
   "outputs": [
    {
     "name": "stdout",
     "output_type": "stream",
     "text": [
      "[Task 1.3] Answer:\n",
      "\n",
      "Valid: \n",
      "\n",
      "{'username': 'vickitaylor', 'name': 'Cheryl Lewis', 'sex': 'F', 'address': '66992 Welch Brooks\\nMarshallshire, ID 56004', 'mail': 'bhudson@gmail.com', 'jobs': ['Music therapist', 'Volunteer coordinator', 'Designer, interior/spatial'], 'id': 91970} \n",
      "\n",
      "Invalid: \n"
     ]
    },
    {
     "ename": "ValueError",
     "evalue": "farkhad is not on the list!",
     "output_type": "error",
     "traceback": [
      "\u001b[1;31m---------------------------------------------------------------------------\u001b[0m",
      "\u001b[1;31mValueError\u001b[0m                                Traceback (most recent call last)",
      "\u001b[1;32m~\\AppData\\Local\\Temp/ipykernel_3800/1509577032.py\u001b[0m in \u001b[0;36m<module>\u001b[1;34m\u001b[0m\n\u001b[0;32m      8\u001b[0m \u001b[1;33m\u001b[0m\u001b[0m\n\u001b[0;32m      9\u001b[0m \u001b[0mprint\u001b[0m\u001b[1;33m(\u001b[0m\u001b[1;34mf\"Valid: \\n\\n{userInfoByName('vickitaylor')} \\n\\nInvalid: \"\u001b[0m\u001b[1;33m)\u001b[0m\u001b[1;33m\u001b[0m\u001b[1;33m\u001b[0m\u001b[0m\n\u001b[1;32m---> 10\u001b[1;33m \u001b[0mprint\u001b[0m\u001b[1;33m(\u001b[0m\u001b[1;34mf\"{userInfoByName('farkhad')}\"\u001b[0m\u001b[1;33m)\u001b[0m\u001b[1;33m\u001b[0m\u001b[1;33m\u001b[0m\u001b[0m\n\u001b[0m",
      "\u001b[1;32m~\\AppData\\Local\\Temp/ipykernel_3800/1509577032.py\u001b[0m in \u001b[0;36muserInfoByName\u001b[1;34m(userName)\u001b[0m\n\u001b[0;32m      5\u001b[0m         \u001b[1;32mif\u001b[0m \u001b[0muser\u001b[0m\u001b[1;33m[\u001b[0m\u001b[1;34m'username'\u001b[0m\u001b[1;33m]\u001b[0m \u001b[1;33m==\u001b[0m \u001b[0muserName\u001b[0m\u001b[1;33m:\u001b[0m\u001b[1;33m\u001b[0m\u001b[1;33m\u001b[0m\u001b[0m\n\u001b[0;32m      6\u001b[0m             \u001b[1;32mreturn\u001b[0m \u001b[0muser\u001b[0m\u001b[1;33m\u001b[0m\u001b[1;33m\u001b[0m\u001b[0m\n\u001b[1;32m----> 7\u001b[1;33m     \u001b[1;32mraise\u001b[0m \u001b[0mValueError\u001b[0m\u001b[1;33m(\u001b[0m\u001b[1;34mf\"{userName} is not on the list!\"\u001b[0m\u001b[1;33m)\u001b[0m\u001b[1;33m\u001b[0m\u001b[1;33m\u001b[0m\u001b[0m\n\u001b[0m\u001b[0;32m      8\u001b[0m \u001b[1;33m\u001b[0m\u001b[0m\n\u001b[0;32m      9\u001b[0m \u001b[0mprint\u001b[0m\u001b[1;33m(\u001b[0m\u001b[1;34mf\"Valid: \\n\\n{userInfoByName('vickitaylor')} \\n\\nInvalid: \"\u001b[0m\u001b[1;33m)\u001b[0m\u001b[1;33m\u001b[0m\u001b[1;33m\u001b[0m\u001b[0m\n",
      "\u001b[1;31mValueError\u001b[0m: farkhad is not on the list!"
     ]
    }
   ],
   "source": [
    "print(f\"[Task 1.3] Answer:\\n\")\n",
    "\n",
    "def userInfoByName(userName):\n",
    "    for user in data:\n",
    "        if user['username'] == userName:\n",
    "            return user\n",
    "    raise ValueError(f\"{userName} is not on the list!\")\n",
    "\n",
    "print(f\"Valid: \\n\\n{userInfoByName('vickitaylor')} \\n\\nInvalid: \")\n",
    "print(f\"{userInfoByName('farkhad')}\")"
   ]
  },
  {
   "cell_type": "markdown",
   "metadata": {},
   "source": [
    "1.4 Посчитайте, сколько мужчин и женщин присутсвует в этом наборе данных."
   ]
  },
  {
   "cell_type": "code",
   "execution_count": 5,
   "metadata": {},
   "outputs": [
    {
     "name": "stdout",
     "output_type": "stream",
     "text": [
      "[Task 1.4] Answer:\n",
      "\n",
      "Number of users: 4200\n",
      "Number of males: 2064\n",
      "Number of females: 2136\n"
     ]
    }
   ],
   "source": [
    "print(f\"[Task 1.4] Answer:\\n\")\n",
    "\n",
    "cntF = 0\n",
    "cntM = 0\n",
    "\n",
    "for i in data:\n",
    "    if i['sex'] == \"F\":\n",
    "        cntF += 1\n",
    "    else:\n",
    "        cntM +=1\n",
    "\n",
    "\n",
    "print(f\"Number of users: {len(data)}\\nNumber of males: {cntM}\\nNumber of females: {cntF}\")"
   ]
  },
  {
   "cell_type": "markdown",
   "metadata": {},
   "source": [
    "1.5 Создайте `pd.DataFrame` `contributors`, имеющий столбцы `id`, `username` и `sex`."
   ]
  },
  {
   "cell_type": "code",
   "execution_count": 6,
   "metadata": {},
   "outputs": [
    {
     "name": "stdout",
     "output_type": "stream",
     "text": [
      "[Task 1.5] Answer:\n",
      "\n",
      "           id       username sex\n",
      "0       35193        uhebert   F\n",
      "1       91970    vickitaylor   F\n",
      "2     1848091    sheilaadams   F\n",
      "3       50969       nicole82   F\n",
      "4      676820         jean67   M\n",
      "...       ...            ...  ..\n",
      "4195   423555  stevenspencer   F\n",
      "4196    35251      rwilliams   M\n",
      "4197   135887      lmartinez   F\n",
      "4198   212714     brendahill   M\n",
      "4199   344321       mistyray   F\n",
      "\n",
      "[4200 rows x 3 columns]\n"
     ]
    }
   ],
   "source": [
    "print(f\"[Task 1.5] Answer:\\n\")\n",
    "\n",
    "dataList = [] # словарь данных\n",
    "\n",
    "for user in data:\n",
    "    dataList.append({\"id\": user['id'], \"username\": user['username'], \"sex\": user['sex']})\n",
    "\n",
    "contributors = pd.DataFrame.from_dict(dataList)\n",
    "print(contributors)"
   ]
  },
  {
   "cell_type": "markdown",
   "metadata": {},
   "source": [
    "1.6 Загрузите данные из файла `recipes_sample.csv` (__ЛР2__) в таблицу `recipes`. Объедините `recipes` с таблицей `contributors` с сохранением строк в том случае, если информация о человеке отсутствует в JSON-файле. Для скольких человек информация отсутствует? "
   ]
  },
  {
   "cell_type": "code",
   "execution_count": 7,
   "metadata": {},
   "outputs": [
    {
     "name": "stdout",
     "output_type": "stream",
     "text": [
      "[Task 1.6] Answer:\n",
      "\n",
      "Number of users without info: 4204\n"
     ]
    }
   ],
   "source": [
    "print(f\"[Task 1.6] Answer:\\n\")\n",
    "\n",
    "recipes = pd.read_csv(\"./data/recipes_sample.csv\", sep=\",\")\n",
    "# print(f\"Recipes data: {recipes}\")\n",
    "\n",
    "myMerge = pd.merge(recipes, contributors, left_on=['contributor_id'], right_on=['id'], how=\"left\")\n",
    "myGroupby = myMerge.groupby(\"contributor_id\")[\"username\"].count()\n",
    "result = myGroupby[myGroupby == 0]\n",
    "print(f\"Number of users without info: {result.shape[0]}\")"
   ]
  },
  {
   "cell_type": "markdown",
   "metadata": {},
   "source": [
    "### pickle"
   ]
  },
  {
   "cell_type": "code",
   "execution_count": 8,
   "metadata": {},
   "outputs": [],
   "source": [
    "import pickle"
   ]
  },
  {
   "cell_type": "markdown",
   "metadata": {},
   "source": [
    "2.1 На основе файла `contributors_sample.json` создайте словарь следующего вида: \n",
    "```\n",
    "{\n",
    "    должность: [список username людей, занимавших эту должность]\n",
    "}\n",
    "```"
   ]
  },
  {
   "cell_type": "code",
   "execution_count": 9,
   "metadata": {},
   "outputs": [
    {
     "name": "stdout",
     "output_type": "stream",
     "text": [
      "[Task 2.1] Answer:\n",
      "\n"
     ]
    }
   ],
   "source": [
    "print(f\"[Task 2.1] Answer:\\n\")\n",
    "\n",
    "with open('data/contributors_sample.json', 'r') as file:\n",
    "    data2 = json.load(file)\n",
    "\n",
    "res = {} \n",
    "for user in data2:\n",
    "    for job in user[\"jobs\"]:\n",
    "        if job not in res:\n",
    "            res[job] = []\n",
    "        res[job].append(user[\"username\"])\n",
    " \n",
    "# print(f\"{res}\")"
   ]
  },
  {
   "cell_type": "markdown",
   "metadata": {},
   "source": [
    "2.2 Сохраните результаты в файл `job_people.pickle` и в файл `job_people.json` с использованием форматов pickle и JSON соответственно. Сравните объемы получившихся файлов. При сохранении в JSON укажите аргумент `indent`."
   ]
  },
  {
   "cell_type": "code",
   "execution_count": 10,
   "metadata": {},
   "outputs": [
    {
     "name": "stdout",
     "output_type": "stream",
     "text": [
      "[Task 2.2] Answer:\n",
      "\n"
     ]
    }
   ],
   "source": [
    "print(f\"[Task 2.2] Answer:\\n\")\n",
    "\n",
    "with open ('job_people.pickle', 'wb') as file:      # wb - write binary\n",
    "    pickle.dump(res, file)\n",
    "\n",
    "with open ('job_people.json', 'w') as file:\n",
    "    json.dump(res, file, indent='\\t')               # indent - for pretty-print"
   ]
  },
  {
   "cell_type": "markdown",
   "metadata": {},
   "source": [
    "2.3 Считайте файл `job_people.pickle` и продемонстрируйте, что данные считались корректно. "
   ]
  },
  {
   "cell_type": "code",
   "execution_count": 11,
   "metadata": {},
   "outputs": [
    {
     "name": "stdout",
     "output_type": "stream",
     "text": [
      "[Task 2.3] Answer:\n",
      "\n"
     ]
    }
   ],
   "source": [
    "print(f\"[Task 2.3] Answer:\\n\")\n",
    "\n",
    "with open ('job_people.pickle', 'rb') as file:\n",
    "    rb = pickle.load(file)\n",
    "\n",
    "# rb"
   ]
  },
  {
   "cell_type": "markdown",
   "metadata": {},
   "source": [
    "### XML"
   ]
  },
  {
   "cell_type": "code",
   "execution_count": 12,
   "metadata": {},
   "outputs": [],
   "source": [
    "from bs4 import BeautifulSoup\n",
    "import xml"
   ]
  },
  {
   "cell_type": "markdown",
   "metadata": {},
   "source": [
    "3.1 По данным файла `steps_sample.xml` сформируйте словарь с шагами по каждому рецепту вида `{id_рецепта: [\"шаг1\", \"шаг2\"]}`. Сохраните этот словарь в файл `steps_sample.json`"
   ]
  },
  {
   "cell_type": "code",
   "execution_count": 13,
   "metadata": {},
   "outputs": [
    {
     "name": "stdout",
     "output_type": "stream",
     "text": [
      "[Task 3.1] Answer:\n",
      "\n"
     ]
    }
   ],
   "source": [
    "print(f\"[Task 3.1] Answer:\\n\")\n",
    "\n",
    "# steps = open(\"./data/steps_sample.xml\", \"r\").read()\n",
    "# mySoup = BeautifulSoup(steps, 'xml')"
   ]
  },
  {
   "cell_type": "markdown",
   "metadata": {},
   "source": [
    "3.2 По данным файла `steps_sample.xml` сформируйте словарь следующего вида: `кол-во_шагов_в_рецепте: [список_id_рецептов]`"
   ]
  },
  {
   "cell_type": "code",
   "execution_count": 14,
   "metadata": {},
   "outputs": [
    {
     "name": "stdout",
     "output_type": "stream",
     "text": [
      "[Task 3.2] Answer:\n",
      "\n"
     ]
    }
   ],
   "source": [
    "print(f\"[Task 3.2] Answer:\\n\")\n"
   ]
  },
  {
   "cell_type": "markdown",
   "metadata": {},
   "source": [
    "3.3 Получите список рецептов, в этапах выполнения которых есть информация о времени (часы или минуты). Для отбора подходящих рецептов обратите внимание на атрибуты соответствующих тэгов."
   ]
  },
  {
   "cell_type": "code",
   "execution_count": 15,
   "metadata": {},
   "outputs": [
    {
     "name": "stdout",
     "output_type": "stream",
     "text": [
      "[Task 3.3] Answer:\n",
      "\n"
     ]
    }
   ],
   "source": [
    "print(f\"[Task 3.3] Answer:\\n\")\n",
    "\n",
    "# content = open(\"./data/steps_sample.xml\",\"r\").read()\n",
    "# soup = BeautifulSoup(content, 'xml')"
   ]
  },
  {
   "cell_type": "markdown",
   "metadata": {},
   "source": [
    "3.4 Загрузите данные из файла `recipes_sample.csv` (__ЛР2__) в таблицу `recipes`. Для строк, которые содержат пропуски в столбце `n_steps`, заполните этот столбец на основе файла  `steps_sample.xml`. Строки, в которых столбец `n_steps` заполнен, оставьте без изменений."
   ]
  },
  {
   "cell_type": "code",
   "execution_count": 16,
   "metadata": {},
   "outputs": [
    {
     "name": "stdout",
     "output_type": "stream",
     "text": [
      "[Task 3.4] Answer:\n",
      "\n"
     ]
    }
   ],
   "source": [
    "print(f\"[Task 3.4] Answer:\\n\")"
   ]
  },
  {
   "cell_type": "markdown",
   "metadata": {},
   "source": [
    "3.5 Проверьте, содержит ли столбец `n_steps` пропуски. Если нет, то преобразуйте его к целочисленному типу и сохраните результаты в файл `recipes_sample_with_filled_nsteps.csv`"
   ]
  },
  {
   "cell_type": "code",
   "execution_count": 17,
   "metadata": {},
   "outputs": [
    {
     "name": "stdout",
     "output_type": "stream",
     "text": [
      "[Task 3.5] Answer:\n",
      "\n"
     ]
    },
    {
     "data": {
      "text/html": [
       "<div>\n",
       "<style scoped>\n",
       "    .dataframe tbody tr th:only-of-type {\n",
       "        vertical-align: middle;\n",
       "    }\n",
       "\n",
       "    .dataframe tbody tr th {\n",
       "        vertical-align: top;\n",
       "    }\n",
       "\n",
       "    .dataframe thead th {\n",
       "        text-align: right;\n",
       "    }\n",
       "</style>\n",
       "<table border=\"1\" class=\"dataframe\">\n",
       "  <thead>\n",
       "    <tr style=\"text-align: right;\">\n",
       "      <th></th>\n",
       "      <th>name</th>\n",
       "      <th>id</th>\n",
       "      <th>minutes</th>\n",
       "      <th>contributor_id</th>\n",
       "      <th>submitted</th>\n",
       "      <th>n_steps</th>\n",
       "      <th>description</th>\n",
       "      <th>n_ingredients</th>\n",
       "    </tr>\n",
       "  </thead>\n",
       "  <tbody>\n",
       "    <tr>\n",
       "      <th>4</th>\n",
       "      <td>love is in the air  beef fondue   sauces</td>\n",
       "      <td>84797</td>\n",
       "      <td>25</td>\n",
       "      <td>4470</td>\n",
       "      <td>2004-02-23</td>\n",
       "      <td>4.0</td>\n",
       "      <td>i think a fondue is a very romantic casual din...</td>\n",
       "      <td>NaN</td>\n",
       "    </tr>\n",
       "    <tr>\n",
       "      <th>6</th>\n",
       "      <td>open sesame  noodles</td>\n",
       "      <td>107229</td>\n",
       "      <td>28</td>\n",
       "      <td>173674</td>\n",
       "      <td>2004-12-30</td>\n",
       "      <td>8.0</td>\n",
       "      <td>this is a very versatile and widely enjoyed pa...</td>\n",
       "      <td>12.0</td>\n",
       "    </tr>\n",
       "    <tr>\n",
       "      <th>7</th>\n",
       "      <td>say what   banana sandwich</td>\n",
       "      <td>95926</td>\n",
       "      <td>5</td>\n",
       "      <td>118163</td>\n",
       "      <td>2004-07-20</td>\n",
       "      <td>4.0</td>\n",
       "      <td>you just have to try it to believe it.</td>\n",
       "      <td>NaN</td>\n",
       "    </tr>\n",
       "    <tr>\n",
       "      <th>8</th>\n",
       "      <td>1 in canada chocolate chip cookies</td>\n",
       "      <td>453467</td>\n",
       "      <td>45</td>\n",
       "      <td>1848091</td>\n",
       "      <td>2011-04-11</td>\n",
       "      <td>12.0</td>\n",
       "      <td>this is the recipe that we use at my school ca...</td>\n",
       "      <td>11.0</td>\n",
       "    </tr>\n",
       "    <tr>\n",
       "      <th>9</th>\n",
       "      <td>412 broccoli casserole</td>\n",
       "      <td>306168</td>\n",
       "      <td>40</td>\n",
       "      <td>50969</td>\n",
       "      <td>2008-05-30</td>\n",
       "      <td>6.0</td>\n",
       "      <td>since there are already 411 recipes for brocco...</td>\n",
       "      <td>NaN</td>\n",
       "    </tr>\n",
       "    <tr>\n",
       "      <th>...</th>\n",
       "      <td>...</td>\n",
       "      <td>...</td>\n",
       "      <td>...</td>\n",
       "      <td>...</td>\n",
       "      <td>...</td>\n",
       "      <td>...</td>\n",
       "      <td>...</td>\n",
       "      <td>...</td>\n",
       "    </tr>\n",
       "    <tr>\n",
       "      <th>29989</th>\n",
       "      <td>zucchini cheddar casserole</td>\n",
       "      <td>74023</td>\n",
       "      <td>50</td>\n",
       "      <td>89831</td>\n",
       "      <td>2003-10-24</td>\n",
       "      <td>14.0</td>\n",
       "      <td>this has been a long time family favorite!</td>\n",
       "      <td>8.0</td>\n",
       "    </tr>\n",
       "    <tr>\n",
       "      <th>29992</th>\n",
       "      <td>zucchini  courgette soup  good for weight watc...</td>\n",
       "      <td>415406</td>\n",
       "      <td>45</td>\n",
       "      <td>485109</td>\n",
       "      <td>2010-03-04</td>\n",
       "      <td>5.0</td>\n",
       "      <td>this is a favourite winter warmer. by british ...</td>\n",
       "      <td>NaN</td>\n",
       "    </tr>\n",
       "    <tr>\n",
       "      <th>29994</th>\n",
       "      <td>zuppa by luisa</td>\n",
       "      <td>464576</td>\n",
       "      <td>70</td>\n",
       "      <td>226863</td>\n",
       "      <td>2011-09-20</td>\n",
       "      <td>14.0</td>\n",
       "      <td>this soup is a hearty meal!  from luisa musso.</td>\n",
       "      <td>17.0</td>\n",
       "    </tr>\n",
       "    <tr>\n",
       "      <th>29995</th>\n",
       "      <td>zurie s holey rustic olive and cheddar bread</td>\n",
       "      <td>267661</td>\n",
       "      <td>80</td>\n",
       "      <td>200862</td>\n",
       "      <td>2007-11-25</td>\n",
       "      <td>16.0</td>\n",
       "      <td>this is based on a french recipe but i changed...</td>\n",
       "      <td>10.0</td>\n",
       "    </tr>\n",
       "    <tr>\n",
       "      <th>29999</th>\n",
       "      <td>cookies by design   cookies on a stick</td>\n",
       "      <td>298512</td>\n",
       "      <td>29</td>\n",
       "      <td>506822</td>\n",
       "      <td>2008-04-15</td>\n",
       "      <td>9.0</td>\n",
       "      <td>i've heard of the 'cookies by design' company,...</td>\n",
       "      <td>10.0</td>\n",
       "    </tr>\n",
       "  </tbody>\n",
       "</table>\n",
       "<p>18810 rows × 8 columns</p>\n",
       "</div>"
      ],
      "text/plain": [
       "                                                    name      id  minutes  \\\n",
       "4               love is in the air  beef fondue   sauces   84797       25   \n",
       "6                                   open sesame  noodles  107229       28   \n",
       "7                             say what   banana sandwich   95926        5   \n",
       "8                     1 in canada chocolate chip cookies  453467       45   \n",
       "9                                 412 broccoli casserole  306168       40   \n",
       "...                                                  ...     ...      ...   \n",
       "29989                         zucchini cheddar casserole   74023       50   \n",
       "29992  zucchini  courgette soup  good for weight watc...  415406       45   \n",
       "29994                                     zuppa by luisa  464576       70   \n",
       "29995       zurie s holey rustic olive and cheddar bread  267661       80   \n",
       "29999             cookies by design   cookies on a stick  298512       29   \n",
       "\n",
       "       contributor_id   submitted  n_steps  \\\n",
       "4                4470  2004-02-23      4.0   \n",
       "6              173674  2004-12-30      8.0   \n",
       "7              118163  2004-07-20      4.0   \n",
       "8             1848091  2011-04-11     12.0   \n",
       "9               50969  2008-05-30      6.0   \n",
       "...               ...         ...      ...   \n",
       "29989           89831  2003-10-24     14.0   \n",
       "29992          485109  2010-03-04      5.0   \n",
       "29994          226863  2011-09-20     14.0   \n",
       "29995          200862  2007-11-25     16.0   \n",
       "29999          506822  2008-04-15      9.0   \n",
       "\n",
       "                                             description  n_ingredients  \n",
       "4      i think a fondue is a very romantic casual din...            NaN  \n",
       "6      this is a very versatile and widely enjoyed pa...           12.0  \n",
       "7                 you just have to try it to believe it.            NaN  \n",
       "8      this is the recipe that we use at my school ca...           11.0  \n",
       "9      since there are already 411 recipes for brocco...            NaN  \n",
       "...                                                  ...            ...  \n",
       "29989         this has been a long time family favorite!            8.0  \n",
       "29992  this is a favourite winter warmer. by british ...            NaN  \n",
       "29994     this soup is a hearty meal!  from luisa musso.           17.0  \n",
       "29995  this is based on a french recipe but i changed...           10.0  \n",
       "29999  i've heard of the 'cookies by design' company,...           10.0  \n",
       "\n",
       "[18810 rows x 8 columns]"
      ]
     },
     "execution_count": 17,
     "metadata": {},
     "output_type": "execute_result"
    }
   ],
   "source": [
    "print(f\"[Task 3.5] Answer:\\n\")\n",
    "\n",
    "recipes_with_steps = recipes[recipes[\"n_steps\"].notna()]\n",
    "recipes_with_steps.shape[0]\n",
    "recipes_with_steps"
   ]
  },
  {
   "cell_type": "code",
   "execution_count": 18,
   "metadata": {},
   "outputs": [
    {
     "data": {
      "text/plain": [
       "name               object\n",
       "id                  int64\n",
       "minutes             int64\n",
       "contributor_id      int64\n",
       "submitted          object\n",
       "n_steps           float64\n",
       "description        object\n",
       "n_ingredients     float64\n",
       "dtype: object"
      ]
     },
     "execution_count": 18,
     "metadata": {},
     "output_type": "execute_result"
    }
   ],
   "source": [
    "recipes_with_steps.dtypes"
   ]
  },
  {
   "cell_type": "code",
   "execution_count": 19,
   "metadata": {},
   "outputs": [
    {
     "name": "stderr",
     "output_type": "stream",
     "text": [
      "C:\\Users\\user\\AppData\\Local\\Temp/ipykernel_15696/809450329.py:1: SettingWithCopyWarning: \n",
      "A value is trying to be set on a copy of a slice from a DataFrame.\n",
      "Try using .loc[row_indexer,col_indexer] = value instead\n",
      "\n",
      "See the caveats in the documentation: https://pandas.pydata.org/pandas-docs/stable/user_guide/indexing.html#returning-a-view-versus-a-copy\n",
      "  recipes_with_steps[\"n_steps\"] = recipes_with_steps[\"n_steps\"].astype(int)\n"
     ]
    }
   ],
   "source": [
    "recipes_with_steps[\"n_steps\"] = recipes_with_steps[\"n_steps\"].astype(int)"
   ]
  },
  {
   "cell_type": "code",
   "execution_count": 20,
   "metadata": {},
   "outputs": [
    {
     "data": {
      "text/plain": [
       "name               object\n",
       "id                  int64\n",
       "minutes             int64\n",
       "contributor_id      int64\n",
       "submitted          object\n",
       "n_steps             int32\n",
       "description        object\n",
       "n_ingredients     float64\n",
       "dtype: object"
      ]
     },
     "execution_count": 20,
     "metadata": {},
     "output_type": "execute_result"
    }
   ],
   "source": [
    "recipes_with_steps.dtypes"
   ]
  },
  {
   "cell_type": "code",
   "execution_count": 21,
   "metadata": {},
   "outputs": [],
   "source": [
    "recipes_with_steps.to_csv(\"recipes_sample_with_filled_nsteps.csv\")"
   ]
  }
 ],
 "metadata": {
  "interpreter": {
   "hash": "247ab06e135bb35fa78c5eff31b2a9a0050dcb5fb773c2631d2a29ac689eeccb"
  },
  "kernelspec": {
   "display_name": "Python 3.9.6 64-bit",
   "name": "python3"
  },
  "language_info": {
   "codemirror_mode": {
    "name": "ipython",
    "version": 3
   },
   "file_extension": ".py",
   "mimetype": "text/x-python",
   "name": "python",
   "nbconvert_exporter": "python",
   "pygments_lexer": "ipython3",
   "version": "3.9.6"
  }
 },
 "nbformat": 4,
 "nbformat_minor": 4
}
