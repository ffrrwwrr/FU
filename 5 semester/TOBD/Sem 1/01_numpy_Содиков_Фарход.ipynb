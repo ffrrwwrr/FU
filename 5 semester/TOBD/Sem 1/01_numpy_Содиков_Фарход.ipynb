{
 "cells": [
  {
   "cell_type": "markdown",
   "metadata": {},
   "source": [
    "# Numpy"
   ]
  },
  {
   "cell_type": "markdown",
   "metadata": {},
   "source": [
    "Материалы:\n",
    "* Макрушин С.В. \"Лекция 1: Библиотека Numpy\"\n",
    "* https://numpy.org/doc/stable/user/index.html\n",
    "* https://numpy.org/doc/stable/reference/index.html\n",
    "* Уэс Маккини. Python и анализ данных"
   ]
  },
  {
   "cell_type": "markdown",
   "metadata": {},
   "source": [
    "## Задачи для совместного разбора"
   ]
  },
  {
   "cell_type": "code",
   "execution_count": 1,
   "metadata": {},
   "outputs": [
    {
     "data": {
      "text/plain": [
       "[1, 2, 3, 4, 5, 6, 7, 8]"
      ]
     },
     "execution_count": 1,
     "metadata": {},
     "output_type": "execute_result"
    }
   ],
   "source": [
    "import numpy as np\n",
    "\n",
    "lst = [1,2,3,4,5,6,7,8]\n",
    "lst"
   ]
  },
  {
   "cell_type": "code",
   "execution_count": 2,
   "metadata": {},
   "outputs": [
    {
     "data": {
      "text/plain": [
       "[1, 4, 9, 16, 25, 36, 49, 64]"
      ]
     },
     "execution_count": 2,
     "metadata": {},
     "output_type": "execute_result"
    }
   ],
   "source": [
    "[i**2 for i in lst]"
   ]
  },
  {
   "cell_type": "code",
   "execution_count": 3,
   "metadata": {},
   "outputs": [
    {
     "data": {
      "text/plain": [
       "array([ 1,  4,  9, 16, 25, 36, 49, 64])"
      ]
     },
     "execution_count": 3,
     "metadata": {},
     "output_type": "execute_result"
    }
   ],
   "source": [
    "arr = np.array(lst)\n",
    "arr ** 2"
   ]
  },
  {
   "cell_type": "code",
   "execution_count": 4,
   "metadata": {},
   "outputs": [
    {
     "data": {
      "text/plain": [
       "array([ True,  True,  True, False, False, False, False, False])"
      ]
     },
     "execution_count": 4,
     "metadata": {},
     "output_type": "execute_result"
    }
   ],
   "source": [
    "mask = arr < 4\n",
    "mask"
   ]
  },
  {
   "cell_type": "code",
   "execution_count": 5,
   "metadata": {},
   "outputs": [
    {
     "data": {
      "text/plain": [
       "array([1, 2, 3])"
      ]
     },
     "execution_count": 5,
     "metadata": {},
     "output_type": "execute_result"
    }
   ],
   "source": [
    "arr[mask]"
   ]
  },
  {
   "cell_type": "code",
   "execution_count": 6,
   "metadata": {},
   "outputs": [
    {
     "data": {
      "text/plain": [
       "array([[ 0,  1,  2,  3],\n",
       "       [ 4,  5,  6,  7],\n",
       "       [ 8,  9, 10, 11],\n",
       "       [12, 13, 14, 15],\n",
       "       [16, 17, 18, 19]])"
      ]
     },
     "execution_count": 6,
     "metadata": {},
     "output_type": "execute_result"
    }
   ],
   "source": [
    "arr = np.arange(20).reshape(5,4)\n",
    "arr"
   ]
  },
  {
   "cell_type": "code",
   "execution_count": 7,
   "metadata": {},
   "outputs": [
    {
     "data": {
      "text/plain": [
       "array([[ 0,  1,  2,  3],\n",
       "       [ 4,  5,  6,  7],\n",
       "       [ 8,  9, 10, 11]])"
      ]
     },
     "execution_count": 7,
     "metadata": {},
     "output_type": "execute_result"
    }
   ],
   "source": [
    "arr[:3,]"
   ]
  },
  {
   "cell_type": "markdown",
   "metadata": {},
   "source": [
    "1. Сгенерировать двухмерный массив `arr` размерности (4, 7), состоящий из случайных действительных чисел, равномерно распределенных в диапазоне от 0 до 20. Нормализовать значения массива с помощью преобразования вида  $𝑎𝑥+𝑏$  так, что после нормализации максимальный элемент масcива будет равен 1.0, минимальный 0.0"
   ]
  },
  {
   "cell_type": "code",
   "execution_count": 8,
   "metadata": {},
   "outputs": [
    {
     "data": {
      "text/plain": [
       "array([[0.78692876, 0.61654644, 0.18863573, 0.83321927, 0.77109375,\n",
       "        0.66736238, 0.7975066 ],\n",
       "       [0.37151038, 0.21547551, 0.62043075, 0.46447621, 0.21400082,\n",
       "        0.88940178, 0.96630287],\n",
       "       [0.22381617, 0.73779681, 0.8085442 , 0.83553378, 0.16448572,\n",
       "        0.9562833 , 0.99696322],\n",
       "       [0.68477994, 0.4422416 , 0.        , 0.26210221, 0.5921566 ,\n",
       "        1.        , 0.09603245]])"
      ]
     },
     "execution_count": 8,
     "metadata": {},
     "output_type": "execute_result"
    }
   ],
   "source": [
    "arr1 = np.random.uniform(0, 20, size=(4, 7))\n",
    "(arr1 - arr1.min()) / (arr1.max()- arr1.min())"
   ]
  },
  {
   "cell_type": "markdown",
   "metadata": {},
   "source": [
    "2. Создать матрицу 8 на 10 из случайных целых (используя модуль `numpy.random`) чисел из диапозона от 0 до 10 и найти в ней строку (ее индекс и вывести саму строку), в которой сумма значений минимальна."
   ]
  },
  {
   "cell_type": "code",
   "execution_count": 9,
   "metadata": {},
   "outputs": [
    {
     "data": {
      "text/plain": [
       "array([[7, 0, 8, 1, 9, 4, 9, 6, 9, 8],\n",
       "       [6, 1, 3, 7, 8, 7, 0, 1, 1, 8],\n",
       "       [7, 3, 9, 7, 8, 6, 1, 1, 8, 2],\n",
       "       [6, 3, 0, 3, 1, 5, 5, 3, 4, 5],\n",
       "       [7, 4, 4, 2, 6, 1, 2, 1, 0, 3],\n",
       "       [2, 2, 0, 4, 3, 0, 9, 3, 0, 4],\n",
       "       [0, 7, 7, 1, 0, 2, 9, 7, 5, 1],\n",
       "       [7, 2, 0, 7, 6, 6, 1, 7, 6, 2]])"
      ]
     },
     "execution_count": 9,
     "metadata": {},
     "output_type": "execute_result"
    }
   ],
   "source": [
    "arr2 = np.random.randint(0,10,size=(8,10))\n",
    "arr2"
   ]
  },
  {
   "cell_type": "code",
   "execution_count": 10,
   "metadata": {},
   "outputs": [
    {
     "data": {
      "text/plain": [
       "array([[2, 2, 0, 4, 3, 0, 9, 3, 0, 4]])"
      ]
     },
     "execution_count": 10,
     "metadata": {},
     "output_type": "execute_result"
    }
   ],
   "source": [
    "str_col = arr2.sum(axis=1)\n",
    "arr2[str_col == str_col.min()]"
   ]
  },
  {
   "cell_type": "markdown",
   "metadata": {},
   "source": [
    "3. Найти евклидово расстояние между двумя одномерными векторами одинаковой размерности."
   ]
  },
  {
   "cell_type": "code",
   "execution_count": 11,
   "metadata": {},
   "outputs": [
    {
     "name": "stdout",
     "output_type": "stream",
     "text": [
      "array 3.1:\n",
      "[[3 6 9 4 5 6 6 3 0 1]]\n",
      "array 3.2:\n",
      "[[1 5 1 2 6 7 4 9 9 8]]\n",
      "Answer:\n",
      "15.652475842498529\n"
     ]
    }
   ],
   "source": [
    "arr31 = np.random.randint(0,10,size=(1,10))\n",
    "arr32 = np.random.randint(0,10,size=(1,10))\n",
    "print(f\"array 3.1:\\n{arr31}\\narray 3.2:\\n{arr32}\")\n",
    "\n",
    "formula = np.sqrt(((arr31 - arr32) ** 2).sum())\n",
    "print(f\"Answer:\\n{formula}\")"
   ]
  },
  {
   "cell_type": "code",
   "execution_count": 12,
   "metadata": {},
   "outputs": [
    {
     "name": "stdout",
     "output_type": "stream",
     "text": [
      "Second method:\n",
      "15.652475842498529\n"
     ]
    }
   ],
   "source": [
    "print(f\"Second method:\\n{np.linalg.norm(arr31-arr32)}\")"
   ]
  },
  {
   "cell_type": "markdown",
   "metadata": {},
   "source": [
    "4. Решить матричное уравнение `A*X*B=-C` - найти матрицу `X`. Где `A = [[-1, 2, 4], [-3, 1, 2], [-3, 0, 1]]`, `B=[[3, -1], [2, 1]]`, `C=[[7, 21], [11, 8], [8, 4]]`."
   ]
  },
  {
   "cell_type": "code",
   "execution_count": 13,
   "metadata": {},
   "outputs": [
    {
     "name": "stdout",
     "output_type": "stream",
     "text": [
      "a:\n",
      "[[-1  2  4]\n",
      " [-3  1  2]\n",
      " [-3  0  1]]\n",
      "b:\n",
      "[[ 3 -1]\n",
      " [ 2  1]]\n",
      "c:\n",
      "[[ 7 21]\n",
      " [11  8]\n",
      " [ 8  4]]\n",
      "\n",
      "Answer:\n",
      "[[ 1.00000000e+00  5.32907052e-16]\n",
      " [-2.00000000e+00  1.00000000e+00]\n",
      " [ 3.00000000e+00 -4.00000000e+00]]\n"
     ]
    }
   ],
   "source": [
    "# A * X * B = -C\n",
    "# X = \n",
    "a = np.array([[-1, 2, 4], [-3, 1, 2], [-3, 0, 1]])\n",
    "b = np.array([[3, -1], [2, 1]])\n",
    "c = np.array([[7, 21], [11, 8], [8, 4]])\n",
    "print(f\"a:\\n{a}\\nb:\\n{b}\\nc:\\n{c}\\n\")\n",
    "\n",
    "otvet = np.linalg.inv(a) @ (-c) @ np.linalg.inv(b)\n",
    "print(f\"Answer:\\n{otvet}\")"
   ]
  },
  {
   "cell_type": "markdown",
   "metadata": {},
   "source": [
    "## Лабораторная работа №1"
   ]
  },
  {
   "cell_type": "markdown",
   "metadata": {},
   "source": [
    "Замечание: при решении данных задач не подразумевается использования циклов или генераторов Python, если в задании не сказано обратного. Решение должно опираться на использования функционала библиотеки `numpy`."
   ]
  },
  {
   "cell_type": "markdown",
   "metadata": {},
   "source": [
    "1. Файл `minutes_n_ingredients.csv` содержит информацию об идентификаторе рецепта, времени его выполнения в минутах и количестве необходимых ингредиентов. Считайте данные из этого файла в виде массива `numpy` типа `int32`, используя `np.loadtxt`. Выведите на экран первые 5 строк массива."
   ]
  },
  {
   "cell_type": "code",
   "execution_count": 14,
   "metadata": {},
   "outputs": [
    {
     "name": "stdout",
     "output_type": "stream",
     "text": [
      "[Task 01] Answer:\n",
      "\n",
      "The first 5 lines of the array:\n",
      "[[127244     60     16]\n",
      " [ 23891     25      7]\n",
      " [ 94746     10      6]\n",
      " [ 67660      5      6]\n",
      " [157911     60     14]]\n"
     ]
    }
   ],
   "source": [
    "import numpy as np\n",
    "\n",
    "\n",
    "task01 = np.loadtxt('minutes_n_ingredients.csv', dtype = np.int32, delimiter = ',', skiprows = 1, max_rows = 5)\n",
    "print(f\"[Task 01] Answer:\\n\\nThe first 5 lines of the array:\\n{task01}\")"
   ]
  },
  {
   "cell_type": "markdown",
   "metadata": {},
   "source": [
    "2. Вычислите среднее значение, минимум, максимум и медиану по каждому из столбцов, кроме первого."
   ]
  },
  {
   "cell_type": "code",
   "execution_count": 15,
   "metadata": {},
   "outputs": [
    {
     "name": "stdout",
     "output_type": "stream",
     "text": [
      "[Task 02] Answer:\n",
      "\n",
      "Mean: [21601.00169, 9.05528]\n",
      "Minimum: [0 1]\n",
      "Maximum: [2147483647         39] \n",
      "Median: [40.  9.]\n"
     ]
    }
   ],
   "source": [
    "task02 = np.loadtxt('minutes_n_ingredients.csv', dtype=np.int32, delimiter=',',skiprows=1,usecols=(1,2))\n",
    "print(f\"[Task 02] Answer:\\n\\nMean: [{task02[:,0].mean()}, {task02[:,1].mean()}]\\nMinimum: {task02.min(axis=0)}\\nMaximum: {task02.max(axis=0)} \\nMedian: {np.median(task02, axis=0)}\")"
   ]
  },
  {
   "cell_type": "markdown",
   "metadata": {},
   "source": [
    "3. Ограничьте сверху значения продолжительности выполнения рецепта значением квантиля $q_{0.75}$. "
   ]
  },
  {
   "cell_type": "code",
   "execution_count": 16,
   "metadata": {},
   "outputs": [
    {
     "name": "stdout",
     "output_type": "stream",
     "text": [
      "[Task 03] Answer:\n",
      "\n",
      "[[127244     60     16]\n",
      " [ 23891     25      7]\n",
      " [ 94746     10      6]\n",
      " ...\n",
      " [371794     35      8]\n",
      " [ 43407     35      7]\n",
      " [370915      5      4]]\n"
     ]
    }
   ],
   "source": [
    "task03 = np.loadtxt('minutes_n_ingredients.csv', dtype = np.int32, delimiter=',', skiprows=1)\n",
    "forQ = np.loadtxt('minutes_n_ingredients.csv', dtype = np.int32, delimiter=',', skiprows=1, usecols=1)\n",
    "q = np.quantile(forQ, 0.75, axis=0)\n",
    "print(f\"[Task 03] Answer:\\n\\n{task03[forQ < q]}\")\n",
    "#print(q)"
   ]
  },
  {
   "cell_type": "markdown",
   "metadata": {},
   "source": [
    "4. Посчитайте, для скольких рецептов указана продолжительность, равная нулю. Замените для таких строк значение в данном столбце на 1."
   ]
  },
  {
   "cell_type": "code",
   "execution_count": 17,
   "metadata": {},
   "outputs": [
    {
     "name": "stdout",
     "output_type": "stream",
     "text": [
      "[Task 04] Answer: 479\n"
     ]
    }
   ],
   "source": [
    "task04 = np.loadtxt('minutes_n_ingredients.csv', dtype = np.int32, delimiter=',', skiprows=1)\n",
    "arrForZeroVal = np.loadtxt('minutes_n_ingredients.csv', dtype = np.int32, delimiter=',', skiprows=1, usecols=1)\n",
    "\n",
    "# np.place(arr, mask, vals)\n",
    "np.place(task04[:,1], task04[:,1]==0, 1)\n",
    "print(f\"[Task 04] Answer: {np.size(arrForZeroVal[arrForZeroVal==0])}\")"
   ]
  },
  {
   "cell_type": "markdown",
   "metadata": {},
   "source": [
    "5. Посчитайте, сколько уникальных рецептов находится в датасете."
   ]
  },
  {
   "cell_type": "code",
   "execution_count": 18,
   "metadata": {},
   "outputs": [
    {
     "name": "stdout",
     "output_type": "stream",
     "text": [
      "[Task 05] Answer: 100000\n"
     ]
    }
   ],
   "source": [
    "task05 = np.loadtxt('minutes_n_ingredients.csv', dtype = np.int32, delimiter=',', skiprows=1, usecols=0)\n",
    "\n",
    "# np.unique(arr, , , , axis)\n",
    "print(f\"[Task 05] Answer: {np.size(np.unique(task05))}\")"
   ]
  },
  {
   "cell_type": "markdown",
   "metadata": {},
   "source": [
    "6. Сколько и каких различных значений кол-ва ингредиентов присутвует в рецептах из датасета?"
   ]
  },
  {
   "cell_type": "code",
   "execution_count": 19,
   "metadata": {},
   "outputs": [
    {
     "name": "stdout",
     "output_type": "stream",
     "text": [
      "[Task 06] Answer: \n",
      "\n",
      "Number of values: 37\n",
      "All different values of a variable: \n",
      "[ 1  2  3  4  5  6  7  8  9 10 11 12 13 14 15 16 17 18 19 20 21 22 23 24\n",
      " 25 26 27 28 29 30 31 32 33 34 35 37 39]\n"
     ]
    }
   ],
   "source": [
    "task06 = np.loadtxt('minutes_n_ingredients.csv', dtype = np.int32, delimiter=',', skiprows=1, usecols=2)\n",
    "\n",
    "# np.size - кол-во, np.unique - уникальное значение из массива\n",
    "print(f\"[Task 06] Answer: \\n\\nNumber of values: {np.size(np.unique(task06))}\\nAll different values of a variable: \\n{np.unique(task06)}\")"
   ]
  },
  {
   "cell_type": "markdown",
   "metadata": {},
   "source": [
    "7. Создайте версию массива, содержащую информацию только о рецептах, состоящих не более чем из 5 ингредиентов."
   ]
  },
  {
   "cell_type": "code",
   "execution_count": 20,
   "metadata": {},
   "outputs": [
    {
     "name": "stdout",
     "output_type": "stream",
     "text": [
      "[Task 07] Answer:\n",
      "\n",
      "[[446597     15      5]\n",
      " [204134      5      3]\n",
      " [ 25623      6      4]\n",
      " ...\n",
      " [ 52088     60      5]\n",
      " [128811     15      4]\n",
      " [370915      5      4]]\n"
     ]
    }
   ],
   "source": [
    "# task06 - кол-во ингредиентов \n",
    "task07 = np.loadtxt('minutes_n_ingredients.csv', dtype = np.int32, delimiter=',', skiprows=1)[task06<=5]\n",
    "print(f\"[Task 07] Answer:\\n\\n{task07}\")"
   ]
  },
  {
   "cell_type": "markdown",
   "metadata": {},
   "source": [
    "8. Для каждого рецепта посчитайте, сколько в среднем ингредиентов приходится на одну минуту рецепта. Найдите максимальное значение этой величины для всего датасета"
   ]
  },
  {
   "cell_type": "code",
   "execution_count": 21,
   "metadata": {},
   "outputs": [
    {
     "name": "stdout",
     "output_type": "stream",
     "text": [
      "[Task 08] Answer:\n",
      "\n",
      "[0.26666667 0.28       0.6        ... 0.23076923 0.8        0.1       ]\n",
      "Max: inf\n"
     ]
    },
    {
     "name": "stderr",
     "output_type": "stream",
     "text": [
      "/var/folders/lf/d2lsgyp97ql5m98sdnhnmftm0000gn/T/ipykernel_5009/1476784174.py:8: RuntimeWarning: divide by zero encountered in true_divide\n",
      "  ans = task06/task08\n"
     ]
    }
   ],
   "source": [
    "# НЕ ПОНЯЛ НЕ ПОНЯЛ НЕ ПОНЯЛ НЕ ПОНЯЛ НЕ ПОНЯЛ НЕ ПОНЯЛ НЕ ПОНЯЛ НЕ ПОНЯЛ \n",
    "\n",
    "#array of minutes\n",
    "task08 = np.loadtxt('minutes_n_ingredients.csv', dtype = np.int32, delimiter=',', skiprows=1, usecols=1)\n",
    "\n",
    "# np.place(task08, task08==0, 1)\n",
    "# answer=ingredients/minutes\n",
    "ans = task06/task08\n",
    "print(f\"[Task 08] Answer:\\n\\n{ans}\\nMax: {max(ans)}\")"
   ]
  },
  {
   "cell_type": "markdown",
   "metadata": {},
   "source": [
    "9. Вычислите среднее количество ингредиентов для топ-100 рецептов с наибольшей продолжительностью"
   ]
  },
  {
   "cell_type": "code",
   "execution_count": 22,
   "metadata": {},
   "outputs": [
    {
     "name": "stdout",
     "output_type": "stream",
     "text": [
      "[Task 09] Answer: 6.61\n"
     ]
    }
   ],
   "source": [
    "task09 = np.loadtxt('minutes_n_ingredients.csv', dtype = np.int32, delimiter=',', skiprows=1)\n",
    "\n",
    "task09_01 = task09[task09[:, 1].argsort()[::-1]][:100, :]\n",
    "print(f\"[Task 09] Answer: {task09_01[:, 2].mean(axis=0)}\")\n"
   ]
  },
  {
   "cell_type": "markdown",
   "metadata": {},
   "source": [
    "10. Выберите случайным образом и выведите информацию о 10 различных рецептах"
   ]
  },
  {
   "cell_type": "code",
   "execution_count": 23,
   "metadata": {},
   "outputs": [
    {
     "name": "stdout",
     "output_type": "stream",
     "text": [
      "[Task 10] Answer:\n",
      "\n",
      "[[349575     25     11]\n",
      " [193175     40      9]\n",
      " [216416     40     14]\n",
      " [325029     30      9]\n",
      " [163787     25      8]\n",
      " [302103     20     10]\n",
      " [457095    110      8]\n",
      " [431870     13      5]\n",
      " [490031     50      6]\n",
      " [492528    270     10]]\n"
     ]
    }
   ],
   "source": [
    "task10 = np.loadtxt('minutes_n_ingredients.csv', dtype = np.int32, delimiter=',', skiprows=1)\n",
    "\n",
    "# np.replace.choice(a, size:int, replace:boolean, p)\n",
    "print(f\"[Task 10] Answer:\\n\\n{task10[np.random.choice(task10.shape[0], 10, replace=False)]}\")"
   ]
  },
  {
   "cell_type": "markdown",
   "metadata": {},
   "source": [
    "11. Выведите процент рецептов, кол-во ингредиентов в которых меньше среднего."
   ]
  },
  {
   "cell_type": "code",
   "execution_count": 24,
   "metadata": {},
   "outputs": [
    {
     "name": "stdout",
     "output_type": "stream",
     "text": [
      "[Task 11] Answer: 58.802 %\n"
     ]
    }
   ],
   "source": [
    "task11 = np.loadtxt('minutes_n_ingredients.csv', dtype = np.int32, delimiter=',', skiprows=1, usecols=2)\n",
    "\n",
    "# (кол-во рец ниже ср / кол-во всех) * 100\n",
    "task11_1 = np.size(task11[task11<task11.mean()]) / np.size(task11) * 100\n",
    "print(f\"[Task 11] Answer: {task11_1} %\")"
   ]
  },
  {
   "cell_type": "markdown",
   "metadata": {},
   "source": [
    "12. Назовем \"простым\" такой рецепт, длительность выполнения которого не больше 20 минут и кол-во ингредиентов в котором не больше 5. Создайте версию датасета с дополнительным столбцом, значениями которого являются 1, если рецепт простой, и 0 в противном случае."
   ]
  },
  {
   "cell_type": "code",
   "execution_count": 25,
   "metadata": {},
   "outputs": [
    {
     "name": "stdout",
     "output_type": "stream",
     "text": [
      "[Task 12] Answer: \n",
      "\n",
      "[[127244     60     16      0]\n",
      " [ 23891     25      7      0]\n",
      " [ 94746     10      6      0]\n",
      " ...\n",
      " [498432     65     15      0]\n",
      " [370915      5      4      1]\n",
      " [ 81993    140     14      0]]\n"
     ]
    }
   ],
   "source": [
    "task12 = np.loadtxt('minutes_n_ingredients.csv', dtype = np.int32, delimiter=',', skiprows=1) # id,m,n\n",
    "task12_1 = np.loadtxt('minutes_n_ingredients.csv', dtype = np.int32, delimiter=',', skiprows=1, usecols=1) # m\n",
    "task12_2 = np.loadtxt('minutes_n_ingredients.csv', dtype = np.int32, delimiter=',', skiprows=1, usecols=2) # n\n",
    "\n",
    "task12_3 = np.hsplit(np.where((task12_1 <= 20)&(task12_2 <= 5), 1, 0), np.size(task12_1))\n",
    "print(f\"[Task 12] Answer: \\n\\n{np.append(task12, task12_3, axis=1)}\")"
   ]
  },
  {
   "cell_type": "markdown",
   "metadata": {},
   "source": [
    "13. Выведите процент \"простых\" рецептов в датасете"
   ]
  },
  {
   "cell_type": "code",
   "execution_count": 26,
   "metadata": {},
   "outputs": [
    {
     "name": "stdout",
     "output_type": "stream",
     "text": [
      "[Task 13] Answer: 9.552 %\n"
     ]
    }
   ],
   "source": [
    "task13 = np.where((task12_1 <= 20)&(task12_2 <= 5), 1, 0)\n",
    "\n",
    "# (кол-во простых / кол-во всех) * 100\n",
    "print(f\"[Task 13] Answer: {np.size(task13[task13==1]) / np.size(task13) * 100} %\")"
   ]
  },
  {
   "cell_type": "markdown",
   "metadata": {},
   "source": [
    "14. Разделим рецепты на группы по следующему правилу. Назовем рецепты короткими, если их продолжительность составляет менее 10 минут; стандартными, если их продолжительность составляет более 10, но менее 20 минут; и длинными, если их продолжительность составляет не менее 20 минут. Создайте трехмерный массив, где нулевая ось отвечает за номер группы (короткий, стандартный или длинный рецепт), первая ось - за сам рецепт и вторая ось - за характеристики рецепта. Выберите максимальное количество рецептов из каждой группы таким образом, чтобы было возможно сформировать трехмерный массив. Выведите форму полученного массива."
   ]
  },
  {
   "cell_type": "code",
   "execution_count": 27,
   "metadata": {},
   "outputs": [
    {
     "name": "stdout",
     "output_type": "stream",
     "text": [
      "[Task 14] Answer: \n",
      "\n",
      "[[[     1  94746     10]\n",
      "  [     1  67660      5]\n",
      "  [     1 366174      7]\n",
      "  ...\n",
      "  [     1 420725      5]\n",
      "  [     1   4747      0]\n",
      "  [     1 370915      5]]\n",
      "\n",
      " [[     2  33941     18]\n",
      "  [     2 446597     15]\n",
      "  [     2  74205     20]\n",
      "  ...\n",
      "  [     2 230115     20]\n",
      "  [     2 496131     20]\n",
      "  [     2 365818     20]]\n",
      "\n",
      " [[     3 127244     60]\n",
      "  [     3  23891     25]\n",
      "  [     3 157911     60]\n",
      "  ...\n",
      "  [     3  68428     70]\n",
      "  [     3 312995   1445]\n",
      "  [     3  93651    240]]]\n"
     ]
    }
   ],
   "source": [
    "task14 = np.loadtxt('minutes_n_ingredients.csv', dtype = np.int32, delimiter=',', skiprows=1, usecols=(0,1))\n",
    "task14_SecCol = np.loadtxt('minutes_n_ingredients.csv', dtype = np.int32, delimiter=',', skiprows=1, usecols=1)\n",
    "# условие, 1-short(-inf;10), 2-avarage(10;20), 3-long(20;+inf)\n",
    "task14_usl = np.where((task14_SecCol <= 10), 1, (np.where((task14_SecCol > 10)&(task14_SecCol <= 20), 2, 3)))\n",
    "# замена значений столбца id на 1,2,3\n",
    "task14_zam = np.insert(task14, 0, task14_usl, axis=1)\n",
    "task14_1 = task14_zam[task14_usl==1][:12466,:] # short\n",
    "task14_2 = task14_zam[task14_usl==2][:12466,:] # avarage\n",
    "task14_3 = task14_zam[task14_usl==3][:12466,:] # long\n",
    "print(f\"[Task 14] Answer: \\n\\n{np.stack([task14_1,task14_2, task14_3])}\")\n",
    "# print(f\"Short cooking time:\\n\\n{task14_1}\\n\\nAvarage cooking time:\\n\\n{task14_2}\\n\\nLong cooking time:\\n\\n{task14_3}\")"
   ]
  }
 ],
 "metadata": {
  "interpreter": {
   "hash": "247ab06e135bb35fa78c5eff31b2a9a0050dcb5fb773c2631d2a29ac689eeccb"
  },
  "kernelspec": {
   "display_name": "Python 3.9.6 64-bit",
   "name": "python3"
  },
  "language_info": {
   "codemirror_mode": {
    "name": "ipython",
    "version": 3
   },
   "file_extension": ".py",
   "mimetype": "text/x-python",
   "name": "python",
   "nbconvert_exporter": "python",
   "pygments_lexer": "ipython3",
   "version": "3.9.6"
  }
 },
 "nbformat": 4,
 "nbformat_minor": 4
}
