{
 "cells": [
  {
   "cell_type": "markdown",
   "id": "11873e8a",
   "metadata": {},
   "source": [
    "# Содиков Фарход. ПИ19-1. ML3.1."
   ]
  },
  {
   "cell_type": "markdown",
   "id": "90126744",
   "metadata": {},
   "source": [
    "## Библиотеки"
   ]
  },
  {
   "cell_type": "code",
   "execution_count": 1,
   "id": "a96ccb69",
   "metadata": {},
   "outputs": [],
   "source": [
    "import numpy as np\n",
    "import matplotlib.pyplot as plt\n",
    "\n",
    "from sklearn.datasets import load_breast_cancer\n",
    "from sklearn.model_selection import train_test_split\n",
    "from sklearn.svm import SVC"
   ]
  },
  {
   "cell_type": "markdown",
   "id": "3c39bf8b",
   "metadata": {},
   "source": [
    "## 1. Загрузите датасет breast_cancer."
   ]
  },
  {
   "cell_type": "code",
   "execution_count": 2,
   "id": "e2feaf90",
   "metadata": {},
   "outputs": [
    {
     "name": "stdout",
     "output_type": "stream",
     "text": [
      "(569, 30)\n",
      "(569,)\n"
     ]
    }
   ],
   "source": [
    "breast_cancer = load_breast_cancer()\n",
    "X = breast_cancer.data\n",
    "y = breast_cancer.target\n",
    "print(X.shape)\n",
    "print(y.shape)"
   ]
  },
  {
   "cell_type": "markdown",
   "id": "9ec5aa82",
   "metadata": {},
   "source": [
    "## 2. Выберите два первых признака. Таким образом мы уменьшим размерность задачи. У нас была задача множественной классификации, а стала - бинарная."
   ]
  },
  {
   "cell_type": "code",
   "execution_count": 3,
   "id": "15d4a724",
   "metadata": {},
   "outputs": [
    {
     "name": "stdout",
     "output_type": "stream",
     "text": [
      "(569, 2)\n",
      "(569,)\n"
     ]
    }
   ],
   "source": [
    "X_2d = X[:, :2]\n",
    "print(X_2d.shape)\n",
    "print(y.shape)"
   ]
  },
  {
   "cell_type": "markdown",
   "id": "83af9f9b",
   "metadata": {},
   "source": [
    "## 3. Разделите датасет на обучающую и тестовую выборки в пропорции 80-20."
   ]
  },
  {
   "cell_type": "code",
   "execution_count": 4,
   "id": "970568cb",
   "metadata": {},
   "outputs": [],
   "source": [
    "X_train, X_test, y_train, y_test = train_test_split(X_2d, y, test_size=0.2, random_state=0)"
   ]
  },
  {
   "cell_type": "markdown",
   "id": "a02a4426",
   "metadata": {},
   "source": [
    "## 4. Постройте классификатор на опорных векторах с гауссовым ядром с параметром регуляризации C=0.01. Выведите на экран значение точности на тестовой и обучающей выборке. Сделайте предварительный вывод о степени обученности модели."
   ]
  },
  {
   "cell_type": "code",
   "execution_count": 5,
   "id": "f0701bdb",
   "metadata": {},
   "outputs": [
    {
     "name": "stdout",
     "output_type": "stream",
     "text": [
      "Точность (тестовая): 0.6923076923076923\n",
      "Точность (обучающая): 0.6666666666666666\n"
     ]
    }
   ],
   "source": [
    "clf = SVC(C=0.01, kernel=\"rbf\")\n",
    "clf.fit(X_train, y_train)\n",
    "\n",
    "print(f\"Точность (тестовая): {clf.score(X_train, y_train)}\")\n",
    "print(f\"Точность (обучающая): {clf.score(X_test, y_test)}\")"
   ]
  },
  {
   "cell_type": "markdown",
   "id": "6e4577ee",
   "metadata": {},
   "source": [
    "## 5. Постройте графически зависимость тестовой и обучающей точности от размера обучающей выборки. Прокомментируйте получившийся результат. Сделайте вывод о том, недообучается или переобучается модель? В зависимости от этого выберите варианты, которые могут привести к увеличению точности модели (обычно подходит больше одного варианта):\n",
    "\n",
    "### a. Собрать больше объектов наблюдения<br>b.Провести обучение на меньшем объеме данных<br>c. Исключить часть признаков из модели<br>d. Добавить новые признаки в модель<br>e. Добавить полиномиальные признаки<br>f. Попробовать более сложные модели<br>g. Попробовать более простые модели<br>h. Увеличить регуляризацию модели<br>i. Уменьшить регуляризацию модели"
   ]
  },
  {
   "cell_type": "code",
   "execution_count": 6,
   "id": "0c12b178",
   "metadata": {
    "scrolled": true
   },
   "outputs": [
    {
     "data": {
      "image/png": "[encoded data removed]",
      "text/plain": [
       "<Figure size 432x288 with 1 Axes>"
      ]
     },
     "metadata": {
      "needs_background": "light"
     },
     "output_type": "display_data"
    }
   ],
   "source": [
    "data = np.linspace(len(X_train) // 100 + 10, len(X_train), 100, dtype=int)\n",
    "test_scores = []\n",
    "train_scores = []\n",
    "\n",
    "for i in data:\n",
    "    clf = SVC(C=0.01, kernel='rbf')\n",
    "\n",
    "    x_ = X_train[:i]\n",
    "    y_ = y_train[:i]\n",
    "\n",
    "    clf.fit(x_, y_)\n",
    "\n",
    "    test_scores.append(clf.score(X_test, y_test))\n",
    "    train_scores.append(clf.score(x_, y_))\n",
    "\n",
    "ax = plt.axes()\n",
    "ax.plot(data, test_scores, label=\"test\")\n",
    "ax.plot(data, train_scores, label=\"train\")\n",
    "ax.set_xlabel('Size')\n",
    "ax.set_ylabel('Score')\n",
    "_ = ax.legend()"
   ]
  },
  {
   "cell_type": "markdown",
   "id": "04081e29",
   "metadata": {},
   "source": [
    "### Точность модели маленькая.<br> Ответ: a, f, i"
   ]
  },
  {
   "cell_type": "markdown",
   "id": "6f29d610",
   "metadata": {},
   "source": [
    "## 6. Проверьте выдвинутую гипотезу и попробуйте улучшить модель в соответствии с выбранными рекомендациями. Проверьте, увеличивается ли тестовая точность. Сделайте вывод."
   ]
  },
  {
   "cell_type": "code",
   "execution_count": 7,
   "id": "7c91d03f",
   "metadata": {},
   "outputs": [
    {
     "name": "stdout",
     "output_type": "stream",
     "text": [
      "Точность (тестовая): 0.6666666666666666\n",
      "Точность (обучающая): 0.6923076923076923\n"
     ]
    }
   ],
   "source": [
    "clf = SVC(C=0.01, kernel=\"rbf\")\n",
    "clf.fit(X_train, y_train)\n",
    "\n",
    "print(f\"Точность (тестовая): {clf.score(X_test, y_test)}\")\n",
    "print(f\"Точность (обучающая): {clf.score(X_train, y_train)}\")"
   ]
  },
  {
   "cell_type": "markdown",
   "id": "fe44b386",
   "metadata": {},
   "source": [
    "### h. Увеличение регуляризации до 100."
   ]
  },
  {
   "cell_type": "code",
   "execution_count": 8,
   "id": "fb20e0b7",
   "metadata": {},
   "outputs": [
    {
     "name": "stdout",
     "output_type": "stream",
     "text": [
      "Точность (тестовая): 0.868421052631579\n",
      "Точность (обучающая): 0.9142857142857143\n"
     ]
    }
   ],
   "source": [
    "clf = SVC(kernel='rbf', C=100)\n",
    "clf.fit(X_train, y_train)\n",
    "print(f\"Точность (тестовая): {clf.score(X_test, y_test)}\")\n",
    "print(f\"Точность (обучающая): {clf.score(X_train, y_train)}\")"
   ]
  },
  {
   "cell_type": "markdown",
   "id": "16c9a255",
   "metadata": {},
   "source": [
    "#### Вывод: увеличение регуляризации увеличивает точность модели"
   ]
  },
  {
   "cell_type": "markdown",
   "id": "36f4a1b4",
   "metadata": {},
   "source": [
    "### f. Использование более сложных моделей (KNeighborsClassifier):"
   ]
  },
  {
   "cell_type": "code",
   "execution_count": 9,
   "id": "31c465ca",
   "metadata": {},
   "outputs": [
    {
     "name": "stdout",
     "output_type": "stream",
     "text": [
      "Точность (тестовая): 0.8947368421052632\n",
      "Точность (обучающая): 0.8879120879120879\n"
     ]
    }
   ],
   "source": [
    "import sklearn.neighbors as neigh\n",
    "\n",
    "kn = neigh.KNeighborsClassifier(n_neighbors=90, n_jobs=6).fit(X_train,y_train)\n",
    "print(f\"Точность (тестовая): {kn.score(X_test, y_test)}\")\n",
    "print(f\"Точность (обучающая): {kn.score(X_train, y_train)}\")"
   ]
  },
  {
   "cell_type": "markdown",
   "id": "30339d00",
   "metadata": {},
   "source": [
    "#### Вывод: результаты стали выше."
   ]
  },
  {
   "cell_type": "markdown",
   "id": "e4ea424e",
   "metadata": {},
   "source": [
    "### Использование LogReg:"
   ]
  },
  {
   "cell_type": "code",
   "execution_count": 10,
   "id": "c4a477be",
   "metadata": {},
   "outputs": [
    {
     "name": "stdout",
     "output_type": "stream",
     "text": [
      "Точность (тестовая): 0.8947368421052632\n",
      "Точность (обучающая): 0.8989010989010989\n"
     ]
    }
   ],
   "source": [
    "from sklearn.linear_model import LogisticRegression\n",
    "\n",
    "logr = LogisticRegression(max_iter=5000, n_jobs=6).fit(X_train, y_train)\n",
    "print(f\"Точность (тестовая): {logr.score(X_test, y_test)}\")\n",
    "print(f\"Точность (обучающая): {logr.score(X_train, y_train)}\")"
   ]
  },
  {
   "cell_type": "markdown",
   "id": "b128b1d3",
   "metadata": {},
   "source": [
    "#### Вывод: результаты стали выше."
   ]
  },
  {
   "cell_type": "markdown",
   "id": "b15cd580",
   "metadata": {},
   "source": [
    "## 7. Повторите предыдущий пункт для различных значений C в диапазоне от 0,0001 до 1 000 000. Обратите внимание на шкалу по вертикальной оси. Для каких значений тестовая точность оптимальна? Какие значения дают недообучение? Какие - переобучение?"
   ]
  },
  {
   "cell_type": "code",
   "execution_count": 11,
   "id": "b54bde8c",
   "metadata": {},
   "outputs": [
    {
     "data": {
      "application/vnd.jupyter.widget-view+json": {
       "model_id": "2e8316b173174cbc8ca27ae950379543",
       "version_major": 2,
       "version_minor": 0
      },
      "text/plain": [
       "  0%|          | 0/50 [00:00<?, ?it/s]"
      ]
     },
     "metadata": {},
     "output_type": "display_data"
    },
    {
     "data": {
      "text/plain": [
       "0.8771929824561403"
      ]
     },
     "execution_count": 11,
     "metadata": {},
     "output_type": "execute_result"
    },
    {
     "data": {
      "image/png": "[encoded data removed]",
      "text/plain": [
       "<Figure size 432x288 with 1 Axes>"
      ]
     },
     "metadata": {
      "needs_background": "light"
     },
     "output_type": "display_data"
    }
   ],
   "source": [
    "from tqdm.notebook import tqdm\n",
    "data = np.linspace(1, 100000, 50)\n",
    "\n",
    "test_scores = []\n",
    "train_scores = []\n",
    "\n",
    "for i in tqdm(data):\n",
    "    clf = SVC(C=i, kernel=\"rbf\")\n",
    "\n",
    "    clf.fit(X_train, y_train)\n",
    "\n",
    "    test_scores.append(clf.score(X_test, y_test))\n",
    "    train_scores.append(clf.score(X_train, y_train))\n",
    "\n",
    "ax = plt.axes()\n",
    "ax.plot(data, test_scores, label=\"Тестовая\")\n",
    "ax.plot(data, train_scores, label=\"Обучающая\")\n",
    "ax.set_xlabel('С')\n",
    "ax.set_ylabel('Точность')\n",
    "ax.set_ylim([0.75, 1])\n",
    "ax.legend()\n",
    "\n",
    "max(test_scores)"
   ]
  },
  {
   "cell_type": "markdown",
   "id": "0a716d62",
   "metadata": {},
   "source": [
    "## 8. Постройте график зависимости тестовой и обучающей точности от значения регуляризационного параметра. Сделайте вывод о зависимости степени регуляризации на точность модели."
   ]
  },
  {
   "cell_type": "code",
   "execution_count": 12,
   "id": "f5be5eb9",
   "metadata": {},
   "outputs": [
    {
     "data": {
      "application/vnd.jupyter.widget-view+json": {
       "model_id": "0f167e0300f04274b8ac4e86d6b95fc8",
       "version_major": 2,
       "version_minor": 0
      },
      "text/plain": [
       "  0%|          | 0/500 [00:00<?, ?it/s]"
      ]
     },
     "metadata": {},
     "output_type": "display_data"
    },
    {
     "data": {
      "text/plain": [
       "0.8771929824561403"
      ]
     },
     "execution_count": 12,
     "metadata": {},
     "output_type": "execute_result"
    },
    {
     "data": {
      "image/png": "[encoded data removed]",
      "text/plain": [
       "<Figure size 432x288 with 1 Axes>"
      ]
     },
     "metadata": {
      "needs_background": "light"
     },
     "output_type": "display_data"
    }
   ],
   "source": [
    "data = np.linspace(0.0001, 1, 500)\n",
    "\n",
    "test_scores = []\n",
    "train_scores = []\n",
    "\n",
    "for i in tqdm(data):\n",
    "    clf = SVC(C=i, kernel=\"rbf\")\n",
    "    clf.fit(X_train, y_train)\n",
    "    test_scores.append(clf.score(X_test, y_test))\n",
    "    train_scores.append(clf.score(X_train, y_train))\n",
    "\n",
    "ax = plt.axes()\n",
    "ax.plot(data, test_scores, label=\"Тестовая\")\n",
    "ax.plot(data, train_scores, label=\"Обучающая\")\n",
    "ax.set_xlabel('С')\n",
    "ax.set_ylabel('Точность')\n",
    "ax.set_ylim([0.75, 1])\n",
    "ax.legend()\n",
    "\n",
    "max(test_scores)"
   ]
  },
  {
   "cell_type": "markdown",
   "id": "6c1eec7e",
   "metadata": {},
   "source": [
    "#### Вывод: с увеличением регуляризации точность модели на тренируемых данных увеличивается, а на тестовых - уменьшается."
   ]
  },
  {
   "cell_type": "markdown",
   "id": "bed30978",
   "metadata": {},
   "source": [
    "## 9. Найдите методом подбора оптимальное значение параметра регуляризации (примерное)."
   ]
  },
  {
   "cell_type": "code",
   "execution_count": 13,
   "id": "2f46ceaa",
   "metadata": {},
   "outputs": [
    {
     "name": "stdout",
     "output_type": "stream",
     "text": [
      "Точность (тестовая): 0.868421052631579\n",
      "Точность (обучающая): 0.9164835164835164\n"
     ]
    }
   ],
   "source": [
    "clf = SVC(kernel='rbf', C=52)\n",
    "clf.fit(X_train, y_train)\n",
    "print(f'Точность (тестовая): {clf.score(X_test, y_test)}')\n",
    "print(f'Точность (обучающая): {clf.score(X_train, y_train)}')"
   ]
  },
  {
   "cell_type": "code",
   "execution_count": 14,
   "id": "066afd2c",
   "metadata": {},
   "outputs": [
    {
     "name": "stdout",
     "output_type": "stream",
     "text": [
      "(51.1, 0.8771929824561403, 0.9164835164835164)\n"
     ]
    }
   ],
   "source": [
    "results = []\n",
    "for i in range(1, 1000):\n",
    "    value = i * 0.1\n",
    "    clf = SVC(kernel='rbf', C=value)\n",
    "    clf.fit(X_train, y_train)\n",
    "    test_acc = clf.score(X_test, y_test)\n",
    "    train_acc = clf.score(X_train, y_train)\n",
    "    results.append((value, test_acc, train_acc))\n",
    "    \n",
    "results.sort(key=lambda x: x[1])\n",
    "print(results[-1])"
   ]
  },
  {
   "cell_type": "markdown",
   "id": "b44fedd0",
   "metadata": {},
   "source": [
    "#### Вывод:<br> При регуляризации равной 52 получаем 86% на тестовой выборке и 91% на тренировочной<br>При регуляризации равной 51.1 получаем 87.7% и 91.6%"
   ]
  },
  {
   "cell_type": "markdown",
   "id": "59e03010",
   "metadata": {},
   "source": [
    "## 10. Повторите два предыдущих пункта для метода опорных векторов с линейным ядром. Сравните получившиеся результаты. Сделайте вывод о сравнительной эффективности двух этих моделей."
   ]
  },
  {
   "cell_type": "code",
   "execution_count": 15,
   "id": "cc6554c4",
   "metadata": {},
   "outputs": [
    {
     "data": {
      "application/vnd.jupyter.widget-view+json": {
       "model_id": "b57d303923bf4437a7949b6babbd880e",
       "version_major": 2,
       "version_minor": 0
      },
      "text/plain": [
       "  0%|          | 0/50 [00:00<?, ?it/s]"
      ]
     },
     "metadata": {},
     "output_type": "display_data"
    },
    {
     "data": {
      "text/plain": [
       "0.9035087719298246"
      ]
     },
     "execution_count": 15,
     "metadata": {},
     "output_type": "execute_result"
    },
    {
     "data": {
      "image/png": "[encoded data removed]",
      "text/plain": [
       "<Figure size 432x288 with 1 Axes>"
      ]
     },
     "metadata": {
      "needs_background": "light"
     },
     "output_type": "display_data"
    }
   ],
   "source": [
    "data = np.linspace(1, 100000, 50)\n",
    "\n",
    "test_scores = []\n",
    "train_scores = []\n",
    "\n",
    "for i in tqdm(data):\n",
    "    clf = SVC(C=i, kernel=\"linear\")\n",
    "\n",
    "    clf.fit(X_train, y_train)\n",
    "\n",
    "    test_scores.append(clf.score(X_test, y_test))\n",
    "    train_scores.append(clf.score(X_train, y_train))\n",
    "\n",
    "ax = plt.axes()\n",
    "ax.plot(data, test_scores, label=\"Тестовая\")\n",
    "ax.plot(data, train_scores, label=\"Обучающая\")\n",
    "ax.set_xlabel('С')\n",
    "ax.set_ylabel('Точность')\n",
    "ax.set_ylim([0.75, 1])\n",
    "ax.legend()\n",
    "\n",
    "max(test_scores)"
   ]
  },
  {
   "cell_type": "markdown",
   "id": "8228cc08",
   "metadata": {},
   "source": [
    "### Оптимальное значение методом подбора."
   ]
  },
  {
   "cell_type": "code",
   "execution_count": 16,
   "id": "548927eb",
   "metadata": {},
   "outputs": [
    {
     "name": "stdout",
     "output_type": "stream",
     "text": [
      "Точность (тестовая): 0.8947368421052632\n",
      "Точность (обучающая): 0.8879120879120879\n"
     ]
    }
   ],
   "source": [
    "clf = SVC(kernel='linear', C=9.9)\n",
    "clf.fit(X_train, y_train)\n",
    "print(f'Точность (тестовая): {clf.score(X_test, y_test)}')\n",
    "print(f'Точность (обучающая): {clf.score(X_train, y_train)}')"
   ]
  },
  {
   "cell_type": "code",
   "execution_count": 17,
   "id": "71fe8118",
   "metadata": {},
   "outputs": [
    {
     "name": "stdout",
     "output_type": "stream",
     "text": [
      "(9.9, 0.8947368421052632, 0.8879120879120879)\n"
     ]
    }
   ],
   "source": [
    "results = []\n",
    "for i in range(1,100):\n",
    "    value = i * 0.1\n",
    "    clf = SVC(kernel='linear', C=value)\n",
    "    clf.fit(X_train, y_train)\n",
    "    test_acc = clf.score(X_test, y_test)\n",
    "    train_acc = clf.score(X_train, y_train)\n",
    "    results.append((value, test_acc, train_acc))\n",
    "    \n",
    "results.sort(key=lambda x: x[2])\n",
    "print(results[-1])"
   ]
  },
  {
   "cell_type": "markdown",
   "id": "eee3417f",
   "metadata": {},
   "source": [
    "#### Вывод: отличие между моделями минимальное."
   ]
  }
 ],
 "metadata": {
  "kernelspec": {
   "display_name": "Python 3",
   "language": "python",
   "name": "python3"
  },
  "language_info": {
   "codemirror_mode": {
    "name": "ipython",
    "version": 3
   },
   "file_extension": ".py",
   "mimetype": "text/x-python",
   "name": "python",
   "nbconvert_exporter": "python",
   "pygments_lexer": "ipython3",
   "version": "3.8.8"
  }
 },
 "nbformat": 4,
 "nbformat_minor": 5
}
