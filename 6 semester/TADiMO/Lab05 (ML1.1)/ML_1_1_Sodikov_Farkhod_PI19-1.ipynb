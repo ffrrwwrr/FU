{
 "cells": [
  {
   "cell_type": "markdown",
   "id": "a4964540",
   "metadata": {},
   "source": [
    "# Содиков Фарход, ПИ19-1, Парная линейная регрессия."
   ]
  },
  {
   "cell_type": "code",
   "execution_count": 1,
   "id": "8cea313a",
   "metadata": {},
   "outputs": [],
   "source": [
    "import random\n",
    "import numpy as np\n",
    "import pandas as pd\n",
    "import matplotlib.pyplot as plt\n",
    "from typing import Tuple, List, Union\n",
    "from abc import ABCMeta\n",
    "from sklearn.linear_model import SGDRegressor\n",
    "from sklearn.pipeline import make_pipeline\n",
    "from sklearn.preprocessing import StandardScaler\n"
   ]
  },
  {
   "cell_type": "code",
   "execution_count": 2,
   "id": "dd110f3d",
   "metadata": {},
   "outputs": [],
   "source": [
    "mgnt = pd.read_csv(\"./data/MGNT_101001_171001.txt\")\n",
    "gazp = pd.read_csv(\"./data/GAZP_101001_171001.txt\")\n",
    "usdRub = pd.read_csv(\"./data/USDRUB_101001_171001.txt\")\n"
   ]
  },
  {
   "cell_type": "code",
   "execution_count": 3,
   "id": "3dafef29",
   "metadata": {},
   "outputs": [
    {
     "data": {
      "text/html": [
       "<div>\n",
       "<style scoped>\n",
       "    .dataframe tbody tr th:only-of-type {\n",
       "        vertical-align: middle;\n",
       "    }\n",
       "\n",
       "    .dataframe tbody tr th {\n",
       "        vertical-align: top;\n",
       "    }\n",
       "\n",
       "    .dataframe thead th {\n",
       "        text-align: right;\n",
       "    }\n",
       "</style>\n",
       "<table border=\"1\" class=\"dataframe\">\n",
       "  <thead>\n",
       "    <tr style=\"text-align: right;\">\n",
       "      <th></th>\n",
       "      <th>&lt;TICKER&gt;</th>\n",
       "      <th>&lt;PER&gt;</th>\n",
       "      <th>&lt;DATE&gt;</th>\n",
       "      <th>&lt;TIME&gt;</th>\n",
       "      <th>&lt;CLOSE&gt;</th>\n",
       "      <th>&lt;VOL&gt;</th>\n",
       "    </tr>\n",
       "  </thead>\n",
       "  <tbody>\n",
       "    <tr>\n",
       "      <th>0</th>\n",
       "      <td>MGNT</td>\n",
       "      <td>D</td>\n",
       "      <td>20101001</td>\n",
       "      <td>0</td>\n",
       "      <td>3800.00</td>\n",
       "      <td>12669</td>\n",
       "    </tr>\n",
       "    <tr>\n",
       "      <th>1</th>\n",
       "      <td>MGNT</td>\n",
       "      <td>D</td>\n",
       "      <td>20101004</td>\n",
       "      <td>0</td>\n",
       "      <td>3746.97</td>\n",
       "      <td>3899</td>\n",
       "    </tr>\n",
       "    <tr>\n",
       "      <th>2</th>\n",
       "      <td>MGNT</td>\n",
       "      <td>D</td>\n",
       "      <td>20101005</td>\n",
       "      <td>0</td>\n",
       "      <td>3669.99</td>\n",
       "      <td>22660</td>\n",
       "    </tr>\n",
       "    <tr>\n",
       "      <th>3</th>\n",
       "      <td>MGNT</td>\n",
       "      <td>D</td>\n",
       "      <td>20101006</td>\n",
       "      <td>0</td>\n",
       "      <td>3664.87</td>\n",
       "      <td>1302</td>\n",
       "    </tr>\n",
       "    <tr>\n",
       "      <th>4</th>\n",
       "      <td>MGNT</td>\n",
       "      <td>D</td>\n",
       "      <td>20101007</td>\n",
       "      <td>0</td>\n",
       "      <td>3611.27</td>\n",
       "      <td>7101</td>\n",
       "    </tr>\n",
       "  </tbody>\n",
       "</table>\n",
       "</div>"
      ],
      "text/plain": [
       "  <TICKER> <PER>    <DATE>  <TIME>  <CLOSE>  <VOL>\n",
       "0     MGNT     D  20101001       0  3800.00  12669\n",
       "1     MGNT     D  20101004       0  3746.97   3899\n",
       "2     MGNT     D  20101005       0  3669.99  22660\n",
       "3     MGNT     D  20101006       0  3664.87   1302\n",
       "4     MGNT     D  20101007       0  3611.27   7101"
      ]
     },
     "execution_count": 3,
     "metadata": {},
     "output_type": "execute_result"
    }
   ],
   "source": [
    "mgnt.head()"
   ]
  },
  {
   "cell_type": "code",
   "execution_count": 4,
   "id": "fbf07c44",
   "metadata": {},
   "outputs": [
    {
     "data": {
      "text/html": [
       "<div>\n",
       "<style scoped>\n",
       "    .dataframe tbody tr th:only-of-type {\n",
       "        vertical-align: middle;\n",
       "    }\n",
       "\n",
       "    .dataframe tbody tr th {\n",
       "        vertical-align: top;\n",
       "    }\n",
       "\n",
       "    .dataframe thead th {\n",
       "        text-align: right;\n",
       "    }\n",
       "</style>\n",
       "<table border=\"1\" class=\"dataframe\">\n",
       "  <thead>\n",
       "    <tr style=\"text-align: right;\">\n",
       "      <th></th>\n",
       "      <th>&lt;TICKER&gt;</th>\n",
       "      <th>&lt;PER&gt;</th>\n",
       "      <th>&lt;DATE&gt;</th>\n",
       "      <th>&lt;TIME&gt;</th>\n",
       "      <th>&lt;CLOSE&gt;</th>\n",
       "      <th>&lt;VOL&gt;</th>\n",
       "    </tr>\n",
       "  </thead>\n",
       "  <tbody>\n",
       "    <tr>\n",
       "      <th>0</th>\n",
       "      <td>GAZP</td>\n",
       "      <td>D</td>\n",
       "      <td>20101001</td>\n",
       "      <td>0</td>\n",
       "      <td>160.54</td>\n",
       "      <td>60923751</td>\n",
       "    </tr>\n",
       "    <tr>\n",
       "      <th>1</th>\n",
       "      <td>GAZP</td>\n",
       "      <td>D</td>\n",
       "      <td>20101004</td>\n",
       "      <td>0</td>\n",
       "      <td>161.99</td>\n",
       "      <td>61902787</td>\n",
       "    </tr>\n",
       "    <tr>\n",
       "      <th>2</th>\n",
       "      <td>GAZP</td>\n",
       "      <td>D</td>\n",
       "      <td>20101005</td>\n",
       "      <td>0</td>\n",
       "      <td>162.44</td>\n",
       "      <td>61546943</td>\n",
       "    </tr>\n",
       "    <tr>\n",
       "      <th>3</th>\n",
       "      <td>GAZP</td>\n",
       "      <td>D</td>\n",
       "      <td>20101006</td>\n",
       "      <td>0</td>\n",
       "      <td>163.00</td>\n",
       "      <td>67921495</td>\n",
       "    </tr>\n",
       "    <tr>\n",
       "      <th>4</th>\n",
       "      <td>GAZP</td>\n",
       "      <td>D</td>\n",
       "      <td>20101007</td>\n",
       "      <td>0</td>\n",
       "      <td>162.49</td>\n",
       "      <td>43529081</td>\n",
       "    </tr>\n",
       "  </tbody>\n",
       "</table>\n",
       "</div>"
      ],
      "text/plain": [
       "  <TICKER> <PER>    <DATE>  <TIME>  <CLOSE>     <VOL>\n",
       "0     GAZP     D  20101001       0   160.54  60923751\n",
       "1     GAZP     D  20101004       0   161.99  61902787\n",
       "2     GAZP     D  20101005       0   162.44  61546943\n",
       "3     GAZP     D  20101006       0   163.00  67921495\n",
       "4     GAZP     D  20101007       0   162.49  43529081"
      ]
     },
     "execution_count": 4,
     "metadata": {},
     "output_type": "execute_result"
    }
   ],
   "source": [
    "gazp.head()"
   ]
  },
  {
   "cell_type": "code",
   "execution_count": 5,
   "id": "19c8b185",
   "metadata": {},
   "outputs": [
    {
     "data": {
      "text/html": [
       "<div>\n",
       "<style scoped>\n",
       "    .dataframe tbody tr th:only-of-type {\n",
       "        vertical-align: middle;\n",
       "    }\n",
       "\n",
       "    .dataframe tbody tr th {\n",
       "        vertical-align: top;\n",
       "    }\n",
       "\n",
       "    .dataframe thead th {\n",
       "        text-align: right;\n",
       "    }\n",
       "</style>\n",
       "<table border=\"1\" class=\"dataframe\">\n",
       "  <thead>\n",
       "    <tr style=\"text-align: right;\">\n",
       "      <th></th>\n",
       "      <th>&lt;TICKER&gt;</th>\n",
       "      <th>&lt;PER&gt;</th>\n",
       "      <th>&lt;DATE&gt;</th>\n",
       "      <th>&lt;TIME&gt;</th>\n",
       "      <th>&lt;CLOSE&gt;</th>\n",
       "      <th>&lt;VOL&gt;</th>\n",
       "    </tr>\n",
       "  </thead>\n",
       "  <tbody>\n",
       "    <tr>\n",
       "      <th>0</th>\n",
       "      <td>USDRUB</td>\n",
       "      <td>D</td>\n",
       "      <td>20101001</td>\n",
       "      <td>0</td>\n",
       "      <td>30.47</td>\n",
       "      <td>0</td>\n",
       "    </tr>\n",
       "    <tr>\n",
       "      <th>1</th>\n",
       "      <td>USDRUB</td>\n",
       "      <td>D</td>\n",
       "      <td>20101002</td>\n",
       "      <td>0</td>\n",
       "      <td>30.41</td>\n",
       "      <td>0</td>\n",
       "    </tr>\n",
       "    <tr>\n",
       "      <th>2</th>\n",
       "      <td>USDRUB</td>\n",
       "      <td>D</td>\n",
       "      <td>20101004</td>\n",
       "      <td>0</td>\n",
       "      <td>30.45</td>\n",
       "      <td>0</td>\n",
       "    </tr>\n",
       "    <tr>\n",
       "      <th>3</th>\n",
       "      <td>USDRUB</td>\n",
       "      <td>D</td>\n",
       "      <td>20101005</td>\n",
       "      <td>0</td>\n",
       "      <td>30.02</td>\n",
       "      <td>0</td>\n",
       "    </tr>\n",
       "    <tr>\n",
       "      <th>4</th>\n",
       "      <td>USDRUB</td>\n",
       "      <td>D</td>\n",
       "      <td>20101006</td>\n",
       "      <td>0</td>\n",
       "      <td>29.78</td>\n",
       "      <td>0</td>\n",
       "    </tr>\n",
       "  </tbody>\n",
       "</table>\n",
       "</div>"
      ],
      "text/plain": [
       "  <TICKER> <PER>    <DATE>  <TIME>  <CLOSE>  <VOL>\n",
       "0   USDRUB     D  20101001       0    30.47      0\n",
       "1   USDRUB     D  20101002       0    30.41      0\n",
       "2   USDRUB     D  20101004       0    30.45      0\n",
       "3   USDRUB     D  20101005       0    30.02      0\n",
       "4   USDRUB     D  20101006       0    29.78      0"
      ]
     },
     "execution_count": 5,
     "metadata": {},
     "output_type": "execute_result"
    }
   ],
   "source": [
    "usdRub.head()"
   ]
  },
  {
   "cell_type": "code",
   "execution_count": 6,
   "id": "9bb90ecc",
   "metadata": {},
   "outputs": [
    {
     "data": {
      "text/plain": [
       "<TICKER>    0\n",
       "<PER>       0\n",
       "<DATE>      0\n",
       "<TIME>      0\n",
       "<CLOSE>     0\n",
       "<VOL>       0\n",
       "dtype: int64"
      ]
     },
     "execution_count": 6,
     "metadata": {},
     "output_type": "execute_result"
    }
   ],
   "source": [
    "mgnt.isna().sum()"
   ]
  },
  {
   "cell_type": "code",
   "execution_count": 7,
   "id": "67f979bd",
   "metadata": {},
   "outputs": [
    {
     "data": {
      "text/plain": [
       "<TICKER>    0\n",
       "<PER>       0\n",
       "<DATE>      0\n",
       "<TIME>      0\n",
       "<CLOSE>     0\n",
       "<VOL>       0\n",
       "dtype: int64"
      ]
     },
     "execution_count": 7,
     "metadata": {},
     "output_type": "execute_result"
    }
   ],
   "source": [
    "gazp.isna().sum()"
   ]
  },
  {
   "cell_type": "code",
   "execution_count": 8,
   "id": "482fc79d",
   "metadata": {},
   "outputs": [
    {
     "data": {
      "text/plain": [
       "<TICKER>    0\n",
       "<PER>       0\n",
       "<DATE>      0\n",
       "<TIME>      0\n",
       "<CLOSE>     0\n",
       "<VOL>       0\n",
       "dtype: int64"
      ]
     },
     "execution_count": 8,
     "metadata": {},
     "output_type": "execute_result"
    }
   ],
   "source": [
    "usdRub.isna().sum()"
   ]
  },
  {
   "cell_type": "code",
   "execution_count": 9,
   "id": "91f90dc3",
   "metadata": {},
   "outputs": [],
   "source": [
    "data = mgnt.merge(gazp, on=\"<DATE>\").merge(usdRub, on=\"<DATE>\")"
   ]
  },
  {
   "cell_type": "code",
   "execution_count": 10,
   "id": "b0864833",
   "metadata": {},
   "outputs": [
    {
     "data": {
      "text/plain": [
       "(1757, 16)"
      ]
     },
     "execution_count": 10,
     "metadata": {},
     "output_type": "execute_result"
    }
   ],
   "source": [
    "data.shape"
   ]
  },
  {
   "cell_type": "code",
   "execution_count": 11,
   "id": "d903a63f",
   "metadata": {},
   "outputs": [
    {
     "data": {
      "text/html": [
       "<div>\n",
       "<style scoped>\n",
       "    .dataframe tbody tr th:only-of-type {\n",
       "        vertical-align: middle;\n",
       "    }\n",
       "\n",
       "    .dataframe tbody tr th {\n",
       "        vertical-align: top;\n",
       "    }\n",
       "\n",
       "    .dataframe thead th {\n",
       "        text-align: right;\n",
       "    }\n",
       "</style>\n",
       "<table border=\"1\" class=\"dataframe\">\n",
       "  <thead>\n",
       "    <tr style=\"text-align: right;\">\n",
       "      <th></th>\n",
       "      <th>&lt;TICKER&gt;_x</th>\n",
       "      <th>&lt;PER&gt;_x</th>\n",
       "      <th>&lt;DATE&gt;</th>\n",
       "      <th>&lt;TIME&gt;_x</th>\n",
       "      <th>&lt;CLOSE&gt;_x</th>\n",
       "      <th>&lt;VOL&gt;_x</th>\n",
       "      <th>&lt;TICKER&gt;_y</th>\n",
       "      <th>&lt;PER&gt;_y</th>\n",
       "      <th>&lt;TIME&gt;_y</th>\n",
       "      <th>&lt;CLOSE&gt;_y</th>\n",
       "      <th>&lt;VOL&gt;_y</th>\n",
       "      <th>&lt;TICKER&gt;</th>\n",
       "      <th>&lt;PER&gt;</th>\n",
       "      <th>&lt;TIME&gt;</th>\n",
       "      <th>&lt;CLOSE&gt;</th>\n",
       "      <th>&lt;VOL&gt;</th>\n",
       "    </tr>\n",
       "  </thead>\n",
       "  <tbody>\n",
       "    <tr>\n",
       "      <th>0</th>\n",
       "      <td>MGNT</td>\n",
       "      <td>D</td>\n",
       "      <td>20101001</td>\n",
       "      <td>0</td>\n",
       "      <td>3800.00</td>\n",
       "      <td>12669</td>\n",
       "      <td>GAZP</td>\n",
       "      <td>D</td>\n",
       "      <td>0</td>\n",
       "      <td>160.54</td>\n",
       "      <td>60923751</td>\n",
       "      <td>USDRUB</td>\n",
       "      <td>D</td>\n",
       "      <td>0</td>\n",
       "      <td>30.47</td>\n",
       "      <td>0</td>\n",
       "    </tr>\n",
       "    <tr>\n",
       "      <th>1</th>\n",
       "      <td>MGNT</td>\n",
       "      <td>D</td>\n",
       "      <td>20101004</td>\n",
       "      <td>0</td>\n",
       "      <td>3746.97</td>\n",
       "      <td>3899</td>\n",
       "      <td>GAZP</td>\n",
       "      <td>D</td>\n",
       "      <td>0</td>\n",
       "      <td>161.99</td>\n",
       "      <td>61902787</td>\n",
       "      <td>USDRUB</td>\n",
       "      <td>D</td>\n",
       "      <td>0</td>\n",
       "      <td>30.45</td>\n",
       "      <td>0</td>\n",
       "    </tr>\n",
       "    <tr>\n",
       "      <th>2</th>\n",
       "      <td>MGNT</td>\n",
       "      <td>D</td>\n",
       "      <td>20101005</td>\n",
       "      <td>0</td>\n",
       "      <td>3669.99</td>\n",
       "      <td>22660</td>\n",
       "      <td>GAZP</td>\n",
       "      <td>D</td>\n",
       "      <td>0</td>\n",
       "      <td>162.44</td>\n",
       "      <td>61546943</td>\n",
       "      <td>USDRUB</td>\n",
       "      <td>D</td>\n",
       "      <td>0</td>\n",
       "      <td>30.02</td>\n",
       "      <td>0</td>\n",
       "    </tr>\n",
       "    <tr>\n",
       "      <th>3</th>\n",
       "      <td>MGNT</td>\n",
       "      <td>D</td>\n",
       "      <td>20101006</td>\n",
       "      <td>0</td>\n",
       "      <td>3664.87</td>\n",
       "      <td>1302</td>\n",
       "      <td>GAZP</td>\n",
       "      <td>D</td>\n",
       "      <td>0</td>\n",
       "      <td>163.00</td>\n",
       "      <td>67921495</td>\n",
       "      <td>USDRUB</td>\n",
       "      <td>D</td>\n",
       "      <td>0</td>\n",
       "      <td>29.78</td>\n",
       "      <td>0</td>\n",
       "    </tr>\n",
       "    <tr>\n",
       "      <th>4</th>\n",
       "      <td>MGNT</td>\n",
       "      <td>D</td>\n",
       "      <td>20101007</td>\n",
       "      <td>0</td>\n",
       "      <td>3611.27</td>\n",
       "      <td>7101</td>\n",
       "      <td>GAZP</td>\n",
       "      <td>D</td>\n",
       "      <td>0</td>\n",
       "      <td>162.49</td>\n",
       "      <td>43529081</td>\n",
       "      <td>USDRUB</td>\n",
       "      <td>D</td>\n",
       "      <td>0</td>\n",
       "      <td>29.79</td>\n",
       "      <td>0</td>\n",
       "    </tr>\n",
       "  </tbody>\n",
       "</table>\n",
       "</div>"
      ],
      "text/plain": [
       "  <TICKER>_x <PER>_x    <DATE>  <TIME>_x  <CLOSE>_x  <VOL>_x <TICKER>_y  \\\n",
       "0       MGNT       D  20101001         0    3800.00    12669       GAZP   \n",
       "1       MGNT       D  20101004         0    3746.97     3899       GAZP   \n",
       "2       MGNT       D  20101005         0    3669.99    22660       GAZP   \n",
       "3       MGNT       D  20101006         0    3664.87     1302       GAZP   \n",
       "4       MGNT       D  20101007         0    3611.27     7101       GAZP   \n",
       "\n",
       "  <PER>_y  <TIME>_y  <CLOSE>_y   <VOL>_y <TICKER> <PER>  <TIME>  <CLOSE>  \\\n",
       "0       D         0     160.54  60923751   USDRUB     D       0    30.47   \n",
       "1       D         0     161.99  61902787   USDRUB     D       0    30.45   \n",
       "2       D         0     162.44  61546943   USDRUB     D       0    30.02   \n",
       "3       D         0     163.00  67921495   USDRUB     D       0    29.78   \n",
       "4       D         0     162.49  43529081   USDRUB     D       0    29.79   \n",
       "\n",
       "   <VOL>  \n",
       "0      0  \n",
       "1      0  \n",
       "2      0  \n",
       "3      0  \n",
       "4      0  "
      ]
     },
     "execution_count": 11,
     "metadata": {},
     "output_type": "execute_result"
    }
   ],
   "source": [
    "data.head()"
   ]
  },
  {
   "cell_type": "code",
   "execution_count": 12,
   "id": "072d862a",
   "metadata": {},
   "outputs": [],
   "source": [
    "Y_mgnt = data[\"<CLOSE>_x\"]\n",
    "Y_gazp = data[\"<CLOSE>_y\"]\n",
    "Y_usdRub = data[\"<CLOSE>_y\"]"
   ]
  },
  {
   "cell_type": "code",
   "execution_count": 13,
   "id": "232f8356",
   "metadata": {},
   "outputs": [],
   "source": [
    "X_mgnt = mgnt.drop(\"<CLOSE>\", axis=1)\n",
    "X_gazp = gazp.drop(\"<CLOSE>\", axis=1)\n",
    "X_usdRub = usdRub.drop(\"<CLOSE>\", axis=1)"
   ]
  },
  {
   "cell_type": "code",
   "execution_count": 14,
   "id": "cc4fc041",
   "metadata": {},
   "outputs": [
    {
     "data": {
      "text/html": [
       "<div>\n",
       "<style scoped>\n",
       "    .dataframe tbody tr th:only-of-type {\n",
       "        vertical-align: middle;\n",
       "    }\n",
       "\n",
       "    .dataframe tbody tr th {\n",
       "        vertical-align: top;\n",
       "    }\n",
       "\n",
       "    .dataframe thead th {\n",
       "        text-align: right;\n",
       "    }\n",
       "</style>\n",
       "<table border=\"1\" class=\"dataframe\">\n",
       "  <thead>\n",
       "    <tr style=\"text-align: right;\">\n",
       "      <th></th>\n",
       "      <th>&lt;TICKER&gt;</th>\n",
       "      <th>&lt;PER&gt;</th>\n",
       "      <th>&lt;DATE&gt;</th>\n",
       "      <th>&lt;TIME&gt;</th>\n",
       "      <th>&lt;VOL&gt;</th>\n",
       "    </tr>\n",
       "  </thead>\n",
       "  <tbody>\n",
       "    <tr>\n",
       "      <th>0</th>\n",
       "      <td>MGNT</td>\n",
       "      <td>D</td>\n",
       "      <td>20101001</td>\n",
       "      <td>0</td>\n",
       "      <td>12669</td>\n",
       "    </tr>\n",
       "    <tr>\n",
       "      <th>1</th>\n",
       "      <td>MGNT</td>\n",
       "      <td>D</td>\n",
       "      <td>20101004</td>\n",
       "      <td>0</td>\n",
       "      <td>3899</td>\n",
       "    </tr>\n",
       "    <tr>\n",
       "      <th>2</th>\n",
       "      <td>MGNT</td>\n",
       "      <td>D</td>\n",
       "      <td>20101005</td>\n",
       "      <td>0</td>\n",
       "      <td>22660</td>\n",
       "    </tr>\n",
       "    <tr>\n",
       "      <th>3</th>\n",
       "      <td>MGNT</td>\n",
       "      <td>D</td>\n",
       "      <td>20101006</td>\n",
       "      <td>0</td>\n",
       "      <td>1302</td>\n",
       "    </tr>\n",
       "    <tr>\n",
       "      <th>4</th>\n",
       "      <td>MGNT</td>\n",
       "      <td>D</td>\n",
       "      <td>20101007</td>\n",
       "      <td>0</td>\n",
       "      <td>7101</td>\n",
       "    </tr>\n",
       "  </tbody>\n",
       "</table>\n",
       "</div>"
      ],
      "text/plain": [
       "  <TICKER> <PER>    <DATE>  <TIME>  <VOL>\n",
       "0     MGNT     D  20101001       0  12669\n",
       "1     MGNT     D  20101004       0   3899\n",
       "2     MGNT     D  20101005       0  22660\n",
       "3     MGNT     D  20101006       0   1302\n",
       "4     MGNT     D  20101007       0   7101"
      ]
     },
     "execution_count": 14,
     "metadata": {},
     "output_type": "execute_result"
    }
   ],
   "source": [
    "X_mgnt.head()\n",
    "# X_gazp.head()"
   ]
  },
  {
   "cell_type": "code",
   "execution_count": 15,
   "id": "ed2994a6",
   "metadata": {},
   "outputs": [],
   "source": [
    "class RegressionSample(metaclass=ABCMeta):\n",
    "    @staticmethod\n",
    "    def get_sample(X: pd.Series, y: pd.Series) -> Tuple[pd.Series, pd.Series]:\n",
    "        pass\n",
    "\n",
    "\n",
    "class RegressionRandomSample(RegressionSample):\n",
    "    @staticmethod\n",
    "    def get_sample(X: pd.Series, y: pd.Series) -> Tuple[pd.Series, pd.Series]:\n",
    "        f = random.randrange(0, len(X))\n",
    "        r = random.randrange(f, len(X))\n",
    "        return X[f:r], y[f:r]\n",
    "\n",
    "\n",
    "class Regression:\n",
    "    def __init__(self, sample: Union[RegressionSample, None] = None):\n",
    "        self.b0 = 0\n",
    "        self.b1 = 0\n",
    "        self.__max = 0\n",
    "        self.__min = 0\n",
    "        self.sample = sample\n",
    "\n",
    "    def predict(self, X: Union[np.ndarray, pd.Series]) -> Union[np.ndarray, pd.Series]:\n",
    "        return self.b0 + self.b1 * ((X - self.__min) / (self.__max - self.__min))\n",
    "\n",
    "    def error(self, X: pd.Series, y: pd.Series) -> int:\n",
    "        return sum((self.predict(X) - y) ** 2) / (2 * len(X))\n",
    "\n",
    "    def fit(self, X: pd.Series, y: pd.Series) -> Tuple[range, List[int]]:\n",
    "        if self.sample is not None:\n",
    "            X, y = self.sample.get_sample(X, y)\n",
    "        alpha = 0.1\n",
    "        errors, steps = [], range(898)\n",
    "        for step in steps:\n",
    "            self.__max = np.max(X)\n",
    "            self.__min = np.min(X)\n",
    "\n",
    "            dJ0 = sum(self.predict(X) - y) / len(X)\n",
    "            dJ1 = sum(\n",
    "                (self.predict(X) - y) * ((X - self.__min) / (self.__max - self.__min))\n",
    "            ) / len(X)\n",
    "\n",
    "            self.b0 = self.b0 - alpha * dJ0\n",
    "            self.b1 = self.b1 - alpha * dJ1\n",
    "\n",
    "            errors.append(self.error(X, y))\n",
    "\n",
    "            if step != 0 and errors[-2] < (errors[-1] - 2):\n",
    "                alpha = alpha * 0.1\n",
    "        return steps, errors"
   ]
  },
  {
   "cell_type": "markdown",
   "id": "af4bc137",
   "metadata": {},
   "source": [
    "# mgnt x gazp\n",
    "\n",
    "Используется случайный кусок данных для обучения RegressionRandomSample()"
   ]
  },
  {
   "cell_type": "code",
   "execution_count": 16,
   "id": "e7f11070",
   "metadata": {},
   "outputs": [
    {
     "data": {
      "text/plain": [
       "0       177.115375\n",
       "1       177.396986\n",
       "2       177.805783\n",
       "3       177.832972\n",
       "4       178.117611\n",
       "           ...    \n",
       "1752    143.712809\n",
       "1753    143.325148\n",
       "1754    143.718119\n",
       "1755    143.659704\n",
       "1756    143.739361\n",
       "Name: <CLOSE>_x, Length: 1757, dtype: float64"
      ]
     },
     "execution_count": 16,
     "metadata": {},
     "output_type": "execute_result"
    }
   ],
   "source": [
    "model = Regression(sample=RegressionRandomSample())\n",
    "steps, errors = model.fit(Y_mgnt, Y_gazp)\n",
    "model.predict(Y_mgnt)"
   ]
  },
  {
   "cell_type": "code",
   "execution_count": 17,
   "id": "9b9ac0c3",
   "metadata": {},
   "outputs": [
    {
     "data": {
      "image/png": "[encoded data removed]",
      "text/plain": [
       "<Figure size 432x288 with 1 Axes>"
      ]
     },
     "metadata": {
      "needs_background": "light"
     },
     "output_type": "display_data"
    }
   ],
   "source": [
    "X0 = np.linspace(60, 200, 100)\n",
    "Y0 = model.predict(X0)\n",
    "\n",
    "plt.figure()\n",
    "plt.scatter(Y_mgnt, Y_gazp)\n",
    "plt.plot(X0, Y0, \"r\")\n",
    "plt.show()"
   ]
  },
  {
   "cell_type": "code",
   "execution_count": 18,
   "id": "7ad1e77a",
   "metadata": {},
   "outputs": [
    {
     "name": "stdout",
     "output_type": "stream",
     "text": [
      "model.error(Y_mgnt, Y_gazp)=201.7438776438213\n"
     ]
    }
   ],
   "source": [
    "print(f\"{model.error(Y_mgnt, Y_gazp)=}\")"
   ]
  },
  {
   "cell_type": "code",
   "execution_count": 19,
   "id": "2e0b5e0e",
   "metadata": {},
   "outputs": [
    {
     "data": {
      "image/png": "[encoded data removed]",
      "text/plain": [
       "<Figure size 432x288 with 1 Axes>"
      ]
     },
     "metadata": {
      "needs_background": "light"
     },
     "output_type": "display_data"
    }
   ],
   "source": [
    "plt.figure()\n",
    "plt.plot(steps, errors, 'r')\n",
    "plt.show()"
   ]
  },
  {
   "cell_type": "markdown",
   "id": "0ed39484",
   "metadata": {},
   "source": [
    "# mgnt x usdRub\n",
    "\n",
    "Используется случайный кусок данных для обучения RegressionRandomSample()"
   ]
  },
  {
   "cell_type": "code",
   "execution_count": 20,
   "id": "535c6187",
   "metadata": {},
   "outputs": [
    {
     "data": {
      "text/plain": [
       "0       147.277576\n",
       "1       147.326179\n",
       "2       147.396732\n",
       "3       147.401424\n",
       "4       147.450549\n",
       "           ...    \n",
       "1752    141.512729\n",
       "1753    141.445824\n",
       "1754    141.513646\n",
       "1755    141.503564\n",
       "1756    141.517312\n",
       "Name: <CLOSE>_x, Length: 1757, dtype: float64"
      ]
     },
     "execution_count": 20,
     "metadata": {},
     "output_type": "execute_result"
    }
   ],
   "source": [
    "model = Regression(sample=RegressionRandomSample())\n",
    "steps, errors = model.fit(Y_mgnt, Y_usdRub)\n",
    "model.predict(Y_mgnt)"
   ]
  },
  {
   "cell_type": "code",
   "execution_count": 21,
   "id": "9cf1edab",
   "metadata": {},
   "outputs": [
    {
     "data": {
      "image/png": "[encoded data removed]",
      "text/plain": [
       "<Figure size 432x288 with 1 Axes>"
      ]
     },
     "metadata": {
      "needs_background": "light"
     },
     "output_type": "display_data"
    }
   ],
   "source": [
    "X0 = np.linspace(60, 200, 100)\n",
    "Y0 = model.predict(X0)\n",
    "\n",
    "plt.figure()\n",
    "plt.scatter(Y_mgnt, Y_usdRub)\n",
    "plt.plot(X0, Y0, \"r\")\n",
    "plt.show()"
   ]
  },
  {
   "cell_type": "code",
   "execution_count": 22,
   "id": "24d78ece",
   "metadata": {},
   "outputs": [
    {
     "name": "stdout",
     "output_type": "stream",
     "text": [
      "model.error(Y_mgnt, Y_gazp)=283.29922144404617\n"
     ]
    }
   ],
   "source": [
    "print(f\"{model.error(Y_mgnt, Y_gazp)=}\")"
   ]
  },
  {
   "cell_type": "code",
   "execution_count": 23,
   "id": "3da9d07a",
   "metadata": {},
   "outputs": [
    {
     "data": {
      "image/png": "[encoded data removed]",
      "text/plain": [
       "<Figure size 432x288 with 1 Axes>"
      ]
     },
     "metadata": {
      "needs_background": "light"
     },
     "output_type": "display_data"
    }
   ],
   "source": [
    "plt.figure()\n",
    "plt.plot(steps, errors, color = 'r')\n",
    "plt.show()"
   ]
  },
  {
   "cell_type": "markdown",
   "id": "cebd5607",
   "metadata": {},
   "source": [
    "# sklearn"
   ]
  },
  {
   "cell_type": "code",
   "execution_count": 24,
   "id": "8ee249a6",
   "metadata": {},
   "outputs": [
    {
     "name": "stdout",
     "output_type": "stream",
     "text": [
      "[187.46854744 187.46142087 187.45920917 ... 187.65550928 187.65698374\n",
      " 187.6584582 ]\n"
     ]
    }
   ],
   "source": [
    "Y_mgnt_1 = data[\"<CLOSE>_x\"].values\n",
    "Y_gazp_1 = data[\"<CLOSE>_y\"].values\n",
    "reg = make_pipeline(StandardScaler(), SGDRegressor(max_iter=110, tol=1e-1))\n",
    "reg.fit(Y_mgnt_1.reshape(-1, 1), Y_gazp_1)\n",
    "answers = reg.predict(Y_gazp_1.reshape(-1, 1))\n",
    "print(answers)"
   ]
  }
 ],
 "metadata": {
  "kernelspec": {
   "display_name": "Python 3",
   "language": "python",
   "name": "python3"
  },
  "language_info": {
   "codemirror_mode": {
    "name": "ipython",
    "version": 3
   },
   "file_extension": ".py",
   "mimetype": "text/x-python",
   "name": "python",
   "nbconvert_exporter": "python",
   "pygments_lexer": "ipython3",
   "version": "3.9.7"
  }
 },
 "nbformat": 4,
 "nbformat_minor": 5
}
