{
 "cells": [
  {
   "cell_type": "markdown",
   "source": [
    "# Numpy"
   ],
   "metadata": {}
  },
  {
   "cell_type": "markdown",
   "source": [
    "Материалы:\n",
    "* Макрушин С.В. \"Лекция 1: Библиотека Numpy\"\n",
    "* https://numpy.org/doc/stable/user/index.html\n",
    "* https://numpy.org/doc/stable/reference/index.html\n",
    "* Уэс Маккини. Python и анализ данных"
   ],
   "metadata": {}
  },
  {
   "cell_type": "markdown",
   "source": [
    "## Задачи для совместного разбора"
   ],
   "metadata": {}
  },
  {
   "cell_type": "code",
   "execution_count": 19,
   "source": [
    "import numpy as np\r\n",
    "\r\n",
    "lst = [1,2,3,4,5,6,7,8]\r\n",
    "lst"
   ],
   "outputs": [
    {
     "output_type": "execute_result",
     "data": {
      "text/plain": [
       "[1, 2, 3, 4, 5, 6, 7, 8]"
      ]
     },
     "metadata": {},
     "execution_count": 19
    }
   ],
   "metadata": {}
  },
  {
   "cell_type": "code",
   "execution_count": 20,
   "source": [
    "[i**2 for i in lst]"
   ],
   "outputs": [
    {
     "output_type": "execute_result",
     "data": {
      "text/plain": [
       "[1, 4, 9, 16, 25, 36, 49, 64]"
      ]
     },
     "metadata": {},
     "execution_count": 20
    }
   ],
   "metadata": {}
  },
  {
   "cell_type": "code",
   "execution_count": 21,
   "source": [
    "arr = np.array(lst)\r\n",
    "arr ** 2"
   ],
   "outputs": [
    {
     "output_type": "execute_result",
     "data": {
      "text/plain": [
       "array([ 1,  4,  9, 16, 25, 36, 49, 64], dtype=int32)"
      ]
     },
     "metadata": {},
     "execution_count": 21
    }
   ],
   "metadata": {}
  },
  {
   "cell_type": "code",
   "execution_count": 22,
   "source": [
    "mask = arr < 4\r\n",
    "mask"
   ],
   "outputs": [
    {
     "output_type": "execute_result",
     "data": {
      "text/plain": [
       "array([ True,  True,  True, False, False, False, False, False])"
      ]
     },
     "metadata": {},
     "execution_count": 22
    }
   ],
   "metadata": {}
  },
  {
   "cell_type": "code",
   "execution_count": 23,
   "source": [
    "arr[mask]"
   ],
   "outputs": [
    {
     "output_type": "execute_result",
     "data": {
      "text/plain": [
       "array([1, 2, 3])"
      ]
     },
     "metadata": {},
     "execution_count": 23
    }
   ],
   "metadata": {}
  },
  {
   "cell_type": "code",
   "execution_count": 24,
   "source": [
    "arr = np.arange(20).reshape(5,4)\r\n",
    "arr"
   ],
   "outputs": [
    {
     "output_type": "execute_result",
     "data": {
      "text/plain": [
       "array([[ 0,  1,  2,  3],\n",
       "       [ 4,  5,  6,  7],\n",
       "       [ 8,  9, 10, 11],\n",
       "       [12, 13, 14, 15],\n",
       "       [16, 17, 18, 19]])"
      ]
     },
     "metadata": {},
     "execution_count": 24
    }
   ],
   "metadata": {}
  },
  {
   "cell_type": "code",
   "execution_count": 25,
   "source": [
    "arr[:3,]"
   ],
   "outputs": [
    {
     "output_type": "execute_result",
     "data": {
      "text/plain": [
       "array([[ 0,  1,  2,  3],\n",
       "       [ 4,  5,  6,  7],\n",
       "       [ 8,  9, 10, 11]])"
      ]
     },
     "metadata": {},
     "execution_count": 25
    }
   ],
   "metadata": {}
  },
  {
   "cell_type": "markdown",
   "source": [
    "1. Сгенерировать двухмерный массив `arr` размерности (4, 7), состоящий из случайных действительных чисел, равномерно распределенных в диапазоне от 0 до 20. Нормализовать значения массива с помощью преобразования вида  $𝑎𝑥+𝑏$  так, что после нормализации максимальный элемент масcива будет равен 1.0, минимальный 0.0"
   ],
   "metadata": {}
  },
  {
   "cell_type": "code",
   "execution_count": 26,
   "source": [
    "arr1 = np.random.uniform(0, 20, size=(4, 7))\r\n",
    "(arr1 - arr1.min()) / (arr1.max()- arr1.min())"
   ],
   "outputs": [
    {
     "output_type": "execute_result",
     "data": {
      "text/plain": [
       "array([[0.18784743, 0.3885215 , 0.53981732, 0.16776857, 0.14982726,\n",
       "        0.81885817, 0.97174737],\n",
       "       [0.80491661, 0.99012333, 0.42661524, 0.97583111, 0.68982954,\n",
       "        0.78274338, 0.24040235],\n",
       "       [0.33296943, 0.        , 0.53923526, 1.        , 0.52681047,\n",
       "        0.93468657, 0.47614626],\n",
       "       [0.68587674, 0.43903494, 0.37454642, 0.10824541, 0.31988197,\n",
       "        0.57006494, 0.53598996]])"
      ]
     },
     "metadata": {},
     "execution_count": 26
    }
   ],
   "metadata": {}
  },
  {
   "cell_type": "markdown",
   "source": [
    "2. Создать матрицу 8 на 10 из случайных целых (используя модуль `numpy.random`) чисел из диапозона от 0 до 10 и найти в ней строку (ее индекс и вывести саму строку), в которой сумма значений минимальна."
   ],
   "metadata": {}
  },
  {
   "cell_type": "code",
   "execution_count": 27,
   "source": [
    "arr2 = np.random.randint(0,10,size=(8,10))\r\n",
    "arr2"
   ],
   "outputs": [
    {
     "output_type": "execute_result",
     "data": {
      "text/plain": [
       "array([[1, 5, 9, 7, 7, 1, 9, 9, 2, 8],\n",
       "       [8, 2, 8, 8, 4, 1, 3, 2, 5, 7],\n",
       "       [5, 7, 2, 4, 0, 3, 8, 9, 6, 4],\n",
       "       [3, 5, 7, 0, 5, 4, 9, 0, 4, 3],\n",
       "       [1, 4, 0, 0, 0, 9, 9, 6, 9, 7],\n",
       "       [0, 2, 5, 9, 0, 8, 6, 5, 4, 8],\n",
       "       [6, 5, 7, 4, 1, 3, 8, 2, 0, 0],\n",
       "       [9, 6, 2, 2, 9, 8, 5, 4, 5, 6]])"
      ]
     },
     "metadata": {},
     "execution_count": 27
    }
   ],
   "metadata": {}
  },
  {
   "cell_type": "code",
   "execution_count": 28,
   "source": [
    "str_col = arr2.sum(axis=1)\r\n",
    "arr2[str_col == str_col.min()]"
   ],
   "outputs": [
    {
     "output_type": "execute_result",
     "data": {
      "text/plain": [
       "array([[6, 5, 7, 4, 1, 3, 8, 2, 0, 0]])"
      ]
     },
     "metadata": {},
     "execution_count": 28
    }
   ],
   "metadata": {}
  },
  {
   "cell_type": "markdown",
   "source": [
    "3. Найти евклидово расстояние между двумя одномерными векторами одинаковой размерности."
   ],
   "metadata": {}
  },
  {
   "cell_type": "code",
   "execution_count": 29,
   "source": [
    "arr31 = np.random.randint(0,10,size=(1,10))\r\n",
    "arr32 = np.random.randint(0,10,size=(1,10))\r\n",
    "print(f\"array 3.1:\\n{arr31}\\narray 3.2:\\n{arr32}\")\r\n",
    "\r\n",
    "formula = np.sqrt(((arr31 - arr32) ** 2).sum())\r\n",
    "print(f\"Answer:\\n{formula}\")"
   ],
   "outputs": [
    {
     "output_type": "stream",
     "name": "stdout",
     "text": [
      "array 3.1:\n",
      "[[8 4 0 2 5 6 9 9 1 0]]\n",
      "array 3.2:\n",
      "[[9 5 0 6 0 5 0 5 5 3]]\n",
      "Answer:\n",
      "12.884098726725126\n"
     ]
    }
   ],
   "metadata": {}
  },
  {
   "cell_type": "code",
   "execution_count": 30,
   "source": [
    "print(f\"Second method:\\n{np.linalg.norm(arr31-arr32)}\")"
   ],
   "outputs": [
    {
     "output_type": "stream",
     "name": "stdout",
     "text": [
      "Second method:\n",
      "12.884098726725126\n"
     ]
    }
   ],
   "metadata": {}
  },
  {
   "cell_type": "markdown",
   "source": [
    "4. Решить матричное уравнение `A*X*B=-C` - найти матрицу `X`. Где `A = [[-1, 2, 4], [-3, 1, 2], [-3, 0, 1]]`, `B=[[3, -1], [2, 1]]`, `C=[[7, 21], [11, 8], [8, 4]]`."
   ],
   "metadata": {}
  },
  {
   "cell_type": "code",
   "execution_count": 31,
   "source": [
    "# A * X * B = -C\n",
    "# X = \n",
    "a = np.array([[-1, 2, 4], [-3, 1, 2], [-3, 0, 1]])\n",
    "b = np.array([[3, -1], [2, 1]])\n",
    "c = np.array([[7, 21], [11, 8], [8, 4]])\n",
    "print(f\"a:\\n{a}\\nb:\\n{b}\\nc:\\n{c}\\n\")\n",
    "\n",
    "otvet = np.linalg.inv(a) @ (-c) @ np.linalg.inv(b)\n",
    "print(f\"Answer:\\n{otvet}\")"
   ],
   "outputs": [
    {
     "output_type": "stream",
     "name": "stdout",
     "text": [
      "a:\n",
      "[[-1  2  4]\n",
      " [-3  1  2]\n",
      " [-3  0  1]]\n",
      "b:\n",
      "[[ 3 -1]\n",
      " [ 2  1]]\n",
      "c:\n",
      "[[ 7 21]\n",
      " [11  8]\n",
      " [ 8  4]]\n",
      "\n",
      "Answer:\n",
      "[[ 1.00000000e+00  5.32907052e-16]\n",
      " [-2.00000000e+00  1.00000000e+00]\n",
      " [ 3.00000000e+00 -4.00000000e+00]]\n"
     ]
    }
   ],
   "metadata": {}
  },
  {
   "cell_type": "markdown",
   "source": [
    "## Лабораторная работа №1"
   ],
   "metadata": {}
  },
  {
   "cell_type": "markdown",
   "source": [
    "Замечание: при решении данных задач не подразумевается использования циклов или генераторов Python, если в задании не сказано обратного. Решение должно опираться на использования функционала библиотеки `numpy`."
   ],
   "metadata": {}
  },
  {
   "cell_type": "markdown",
   "source": [
    "1. Файл `minutes_n_ingredients.csv` содержит информацию об идентификаторе рецепта, времени его выполнения в минутах и количестве необходимых ингредиентов. Считайте данные из этого файла в виде массива `numpy` типа `int32`, используя `np.loadtxt`. Выведите на экран первые 5 строк массива."
   ],
   "metadata": {}
  },
  {
   "cell_type": "code",
   "execution_count": 5,
   "source": [
    "import numpy as np\n",
    "\n",
    "\n",
    "task01 = np.loadtxt('minutes_n_ingredients.csv', dtype = np.int32, delimiter = ',', skiprows = 1, max_rows = 5)\n",
    "print(f\"[Task 01] Answer:\\n\\nThe first 5 lines of the array:\\n{task01}\")"
   ],
   "outputs": [
    {
     "output_type": "stream",
     "name": "stdout",
     "text": [
      "[Task 01] Answer:\n",
      "\n",
      "The first 5 lines of the array:\n",
      "[[127244     60     16]\n",
      " [ 23891     25      7]\n",
      " [ 94746     10      6]\n",
      " [ 67660      5      6]\n",
      " [157911     60     14]]\n"
     ]
    }
   ],
   "metadata": {}
  },
  {
   "cell_type": "markdown",
   "source": [
    "2. Вычислите среднее значение, минимум, максимум и медиану по каждому из столбцов, кроме первого."
   ],
   "metadata": {}
  },
  {
   "cell_type": "code",
   "execution_count": 15,
   "source": [
    "task02 = np.loadtxt('minutes_n_ingredients.csv', dtype=np.int32, delimiter=',',skiprows=1,usecols=(1,2))\n",
    "print(\n",
    "    f\"[Task 02] Answer:\\n\\nMean: [{task02[:,0].mean()}, {task02[:,1].mean()}]\\nMinimum: {task02.min(axis=0)}\\nMaximum: {task02.max(axis=0)} \\nMedian: {np.median(task02, axis=0)}\"\n",
    "    )"
   ],
   "outputs": [
    {
     "output_type": "stream",
     "name": "stdout",
     "text": [
      "[Task 02] Answer:\n",
      "\n",
      "Mean: [21601.00169, 9.05528]\n",
      "Minimum: [0 1]\n",
      "Maximum: [2147483647         39] \n",
      "Median: [40.  9.]\n"
     ]
    }
   ],
   "metadata": {}
  },
  {
   "cell_type": "markdown",
   "source": [
    "3. Ограничьте сверху значения продолжительности выполнения рецепта значением квантиля $q_{0.75}$. "
   ],
   "metadata": {}
  },
  {
   "cell_type": "code",
   "execution_count": 20,
   "source": [
    "task03 = np.loadtxt('minutes_n_ingredients.csv', dtype = np.int32, delimiter=',', skiprows=1)\n",
    "forQ = np.loadtxt('minutes_n_ingredients.csv', dtype = np.int32, delimiter=',', skiprows=1, usecols=1)\n",
    "q = np.quantile(forQ, 0.75, axis=0)\n",
    "print(f\"[Task 03] Answer:\\n\\n{task03[forQ < q]}\")\n",
    "#print(q)"
   ],
   "outputs": [
    {
     "output_type": "stream",
     "name": "stdout",
     "text": [
      "[Task 03] Answer:\n",
      "\n",
      "[[127244     60     16]\n",
      " [ 23891     25      7]\n",
      " [ 94746     10      6]\n",
      " ...\n",
      " [371794     35      8]\n",
      " [ 43407     35      7]\n",
      " [370915      5      4]]\n"
     ]
    }
   ],
   "metadata": {}
  },
  {
   "cell_type": "markdown",
   "source": [
    "4. Посчитайте, для скольких рецептов указана продолжительность, равная нулю. Замените для таких строк значение в данном столбце на 1."
   ],
   "metadata": {}
  },
  {
   "cell_type": "code",
   "execution_count": 24,
   "source": [
    "task04 = np.loadtxt('minutes_n_ingredients.csv', dtype = np.int32, delimiter=',', skiprows=1)\n",
    "arrForZeroVal = np.loadtxt('minutes_n_ingredients.csv', dtype = np.int32, delimiter=',', skiprows=1, usecols=1)\n",
    "\n",
    "# np.place(arr, mask, vals)\n",
    "np.place(task04[:,1], task04[:,1]==0, 1)\n",
    "print(f\"[Task 04] Answer: {np.size(arrForZeroVal[arrForZeroVal==0])}\")"
   ],
   "outputs": [
    {
     "output_type": "stream",
     "name": "stdout",
     "text": [
      "[Task 04] Answer: 479\n"
     ]
    }
   ],
   "metadata": {}
  },
  {
   "cell_type": "markdown",
   "source": [
    "5. Посчитайте, сколько уникальных рецептов находится в датасете."
   ],
   "metadata": {}
  },
  {
   "cell_type": "code",
   "execution_count": 27,
   "source": [
    "task05 = np.loadtxt('minutes_n_ingredients.csv', dtype = np.int32, delimiter=',', skiprows=1, usecols=0)\n",
    "\n",
    "# np.unique(arr, , , , axis)\n",
    "print(f\"[Task 05] Answer: {np.size(np.unique(task05))}\")"
   ],
   "outputs": [
    {
     "output_type": "stream",
     "name": "stdout",
     "text": [
      "[Task 05] Answer: 100000\n"
     ]
    }
   ],
   "metadata": {}
  },
  {
   "cell_type": "markdown",
   "source": [
    "6. Сколько и каких различных значений кол-ва ингредиентов присутвует в рецептах из датасета?"
   ],
   "metadata": {}
  },
  {
   "cell_type": "code",
   "execution_count": 34,
   "source": [
    "task06 = np.loadtxt('minutes_n_ingredients.csv', dtype = np.int32, delimiter=',', skiprows=1, usecols=2)\n",
    "\n",
    "print(task06)\n",
    "print(f\"[Task 06] Answer: \\n\\nNumber of values: {np.size(np.unique(task06))}\\nAll different values of a variable: \\n{np.unique(task06)}\")"
   ],
   "outputs": [
    {
     "output_type": "stream",
     "name": "stdout",
     "text": [
      "[16  7  6 ... 15  4 14]\n",
      "[Task 06] Answer: \n",
      "\n",
      "Number of values: 37\n",
      "All different values of a variable: \n",
      "[ 1  2  3  4  5  6  7  8  9 10 11 12 13 14 15 16 17 18 19 20 21 22 23 24\n",
      " 25 26 27 28 29 30 31 32 33 34 35 37 39]\n"
     ]
    }
   ],
   "metadata": {}
  },
  {
   "cell_type": "markdown",
   "source": [
    "7. Создайте версию массива, содержащую информацию только о рецептах, состоящих не более чем из 5 ингредиентов."
   ],
   "metadata": {}
  },
  {
   "cell_type": "markdown",
   "source": [
    "8. Для каждого рецепта посчитайте, сколько в среднем ингредиентов приходится на одну минуту рецепта. Найдите максимальное значение этой величины для всего датасета"
   ],
   "metadata": {}
  },
  {
   "cell_type": "code",
   "execution_count": 67,
   "source": [
    "#array of minutes\n",
    "task08 = np.loadtxt('minutes_n_ingredients.csv', dtype = np.int32, delimiter=',', skiprows=1, usecols=1)\n",
    "\n",
    "np.place(task08, task08==0, 1)\n",
    "# answer=ingredients/minutes\n",
    "ans = task06/task08\n",
    "print(f\"[Task 08] Answer:\\n\\n{ans}\\nMax: {max(ans)}\")"
   ],
   "outputs": [
    {
     "output_type": "stream",
     "name": "stdout",
     "text": [
      "[Task 08] Answer:\n",
      "\n",
      "[0.26666667 0.28       0.6        ... 0.23076923 0.8        0.1       ]\n",
      "Max: 24.0\n"
     ]
    }
   ],
   "metadata": {}
  },
  {
   "cell_type": "code",
   "execution_count": 74,
   "source": [
    "# delete it\n",
    "x = np.array([1,1,0,2,0,5,3,8,2,4,0,9]).reshape(4,3)\n",
    "\n",
    "print(f\"{x}\\n\\n{x[~(x==0).any(1)]}\\n\\n{x[:,2]/x[:,1]}\")\n",
    "\n"
   ],
   "outputs": [
    {
     "output_type": "stream",
     "name": "stdout",
     "text": [
      "[[1 1 0]\n",
      " [2 0 5]\n",
      " [3 8 2]\n",
      " [4 0 9]]\n",
      "\n",
      "[[3 8 2]]\n",
      "\n",
      "[0.    inf 0.25  inf]\n"
     ]
    },
    {
     "output_type": "stream",
     "name": "stderr",
     "text": [
      "/var/folders/lf/d2lsgyp97ql5m98sdnhnmftm0000gn/T/ipykernel_832/3629250627.py:3: RuntimeWarning: divide by zero encountered in true_divide\n",
      "  print(f\"{x}\\n\\n{x[~(x==0).any(1)]}\\n\\n{x[:,2]/x[:,1]}\")\n"
     ]
    }
   ],
   "metadata": {}
  },
  {
   "cell_type": "markdown",
   "source": [
    "9. Вычислите среднее количество ингредиентов для топ-100 рецептов с наибольшей продолжительностью"
   ],
   "metadata": {}
  },
  {
   "cell_type": "markdown",
   "source": [
    "10. Выберите случайным образом и выведите информацию о 10 различных рецептах"
   ],
   "metadata": {}
  },
  {
   "cell_type": "markdown",
   "source": [
    "11. Выведите процент рецептов, кол-во ингредиентов в которых меньше среднего."
   ],
   "metadata": {}
  },
  {
   "cell_type": "markdown",
   "source": [
    "12. Назовем \"простым\" такой рецепт, длительность выполнения которого не больше 20 минут и кол-во ингредиентов в котором не больше 5. Создайте версию датасета с дополнительным столбцом, значениями которого являются 1, если рецепт простой, и 0 в противном случае."
   ],
   "metadata": {}
  },
  {
   "cell_type": "markdown",
   "source": [
    "13. Выведите процент \"простых\" рецептов в датасете"
   ],
   "metadata": {}
  },
  {
   "cell_type": "markdown",
   "source": [
    "14. Разделим рецепты на группы по следующему правилу. Назовем рецепты короткими, если их продолжительность составляет менее 10 минут; стандартными, если их продолжительность составляет более 10, но менее 20 минут; и длинными, если их продолжительность составляет не менее 20 минут. Создайте трехмерный массив, где нулевая ось отвечает за номер группы (короткий, стандартный или длинный рецепт), первая ось - за сам рецепт и вторая ось - за характеристики рецепта. Выберите максимальное количество рецептов из каждой группы таким образом, чтобы было возможно сформировать трехмерный массив. Выведите форму полученного массива."
   ],
   "metadata": {}
  },
  {
   "cell_type": "code",
   "execution_count": null,
   "source": [],
   "outputs": [],
   "metadata": {}
  }
 ],
 "metadata": {
  "kernelspec": {
   "name": "python3",
   "display_name": "Python 3.8.2 64-bit"
  },
  "language_info": {
   "codemirror_mode": {
    "name": "ipython",
    "version": 3
   },
   "file_extension": ".py",
   "mimetype": "text/x-python",
   "name": "python",
   "nbconvert_exporter": "python",
   "pygments_lexer": "ipython3",
   "version": "3.8.2"
  },
  "interpreter": {
   "hash": "31f2aee4e71d21fbe5cf8b01ff0e069b9275f58929596ceb00d14d90e3e16cd6"
  }
 },
 "nbformat": 4,
 "nbformat_minor": 4
}