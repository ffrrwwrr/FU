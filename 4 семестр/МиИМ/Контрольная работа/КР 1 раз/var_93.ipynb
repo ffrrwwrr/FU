{
 "cells": [
  {
   "cell_type": "markdown",
   "id": "steady-intelligence",
   "metadata": {},
   "source": [
    "# Вариант 93"
   ]
  },
  {
   "cell_type": "code",
   "execution_count": 2,
   "id": "suspended-gospel",
   "metadata": {
    "pycharm": {
     "name": "#%%\n"
    }
   },
   "outputs": [],
   "source": [
    "from functools import lru_cache\n",
    "\n",
    "import numpy as np\n",
    "\n",
    "\n",
    "def answer(*args):\n",
    "    res = \", \".join([str(i) for i in args])\n",
    "    return f\"Ответ: {res}\\n\""
   ]
  },
  {
   "cell_type": "code",
   "execution_count": 3,
   "id": "optical-sodium",
   "metadata": {},
   "outputs": [],
   "source": [
    "# === Функции для задания 1\n",
    "\n",
    "\n",
    "def first_transition_probability(matrix, k):\n",
    "    prev = np.copy(matrix)\n",
    "    for _ in range(k - 1):\n",
    "        prev = matrix_power_with_skip(matrix, prev)\n",
    "\n",
    "    return prev\n",
    "\n",
    "\n",
    "def last_transition_probability(matrix, k):\n",
    "    prev, res = np.copy(matrix), np.copy(matrix)\n",
    "    for t in range(k - 1):\n",
    "        prev = matrix_power_with_skip(matrix, prev)\n",
    "        res += prev\n",
    "\n",
    "    return res\n",
    "\n",
    "\n",
    "def avg_steps(matrix):\n",
    "    prev, res = np.copy(matrix), np.copy(matrix)\n",
    "    for t in range(500):\n",
    "        prev = matrix_power_with_skip(matrix, prev)\n",
    "        res += t * prev\n",
    "\n",
    "    return res\n",
    "\n",
    "\n",
    "def first_return_probability(matrix, k):\n",
    "    _matrix = np.copy(matrix)\n",
    "    p_jj = np.linalg.matrix_power\n",
    "\n",
    "    @lru_cache(maxsize=None)\n",
    "    def f_jj(_k):\n",
    "        return p_jj(_matrix, _k) - sum([f_jj(m) * p_jj(_matrix, _k - m) for m in range(1, _k)])\n",
    "\n",
    "    return np.diagonal(f_jj(k))\n",
    "\n",
    "\n",
    "def avg_time_return(matrix):\n",
    "    _matrix = np.copy(matrix)\n",
    "    p_jj = np.linalg.matrix_power\n",
    "    result = []\n",
    "\n",
    "    @lru_cache(maxsize=None)\n",
    "    def f_jj(_k):\n",
    "        res = p_jj(_matrix, _k) - sum([f_jj(m) * p_jj(_matrix, _k - m) for m in range(1, _k)])\n",
    "        result.append(_k * np.diagonal(res))\n",
    "        return res\n",
    "\n",
    "    f_jj(500)\n",
    "    return sum(result)\n",
    "\n",
    "\n",
    "def last_return_probability(matrix, k):\n",
    "    _matrix = np.copy(matrix)\n",
    "    p_jj = np.linalg.matrix_power\n",
    "    result = []\n",
    "\n",
    "    @lru_cache(maxsize=None)\n",
    "    def f_jj(_k):\n",
    "        res = p_jj(_matrix, _k) - sum([f_jj(m) * p_jj(_matrix, _k - m) for m in range(1, _k)])\n",
    "        result.append(np.diagonal(res))\n",
    "        return res\n",
    "\n",
    "    f_jj(k)\n",
    "    return sum(result)\n",
    "\n",
    "\n",
    "def steady_state_probabilities(matrix):\n",
    "    matrix_ = np.copy(matrix).transpose()\n",
    "    np.fill_diagonal(matrix_, np.diagonal(matrix_) - 1)\n",
    "    matrix_[-1, :] = 1\n",
    "\n",
    "    vec_b = np.zeros(len(matrix_))\n",
    "    vec_b[-1] = 1\n",
    "    return np.linalg.inv(matrix_).dot(vec_b)\n",
    "\n",
    "\n",
    "def matrix_power_with_skip(left, right):\n",
    "    range_ = range(len(left))\n",
    "    return np.array([[sum(left[i, m] * right[m, j] if m != j else 0 for m in range_) for j in range_] for i in range_])\n",
    "\n",
    "\n",
    "# ==============================================================================================\n",
    "\n",
    "# === Функции для задания 2\n",
    "\n",
    "\n",
    "def create_matrix(n, m, la, mu):\n",
    "    size = n + m + 1\n",
    "    matrix = np.zeros((size, size))\n",
    "    np.fill_diagonal(matrix[:, 1:], la)\n",
    "    np.fill_diagonal(matrix[1:, :], [*[i * mu for i in range(1, m)], *[m * mu for _ in range(n + 1)]])\n",
    "    return matrix\n",
    "\n",
    "\n",
    "def steady_state_probability(matrix):\n",
    "    size = len(matrix)\n",
    "    matrix_ = np.copy(matrix).transpose()\n",
    "    np.fill_diagonal(matrix_, [-sum(matrix_[:, i]) for i in range(size)])\n",
    "    matrix_[-1, :] = 1\n",
    "\n",
    "    vec_b = np.zeros(size)\n",
    "    vec_b[-1] = 1\n",
    "    return np.linalg.inv(matrix_).dot(vec_b)\n",
    "\n",
    "\n",
    "def failure_probability(s_state):\n",
    "    return s_state[-1]\n",
    "\n",
    "\n",
    "def relative_and_absolute_service_intensity(s_state, la):\n",
    "    relative = 1 - s_state[-1]\n",
    "    return relative, relative * la\n",
    "\n",
    "\n",
    "def average_queue_length(s_state, m, n):\n",
    "    return sum((i * s_state[m + i]) for i in range(1, n + 1))\n",
    "\n",
    "\n",
    "def average_queue_time(s_state, m, n, mu):\n",
    "    return sum(((i + 1) / (m * mu) * s_state[m + i]) for i in range(n))\n",
    "\n",
    "\n",
    "def average_number_busy_channels(s_state, m, n):\n",
    "    return (sum((i * s_state[i]) for i in range(1, m + 1)) +\n",
    "            sum((m * s_state[i]) for i in range(m + 1, m + n + 1)))\n",
    "\n",
    "\n",
    "def skip_queue_probability(s_state, m):\n",
    "    return sum(s_state[:m])\n",
    "\n",
    "\n",
    "def average_downtime(matrix):\n",
    "    return 1 / np.sum(matrix, axis=1)"
   ]
  },
  {
   "cell_type": "markdown",
   "id": "opposite-sunglasses",
   "metadata": {},
   "source": [
    "# Задание 1"
   ]
  },
  {
   "cell_type": "code",
   "execution_count": 4,
   "id": "green-cargo",
   "metadata": {},
   "outputs": [
    {
     "name": "stdout",
     "output_type": "stream",
     "text": [
      "Матрица переходов:\n",
      "[1. 1. 1. 1. 1. 1. 1. 1. 1. 1. 1. 1. 1. 1. 1. 1. 1.]\n",
      "[[0.2  0.   0.   0.   0.   0.43 0.37 0.   0.   0.   0.   0.   0.   0.\n",
      "  0.   0.   0.  ]\n",
      " [0.36 0.64 0.   0.   0.   0.   0.   0.   0.   0.   0.   0.   0.   0.\n",
      "  0.   0.   0.  ]\n",
      " [0.   0.08 0.12 0.53 0.   0.27 0.   0.   0.   0.   0.   0.   0.   0.\n",
      "  0.   0.   0.  ]\n",
      " [0.   0.   0.   0.53 0.   0.47 0.   0.   0.   0.   0.   0.   0.   0.\n",
      "  0.   0.   0.  ]\n",
      " [0.21 0.05 0.28 0.   0.11 0.1  0.   0.25 0.   0.   0.   0.   0.   0.\n",
      "  0.   0.   0.  ]\n",
      " [0.   0.26 0.4  0.   0.   0.13 0.   0.2  0.   0.01 0.   0.   0.   0.\n",
      "  0.   0.   0.  ]\n",
      " [0.   0.33 0.3  0.   0.   0.   0.14 0.   0.23 0.   0.   0.   0.   0.\n",
      "  0.   0.   0.  ]\n",
      " [0.   0.   0.   0.   0.   0.38 0.12 0.08 0.28 0.   0.   0.14 0.   0.\n",
      "  0.   0.   0.  ]\n",
      " [0.   0.   0.   0.   0.32 0.   0.   0.   0.08 0.   0.16 0.44 0.   0.\n",
      "  0.   0.   0.  ]\n",
      " [0.   0.   0.   0.   0.   0.46 0.   0.   0.01 0.06 0.   0.   0.47 0.\n",
      "  0.   0.   0.  ]\n",
      " [0.   0.   0.   0.   0.   0.   0.   0.   0.01 0.08 0.19 0.   0.   0.11\n",
      "  0.24 0.18 0.19]\n",
      " [0.   0.   0.   0.   0.   0.   0.   0.   0.47 0.   0.08 0.06 0.   0.\n",
      "  0.01 0.38 0.  ]\n",
      " [0.   0.   0.   0.   0.   0.   0.   0.18 0.05 0.   0.   0.16 0.08 0.28\n",
      "  0.04 0.   0.21]\n",
      " [0.   0.   0.   0.   0.   0.   0.   0.   0.   0.   0.   0.5  0.   0.36\n",
      "  0.14 0.   0.  ]\n",
      " [0.   0.   0.   0.   0.   0.   0.   0.   0.   0.   0.   0.   0.   0.81\n",
      "  0.19 0.   0.  ]\n",
      " [0.   0.   0.   0.   0.   0.   0.   0.   0.   0.   0.2  0.   0.05 0.\n",
      "  0.09 0.48 0.18]\n",
      " [0.   0.   0.   0.   0.   0.   0.   0.   0.   0.   0.34 0.45 0.05 0.\n",
      "  0.   0.11 0.05]] \n",
      "\n"
     ]
    }
   ],
   "source": [
    "transition_matrix = np.array([\n",
    "    [0.2, 0, 0, 0, 0, 0.43, 0.37, 0, 0, 0, 0, 0, 0, 0, 0, 0, 0],\n",
    "    [0.36, 0.64, 0, 0, 0, 0, 0, 0, 0, 0, 0, 0, 0, 0, 0, 0, 0],\n",
    "    [0, 0.08, 0.12, 0.53, 0, 0.27, 0, 0, 0, 0, 0, 0, 0, 0, 0, 0, 0],\n",
    "    [0, 0, 0, 0.53, 0, 0.47, 0, 0, 0, 0, 0, 0, 0, 0, 0, 0, 0],\n",
    "    [0.21, 0.05, 0.28, 0, 0.11, 0.1, 0, 0.25, 0, 0, 0, 0, 0, 0, 0, 0, 0],\n",
    "    [0, 0.26, 0.4, 0, 0, 0.13, 0, 0.2, 0, 0.01, 0, 0, 0, 0, 0, 0, 0],\n",
    "    [0, 0.33, 0.3, 0, 0, 0, 0.14, 0, 0.23, 0, 0, 0, 0, 0, 0, 0, 0],\n",
    "    [0, 0, 0, 0, 0, 0.38, 0.12, 0.08, 0.28, 0, 0, 0.14, 0, 0, 0, 0, 0],\n",
    "    [0, 0, 0, 0, 0.32, 0, 0, 0, 0.08, 0, 0.16, 0.44, 0, 0, 0, 0, 0],\n",
    "    [0, 0, 0, 0, 0, 0.46, 0, 0, 0.01, 0.06, 0, 0, 0.47, 0, 0, 0, 0],\n",
    "    [0, 0, 0, 0, 0, 0, 0, 0, 0.01, 0.08, 0.19, 0, 0, 0.11, 0.24, 0.18, 0.19],\n",
    "    [0, 0, 0, 0, 0, 0, 0, 0, 0.47, 0, 0.08, 0.06, 0, 0, 0.01, 0.38, 0],\n",
    "    [0, 0, 0, 0, 0, 0, 0, 0.18, 0.05, 0, 0, 0.16, 0.08, 0.28, 0.04, 0, 0.21],\n",
    "    [0, 0, 0, 0, 0, 0, 0, 0, 0, 0, 0, 0.5, 0, 0.36, 0.14, 0, 0],\n",
    "    [0, 0, 0, 0, 0, 0, 0, 0, 0, 0, 0, 0, 0, 0.81, 0.19, 0, 0],\n",
    "    [0, 0, 0, 0, 0, 0, 0, 0, 0, 0, 0.2, 0, 0.05, 0, 0.09, 0.48, 0.18],\n",
    "    [0, 0, 0, 0, 0, 0, 0, 0, 0, 0, 0.34, 0.45, 0.05, 0, 0, 0.11, 0.05],\n",
    "])\n",
    "\n",
    "print(\"Матрица переходов:\")\n",
    "print(transition_matrix.sum(axis=1))\n",
    "print(transition_matrix, \"\\n\")"
   ]
  },
  {
   "cell_type": "code",
   "execution_count": 5,
   "id": "heavy-payday",
   "metadata": {},
   "outputs": [
    {
     "name": "stdout",
     "output_type": "stream",
     "text": [
      "1. вероятность того, что за 8 шагов система перейдет из состояния 14 в состояние 9:\n",
      "Ответ: 0.08597085978784999\n",
      "\n"
     ]
    }
   ],
   "source": [
    "k, i, j = 8, 14, 9\n",
    "transition = np.linalg.matrix_power(transition_matrix, k)\n",
    "print(f\"1. вероятность того, что за {k} шагов система перейдет из состояния {i} в состояние {j}:\")\n",
    "print(answer(transition[i - 1, j - 1]))"
   ]
  },
  {
   "cell_type": "code",
   "execution_count": 7,
   "id": "continuing-incident",
   "metadata": {},
   "outputs": [
    {
     "name": "stdout",
     "output_type": "stream",
     "text": [
      "2. вероятности состояний системы спустя 10 шагов, если в начальный момент вероятность состояний были следующими A=[0.06 0.06 0.09 0.06 0.08 0.04 0.01 0.1  0.07 0.08 0.01 0.04 0.1  0.1\n",
      " 0.05 0.04 0.01]:\n",
      "Ответ: [0.06488613 0.13218863 0.07187925 0.08101751 0.02272939 0.1184391\n",
      " 0.03232777 0.03378946 0.06318813 0.00604779 0.05590455 0.08525054\n",
      " 0.00963479 0.06418773 0.03933339 0.08885996 0.03033588]\n",
      "\n"
     ]
    }
   ],
   "source": [
    "k = 10\n",
    "a_0 = np.array([0.06, 0.06, 0.09, 0.06, 0.08, 0.04, 0.01, 0.1, 0.07, 0.08, 0.01, 0.04, 0.1, 0.1, 0.05, 0.04, 0.01])\n",
    "state = a_0.dot(np.linalg.matrix_power(transition_matrix, k))\n",
    "print(f\"2. вероятности состояний системы спустя {k} шагов, если в начальный \"\n",
    "      f\"момент вероятность состояний были следующими A={a_0}:\")\n",
    "print(answer(state))"
   ]
  },
  {
   "cell_type": "code",
   "execution_count": 8,
   "id": "forbidden-medium",
   "metadata": {},
   "outputs": [
    {
     "name": "stdout",
     "output_type": "stream",
     "text": [
      "3. вероятность первого перехода за 8 шагов из состояния 6 в состояние 15:\n",
      "Ответ: 0.008560630642178001\n",
      "\n"
     ]
    }
   ],
   "source": [
    "k, i, j = 8, 6, 15\n",
    "first_transition = first_transition_probability(transition_matrix, k)\n",
    "print(f\"3. вероятность первого перехода за {k} шагов из состояния {i} в состояние {j}:\")\n",
    "print(answer(first_transition[i - 1, j - 1]))"
   ]
  },
  {
   "cell_type": "code",
   "execution_count": 9,
   "id": "falling-planet",
   "metadata": {},
   "outputs": [
    {
     "name": "stdout",
     "output_type": "stream",
     "text": [
      "4. вероятность перехода из состояния 10 в состояние 8 не позднее чем за 10 шагов:\n",
      "Ответ: 0.35324191100135643\n",
      "\n"
     ]
    }
   ],
   "source": [
    "k, i, j = 10, 10, 8\n",
    "last_transition = last_transition_probability(transition_matrix, k)\n",
    "print(f\"4. вероятность перехода из состояния {i} в состояние {j} не позднее чем за {k} шагов:\")\n",
    "print(answer(last_transition[i - 1, j - 1]))"
   ]
  },
  {
   "cell_type": "code",
   "execution_count": 10,
   "id": "sticky-extent",
   "metadata": {},
   "outputs": [
    {
     "name": "stdout",
     "output_type": "stream",
     "text": [
      "5. среднее количество шагов для перехода из состояния 8 в состояние 10:\n",
      "Ответ: 138.70862871717543\n",
      "\n"
     ]
    }
   ],
   "source": [
    "i, j = 8, 10\n",
    "avg_steps_number = avg_steps(transition_matrix)\n",
    "print(f\"5. среднее количество шагов для перехода из состояния {i} в состояние {j}:\")\n",
    "print(answer(avg_steps_number[i - 1, j - 1]))"
   ]
  },
  {
   "cell_type": "code",
   "execution_count": 11,
   "id": "moderate-armenia",
   "metadata": {},
   "outputs": [
    {
     "name": "stdout",
     "output_type": "stream",
     "text": [
      "6. вероятность первого возвращения в состояние 9 за 9 шагов:\n",
      "Ответ: 0.02994476964339407\n",
      "\n"
     ]
    }
   ],
   "source": [
    "k, i = 9, 9\n",
    "first_return = first_return_probability(transition_matrix, k)\n",
    "print(f\"6. вероятность первого возвращения в состояние {i} за {k} шагов:\")\n",
    "print(answer(first_return[i - 1]))"
   ]
  },
  {
   "cell_type": "code",
   "execution_count": 12,
   "id": "handmade-exchange",
   "metadata": {},
   "outputs": [
    {
     "name": "stdout",
     "output_type": "stream",
     "text": [
      "7. вероятность возвращения в состояние 14 не позднее чем за 9 шагов\n",
      "Ответ: 0.7038904138971471\n",
      "\n"
     ]
    }
   ],
   "source": [
    "k, i = 9, 14\n",
    "last_return = last_return_probability(transition_matrix, k)\n",
    "print(f\"7. вероятность возвращения в состояние {i} не позднее чем за {k} шагов\")\n",
    "print(answer(last_return[i - 1]))"
   ]
  },
  {
   "cell_type": "code",
   "execution_count": 13,
   "id": "disturbed-gazette",
   "metadata": {},
   "outputs": [
    {
     "name": "stdout",
     "output_type": "stream",
     "text": [
      "8. среднее время возвращения в состояние 5\n",
      "Ответ: 45.45008726953896\n",
      "\n"
     ]
    }
   ],
   "source": [
    "i = 5\n",
    "avg_time_to_return = avg_time_return(transition_matrix)\n",
    "print(f\"8. среднее время возвращения в состояние {i}\")\n",
    "print(answer(avg_time_to_return[i - 1]))"
   ]
  },
  {
   "cell_type": "code",
   "execution_count": 14,
   "id": "bottom-rescue",
   "metadata": {},
   "outputs": [
    {
     "name": "stdout",
     "output_type": "stream",
     "text": [
      "9. установившиеся вероятности:\n",
      "Ответ: [0.06944404 0.1414864  0.07538469 0.08500827 0.02200062 0.1243994\n",
      " 0.03472865 0.03476956 0.06118922 0.0057528  0.0520455  0.07988592\n",
      " 0.0089331  0.05856305 0.03611615 0.08231274 0.02797988]\n",
      "\n"
     ]
    }
   ],
   "source": [
    "steady_state = steady_state_probabilities(transition_matrix)\n",
    "print(\"9. установившиеся вероятности:\")\n",
    "print(answer(steady_state))"
   ]
  },
  {
   "cell_type": "markdown",
   "id": "static-luxury",
   "metadata": {},
   "source": [
    "## Задание 2"
   ]
  },
  {
   "cell_type": "code",
   "execution_count": 15,
   "id": "appointed-tours",
   "metadata": {},
   "outputs": [
    {
     "data": {
      "text/plain": [
       "array([[ 0., 18.,  0.,  0.,  0.,  0.,  0.,  0.,  0.,  0.,  0.,  0.,  0.,\n",
       "         0.,  0.,  0.,  0.,  0.,  0.,  0.,  0.,  0.,  0.,  0.,  0.,  0.],\n",
       "       [ 3.,  0., 18.,  0.,  0.,  0.,  0.,  0.,  0.,  0.,  0.,  0.,  0.,\n",
       "         0.,  0.,  0.,  0.,  0.,  0.,  0.,  0.,  0.,  0.,  0.,  0.,  0.],\n",
       "       [ 0.,  6.,  0., 18.,  0.,  0.,  0.,  0.,  0.,  0.,  0.,  0.,  0.,\n",
       "         0.,  0.,  0.,  0.,  0.,  0.,  0.,  0.,  0.,  0.,  0.,  0.,  0.],\n",
       "       [ 0.,  0.,  9.,  0., 18.,  0.,  0.,  0.,  0.,  0.,  0.,  0.,  0.,\n",
       "         0.,  0.,  0.,  0.,  0.,  0.,  0.,  0.,  0.,  0.,  0.,  0.,  0.],\n",
       "       [ 0.,  0.,  0., 12.,  0., 18.,  0.,  0.,  0.,  0.,  0.,  0.,  0.,\n",
       "         0.,  0.,  0.,  0.,  0.,  0.,  0.,  0.,  0.,  0.,  0.,  0.,  0.],\n",
       "       [ 0.,  0.,  0.,  0., 15.,  0., 18.,  0.,  0.,  0.,  0.,  0.,  0.,\n",
       "         0.,  0.,  0.,  0.,  0.,  0.,  0.,  0.,  0.,  0.,  0.,  0.,  0.],\n",
       "       [ 0.,  0.,  0.,  0.,  0., 18.,  0., 18.,  0.,  0.,  0.,  0.,  0.,\n",
       "         0.,  0.,  0.,  0.,  0.,  0.,  0.,  0.,  0.,  0.,  0.,  0.,  0.],\n",
       "       [ 0.,  0.,  0.,  0.,  0.,  0., 18.,  0., 18.,  0.,  0.,  0.,  0.,\n",
       "         0.,  0.,  0.,  0.,  0.,  0.,  0.,  0.,  0.,  0.,  0.,  0.,  0.],\n",
       "       [ 0.,  0.,  0.,  0.,  0.,  0.,  0., 18.,  0., 18.,  0.,  0.,  0.,\n",
       "         0.,  0.,  0.,  0.,  0.,  0.,  0.,  0.,  0.,  0.,  0.,  0.,  0.],\n",
       "       [ 0.,  0.,  0.,  0.,  0.,  0.,  0.,  0., 18.,  0., 18.,  0.,  0.,\n",
       "         0.,  0.,  0.,  0.,  0.,  0.,  0.,  0.,  0.,  0.,  0.,  0.,  0.],\n",
       "       [ 0.,  0.,  0.,  0.,  0.,  0.,  0.,  0.,  0., 18.,  0., 18.,  0.,\n",
       "         0.,  0.,  0.,  0.,  0.,  0.,  0.,  0.,  0.,  0.,  0.,  0.,  0.],\n",
       "       [ 0.,  0.,  0.,  0.,  0.,  0.,  0.,  0.,  0.,  0., 18.,  0., 18.,\n",
       "         0.,  0.,  0.,  0.,  0.,  0.,  0.,  0.,  0.,  0.,  0.,  0.,  0.],\n",
       "       [ 0.,  0.,  0.,  0.,  0.,  0.,  0.,  0.,  0.,  0.,  0., 18.,  0.,\n",
       "        18.,  0.,  0.,  0.,  0.,  0.,  0.,  0.,  0.,  0.,  0.,  0.,  0.],\n",
       "       [ 0.,  0.,  0.,  0.,  0.,  0.,  0.,  0.,  0.,  0.,  0.,  0., 18.,\n",
       "         0., 18.,  0.,  0.,  0.,  0.,  0.,  0.,  0.,  0.,  0.,  0.,  0.],\n",
       "       [ 0.,  0.,  0.,  0.,  0.,  0.,  0.,  0.,  0.,  0.,  0.,  0.,  0.,\n",
       "        18.,  0., 18.,  0.,  0.,  0.,  0.,  0.,  0.,  0.,  0.,  0.,  0.],\n",
       "       [ 0.,  0.,  0.,  0.,  0.,  0.,  0.,  0.,  0.,  0.,  0.,  0.,  0.,\n",
       "         0., 18.,  0., 18.,  0.,  0.,  0.,  0.,  0.,  0.,  0.,  0.,  0.],\n",
       "       [ 0.,  0.,  0.,  0.,  0.,  0.,  0.,  0.,  0.,  0.,  0.,  0.,  0.,\n",
       "         0.,  0., 18.,  0., 18.,  0.,  0.,  0.,  0.,  0.,  0.,  0.,  0.],\n",
       "       [ 0.,  0.,  0.,  0.,  0.,  0.,  0.,  0.,  0.,  0.,  0.,  0.,  0.,\n",
       "         0.,  0.,  0., 18.,  0., 18.,  0.,  0.,  0.,  0.,  0.,  0.,  0.],\n",
       "       [ 0.,  0.,  0.,  0.,  0.,  0.,  0.,  0.,  0.,  0.,  0.,  0.,  0.,\n",
       "         0.,  0.,  0.,  0., 18.,  0., 18.,  0.,  0.,  0.,  0.,  0.,  0.],\n",
       "       [ 0.,  0.,  0.,  0.,  0.,  0.,  0.,  0.,  0.,  0.,  0.,  0.,  0.,\n",
       "         0.,  0.,  0.,  0.,  0., 18.,  0., 18.,  0.,  0.,  0.,  0.,  0.],\n",
       "       [ 0.,  0.,  0.,  0.,  0.,  0.,  0.,  0.,  0.,  0.,  0.,  0.,  0.,\n",
       "         0.,  0.,  0.,  0.,  0.,  0., 18.,  0., 18.,  0.,  0.,  0.,  0.],\n",
       "       [ 0.,  0.,  0.,  0.,  0.,  0.,  0.,  0.,  0.,  0.,  0.,  0.,  0.,\n",
       "         0.,  0.,  0.,  0.,  0.,  0.,  0., 18.,  0., 18.,  0.,  0.,  0.],\n",
       "       [ 0.,  0.,  0.,  0.,  0.,  0.,  0.,  0.,  0.,  0.,  0.,  0.,  0.,\n",
       "         0.,  0.,  0.,  0.,  0.,  0.,  0.,  0., 18.,  0., 18.,  0.,  0.],\n",
       "       [ 0.,  0.,  0.,  0.,  0.,  0.,  0.,  0.,  0.,  0.,  0.,  0.,  0.,\n",
       "         0.,  0.,  0.,  0.,  0.,  0.,  0.,  0.,  0., 18.,  0., 18.,  0.],\n",
       "       [ 0.,  0.,  0.,  0.,  0.,  0.,  0.,  0.,  0.,  0.,  0.,  0.,  0.,\n",
       "         0.,  0.,  0.,  0.,  0.,  0.,  0.,  0.,  0.,  0., 18.,  0., 18.],\n",
       "       [ 0.,  0.,  0.,  0.,  0.,  0.,  0.,  0.,  0.,  0.,  0.,  0.,  0.,\n",
       "         0.,  0.,  0.,  0.,  0.,  0.,  0.,  0.,  0.,  0.,  0., 18.,  0.]])"
      ]
     },
     "execution_count": 15,
     "metadata": {},
     "output_type": "execute_result"
    }
   ],
   "source": [
    "la = 18\n",
    "m = 6\n",
    "mu = 3\n",
    "n = 19\n",
    "initial_matrix = create_matrix(n, m, la, mu)\n",
    "initial_matrix"
   ]
  },
  {
   "cell_type": "code",
   "execution_count": 16,
   "id": "crucial-guinea",
   "metadata": {},
   "outputs": [
    {
     "name": "stdout",
     "output_type": "stream",
     "text": [
      "a) Составьте граф марковского процесса, запишите систему уравнений Колмогорова и найдите установившиеся вероятности состояний:\n",
      "Ответ: [0.0006776  0.00406559 0.01219677 0.02439355 0.03659032 0.04390839\n",
      " 0.04390839 0.04390839 0.04390839 0.04390839 0.04390839 0.04390839\n",
      " 0.04390839 0.04390839 0.04390839 0.04390839 0.04390839 0.04390839\n",
      " 0.04390839 0.04390839 0.04390839 0.04390839 0.04390839 0.04390839\n",
      " 0.04390839 0.04390839]\n",
      "\n"
     ]
    }
   ],
   "source": [
    "steady_state = steady_state_probability(initial_matrix)\n",
    "print(\"a) Составьте граф марковского процесса, запишите систему уравнений Колмогорова и \"\n",
    "      \"найдите установившиеся вероятности состояний:\")\n",
    "print(answer(steady_state))"
   ]
  },
  {
   "cell_type": "code",
   "execution_count": 17,
   "id": "dutch-influence",
   "metadata": {},
   "outputs": [
    {
     "name": "stdout",
     "output_type": "stream",
     "text": [
      "b) Найдите вероятность отказа в обслуживании:\n",
      "Ответ: 0.043908388670551586\n",
      "\n"
     ]
    }
   ],
   "source": [
    "fail_probability = failure_probability(steady_state)\n",
    "print(\"b) Найдите вероятность отказа в обслуживании:\")\n",
    "print(answer(fail_probability))"
   ]
  },
  {
   "cell_type": "code",
   "execution_count": 18,
   "id": "downtown-conjunction",
   "metadata": {},
   "outputs": [
    {
     "name": "stdout",
     "output_type": "stream",
     "text": [
      "c) Найдите относительную и абсолютную интенсивность обслуживания:\n",
      "Ответ: 0.9560916113294484, 17.20964900393007\n",
      "\n"
     ]
    }
   ],
   "source": [
    "relative, absolute = relative_and_absolute_service_intensity(steady_state, la)\n",
    "print(\"c) Найдите относительную и абсолютную интенсивность обслуживания:\")\n",
    "print(answer(relative, absolute))"
   ]
  },
  {
   "cell_type": "code",
   "execution_count": 19,
   "id": "adaptive-appeal",
   "metadata": {},
   "outputs": [
    {
     "name": "stdout",
     "output_type": "stream",
     "text": [
      "d) Найдите среднюю длину в очереди:\n",
      "Ответ: 8.342593847404798\n",
      "\n"
     ]
    }
   ],
   "source": [
    "avg_queue_len = average_queue_length(steady_state, m, n)\n",
    "print(\"d) Найдите среднюю длину в очереди:\")\n",
    "print(answer(avg_queue_len))"
   ]
  },
  {
   "cell_type": "code",
   "execution_count": 20,
   "id": "municipal-disabled",
   "metadata": {},
   "outputs": [
    {
     "name": "stdout",
     "output_type": "stream",
     "text": [
      "e) Найдите среднее время в очереди:\n",
      "Ответ: 0.46347743596693325\n",
      "\n"
     ]
    }
   ],
   "source": [
    "avg_queue_time = average_queue_time(steady_state, m, n, mu)\n",
    "print(\"e) Найдите среднее время в очереди:\")\n",
    "print(answer(avg_queue_time))"
   ]
  },
  {
   "cell_type": "code",
   "execution_count": 21,
   "id": "periodic-order",
   "metadata": {},
   "outputs": [
    {
     "name": "stdout",
     "output_type": "stream",
     "text": [
      "f) Найдите среднее число занятых каналов:\n",
      "Ответ: 5.736549667976691\n",
      "\n"
     ]
    }
   ],
   "source": [
    "avg_number_channels = average_number_busy_channels(steady_state, m, n)\n",
    "print(\"f) Найдите среднее число занятых каналов:\")\n",
    "print(answer(avg_number_channels))"
   ]
  },
  {
   "cell_type": "code",
   "execution_count": 22,
   "id": "broad-yacht",
   "metadata": {},
   "outputs": [
    {
     "name": "stdout",
     "output_type": "stream",
     "text": [
      "g) Найдите вероятность того, что поступающая заявка не будет ждать в очереди:\n",
      "Ответ: 0.1218322265889687\n",
      "\n"
     ]
    }
   ],
   "source": [
    "skip_probability = skip_queue_probability(steady_state, m)\n",
    "print(\"g) Найдите вероятность того, что поступающая заявка не будет ждать в очереди:\")\n",
    "print(answer(skip_probability))"
   ]
  },
  {
   "cell_type": "code",
   "execution_count": 23,
   "id": "bearing-representative",
   "metadata": {
    "pycharm": {
     "name": "#%%\n"
    }
   },
   "outputs": [
    {
     "name": "stdout",
     "output_type": "stream",
     "text": [
      "h) Найти среднее время простоя системы массового обслуживания:\n",
      "Ответ: 0.05555555555555555\n",
      "\n"
     ]
    }
   ],
   "source": [
    "avg_downtime = average_downtime(initial_matrix)\n",
    "print(\"h) Найти среднее время простоя системы массового обслуживания:\")\n",
    "print(answer(avg_downtime[0]))"
   ]
  }
 ],
 "metadata": {
  "kernelspec": {
   "display_name": "Python 3",
   "language": "python",
   "name": "python3"
  },
  "language_info": {
   "codemirror_mode": {
    "name": "ipython",
    "version": 3
   },
   "file_extension": ".py",
   "mimetype": "text/x-python",
   "name": "python",
   "nbconvert_exporter": "python",
   "pygments_lexer": "ipython3",
   "version": "3.9.2"
  }
 },
 "nbformat": 4,
 "nbformat_minor": 5
}