{
 "cells": [
  {
   "cell_type": "markdown",
   "metadata": {},
   "source": [
    "# Множественная линейная регрессия на чистых данных"
   ]
  },
  {
   "cell_type": "markdown",
   "metadata": {},
   "source": [
    "### 1.Ваша задача - построить предиктивную модель предсказания целевой переменной в зависимости от значения нескольких факторов (признаков)."
   ]
  },
  {
   "cell_type": "markdown",
   "metadata": {},
   "source": [
    "### 2.Загрузите датасет отсюда. Вам понадобится два файла - отдельно с признаками (помечен x) и значениями целевой переменной (помечен y). Файлы не содержат заголовков столбцов и строк."
   ]
  },
  {
   "cell_type": "code",
   "execution_count": 53,
   "metadata": {},
   "outputs": [],
   "source": [
    "import numpy as np\n",
    "import pandas as pd\n",
    "import random\n",
    "import matplotlib.pyplot as plt\n",
    "from sklearn.linear_model import LinearRegression\n",
    "from sklearn.model_selection import train_test_split\n",
    "from sklearn.metrics import r2_score,mean_squared_error, mean_absolute_error"
   ]
  },
  {
   "cell_type": "code",
   "execution_count": 54,
   "metadata": {},
   "outputs": [],
   "source": [
    "x_dataset = pd.read_csv('11_x.csv',names=['x1','x2','x3','x4','x5'], header=None)\n",
    "y_dataset = pd.read_csv('11_y.csv', names = ['Y'], header=None)"
   ]
  },
  {
   "cell_type": "code",
   "execution_count": 55,
   "metadata": {},
   "outputs": [
    {
     "data": {
      "text/html": [
       "<div>\n",
       "<style scoped>\n",
       "    .dataframe tbody tr th:only-of-type {\n",
       "        vertical-align: middle;\n",
       "    }\n",
       "\n",
       "    .dataframe tbody tr th {\n",
       "        vertical-align: top;\n",
       "    }\n",
       "\n",
       "    .dataframe thead th {\n",
       "        text-align: right;\n",
       "    }\n",
       "</style>\n",
       "<table border=\"1\" class=\"dataframe\">\n",
       "  <thead>\n",
       "    <tr style=\"text-align: right;\">\n",
       "      <th></th>\n",
       "      <th>x1</th>\n",
       "      <th>x2</th>\n",
       "      <th>x3</th>\n",
       "      <th>x4</th>\n",
       "      <th>x5</th>\n",
       "    </tr>\n",
       "  </thead>\n",
       "  <tbody>\n",
       "    <tr>\n",
       "      <th>0</th>\n",
       "      <td>1.731478</td>\n",
       "      <td>0.922577</td>\n",
       "      <td>-0.592531</td>\n",
       "      <td>0.532038</td>\n",
       "      <td>0.877966</td>\n",
       "    </tr>\n",
       "    <tr>\n",
       "      <th>1</th>\n",
       "      <td>2.910753</td>\n",
       "      <td>0.383694</td>\n",
       "      <td>0.671234</td>\n",
       "      <td>-1.132598</td>\n",
       "      <td>0.018539</td>\n",
       "    </tr>\n",
       "    <tr>\n",
       "      <th>2</th>\n",
       "      <td>-1.325893</td>\n",
       "      <td>-0.912186</td>\n",
       "      <td>-0.785927</td>\n",
       "      <td>2.170114</td>\n",
       "      <td>-0.354614</td>\n",
       "    </tr>\n",
       "    <tr>\n",
       "      <th>3</th>\n",
       "      <td>-0.173810</td>\n",
       "      <td>-0.271111</td>\n",
       "      <td>-0.923934</td>\n",
       "      <td>2.011891</td>\n",
       "      <td>0.585330</td>\n",
       "    </tr>\n",
       "    <tr>\n",
       "      <th>4</th>\n",
       "      <td>0.021794</td>\n",
       "      <td>0.388413</td>\n",
       "      <td>-1.853401</td>\n",
       "      <td>0.519653</td>\n",
       "      <td>-0.666047</td>\n",
       "    </tr>\n",
       "  </tbody>\n",
       "</table>\n",
       "</div>"
      ],
      "text/plain": [
       "         x1        x2        x3        x4        x5\n",
       "0  1.731478  0.922577 -0.592531  0.532038  0.877966\n",
       "1  2.910753  0.383694  0.671234 -1.132598  0.018539\n",
       "2 -1.325893 -0.912186 -0.785927  2.170114 -0.354614\n",
       "3 -0.173810 -0.271111 -0.923934  2.011891  0.585330\n",
       "4  0.021794  0.388413 -1.853401  0.519653 -0.666047"
      ]
     },
     "execution_count": 55,
     "metadata": {},
     "output_type": "execute_result"
    }
   ],
   "source": [
    "x_dataset.head()"
   ]
  },
  {
   "cell_type": "code",
   "execution_count": 56,
   "metadata": {},
   "outputs": [
    {
     "data": {
      "text/plain": [
       "(66, 5)"
      ]
     },
     "execution_count": 56,
     "metadata": {},
     "output_type": "execute_result"
    }
   ],
   "source": [
    "x_dataset.shape"
   ]
  },
  {
   "cell_type": "code",
   "execution_count": 57,
   "metadata": {},
   "outputs": [
    {
     "data": {
      "text/html": [
       "<div>\n",
       "<style scoped>\n",
       "    .dataframe tbody tr th:only-of-type {\n",
       "        vertical-align: middle;\n",
       "    }\n",
       "\n",
       "    .dataframe tbody tr th {\n",
       "        vertical-align: top;\n",
       "    }\n",
       "\n",
       "    .dataframe thead th {\n",
       "        text-align: right;\n",
       "    }\n",
       "</style>\n",
       "<table border=\"1\" class=\"dataframe\">\n",
       "  <thead>\n",
       "    <tr style=\"text-align: right;\">\n",
       "      <th></th>\n",
       "      <th>Y</th>\n",
       "    </tr>\n",
       "  </thead>\n",
       "  <tbody>\n",
       "    <tr>\n",
       "      <th>0</th>\n",
       "      <td>51.868890</td>\n",
       "    </tr>\n",
       "    <tr>\n",
       "      <th>1</th>\n",
       "      <td>12.983466</td>\n",
       "    </tr>\n",
       "    <tr>\n",
       "      <th>2</th>\n",
       "      <td>-71.562804</td>\n",
       "    </tr>\n",
       "    <tr>\n",
       "      <th>3</th>\n",
       "      <td>-28.005868</td>\n",
       "    </tr>\n",
       "    <tr>\n",
       "      <th>4</th>\n",
       "      <td>27.881684</td>\n",
       "    </tr>\n",
       "  </tbody>\n",
       "</table>\n",
       "</div>"
      ],
      "text/plain": [
       "           Y\n",
       "0  51.868890\n",
       "1  12.983466\n",
       "2 -71.562804\n",
       "3 -28.005868\n",
       "4  27.881684"
      ]
     },
     "execution_count": 57,
     "metadata": {},
     "output_type": "execute_result"
    }
   ],
   "source": [
    "y_dataset.head()"
   ]
  },
  {
   "cell_type": "code",
   "execution_count": 58,
   "metadata": {},
   "outputs": [
    {
     "data": {
      "text/plain": [
       "(66, 1)"
      ]
     },
     "execution_count": 58,
     "metadata": {},
     "output_type": "execute_result"
    }
   ],
   "source": [
    "y_dataset.shape"
   ]
  },
  {
   "cell_type": "markdown",
   "metadata": {},
   "source": [
    "### 3.Сделайте количественное описание датасета: количество точек данных, признаков, статистику по каждому признаку."
   ]
  },
  {
   "cell_type": "code",
   "execution_count": 59,
   "metadata": {},
   "outputs": [
    {
     "data": {
      "text/plain": [
       "(66, 5)"
      ]
     },
     "execution_count": 59,
     "metadata": {},
     "output_type": "execute_result"
    }
   ],
   "source": [
    "x_dataset.shape"
   ]
  },
  {
   "cell_type": "code",
   "execution_count": 60,
   "metadata": {},
   "outputs": [
    {
     "data": {
      "text/plain": [
       "(66, 1)"
      ]
     },
     "execution_count": 60,
     "metadata": {},
     "output_type": "execute_result"
    }
   ],
   "source": [
    "y_dataset.shape"
   ]
  },
  {
   "cell_type": "markdown",
   "metadata": {},
   "source": [
    "#### Статистика по каждому признаку"
   ]
  },
  {
   "cell_type": "code",
   "execution_count": 61,
   "metadata": {},
   "outputs": [
    {
     "data": {
      "text/html": [
       "<div>\n",
       "<style scoped>\n",
       "    .dataframe tbody tr th:only-of-type {\n",
       "        vertical-align: middle;\n",
       "    }\n",
       "\n",
       "    .dataframe tbody tr th {\n",
       "        vertical-align: top;\n",
       "    }\n",
       "\n",
       "    .dataframe thead th {\n",
       "        text-align: right;\n",
       "    }\n",
       "</style>\n",
       "<table border=\"1\" class=\"dataframe\">\n",
       "  <thead>\n",
       "    <tr style=\"text-align: right;\">\n",
       "      <th></th>\n",
       "      <th>x1</th>\n",
       "      <th>x2</th>\n",
       "      <th>x3</th>\n",
       "      <th>x4</th>\n",
       "      <th>x5</th>\n",
       "    </tr>\n",
       "  </thead>\n",
       "  <tbody>\n",
       "    <tr>\n",
       "      <th>count</th>\n",
       "      <td>66.000000</td>\n",
       "      <td>66.000000</td>\n",
       "      <td>66.000000</td>\n",
       "      <td>66.000000</td>\n",
       "      <td>66.000000</td>\n",
       "    </tr>\n",
       "    <tr>\n",
       "      <th>mean</th>\n",
       "      <td>-0.030777</td>\n",
       "      <td>-0.010728</td>\n",
       "      <td>0.046851</td>\n",
       "      <td>0.204618</td>\n",
       "      <td>0.115513</td>\n",
       "    </tr>\n",
       "    <tr>\n",
       "      <th>std</th>\n",
       "      <td>1.089200</td>\n",
       "      <td>0.960890</td>\n",
       "      <td>1.007246</td>\n",
       "      <td>1.212652</td>\n",
       "      <td>1.031296</td>\n",
       "    </tr>\n",
       "    <tr>\n",
       "      <th>min</th>\n",
       "      <td>-2.275397</td>\n",
       "      <td>-2.538548</td>\n",
       "      <td>-1.853401</td>\n",
       "      <td>-2.837253</td>\n",
       "      <td>-2.178582</td>\n",
       "    </tr>\n",
       "    <tr>\n",
       "      <th>25%</th>\n",
       "      <td>-0.829504</td>\n",
       "      <td>-0.610886</td>\n",
       "      <td>-0.796535</td>\n",
       "      <td>-0.723116</td>\n",
       "      <td>-0.499444</td>\n",
       "    </tr>\n",
       "    <tr>\n",
       "      <th>50%</th>\n",
       "      <td>-0.023577</td>\n",
       "      <td>0.015184</td>\n",
       "      <td>0.123631</td>\n",
       "      <td>0.267437</td>\n",
       "      <td>0.009668</td>\n",
       "    </tr>\n",
       "    <tr>\n",
       "      <th>75%</th>\n",
       "      <td>0.674766</td>\n",
       "      <td>0.679896</td>\n",
       "      <td>0.815196</td>\n",
       "      <td>0.987150</td>\n",
       "      <td>0.869323</td>\n",
       "    </tr>\n",
       "    <tr>\n",
       "      <th>max</th>\n",
       "      <td>2.910753</td>\n",
       "      <td>2.802265</td>\n",
       "      <td>2.081260</td>\n",
       "      <td>2.854461</td>\n",
       "      <td>2.496833</td>\n",
       "    </tr>\n",
       "  </tbody>\n",
       "</table>\n",
       "</div>"
      ],
      "text/plain": [
       "              x1         x2         x3         x4         x5\n",
       "count  66.000000  66.000000  66.000000  66.000000  66.000000\n",
       "mean   -0.030777  -0.010728   0.046851   0.204618   0.115513\n",
       "std     1.089200   0.960890   1.007246   1.212652   1.031296\n",
       "min    -2.275397  -2.538548  -1.853401  -2.837253  -2.178582\n",
       "25%    -0.829504  -0.610886  -0.796535  -0.723116  -0.499444\n",
       "50%    -0.023577   0.015184   0.123631   0.267437   0.009668\n",
       "75%     0.674766   0.679896   0.815196   0.987150   0.869323\n",
       "max     2.910753   2.802265   2.081260   2.854461   2.496833"
      ]
     },
     "execution_count": 61,
     "metadata": {},
     "output_type": "execute_result"
    }
   ],
   "source": [
    "x_dataset.describe()"
   ]
  },
  {
   "cell_type": "code",
   "execution_count": 62,
   "metadata": {},
   "outputs": [
    {
     "data": {
      "text/html": [
       "<div>\n",
       "<style scoped>\n",
       "    .dataframe tbody tr th:only-of-type {\n",
       "        vertical-align: middle;\n",
       "    }\n",
       "\n",
       "    .dataframe tbody tr th {\n",
       "        vertical-align: top;\n",
       "    }\n",
       "\n",
       "    .dataframe thead th {\n",
       "        text-align: right;\n",
       "    }\n",
       "</style>\n",
       "<table border=\"1\" class=\"dataframe\">\n",
       "  <thead>\n",
       "    <tr style=\"text-align: right;\">\n",
       "      <th></th>\n",
       "      <th>x1</th>\n",
       "      <th>x2</th>\n",
       "      <th>x3</th>\n",
       "      <th>x4</th>\n",
       "      <th>x5</th>\n",
       "    </tr>\n",
       "  </thead>\n",
       "  <tbody>\n",
       "    <tr>\n",
       "      <th>x1</th>\n",
       "      <td>1.000000</td>\n",
       "      <td>0.172245</td>\n",
       "      <td>0.260797</td>\n",
       "      <td>-0.133831</td>\n",
       "      <td>0.028817</td>\n",
       "    </tr>\n",
       "    <tr>\n",
       "      <th>x2</th>\n",
       "      <td>0.172245</td>\n",
       "      <td>1.000000</td>\n",
       "      <td>0.009741</td>\n",
       "      <td>0.022223</td>\n",
       "      <td>-0.052449</td>\n",
       "    </tr>\n",
       "    <tr>\n",
       "      <th>x3</th>\n",
       "      <td>0.260797</td>\n",
       "      <td>0.009741</td>\n",
       "      <td>1.000000</td>\n",
       "      <td>-0.132044</td>\n",
       "      <td>-0.068131</td>\n",
       "    </tr>\n",
       "    <tr>\n",
       "      <th>x4</th>\n",
       "      <td>-0.133831</td>\n",
       "      <td>0.022223</td>\n",
       "      <td>-0.132044</td>\n",
       "      <td>1.000000</td>\n",
       "      <td>0.052270</td>\n",
       "    </tr>\n",
       "    <tr>\n",
       "      <th>x5</th>\n",
       "      <td>0.028817</td>\n",
       "      <td>-0.052449</td>\n",
       "      <td>-0.068131</td>\n",
       "      <td>0.052270</td>\n",
       "      <td>1.000000</td>\n",
       "    </tr>\n",
       "  </tbody>\n",
       "</table>\n",
       "</div>"
      ],
      "text/plain": [
       "          x1        x2        x3        x4        x5\n",
       "x1  1.000000  0.172245  0.260797 -0.133831  0.028817\n",
       "x2  0.172245  1.000000  0.009741  0.022223 -0.052449\n",
       "x3  0.260797  0.009741  1.000000 -0.132044 -0.068131\n",
       "x4 -0.133831  0.022223 -0.132044  1.000000  0.052270\n",
       "x5  0.028817 -0.052449 -0.068131  0.052270  1.000000"
      ]
     },
     "execution_count": 62,
     "metadata": {},
     "output_type": "execute_result"
    }
   ],
   "source": [
    "x_dataset.corr()"
   ]
  },
  {
   "cell_type": "markdown",
   "metadata": {},
   "source": [
    "Как мы видим, признаки не сильно коррелируют между собой: только две пары (x1;x3) и (х1;x5) попадают под интервал слабой связи, остальные же пары **очень слабо** между собой коррелируют"
   ]
  },
  {
   "cell_type": "markdown",
   "metadata": {},
   "source": [
    "### 4.Разделите все наблюдения на обучающую и тестовую выборки в соотношении 80-20."
   ]
  },
  {
   "cell_type": "code",
   "execution_count": 63,
   "metadata": {},
   "outputs": [],
   "source": [
    "x_train, x_test, y_train, y_test = train_test_split(x_dataset, y_dataset, test_size=0.2, random_state=123)"
   ]
  },
  {
   "cell_type": "code",
   "execution_count": 64,
   "metadata": {},
   "outputs": [
    {
     "data": {
      "text/html": [
       "<div>\n",
       "<style scoped>\n",
       "    .dataframe tbody tr th:only-of-type {\n",
       "        vertical-align: middle;\n",
       "    }\n",
       "\n",
       "    .dataframe tbody tr th {\n",
       "        vertical-align: top;\n",
       "    }\n",
       "\n",
       "    .dataframe thead th {\n",
       "        text-align: right;\n",
       "    }\n",
       "</style>\n",
       "<table border=\"1\" class=\"dataframe\">\n",
       "  <thead>\n",
       "    <tr style=\"text-align: right;\">\n",
       "      <th></th>\n",
       "      <th>x1</th>\n",
       "      <th>x2</th>\n",
       "      <th>x3</th>\n",
       "      <th>x4</th>\n",
       "      <th>x5</th>\n",
       "    </tr>\n",
       "  </thead>\n",
       "  <tbody>\n",
       "    <tr>\n",
       "      <th>0</th>\n",
       "      <td>1.731478</td>\n",
       "      <td>0.922577</td>\n",
       "      <td>-0.592531</td>\n",
       "      <td>0.532038</td>\n",
       "      <td>0.877966</td>\n",
       "    </tr>\n",
       "    <tr>\n",
       "      <th>1</th>\n",
       "      <td>2.910753</td>\n",
       "      <td>0.383694</td>\n",
       "      <td>0.671234</td>\n",
       "      <td>-1.132598</td>\n",
       "      <td>0.018539</td>\n",
       "    </tr>\n",
       "    <tr>\n",
       "      <th>2</th>\n",
       "      <td>-1.325893</td>\n",
       "      <td>-0.912186</td>\n",
       "      <td>-0.785927</td>\n",
       "      <td>2.170114</td>\n",
       "      <td>-0.354614</td>\n",
       "    </tr>\n",
       "    <tr>\n",
       "      <th>3</th>\n",
       "      <td>-0.173810</td>\n",
       "      <td>-0.271111</td>\n",
       "      <td>-0.923934</td>\n",
       "      <td>2.011891</td>\n",
       "      <td>0.585330</td>\n",
       "    </tr>\n",
       "    <tr>\n",
       "      <th>4</th>\n",
       "      <td>0.021794</td>\n",
       "      <td>0.388413</td>\n",
       "      <td>-1.853401</td>\n",
       "      <td>0.519653</td>\n",
       "      <td>-0.666047</td>\n",
       "    </tr>\n",
       "  </tbody>\n",
       "</table>\n",
       "</div>"
      ],
      "text/plain": [
       "         x1        x2        x3        x4        x5\n",
       "0  1.731478  0.922577 -0.592531  0.532038  0.877966\n",
       "1  2.910753  0.383694  0.671234 -1.132598  0.018539\n",
       "2 -1.325893 -0.912186 -0.785927  2.170114 -0.354614\n",
       "3 -0.173810 -0.271111 -0.923934  2.011891  0.585330\n",
       "4  0.021794  0.388413 -1.853401  0.519653 -0.666047"
      ]
     },
     "execution_count": 64,
     "metadata": {},
     "output_type": "execute_result"
    }
   ],
   "source": [
    "x_dataset.head()"
   ]
  },
  {
   "cell_type": "code",
   "execution_count": 65,
   "metadata": {},
   "outputs": [
    {
     "data": {
      "text/plain": [
       "((52, 5), (52, 1))"
      ]
     },
     "execution_count": 65,
     "metadata": {},
     "output_type": "execute_result"
    }
   ],
   "source": [
    "\n",
    "x_train.shape, y_train.shape"
   ]
  },
  {
   "cell_type": "code",
   "execution_count": 66,
   "metadata": {},
   "outputs": [
    {
     "data": {
      "text/plain": [
       "((14, 5), (14, 1))"
      ]
     },
     "execution_count": 66,
     "metadata": {},
     "output_type": "execute_result"
    }
   ],
   "source": [
    "x_test.shape, y_test.shape"
   ]
  },
  {
   "cell_type": "markdown",
   "metadata": {},
   "source": [
    "### 5.Для целевой и каждого из признаков постройте парную регрессионную модель. Визуализируйте линию регрессии и исходные данные на графике. При помощи коэффициентов оцените силу связи.\n"
   ]
  },
  {
   "cell_type": "markdown",
   "metadata": {},
   "source": [
    "#### *3.Используйте другие метрики качества регрессионной модели в дополнение к коэффициенту детерминации."
   ]
  },
  {
   "cell_type": "markdown",
   "metadata": {},
   "source": [
    "Была использована  mean_squared_error"
   ]
  },
  {
   "cell_type": "code",
   "execution_count": 67,
   "metadata": {},
   "outputs": [],
   "source": [
    "r2 = []\n",
    "mse = []"
   ]
  },
  {
   "cell_type": "code",
   "execution_count": 68,
   "metadata": {},
   "outputs": [],
   "source": [
    "X1 = x_train[['x1']].values\n",
    "Y = y_train[['Y']].values\n",
    "X1_test = x_test[['x1']].values\n",
    "Y_test = y_test[['Y']].values\n",
    "\n",
    "x_f = x_dataset[['x1']].values\n",
    "y_f = y_dataset[['Y']].values"
   ]
  },
  {
   "cell_type": "code",
   "execution_count": null,
   "metadata": {},
   "outputs": [],
   "source": []
  },
  {
   "cell_type": "markdown",
   "metadata": {},
   "source": [
    "y = a*x+b, где а - slope, b - intercept"
   ]
  },
  {
   "cell_type": "code",
   "execution_count": 69,
   "metadata": {},
   "outputs": [
    {
     "name": "stdout",
     "output_type": "stream",
     "text": [
      "Slope: 6.8502378693907415\n",
      "Intercept: -1.4100201333396194\n",
      "R^2 score for X1:  0.05593292453451293   0.05593292453451293\n",
      "Mean squared error:  6674.135642909989\n"
     ]
    },
    {
     "data": {
      "image/png": "[encoded data removed]",
      "text/plain": [
       "<Figure size 432x288 with 1 Axes>"
      ]
     },
     "metadata": {
      "needs_background": "light"
     },
     "output_type": "display_data"
    }
   ],
   "source": [
    "slr = LinearRegression()\n",
    "slr.fit(X1, Y)\n",
    "y_pred1 = slr.predict(X1_test)\n",
    "\n",
    "\n",
    "plt.scatter(X1_test, Y_test, color='BLUE')\n",
    "plt.plot(X1_test, y_pred1, color='GREY', linewidth=2)\n",
    "plt.show\n",
    "r2.append(slr.score(X1_test,Y_test))\n",
    "mse.append(mean_squared_error(Y_test, y_pred1))\n",
    "print('Slope:',slr.coef_[0][0])\n",
    "print('Intercept:',slr.intercept_[0])\n",
    "print('R^2 score for X1: ', slr.score(X1_test,Y_test), ' ', r2_score(Y_test,y_pred1))\n",
    "print('Mean squared error: ', mean_squared_error(Y_test, y_pred1))"
   ]
  },
  {
   "cell_type": "code",
   "execution_count": 70,
   "metadata": {},
   "outputs": [
    {
     "name": "stdout",
     "output_type": "stream",
     "text": [
      "Slope: 70.13770696666926\n",
      "Intercept: -0.13836474891740602\n",
      "R^2 score for X1:  0.9842920226203972\n",
      "Mean squared error:  111.04843546793487\n"
     ]
    },
    {
     "data": {
      "image/png": "[encoded data removed]",
      "text/plain": [
       "<Figure size 432x288 with 1 Axes>"
      ]
     },
     "metadata": {
      "needs_background": "light"
     },
     "output_type": "display_data"
    }
   ],
   "source": [
    "X2 = x_train[['x2']].values\n",
    "X2_test = x_test[['x2']].values\n",
    "y_pred2 = slr.predict(X2_test)\n",
    "\n",
    "slr = LinearRegression()\n",
    "slr.fit(X2, Y)\n",
    "y_pred2 = slr.predict(X2_test)\n",
    "r2.append(slr.score(X2_test,Y_test))\n",
    "\n",
    "plt.scatter(X2_test, Y_test, color='BLUE')\n",
    "plt.plot(X2_test, slr.predict(X2_test), color='GREY', linewidth=2)\n",
    "plt.show\n",
    "\n",
    "mse.append(mean_squared_error(Y_test, y_pred2))\n",
    "print('Slope:',slr.coef_[0][0])\n",
    "print('Intercept:',slr.intercept_[0])\n",
    "print('R^2 score for X1: ', slr.score(X2_test,Y_test))\n",
    "print('Mean squared error: ', mean_squared_error(Y_test, y_pred2))"
   ]
  },
  {
   "cell_type": "code",
   "execution_count": 71,
   "metadata": {
    "scrolled": true
   },
   "outputs": [
    {
     "name": "stdout",
     "output_type": "stream",
     "text": [
      "Slope: -1.0580248321676493\n",
      "Intercept: -1.2715395458675522\n",
      "R^2 score for X1:  -0.00617001981468146\n",
      "Mean squared error:  7113.175924244073\n"
     ]
    },
    {
     "data": {
      "image/png": "[encoded data removed]",
      "text/plain": [
       "<Figure size 432x288 with 1 Axes>"
      ]
     },
     "metadata": {
      "needs_background": "light"
     },
     "output_type": "display_data"
    }
   ],
   "source": [
    "X3 = x_train[['x3']].values\n",
    "X3_test = x_test[['x3']].values\n",
    "y_pred3 = slr.predict(X3_test)\n",
    "\n",
    "slr = LinearRegression()\n",
    "slr.fit(X3, Y)\n",
    "y_pred3 = slr.predict(X3_test)\n",
    "r2.append(slr.score(X3_test,Y_test))\n",
    "\n",
    "plt.scatter(X3_test, Y_test, color='BLUE')\n",
    "plt.plot(X3_test, slr.predict(X3_test), color='GREY', linewidth=2)\n",
    "plt.show\n",
    "\n",
    "mse.append(mean_squared_error(Y_test, y_pred3))\n",
    "print('Slope:',slr.coef_[0][0])\n",
    "print('Intercept:',slr.intercept_[0])\n",
    "print('R^2 score for X1: ', slr.score(X3_test,Y_test))\n",
    "print('Mean squared error: ', mean_squared_error(Y_test, y_pred3))"
   ]
  },
  {
   "cell_type": "code",
   "execution_count": 72,
   "metadata": {},
   "outputs": [
    {
     "name": "stdout",
     "output_type": "stream",
     "text": [
      "Slope: -4.087525715815773\n",
      "Intercept: -0.08261550159437481\n",
      "R^2 score for X1:  -0.0440619910772142\n",
      "Mean squared error:  7381.055360521094\n"
     ]
    },
    {
     "data": {
      "image/png": "[encoded data removed]",
      "text/plain": [
       "<Figure size 432x288 with 1 Axes>"
      ]
     },
     "metadata": {
      "needs_background": "light"
     },
     "output_type": "display_data"
    }
   ],
   "source": [
    "X4 = x_train[['x4']].values\n",
    "X4_test = x_test[['x4']].values\n",
    "y_pred4 = slr.predict(X4_test)\n",
    "\n",
    "slr = LinearRegression()\n",
    "slr.fit(X4, Y)\n",
    "y_pred4 = slr.predict(X4_test)\n",
    "r2.append(slr.score(X4_test,Y_test))\n",
    "\n",
    "plt.scatter(X4_test, Y_test, color='BLUE')\n",
    "plt.plot(X4_test, slr.predict(X4_test), color='GREY', linewidth=2)\n",
    "plt.show\n",
    "\n",
    "mse.append(mean_squared_error(Y_test, y_pred4))\n",
    "print('Slope:',slr.coef_[0][0])\n",
    "print('Intercept:',slr.intercept_[0])\n",
    "print('R^2 score for X1: ', slr.score(X4_test,Y_test))\n",
    "print('Mean squared error: ', mean_squared_error(Y_test, y_pred4))"
   ]
  },
  {
   "cell_type": "code",
   "execution_count": 73,
   "metadata": {},
   "outputs": [
    {
     "name": "stdout",
     "output_type": "stream",
     "text": [
      "Slope: 1.940443532274262\n",
      "Intercept: -1.6995575919911443\n",
      "R^2 score for X_train:  0.00019805078864032488\n",
      "Mean squared error:  7068.156488554886\n",
      "Mean squared error:  62.660949038551486\n"
     ]
    },
    {
     "data": {
      "image/png": "[encoded data removed]",
      "text/plain": [
       "<Figure size 432x288 with 1 Axes>"
      ]
     },
     "metadata": {
      "needs_background": "light"
     },
     "output_type": "display_data"
    }
   ],
   "source": [
    "X5 = x_train[['x5']].values\n",
    "X5_test = x_test[['x5']].values\n",
    "y_pred5 = slr.predict(X5_test)\n",
    "\n",
    "slr = LinearRegression()\n",
    "slr.fit(X5, Y)\n",
    "y_pred5 = slr.predict(X5_test)\n",
    "r2.append(slr.score(X5_test,Y_test))\n",
    "\n",
    "plt.scatter(X5_test, Y_test, color='BLUE')\n",
    "plt.plot(X5_test, slr.predict(X5_test), color='GREY', linewidth=2)\n",
    "plt.show\n",
    "\n",
    "mse.append(mean_squared_error(Y_test, y_pred5))\n",
    "print('Slope:',slr.coef_[0][0])\n",
    "print('Intercept:',slr.intercept_[0])\n",
    "print('R^2 score for X_train: ', slr.score(X5_test,Y_test))\n",
    "print('Mean squared error: ', mean_squared_error(Y_test, y_pred5))\n",
    "print('Mean squared error: ', mean_absolute_error(Y_test, y_pred5))\n"
   ]
  },
  {
   "cell_type": "markdown",
   "metadata": {},
   "source": [
    "#### А ниже я просто решила посмотреть все линии на одном графике, чтобы прикинуть как сильно они друг от друга отличаются"
   ]
  },
  {
   "cell_type": "code",
   "execution_count": 74,
   "metadata": {},
   "outputs": [
    {
     "data": {
      "image/png": "[encoded data removed]",
      "text/plain": [
       "<Figure size 432x288 with 1 Axes>"
      ]
     },
     "metadata": {
      "needs_background": "light"
     },
     "output_type": "display_data"
    }
   ],
   "source": [
    "\n",
    "X =[0,0,0,0,0,0]\n",
    "for i in range(1,6):\n",
    "    X[i] = x_train[[f'x{i}']].values\n",
    "    \n",
    "    slr = LinearRegression()\n",
    "    slr.fit(X[i], Y)\n",
    "    y_pred1 = slr.predict(X[i])\n",
    "\n",
    "\n",
    "   \n",
    "    plt.plot(X[i], slr.predict(X[i]), color='GREY', linewidth=2)\n",
    "    plt.show"
   ]
  },
  {
   "cell_type": "markdown",
   "metadata": {},
   "source": [
    "#### При помощи коэффициентов оцените силу связи.\n"
   ]
  },
  {
   "cell_type": "markdown",
   "metadata": {},
   "source": [
    "Чем ближе значение коэффициента детерминациик 1, тем сильнее зависимость."
   ]
  },
  {
   "cell_type": "markdown",
   "metadata": {},
   "source": [
    " метод r2_score - Return the coefficient of determination R^2 of the prediction."
   ]
  },
  {
   "cell_type": "code",
   "execution_count": 75,
   "metadata": {},
   "outputs": [
    {
     "name": "stdout",
     "output_type": "stream",
     "text": [
      "R^2 score for X1:  0.05593292453451293\n",
      "R^2 score for X2:  0.9842920226203972\n",
      "R^2 score for X3:  -0.00617001981468146\n",
      "R^2 score for X4:  -0.0440619910772142\n",
      "R^2 score for X5:  0.00019805078864032488\n"
     ]
    }
   ],
   "source": [
    "for i in range(5):\n",
    "    print(f'R^2 score for X{i+1}: ', r2[i])"
   ]
  },
  {
   "cell_type": "markdown",
   "metadata": {},
   "source": [
    "Как видно по результатам, коэф детерминации для Х3-Х4 отрицательный, что означает, что выбранная модель (с ее ограничениями) очень плохо вписывается в данные (ниже там полиномиальная регрессия для этих выборок, там тоже коэф не стал отрицательным, поэтому следует предположить, что эти признаки не влияют на У)"
   ]
  },
  {
   "cell_type": "markdown",
   "metadata": {},
   "source": [
    "Для 1 и 5 моделей коэффициент положительный, но крайне мал , что свидетельствуем о слабой связи, так как если коэффициент детерминации близок к 1, это указывает на то, что модель работает очень хорошо , а если к 0, то это означает низкую значимость модели, когда входная переменная плохо «объясняет» поведение выходной, т.е. линейная зависимость между ними отсутствует"
   ]
  },
  {
   "cell_type": "markdown",
   "metadata": {},
   "source": [
    "2 модель имеет самый высокий коэффициент, что говорит о том, что это среди 5 моделей наиболее линейная зависимая, также = mean squared error у 2 модели самая маленькая \n"
   ]
  },
  {
   "cell_type": "markdown",
   "metadata": {},
   "source": [
    "### 6.Постройте модель множественной линейной регрессии целевой переменной от всех показателей. Оцените качество регрессии, сделайте вывод."
   ]
  },
  {
   "cell_type": "markdown",
   "metadata": {},
   "source": [
    "Со всеми признаками"
   ]
  },
  {
   "cell_type": "code",
   "execution_count": 76,
   "metadata": {},
   "outputs": [
    {
     "data": {
      "text/plain": [
       "x1    52\n",
       "x2    52\n",
       "x3    52\n",
       "x4    52\n",
       "x5    52\n",
       "dtype: int64"
      ]
     },
     "execution_count": 76,
     "metadata": {},
     "output_type": "execute_result"
    }
   ],
   "source": [
    "x_train.count(axis=0)"
   ]
  },
  {
   "cell_type": "code",
   "execution_count": 77,
   "metadata": {},
   "outputs": [
    {
     "data": {
      "text/plain": [
       "x1    14\n",
       "x2    14\n",
       "x3    14\n",
       "x4    14\n",
       "x5    14\n",
       "dtype: int64"
      ]
     },
     "execution_count": 77,
     "metadata": {},
     "output_type": "execute_result"
    }
   ],
   "source": [
    "x_test.count(axis=0)"
   ]
  },
  {
   "cell_type": "code",
   "execution_count": 78,
   "metadata": {},
   "outputs": [],
   "source": [
    "lm = LinearRegression()"
   ]
  },
  {
   "cell_type": "code",
   "execution_count": 79,
   "metadata": {},
   "outputs": [
    {
     "data": {
      "text/html": [
       "<div>\n",
       "<style scoped>\n",
       "    .dataframe tbody tr th:only-of-type {\n",
       "        vertical-align: middle;\n",
       "    }\n",
       "\n",
       "    .dataframe tbody tr th {\n",
       "        vertical-align: top;\n",
       "    }\n",
       "\n",
       "    .dataframe thead th {\n",
       "        text-align: right;\n",
       "    }\n",
       "</style>\n",
       "<table border=\"1\" class=\"dataframe\">\n",
       "  <thead>\n",
       "    <tr style=\"text-align: right;\">\n",
       "      <th></th>\n",
       "      <th>x1</th>\n",
       "      <th>x2</th>\n",
       "      <th>x3</th>\n",
       "      <th>x4</th>\n",
       "      <th>x5</th>\n",
       "    </tr>\n",
       "  </thead>\n",
       "  <tbody>\n",
       "    <tr>\n",
       "      <th>43</th>\n",
       "      <td>0.632463</td>\n",
       "      <td>0.872253</td>\n",
       "      <td>0.299474</td>\n",
       "      <td>0.796206</td>\n",
       "      <td>1.749273</td>\n",
       "    </tr>\n",
       "    <tr>\n",
       "      <th>23</th>\n",
       "      <td>-0.298609</td>\n",
       "      <td>-0.603377</td>\n",
       "      <td>-0.587766</td>\n",
       "      <td>0.754068</td>\n",
       "      <td>1.851921</td>\n",
       "    </tr>\n",
       "    <tr>\n",
       "      <th>6</th>\n",
       "      <td>-0.475638</td>\n",
       "      <td>0.851175</td>\n",
       "      <td>-0.492622</td>\n",
       "      <td>-0.255903</td>\n",
       "      <td>-0.496396</td>\n",
       "    </tr>\n",
       "    <tr>\n",
       "      <th>60</th>\n",
       "      <td>0.550693</td>\n",
       "      <td>0.634524</td>\n",
       "      <td>0.125047</td>\n",
       "      <td>0.285202</td>\n",
       "      <td>-1.077646</td>\n",
       "    </tr>\n",
       "    <tr>\n",
       "      <th>26</th>\n",
       "      <td>1.356289</td>\n",
       "      <td>0.965873</td>\n",
       "      <td>-0.378074</td>\n",
       "      <td>0.375311</td>\n",
       "      <td>1.358941</td>\n",
       "    </tr>\n",
       "  </tbody>\n",
       "</table>\n",
       "</div>"
      ],
      "text/plain": [
       "          x1        x2        x3        x4        x5\n",
       "43  0.632463  0.872253  0.299474  0.796206  1.749273\n",
       "23 -0.298609 -0.603377 -0.587766  0.754068  1.851921\n",
       "6  -0.475638  0.851175 -0.492622 -0.255903 -0.496396\n",
       "60  0.550693  0.634524  0.125047  0.285202 -1.077646\n",
       "26  1.356289  0.965873 -0.378074  0.375311  1.358941"
      ]
     },
     "execution_count": 79,
     "metadata": {},
     "output_type": "execute_result"
    }
   ],
   "source": [
    "x_train.head()"
   ]
  },
  {
   "cell_type": "code",
   "execution_count": 80,
   "metadata": {},
   "outputs": [
    {
     "data": {
      "text/html": [
       "<div>\n",
       "<style scoped>\n",
       "    .dataframe tbody tr th:only-of-type {\n",
       "        vertical-align: middle;\n",
       "    }\n",
       "\n",
       "    .dataframe tbody tr th {\n",
       "        vertical-align: top;\n",
       "    }\n",
       "\n",
       "    .dataframe thead th {\n",
       "        text-align: right;\n",
       "    }\n",
       "</style>\n",
       "<table border=\"1\" class=\"dataframe\">\n",
       "  <thead>\n",
       "    <tr style=\"text-align: right;\">\n",
       "      <th></th>\n",
       "      <th>Y</th>\n",
       "    </tr>\n",
       "  </thead>\n",
       "  <tbody>\n",
       "    <tr>\n",
       "      <th>43</th>\n",
       "      <td>75.319061</td>\n",
       "    </tr>\n",
       "    <tr>\n",
       "      <th>23</th>\n",
       "      <td>-50.321352</td>\n",
       "    </tr>\n",
       "    <tr>\n",
       "      <th>6</th>\n",
       "      <td>49.638722</td>\n",
       "    </tr>\n",
       "    <tr>\n",
       "      <th>60</th>\n",
       "      <td>46.934157</td>\n",
       "    </tr>\n",
       "    <tr>\n",
       "      <th>26</th>\n",
       "      <td>83.641739</td>\n",
       "    </tr>\n",
       "  </tbody>\n",
       "</table>\n",
       "</div>"
      ],
      "text/plain": [
       "            Y\n",
       "43  75.319061\n",
       "23 -50.321352\n",
       "6   49.638722\n",
       "60  46.934157\n",
       "26  83.641739"
      ]
     },
     "execution_count": 80,
     "metadata": {},
     "output_type": "execute_result"
    }
   ],
   "source": [
    "y_train.head()"
   ]
  },
  {
   "cell_type": "markdown",
   "metadata": {},
   "source": [
    "#### y=β0+β1x1+...+βnxn\n",
    " "
   ]
  },
  {
   "cell_type": "code",
   "execution_count": 81,
   "metadata": {},
   "outputs": [
    {
     "data": {
      "text/plain": [
       "LinearRegression(copy_X=True, fit_intercept=True, n_jobs=None, normalize=False)"
      ]
     },
     "execution_count": 81,
     "metadata": {},
     "output_type": "execute_result"
    }
   ],
   "source": [
    "feature_cols = ['x1', 'x2', 'x3','x4','x5']\n",
    "lm = LinearRegression()\n",
    "lm.fit(x_train,y_train)\n"
   ]
  },
  {
   "cell_type": "code",
   "execution_count": 85,
   "metadata": {},
   "outputs": [
    {
     "name": "stdout",
     "output_type": "stream",
     "text": [
      "Intercept : -1.912785062194038\n",
      "Slope:\n",
      "x1 =  1.2718968421694812\n",
      "x2 =  70.97355133862489\n",
      "x3 =  0.6369960941379249\n",
      "x4 =  0.15847081711558864\n",
      "x5 =  7.862198955206528\n",
      "R^2:  0.9756481406124808\n"
     ]
    }
   ],
   "source": [
    "print (f'Intercept : {lm.intercept_[0]}')\n",
    "coef = lm.coef_[0]\n",
    "print(f'Slope:')\n",
    "for i,j in zip(feature_cols,coef):\n",
    "    print(i,'= ',j)\n",
    "y_pred=lm.predict(x_test)\n",
    "print(f'R^2: ',r2_score(y_test,y_pred))   "
   ]
  },
  {
   "cell_type": "markdown",
   "metadata": {},
   "source": [
    "Наиболее сильно влиящая переменная Х - это 2, так как у нее самый большой коэффициент, то есть допустим при незименении переменных X1 и Х2-X5, изменяя значение переменной Х2 на 1, мы уменьшаем значение выходных данных на 70"
   ]
  },
  {
   "cell_type": "markdown",
   "metadata": {},
   "source": [
    "У модели высокий коэффициент детерминации(R^2), что говорит о сильной зависимости Y от Х-переменных"
   ]
  },
  {
   "cell_type": "markdown",
   "metadata": {},
   "source": [
    "#### Попробуем построить модель без признаков, где в линейно регрессии r2 отрицательный"
   ]
  },
  {
   "cell_type": "code",
   "execution_count": 102,
   "metadata": {},
   "outputs": [
    {
     "data": {
      "text/html": [
       "<div>\n",
       "<style scoped>\n",
       "    .dataframe tbody tr th:only-of-type {\n",
       "        vertical-align: middle;\n",
       "    }\n",
       "\n",
       "    .dataframe tbody tr th {\n",
       "        vertical-align: top;\n",
       "    }\n",
       "\n",
       "    .dataframe thead th {\n",
       "        text-align: right;\n",
       "    }\n",
       "</style>\n",
       "<table border=\"1\" class=\"dataframe\">\n",
       "  <thead>\n",
       "    <tr style=\"text-align: right;\">\n",
       "      <th></th>\n",
       "      <th>x1</th>\n",
       "      <th>x2</th>\n",
       "      <th>x5</th>\n",
       "    </tr>\n",
       "  </thead>\n",
       "  <tbody>\n",
       "    <tr>\n",
       "      <th>0</th>\n",
       "      <td>1.731478</td>\n",
       "      <td>0.922577</td>\n",
       "      <td>0.877966</td>\n",
       "    </tr>\n",
       "    <tr>\n",
       "      <th>1</th>\n",
       "      <td>2.910753</td>\n",
       "      <td>0.383694</td>\n",
       "      <td>0.018539</td>\n",
       "    </tr>\n",
       "    <tr>\n",
       "      <th>2</th>\n",
       "      <td>-1.325893</td>\n",
       "      <td>-0.912186</td>\n",
       "      <td>-0.354614</td>\n",
       "    </tr>\n",
       "    <tr>\n",
       "      <th>3</th>\n",
       "      <td>-0.173810</td>\n",
       "      <td>-0.271111</td>\n",
       "      <td>0.585330</td>\n",
       "    </tr>\n",
       "    <tr>\n",
       "      <th>4</th>\n",
       "      <td>0.021794</td>\n",
       "      <td>0.388413</td>\n",
       "      <td>-0.666047</td>\n",
       "    </tr>\n",
       "    <tr>\n",
       "      <th>...</th>\n",
       "      <td>...</td>\n",
       "      <td>...</td>\n",
       "      <td>...</td>\n",
       "    </tr>\n",
       "    <tr>\n",
       "      <th>61</th>\n",
       "      <td>0.677933</td>\n",
       "      <td>-0.586107</td>\n",
       "      <td>0.377703</td>\n",
       "    </tr>\n",
       "    <tr>\n",
       "      <th>62</th>\n",
       "      <td>-1.317769</td>\n",
       "      <td>-0.452191</td>\n",
       "      <td>1.014545</td>\n",
       "    </tr>\n",
       "    <tr>\n",
       "      <th>63</th>\n",
       "      <td>-0.767166</td>\n",
       "      <td>1.135966</td>\n",
       "      <td>1.760594</td>\n",
       "    </tr>\n",
       "    <tr>\n",
       "      <th>64</th>\n",
       "      <td>-0.893816</td>\n",
       "      <td>-0.557906</td>\n",
       "      <td>-0.550951</td>\n",
       "    </tr>\n",
       "    <tr>\n",
       "      <th>65</th>\n",
       "      <td>-1.052564</td>\n",
       "      <td>-1.439347</td>\n",
       "      <td>-0.795845</td>\n",
       "    </tr>\n",
       "  </tbody>\n",
       "</table>\n",
       "<p>66 rows × 3 columns</p>\n",
       "</div>"
      ],
      "text/plain": [
       "          x1        x2        x5\n",
       "0   1.731478  0.922577  0.877966\n",
       "1   2.910753  0.383694  0.018539\n",
       "2  -1.325893 -0.912186 -0.354614\n",
       "3  -0.173810 -0.271111  0.585330\n",
       "4   0.021794  0.388413 -0.666047\n",
       "..       ...       ...       ...\n",
       "61  0.677933 -0.586107  0.377703\n",
       "62 -1.317769 -0.452191  1.014545\n",
       "63 -0.767166  1.135966  1.760594\n",
       "64 -0.893816 -0.557906 -0.550951\n",
       "65 -1.052564 -1.439347 -0.795845\n",
       "\n",
       "[66 rows x 3 columns]"
      ]
     },
     "execution_count": 102,
     "metadata": {},
     "output_type": "execute_result"
    }
   ],
   "source": [
    "x_t=pd.read_csv('11_x.csv',names=['x1','x2','x3','x4','x5'], header=None)\n",
    "y_t = pd.read_csv('11_y.csv',names=['Y'], header=None)\n",
    "\n",
    "x_t.drop(['x3', 'x4'], axis='columns', inplace=True)\n",
    "x_t"
   ]
  },
  {
   "cell_type": "code",
   "execution_count": 106,
   "metadata": {},
   "outputs": [
    {
     "name": "stdout",
     "output_type": "stream",
     "text": [
      "Intercept : -1.8569647631582609\n",
      "Slope:\n",
      "x1 =  1.4033968979502263\n",
      "x2 =  70.92079709012627\n",
      "x5 =  7.81664976421876\n",
      "R^2:  0.9754957402858482\n"
     ]
    }
   ],
   "source": [
    "train_x,test_x,train_y,test_y = train_test_split(x_t,y_t, test_size=0.2, random_state=123)\n",
    "\n",
    "feature_cols = ['x1', 'x2', 'x5']\n",
    "lm = LinearRegression()\n",
    "lm.fit(train_x,train_y)\n",
    "\n",
    "print (f'Intercept : {lm.intercept_[0]}')\n",
    "coef = lm.coef_[0]\n",
    "print(f'Slope:')\n",
    "for i,j in zip(feature_cols,coef):\n",
    "    print(i,'= ',j)\n",
    "y_pred=lm.predict(test_x)\n",
    "print(f'R^2: ',r2_score(test_y,y_pred))   \n"
   ]
  },
  {
   "cell_type": "markdown",
   "metadata": {},
   "source": [
    "Коэффициент детерминации понизился незначительно, но при этом в множественной регрессии не присутсвуют признаки, которые в парной регрессии показывали отрицательный коэффициент детерминации"
   ]
  },
  {
   "cell_type": "markdown",
   "metadata": {},
   "source": [
    "## Дополнительные задания\n"
   ]
  },
  {
   "cell_type": "markdown",
   "metadata": {},
   "source": [
    "### 1.Для целевой переменной и каждого из признаков постройте полиномиальную регрессию второго, третьего и десятого порядков. Сделайте вывод о значимости регрессии.\n"
   ]
  },
  {
   "cell_type": "code",
   "execution_count": 30,
   "metadata": {},
   "outputs": [],
   "source": [
    "from sklearn.linear_model import Ridge\n",
    "from sklearn.preprocessing import PolynomialFeatures\n",
    "from sklearn.pipeline import make_pipeline\n"
   ]
  },
  {
   "cell_type": "code",
   "execution_count": 31,
   "metadata": {},
   "outputs": [],
   "source": [
    "r2_10 =[]"
   ]
  },
  {
   "cell_type": "markdown",
   "metadata": {},
   "source": [
    "Второго порядка"
   ]
  },
  {
   "cell_type": "code",
   "execution_count": 32,
   "metadata": {},
   "outputs": [],
   "source": [
    "X1 = x_train[['x1']].values\n",
    "Y = y_train[['Y']].values\n",
    "X1_test = x_test[['x1']].values\n",
    "Y_test = y_test[['Y']].values\n",
    "\n",
    "X2 = x_train[['x2']].values\n",
    "X2_test = x_test[['x2']].values\n",
    "\n",
    "X3 = x_train[['x3']].values\n",
    "X3_test = x_test[['x3']].values\n",
    "\n",
    "\n",
    "X4 = x_train[['x4']].values\n",
    "X4_test = x_test[['x4']].values\n",
    "\n",
    "\n",
    "X5 = x_train[['x5']].values\n",
    "X5_test = x_test[['x5']].values\n",
    "\n",
    "\n",
    "\n"
   ]
  },
  {
   "cell_type": "code",
   "execution_count": 33,
   "metadata": {},
   "outputs": [
    {
     "data": {
      "text/plain": [
       "((14, 1), (14, 1))"
      ]
     },
     "execution_count": 33,
     "metadata": {},
     "output_type": "execute_result"
    }
   ],
   "source": [
    "X1_test.shape, Y_test.shape"
   ]
  },
  {
   "cell_type": "code",
   "execution_count": 34,
   "metadata": {},
   "outputs": [
    {
     "name": "stdout",
     "output_type": "stream",
     "text": [
      "[[0.         7.03644294 4.47191438]]\n",
      "Коэффициент детерминации: -0.04419785144702071\n",
      "Mean squared error:  7382.01583309783\n"
     ]
    }
   ],
   "source": [
    "poly_reg = PolynomialFeatures(degree=2)\n",
    "X_pol_train = poly_reg.fit_transform(X1)\n",
    "X_pol_test = poly_reg.fit_transform(X1_test)\n",
    "\n",
    "\n",
    "pol_reg = LinearRegression()\n",
    "test=pol_reg.fit(X_pol_train, Y)\n",
    "Y_pred = pol_reg.predict(X_pol_test)\n",
    "\n",
    "\n",
    "print(pol_reg.coef_)\n",
    "print('Коэффициент детерминации:',pol_reg.score(X_pol_test,Y_test))\n",
    "print('Mean squared error: ', mean_squared_error(Y_test, Y_pred))"
   ]
  },
  {
   "cell_type": "markdown",
   "metadata": {},
   "source": [
    " Третьего порядка"
   ]
  },
  {
   "cell_type": "code",
   "execution_count": 35,
   "metadata": {},
   "outputs": [
    {
     "name": "stdout",
     "output_type": "stream",
     "text": [
      "[[ 0.         18.41140201  1.99060179 -4.63396309]]\n",
      "Коэффициент детерминации: -0.1186719135202625\n",
      "Mean squared error:  7908.514431632512\n"
     ]
    }
   ],
   "source": [
    "poly_reg = PolynomialFeatures(degree=3)\n",
    "X_pol_train = poly_reg.fit_transform(X1)\n",
    "X_pol_test = poly_reg.fit_transform(X1_test)\n",
    "\n",
    "\n",
    "pol_reg = LinearRegression()\n",
    "test=pol_reg.fit(X_pol_train, Y)\n",
    "Y_pred = pol_reg.predict(X_pol_test)\n",
    "\n",
    "\n",
    "print(pol_reg.coef_)\n",
    "print('Коэффициент детерминации:',pol_reg.score(X_pol_test,Y_test))\n",
    "print('Mean squared error: ', mean_squared_error(Y_test, Y_pred))"
   ]
  },
  {
   "cell_type": "markdown",
   "metadata": {},
   "source": [
    "Десятого порядка"
   ]
  },
  {
   "cell_type": "code",
   "execution_count": 36,
   "metadata": {},
   "outputs": [
    {
     "name": "stdout",
     "output_type": "stream",
     "text": [
      "[[   0.          107.27138732  103.74661198 -345.65470752 -178.9846416\n",
      "   330.72797825   96.80703734 -113.52195238  -20.71119381   12.36224233\n",
      "     1.71047835]]\n",
      "Коэффициент детерминации: -36596.416004023115\n",
      "Mean squared error:  258727504.5795033\n"
     ]
    }
   ],
   "source": [
    "poly_reg = PolynomialFeatures(degree=10)\n",
    "X_pol_train = poly_reg.fit_transform(X1)\n",
    "X_pol_test = poly_reg.fit_transform(X1_test)\n",
    "\n",
    "\n",
    "pol_reg = LinearRegression()\n",
    "test=pol_reg.fit(X_pol_train, Y)\n",
    "Y_pred = pol_reg.predict(X_pol_test)\n",
    "\n",
    "mse.append(mean_squared_error(Y_test, Y_pred))\n",
    "r2_10.append(pol_reg.score(X_pol_test,Y_test))\n",
    "print(pol_reg.coef_)\n",
    "print('Коэффициент детерминации:',pol_reg.score(X_pol_test,Y_test))\n",
    "print('Mean squared error: ', mean_squared_error(Y_test, Y_pred))"
   ]
  },
  {
   "cell_type": "markdown",
   "metadata": {},
   "source": [
    "При увеличении коэффициента регрессии для данной выборки происходит увеличение MSE и в 10 степени коэффициент детерминации стал резко огромно отрицательным, что говорит о том, что модель неадекватна"
   ]
  },
  {
   "cell_type": "markdown",
   "metadata": {},
   "source": [
    "#### Для других X"
   ]
  },
  {
   "cell_type": "markdown",
   "metadata": {},
   "source": [
    "Х2"
   ]
  },
  {
   "cell_type": "code",
   "execution_count": 37,
   "metadata": {
    "scrolled": true
   },
   "outputs": [
    {
     "name": "stdout",
     "output_type": "stream",
     "text": [
      "Для полиномиальной регрессии 2 порядка\n",
      "[[ 0.         70.77660355  2.16650264]]\n",
      "Коэффициент детерминации для 2 степени: 0.9778630174151237\n",
      "Mean squared error:  156.4986517757242\n",
      "                 \n",
      "Для полиномиальной регрессии 3 порядка\n",
      "[[ 0.         73.1748602   0.38940882 -1.36775141]]\n",
      "Коэффициент детерминации для 3 степени: 0.9787597095384828\n",
      "Mean squared error:  150.15943603909264\n",
      "                 \n",
      "Для полиномиальной регрессии 10 порядка\n",
      "[[  0.          80.34863492 -12.81711141 -39.38377623  24.57000781\n",
      "   60.21036619  -6.04167444 -37.94649739  -6.37469728   8.1318801\n",
      "    2.45114573]]\n",
      "Коэффициент детерминации для 10 степени: -85831.22487570623\n",
      "Mean squared error:  606795773.5638231\n",
      "                 \n"
     ]
    }
   ],
   "source": [
    "poly_reg = PolynomialFeatures(degree=2)\n",
    "X_pol_train = poly_reg.fit_transform(X2)\n",
    "X_pol_test = poly_reg.fit_transform(X2_test)\n",
    "\n",
    "\n",
    "pol_reg = LinearRegression()\n",
    "test=pol_reg.fit(X_pol_train, Y)\n",
    "Y_pred = pol_reg.predict(X_pol_test)\n",
    "\n",
    "print('Для полиномиальной регрессии 2 порядка')\n",
    "print(pol_reg.coef_)\n",
    "print('Коэффициент детерминации для 2 степени:',pol_reg.score(X_pol_test,Y_test))\n",
    "print('Mean squared error: ', mean_squared_error(Y_test, Y_pred))\n",
    "print('                 ')\n",
    "\n",
    "poly_reg = PolynomialFeatures(degree=3)\n",
    "X_pol_train = poly_reg.fit_transform(X2)\n",
    "X_pol_test = poly_reg.fit_transform(X2_test)\n",
    "\n",
    "\n",
    "pol_reg = LinearRegression()\n",
    "test=pol_reg.fit(X_pol_train, Y)\n",
    "Y_pred = pol_reg.predict(X_pol_test)\n",
    "\n",
    "print('Для полиномиальной регрессии 3 порядка')\n",
    "print(pol_reg.coef_)\n",
    "print('Коэффициент детерминации для 3 степени:',pol_reg.score(X_pol_test,Y_test))\n",
    "print('Mean squared error: ', mean_squared_error(Y_test, Y_pred))\n",
    "print('                 ')\n",
    "\n",
    "poly_reg = PolynomialFeatures(degree=10)\n",
    "X_pol_train = poly_reg.fit_transform(X2)\n",
    "X_pol_test = poly_reg.fit_transform(X2_test)\n",
    "\n",
    "pol_reg = LinearRegression()\n",
    "test=pol_reg.fit(X_pol_train, Y)\n",
    "Y_pred = pol_reg.predict(X_pol_test)\n",
    "\n",
    "mse.append(mean_squared_error(Y_test, Y_pred))\n",
    "r2_10.append(pol_reg.score(X_pol_test,Y_test))\n",
    "print('Для полиномиальной регрессии 10 порядка')\n",
    "print(pol_reg.coef_)\n",
    "print('Коэффициент детерминации для 10 степени:',pol_reg.score(X_pol_test,Y_test))\n",
    "print('Mean squared error: ', mean_squared_error(Y_test, Y_pred))\n",
    "print('                 ')\n",
    "\n",
    "\n"
   ]
  },
  {
   "cell_type": "markdown",
   "metadata": {},
   "source": [
    "    Для данной выборки при 2 и 3 степени MSE увеличивается незначительно, но при 10 в разы увеличивается, что говорит о том, что полиномиальная регрессия не подходит для данной выборки"
   ]
  },
  {
   "cell_type": "code",
   "execution_count": 38,
   "metadata": {},
   "outputs": [
    {
     "name": "stdout",
     "output_type": "stream",
     "text": [
      "Для полиномиальной регрессии 2 порядка\n",
      "[[ 0.          0.57037996 -6.73237309]]\n",
      "Коэффициент детерминации для 2 степени: 0.015455381411375702\n",
      "Mean squared error:  6960.293925850164\n",
      "                 \n",
      "Для полиномиальной регрессии 3 порядка\n",
      "[[  0.          26.536602    -3.85858996 -12.37332348]]\n",
      "Коэффициент детерминации для 3 степени: -0.10393821278371516\n",
      "Mean squared error:  7804.353700056025\n",
      "                 \n",
      "Для полиномиальной регрессии 10 порядка\n",
      "[[   0.           59.62287248  -62.86887828   48.88234734  163.43328621\n",
      "  -190.16770876 -102.66601719  102.91682317   19.46114637  -15.37060001\n",
      "    -0.43737194]]\n",
      "Коэффициент детерминации для 10 степени: -0.47027340282110375\n",
      "Mean squared error:  10394.181067857415\n",
      "                 \n"
     ]
    }
   ],
   "source": [
    "poly_reg = PolynomialFeatures(degree=2)\n",
    "X_pol_train = poly_reg.fit_transform(X3)\n",
    "X_pol_test = poly_reg.fit_transform(X3_test)\n",
    "\n",
    "\n",
    "pol_reg = LinearRegression()\n",
    "test=pol_reg.fit(X_pol_train, Y)\n",
    "Y_pred = pol_reg.predict(X_pol_test)\n",
    "\n",
    "print('Для полиномиальной регрессии 2 порядка')\n",
    "print(pol_reg.coef_)\n",
    "print('Коэффициент детерминации для 2 степени:',pol_reg.score(X_pol_test,Y_test))\n",
    "print('Mean squared error: ', mean_squared_error(Y_test, Y_pred))\n",
    "print('                 ')\n",
    "\n",
    "poly_reg = PolynomialFeatures(degree=3)\n",
    "X_pol_train = poly_reg.fit_transform(X3)\n",
    "X_pol_test = poly_reg.fit_transform(X3_test)\n",
    "\n",
    "\n",
    "pol_reg = LinearRegression()\n",
    "test=pol_reg.fit(X_pol_train, Y)\n",
    "Y_pred = pol_reg.predict(X_pol_test)\n",
    "\n",
    "print('Для полиномиальной регрессии 3 порядка')\n",
    "print(pol_reg.coef_)\n",
    "print('Коэффициент детерминации для 3 степени:',pol_reg.score(X_pol_test,Y_test))\n",
    "print('Mean squared error: ', mean_squared_error(Y_test, Y_pred))\n",
    "print('                 ')\n",
    "\n",
    "poly_reg = PolynomialFeatures(degree=10)\n",
    "X_pol_train = poly_reg.fit_transform(X3)\n",
    "X_pol_test = poly_reg.fit_transform(X3_test)\n",
    "\n",
    "pol_reg = LinearRegression()\n",
    "test=pol_reg.fit(X_pol_train, Y)\n",
    "Y_pred = pol_reg.predict(X_pol_test)\n",
    "\n",
    "mse.append(mean_squared_error(Y_test, Y_pred))\n",
    "r2_10.append(pol_reg.score(X_pol_test,Y_test))\n",
    "print('Для полиномиальной регрессии 10 порядка')\n",
    "print(pol_reg.coef_)\n",
    "print('Коэффициент детерминации для 10 степени:',pol_reg.score(X_pol_test,Y_test))\n",
    "print('Mean squared error: ', mean_squared_error(Y_test, Y_pred))\n",
    "print('                 ')\n",
    "\n"
   ]
  },
  {
   "cell_type": "markdown",
   "metadata": {},
   "source": [
    "При увеличении степени увеличивается MSE и уменьшается коэффициент детерминации, что говорит о том, что данный тип регрессии не подходит для этой выборки"
   ]
  },
  {
   "cell_type": "code",
   "execution_count": 39,
   "metadata": {},
   "outputs": [
    {
     "name": "stdout",
     "output_type": "stream",
     "text": [
      "Для полиномиальной регрессии 2 порядка\n",
      "[[ 0.         -5.98796162  3.68476475]]\n",
      "Коэффициент детерминации для 2 степени: -0.12983654178741189\n",
      "Mean squared error:  7987.4434033063535\n",
      "                 \n",
      "Для полиномиальной регрессии 3 порядка\n",
      "[[ 0.         -6.87189371  3.61372248  0.23133069]]\n",
      "Коэффициент детерминации для 3 степени: -0.13205361383012848\n",
      "Mean squared error:  8003.117119642556\n",
      "                 \n",
      "Для полиномиальной регрессии 10 порядка\n",
      "[[   0.          117.48874782   22.34620791 -315.5994313    22.80276927\n",
      "   251.41511645  -54.3285504   -72.12514393   21.26739203    5.6592942\n",
      "    -1.85006614]]\n",
      "Коэффициент детерминации для 10 степени: -5.25832310806478\n",
      "Mean squared error:  44243.5695575842\n",
      "                 \n"
     ]
    }
   ],
   "source": [
    "poly_reg = PolynomialFeatures(degree=2)\n",
    "X_pol_train = poly_reg.fit_transform(X4)\n",
    "X_pol_test = poly_reg.fit_transform(X4_test)\n",
    "\n",
    "\n",
    "pol_reg = LinearRegression()\n",
    "test=pol_reg.fit(X_pol_train, Y)\n",
    "Y_pred = pol_reg.predict(X_pol_test)\n",
    "\n",
    "print('Для полиномиальной регрессии 2 порядка')\n",
    "print(pol_reg.coef_)\n",
    "print('Коэффициент детерминации для 2 степени:',pol_reg.score(X_pol_test,Y_test))\n",
    "print('Mean squared error: ', mean_squared_error(Y_test, Y_pred))\n",
    "print('                 ')\n",
    "\n",
    "poly_reg = PolynomialFeatures(degree=3)\n",
    "X_pol_train = poly_reg.fit_transform(X4)\n",
    "X_pol_test = poly_reg.fit_transform(X4_test)\n",
    "\n",
    "\n",
    "pol_reg = LinearRegression()\n",
    "test=pol_reg.fit(X_pol_train, Y)\n",
    "Y_pred = pol_reg.predict(X_pol_test)\n",
    "\n",
    "print('Для полиномиальной регрессии 3 порядка')\n",
    "print(pol_reg.coef_)\n",
    "print('Коэффициент детерминации для 3 степени:',pol_reg.score(X_pol_test,Y_test))\n",
    "print('Mean squared error: ', mean_squared_error(Y_test, Y_pred))\n",
    "print('                 ')\n",
    "\n",
    "poly_reg = PolynomialFeatures(degree=10)\n",
    "X_pol_train = poly_reg.fit_transform(X4)\n",
    "X_pol_test = poly_reg.fit_transform(X4_test)\n",
    "\n",
    "pol_reg = LinearRegression()\n",
    "test=pol_reg.fit(X_pol_train, Y)\n",
    "Y_pred = pol_reg.predict(X_pol_test)\n",
    "\n",
    "mse.append(mean_squared_error(Y_test, Y_pred))\n",
    "r2_10.append(pol_reg.score(X_pol_test,Y_test))\n",
    "print('Для полиномиальной регрессии 10 порядка')\n",
    "print(pol_reg.coef_)\n",
    "print('Коэффициент детерминации для 10 степени:',pol_reg.score(X_pol_test,Y_test))\n",
    "print('Mean squared error: ', mean_squared_error(Y_test, Y_pred))\n",
    "print('                 ')\n",
    "\n"
   ]
  },
  {
   "cell_type": "markdown",
   "metadata": {},
   "source": [
    "При изменении степени коэффициент детерминации так и не становится положительным, что говорит об отсутсвии влияния Х4 на У"
   ]
  },
  {
   "cell_type": "code",
   "execution_count": 40,
   "metadata": {},
   "outputs": [
    {
     "name": "stdout",
     "output_type": "stream",
     "text": [
      "Для полиномиальной регрессии 2 порядка\n",
      "[[ 0.         -2.71807042 11.11139343]]\n",
      "Коэффициент детерминации для 2 степени: 0.029801675817947015\n",
      "Mean squared error:  6858.871985258318\n",
      "                 \n",
      "Для полиномиальной регрессии 3 порядка\n",
      "[[ 0.         -2.60249417 11.13039059 -0.04466058]]\n",
      "Коэффициент детерминации для 3 степени: 0.030441107487848784\n",
      "Mean squared error:  6854.351486863443\n",
      "                 \n",
      "Для полиномиальной регрессии 10 порядка\n",
      "[[   0.           13.84132843 -248.30630697 -161.83545231  486.65648039\n",
      "   161.54166023 -295.86911663  -52.06383834   71.59398386    5.41644254\n",
      "    -5.94676844]]\n",
      "Коэффициент детерминации для 10 степени: -0.16480172295329698\n",
      "Mean squared error:  8234.631731280799\n",
      "                 \n"
     ]
    }
   ],
   "source": [
    "poly_reg = PolynomialFeatures(degree=2)\n",
    "X_pol_train = poly_reg.fit_transform(X5)\n",
    "X_pol_test = poly_reg.fit_transform(X5_test)\n",
    "\n",
    "\n",
    "pol_reg = LinearRegression()\n",
    "test=pol_reg.fit(X_pol_train, Y)\n",
    "Y_pred = pol_reg.predict(X_pol_test)\n",
    "\n",
    "print('Для полиномиальной регрессии 2 порядка')\n",
    "print(pol_reg.coef_)\n",
    "print('Коэффициент детерминации для 2 степени:',pol_reg.score(X_pol_test,Y_test))\n",
    "print('Mean squared error: ', mean_squared_error(Y_test, Y_pred))\n",
    "print('                 ')\n",
    "\n",
    "poly_reg = PolynomialFeatures(degree=3)\n",
    "X_pol_train = poly_reg.fit_transform(X5)\n",
    "X_pol_test = poly_reg.fit_transform(X5_test)\n",
    "\n",
    "\n",
    "pol_reg = LinearRegression()\n",
    "test=pol_reg.fit(X_pol_train, Y)\n",
    "Y_pred = pol_reg.predict(X_pol_test)\n",
    "\n",
    "print('Для полиномиальной регрессии 3 порядка')\n",
    "print(pol_reg.coef_)\n",
    "print('Коэффициент детерминации для 3 степени:',pol_reg.score(X_pol_test,Y_test))\n",
    "print('Mean squared error: ', mean_squared_error(Y_test, Y_pred))\n",
    "print('                 ')\n",
    "\n",
    "poly_reg = PolynomialFeatures(degree=10)\n",
    "X_pol_train = poly_reg.fit_transform(X5)\n",
    "X_pol_test = poly_reg.fit_transform(X5_test)\n",
    "\n",
    "pol_reg = LinearRegression()\n",
    "test=pol_reg.fit(X_pol_train, Y)\n",
    "Y_pred = pol_reg.predict(X_pol_test)\n",
    "\n",
    "mse.append(mean_squared_error(Y_test, Y_pred))\n",
    "r2_10.append(pol_reg.score(X_pol_test,Y_test))\n",
    "print('Для полиномиальной регрессии 10 порядка')\n",
    "print(pol_reg.coef_)\n",
    "print('Коэффициент детерминации для 10 степени:',pol_reg.score(X_pol_test,Y_test))\n",
    "print('Mean squared error: ', mean_squared_error(Y_test, Y_pred))\n",
    "print('                 ')\n",
    "\n"
   ]
  },
  {
   "cell_type": "markdown",
   "metadata": {},
   "source": [
    "Для  Х5 при построении полиномиальной регрессии коэффициент детерминации получается отрицательным и увеличивается MSE, а значит полиномиальная регрессия не подходит для данной выборки"
   ]
  },
  {
   "cell_type": "markdown",
   "metadata": {},
   "source": [
    "### 3.Используйте другие метрики качества регрессионной модели в дополнение к коэффициенту детерминации.\n"
   ]
  },
  {
   "cell_type": "markdown",
   "metadata": {},
   "source": [
    "Чем ниже значение среднеквадратичной ошибки, тем выше качество модели.\n"
   ]
  },
  {
   "cell_type": "markdown",
   "metadata": {},
   "source": [
    " Для моих выборок Х1-Х5 при увеличении степени увеличивалась и среднекватратическая ошибка (MSE), если MSE достаточно большая, то это говорит о недообученности модели"
   ]
  },
  {
   "cell_type": "markdown",
   "metadata": {},
   "source": [
    "### 2.Постройте сводную таблицу показателей точности всех построенных моделей по тестовой и обучающей выборке. Сделайте вывод, какие модели переобученнные, какие - недообученные.\n"
   ]
  },
  {
   "cell_type": "markdown",
   "metadata": {},
   "source": [
    "В качестве такого показателя можно выбрать коэффициент детерминации"
   ]
  },
  {
   "cell_type": "markdown",
   "metadata": {},
   "source": [
    "В некоторых случаях коэффициент детерминации может принимать небольшие отрицательные значения, если модель получилась «бесполезной» и ее предсказания хуже, чем оценки на основе среднего значения"
   ]
  },
  {
   "cell_type": "code",
   "execution_count": 41,
   "metadata": {},
   "outputs": [
    {
     "data": {
      "text/plain": [
       "[-36596.416004023115,\n",
       " -85831.22487570623,\n",
       " -0.47027340282110375,\n",
       " -5.25832310806478,\n",
       " -0.16480172295329698]"
      ]
     },
     "execution_count": 41,
     "metadata": {},
     "output_type": "execute_result"
    }
   ],
   "source": [
    "r2_10"
   ]
  },
  {
   "cell_type": "code",
   "execution_count": 42,
   "metadata": {},
   "outputs": [
    {
     "name": "stdout",
     "output_type": "stream",
     "text": [
      "                 R^2 for simple linear regression  R^2 for Polynomial Regression (degree=10) \n",
      "R^2 score for X1:         0.05593                                -36596.41600\n",
      "R^2 score for X2:         0.98429                                -85831.22488\n",
      "R^2 score for X3:         -0.00617                                -0.47027\n",
      "R^2 score for X4:         -0.04406                                -5.25832\n",
      "R^2 score for X5:         0.00020                                -0.16480\n",
      " \n",
      "                 MSE for simple linear regression  MSE for Polynomial Regression (degree=10) \n",
      "MSE score for X1:         6674.14                                258727504.58\n",
      "MSE score for X2:         111.05                                606795773.56\n",
      "MSE score for X3:         7113.18                                    10394.18\n",
      "MSE score for X4:         7381.06                                    44243.57\n",
      "MSE score for X5:         7068.16                                     8234.63\n"
     ]
    }
   ],
   "source": [
    "print('                 R^2 for simple linear regression  R^2 for Polynomial Regression (degree=10) ')\n",
    "for i in range(5):\n",
    "    print(f'R^2 score for X{i+1}: ','      ', '{:6.5f}'.format(r2[i]),'                              ','{:6.5f}'.format(r2_10[i]))\n",
    "print(' ')\n",
    "print('                 MSE for simple linear regression  MSE for Polynomial Regression (degree=10) ')\n",
    "for i in range(5):\n",
    "    print(f'MSE score for X{i+1}: ','      ', '{:6.2f}'.format(mse[i]),'                              ','{:12.2f}'.format(mse[i+5]))\n",
    "  "
   ]
  },
  {
   "cell_type": "code",
   "execution_count": null,
   "metadata": {},
   "outputs": [],
   "source": []
  },
  {
   "cell_type": "markdown",
   "metadata": {},
   "source": [
    "Если посмотреть разницу между линейной и полимиальной регрессиями для каждой из выборок Х, видно, что при 10 степени полимилальной регрессии понизился коэффициент детерминаци и повысилось средне квадратическая ошибка "
   ]
  },
  {
   "cell_type": "markdown",
   "metadata": {},
   "source": [
    "Так что все модели полиномиальной  регресси для выборок переобучены, так как MSE становится больше по сравнению с выборками линейной регрессии\n"
   ]
  },
  {
   "cell_type": "markdown",
   "metadata": {},
   "source": [
    "### 4.Повторите те же действия на датасетах из данной папки. Замерьте время обучения на разных датасетах и количестве признаков. Сделайте вывод о зависимости скорости обучения от объема обучающей выборки.\n"
   ]
  },
  {
   "cell_type": "markdown",
   "metadata": {},
   "source": [
    "Будем замерять время на множественной линейной регрессии"
   ]
  },
  {
   "cell_type": "markdown",
   "metadata": {},
   "source": [
    "Сначала измерим, сколько обучается модель с моим вариантом датасета, в котором 5 количественных признаков длиною в 52 элемента"
   ]
  },
  {
   "cell_type": "code",
   "execution_count": 43,
   "metadata": {},
   "outputs": [
    {
     "data": {
      "text/plain": [
       "((52, 5), (52, 1))"
      ]
     },
     "execution_count": 43,
     "metadata": {},
     "output_type": "execute_result"
    }
   ],
   "source": [
    "x_train.shape, y_train.shape"
   ]
  },
  {
   "cell_type": "code",
   "execution_count": 44,
   "metadata": {},
   "outputs": [
    {
     "name": "stdout",
     "output_type": "stream",
     "text": [
      "971 µs ± 36.8 µs per loop (mean ± std. dev. of 7 runs, 1000 loops each)\n"
     ]
    }
   ],
   "source": [
    "%timeit lm.fit(x_train,y_train)\n",
    "\n"
   ]
  },
  {
   "cell_type": "markdown",
   "metadata": {},
   "source": [
    "Это заняло **970** микросекунд на обучение"
   ]
  },
  {
   "cell_type": "markdown",
   "metadata": {},
   "source": [
    "##### Берем новый набор датасета"
   ]
  },
  {
   "cell_type": "code",
   "execution_count": 45,
   "metadata": {},
   "outputs": [],
   "source": [
    "name=[i for i in range(1,67)]\n",
    "x_dataset = pd.read_csv('1_x.csv',names=name, header=0)\n",
    "y_dataset = pd.read_csv('1_y.csv', names = ['Y'])"
   ]
  },
  {
   "cell_type": "code",
   "execution_count": 46,
   "metadata": {},
   "outputs": [
    {
     "data": {
      "text/plain": [
       "((98040, 66), (98040, 1))"
      ]
     },
     "execution_count": 46,
     "metadata": {},
     "output_type": "execute_result"
    }
   ],
   "source": [
    "x_dataset.shape,y_dataset.shape"
   ]
  },
  {
   "cell_type": "markdown",
   "metadata": {},
   "source": [
    "Делим выборку на тестовую и обучающую"
   ]
  },
  {
   "cell_type": "code",
   "execution_count": 47,
   "metadata": {},
   "outputs": [],
   "source": [
    "x_train, x_test, y_train, y_test = train_test_split(x_dataset, y_dataset, test_size=0.2, random_state=0)"
   ]
  },
  {
   "cell_type": "code",
   "execution_count": 48,
   "metadata": {},
   "outputs": [
    {
     "data": {
      "text/plain": [
       "((78432, 66), (78432, 1))"
      ]
     },
     "execution_count": 48,
     "metadata": {},
     "output_type": "execute_result"
    }
   ],
   "source": [
    "x_train.shape,y_train.shape"
   ]
  },
  {
   "cell_type": "code",
   "execution_count": 49,
   "metadata": {},
   "outputs": [],
   "source": [
    "lm = LinearRegression()"
   ]
  },
  {
   "cell_type": "markdown",
   "metadata": {},
   "source": [
    "Замеряем время обучения этих данных"
   ]
  },
  {
   "cell_type": "code",
   "execution_count": 50,
   "metadata": {},
   "outputs": [
    {
     "name": "stdout",
     "output_type": "stream",
     "text": [
      "61.7 ms ± 1.77 ms per loop (mean ± std. dev. of 7 runs, 10 loops each)\n"
     ]
    }
   ],
   "source": [
    "%timeit lm.fit(x_train,y_train)"
   ]
  },
  {
   "cell_type": "markdown",
   "metadata": {},
   "source": [
    "Обучение данной выборки заняло **66** милисекунд, а это **66000** микросекунд, что значительно дольше, чем время обучения предыдущей выборки, которая состояла из меньшего количества признаков и объема каждого, следовательно делаем вывод, что **чем больше объем данных, тем дольше обучение модели**"
   ]
  },
  {
   "cell_type": "code",
   "execution_count": null,
   "metadata": {},
   "outputs": [],
   "source": []
  }
 ],
 "metadata": {
  "kernelspec": {
   "display_name": "Python 3 (ipykernel)",
   "language": "python",
   "name": "python3"
  },
  "language_info": {
   "codemirror_mode": {
    "name": "ipython",
    "version": 3
   },
   "file_extension": ".py",
   "mimetype": "text/x-python",
   "name": "python",
   "nbconvert_exporter": "python",
   "pygments_lexer": "ipython3",
   "version": "3.9.7"
  }
 },
 "nbformat": 4,
 "nbformat_minor": 4
}
