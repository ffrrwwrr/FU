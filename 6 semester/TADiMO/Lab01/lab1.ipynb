{
 "cells": [
  {
   "cell_type": "markdown",
   "id": "80b2ea74",
   "metadata": {},
   "source": [
    "## Задания для выполнения"
   ]
  },
  {
   "cell_type": "code",
   "execution_count": 1,
   "id": "5761eb4d",
   "metadata": {},
   "outputs": [],
   "source": [
    "import pandas as pd\n",
    "import matplotlib.pyplot as plt\n",
    "import numpy as np"
   ]
  },
  {
   "cell_type": "code",
   "execution_count": 2,
   "id": "01dbf882",
   "metadata": {},
   "outputs": [
    {
     "data": {
      "text/html": [
       "<div>\n",
       "<style scoped>\n",
       "    .dataframe tbody tr th:only-of-type {\n",
       "        vertical-align: middle;\n",
       "    }\n",
       "\n",
       "    .dataframe tbody tr th {\n",
       "        vertical-align: top;\n",
       "    }\n",
       "\n",
       "    .dataframe thead th {\n",
       "        text-align: right;\n",
       "    }\n",
       "</style>\n",
       "<table border=\"1\" class=\"dataframe\">\n",
       "  <thead>\n",
       "    <tr style=\"text-align: right;\">\n",
       "      <th></th>\n",
       "      <th>№</th>\n",
       "      <th>№ школы</th>\n",
       "      <th>Класс</th>\n",
       "      <th>Пол</th>\n",
       "      <th>Номер варианта</th>\n",
       "      <th>Задания с кратким ответом</th>\n",
       "      <th>Задания с развёрнутым ответом</th>\n",
       "      <th>Устная часть</th>\n",
       "      <th>Первичный балл</th>\n",
       "      <th>Балл</th>\n",
       "      <th>Минимальный балл</th>\n",
       "    </tr>\n",
       "  </thead>\n",
       "  <tbody>\n",
       "    <tr>\n",
       "      <th>0</th>\n",
       "      <td>1</td>\n",
       "      <td>148</td>\n",
       "      <td>13</td>\n",
       "      <td>М</td>\n",
       "      <td>505</td>\n",
       "      <td>-----------------------</td>\n",
       "      <td>0(3)0(2)0(3)0(4)</td>\n",
       "      <td>NaN</td>\n",
       "      <td>0</td>\n",
       "      <td>0</td>\n",
       "      <td>40</td>\n",
       "    </tr>\n",
       "    <tr>\n",
       "      <th>1</th>\n",
       "      <td>2</td>\n",
       "      <td>147</td>\n",
       "      <td>11</td>\n",
       "      <td>М</td>\n",
       "      <td>328</td>\n",
       "      <td>-----------------------</td>\n",
       "      <td>0(3)0(2)0(3)0(4)</td>\n",
       "      <td>NaN</td>\n",
       "      <td>0</td>\n",
       "      <td>0</td>\n",
       "      <td>40</td>\n",
       "    </tr>\n",
       "    <tr>\n",
       "      <th>2</th>\n",
       "      <td>3</td>\n",
       "      <td>111</td>\n",
       "      <td>11</td>\n",
       "      <td>М</td>\n",
       "      <td>330</td>\n",
       "      <td>---+---+-+-------------</td>\n",
       "      <td>0(3)0(2)0(3)0(4)</td>\n",
       "      <td>NaN</td>\n",
       "      <td>3</td>\n",
       "      <td>20</td>\n",
       "      <td>40</td>\n",
       "    </tr>\n",
       "    <tr>\n",
       "      <th>3</th>\n",
       "      <td>4</td>\n",
       "      <td>140</td>\n",
       "      <td>11</td>\n",
       "      <td>М</td>\n",
       "      <td>328</td>\n",
       "      <td>---+---------++--------</td>\n",
       "      <td>0(3)0(2)0(3)0(4)</td>\n",
       "      <td>NaN</td>\n",
       "      <td>3</td>\n",
       "      <td>20</td>\n",
       "      <td>40</td>\n",
       "    </tr>\n",
       "    <tr>\n",
       "      <th>4</th>\n",
       "      <td>5</td>\n",
       "      <td>148</td>\n",
       "      <td>11</td>\n",
       "      <td>М</td>\n",
       "      <td>328</td>\n",
       "      <td>----+---------+-----+--</td>\n",
       "      <td>0(3)0(2)0(3)0(4)</td>\n",
       "      <td>NaN</td>\n",
       "      <td>3</td>\n",
       "      <td>20</td>\n",
       "      <td>40</td>\n",
       "    </tr>\n",
       "    <tr>\n",
       "      <th>...</th>\n",
       "      <td>...</td>\n",
       "      <td>...</td>\n",
       "      <td>...</td>\n",
       "      <td>...</td>\n",
       "      <td>...</td>\n",
       "      <td>...</td>\n",
       "      <td>...</td>\n",
       "      <td>...</td>\n",
       "      <td>...</td>\n",
       "      <td>...</td>\n",
       "      <td>...</td>\n",
       "    </tr>\n",
       "    <tr>\n",
       "      <th>136</th>\n",
       "      <td>137</td>\n",
       "      <td>148</td>\n",
       "      <td>11</td>\n",
       "      <td>Ж</td>\n",
       "      <td>328</td>\n",
       "      <td>+++++++++++++++++++--++</td>\n",
       "      <td>3(3)2(2)3(3)4(4)</td>\n",
       "      <td>NaN</td>\n",
       "      <td>33</td>\n",
       "      <td>94</td>\n",
       "      <td>40</td>\n",
       "    </tr>\n",
       "    <tr>\n",
       "      <th>137</th>\n",
       "      <td>138</td>\n",
       "      <td>147</td>\n",
       "      <td>11</td>\n",
       "      <td>М</td>\n",
       "      <td>333</td>\n",
       "      <td>+++++++++++++++++++++++</td>\n",
       "      <td>3(3)2(2)2(3)4(4)</td>\n",
       "      <td>NaN</td>\n",
       "      <td>34</td>\n",
       "      <td>97</td>\n",
       "      <td>40</td>\n",
       "    </tr>\n",
       "    <tr>\n",
       "      <th>138</th>\n",
       "      <td>139</td>\n",
       "      <td>140</td>\n",
       "      <td>11</td>\n",
       "      <td>М</td>\n",
       "      <td>329</td>\n",
       "      <td>+++++++++++++++++++-+++</td>\n",
       "      <td>3(3)2(2)3(3)4(4)</td>\n",
       "      <td>NaN</td>\n",
       "      <td>34</td>\n",
       "      <td>97</td>\n",
       "      <td>40</td>\n",
       "    </tr>\n",
       "    <tr>\n",
       "      <th>139</th>\n",
       "      <td>140</td>\n",
       "      <td>148</td>\n",
       "      <td>11</td>\n",
       "      <td>Ж</td>\n",
       "      <td>332</td>\n",
       "      <td>-++++++++++++++++++++++</td>\n",
       "      <td>3(3)2(2)3(3)4(4)</td>\n",
       "      <td>NaN</td>\n",
       "      <td>34</td>\n",
       "      <td>97</td>\n",
       "      <td>40</td>\n",
       "    </tr>\n",
       "    <tr>\n",
       "      <th>140</th>\n",
       "      <td>141</td>\n",
       "      <td>148</td>\n",
       "      <td>11</td>\n",
       "      <td>М</td>\n",
       "      <td>329</td>\n",
       "      <td>+++++++++++++++++++++++</td>\n",
       "      <td>3(3)2(2)3(3)4(4)</td>\n",
       "      <td>NaN</td>\n",
       "      <td>35</td>\n",
       "      <td>100</td>\n",
       "      <td>40</td>\n",
       "    </tr>\n",
       "  </tbody>\n",
       "</table>\n",
       "<p>141 rows × 11 columns</p>\n",
       "</div>"
      ],
      "text/plain": [
       "       №  № школы Класс Пол  Номер варианта Задания с кратким ответом  \\\n",
       "0      1      148    13   М             505   -----------------------   \n",
       "1      2      147    11   М             328   -----------------------   \n",
       "2      3      111    11   М             330   ---+---+-+-------------   \n",
       "3      4      140    11   М             328   ---+---------++--------   \n",
       "4      5      148    11   М             328   ----+---------+-----+--   \n",
       "..   ...      ...   ...  ..             ...                       ...   \n",
       "136  137      148    11   Ж             328   +++++++++++++++++++--++   \n",
       "137  138      147    11   М             333   +++++++++++++++++++++++   \n",
       "138  139      140    11   М             329   +++++++++++++++++++-+++   \n",
       "139  140      148    11   Ж             332   -++++++++++++++++++++++   \n",
       "140  141      148    11   М             329   +++++++++++++++++++++++   \n",
       "\n",
       "    Задания с развёрнутым ответом  Устная часть  Первичный балл  Балл  \\\n",
       "0                0(3)0(2)0(3)0(4)           NaN               0     0   \n",
       "1                0(3)0(2)0(3)0(4)           NaN               0     0   \n",
       "2                0(3)0(2)0(3)0(4)           NaN               3    20   \n",
       "3                0(3)0(2)0(3)0(4)           NaN               3    20   \n",
       "4                0(3)0(2)0(3)0(4)           NaN               3    20   \n",
       "..                            ...           ...             ...   ...   \n",
       "136              3(3)2(2)3(3)4(4)           NaN              33    94   \n",
       "137              3(3)2(2)2(3)4(4)           NaN              34    97   \n",
       "138              3(3)2(2)3(3)4(4)           NaN              34    97   \n",
       "139              3(3)2(2)3(3)4(4)           NaN              34    97   \n",
       "140              3(3)2(2)3(3)4(4)           NaN              35   100   \n",
       "\n",
       "     Минимальный балл  \n",
       "0                  40  \n",
       "1                  40  \n",
       "2                  40  \n",
       "3                  40  \n",
       "4                  40  \n",
       "..                ...  \n",
       "136                40  \n",
       "137                40  \n",
       "138                40  \n",
       "139                40  \n",
       "140                40  \n",
       "\n",
       "[141 rows x 11 columns]"
      ]
     },
     "execution_count": 2,
     "metadata": {},
     "output_type": "execute_result"
    }
   ],
   "source": [
    "#1. Загрузите данные в ноутбук\n",
    "df = pd.read_excel('data/Вариант 4.xlsx', header = 2, skipfooter = 1)\n",
    "df"
   ]
  },
  {
   "cell_type": "code",
   "execution_count": 3,
   "id": "4b15b8eb",
   "metadata": {},
   "outputs": [],
   "source": [
    "a = df.to_numpy() # преобразовали dataframe в numpy.array и дальше работаем с numpy"
   ]
  },
  {
   "cell_type": "code",
   "execution_count": 4,
   "id": "3a279c6b",
   "metadata": {},
   "outputs": [
    {
     "name": "stdout",
     "output_type": "stream",
     "text": [
      "\n",
      "Min: 0\n",
      "Max: 100\n",
      "Mean: 60.780141843971634\n",
      "Sum: 8570\n",
      "Median: 64.0\n",
      "\n"
     ]
    }
   ],
   "source": [
    "#2.Сделайте описательную статистику по набранному баллу\n",
    "print(f'''\n",
    "Min: {a[:, -2].min()}\n",
    "Max: {a[:, -2].max()}\n",
    "Mean: {a[:, -2].mean()}\n",
    "Sum: {a[:, -2].sum()}\n",
    "Median: {np.median(a[:, -2])}\n",
    "''')"
   ]
  },
  {
   "cell_type": "code",
   "execution_count": 5,
   "id": "09fa97c4",
   "metadata": {},
   "outputs": [
    {
     "name": "stdout",
     "output_type": "stream",
     "text": [
      "46.09929078014184 %\n"
     ]
    }
   ],
   "source": [
    "#3 Найдите процент учащихся, выполнивших работу ниже среднего\n",
    "mean = a[:, -2].mean()\n",
    "print(f'{len(a[a[:,-2] < mean]) / len(a[:,-2]) * 100} %')"
   ]
  },
  {
   "cell_type": "code",
   "execution_count": 6,
   "id": "32dbcabc",
   "metadata": {},
   "outputs": [
    {
     "name": "stdout",
     "output_type": "stream",
     "text": [
      "4.964539007092199 %\n"
     ]
    }
   ],
   "source": [
    "#4. Найти процент учащихся не сдавших экзамен\n",
    "print(f'{len(a[a[:,-2] < 24]) / len(a[:,-2]) * 100} %')"
   ]
  },
  {
   "cell_type": "code",
   "execution_count": 7,
   "id": "23e49bb6",
   "metadata": {},
   "outputs": [
    {
     "data": {
      "image/png": "[encoded data removed]",
      "text/plain": [
       "<Figure size 432x288 with 1 Axes>"
      ]
     },
     "metadata": {},
     "output_type": "display_data"
    }
   ],
   "source": [
    "#5. Постройте круговую диаграмму, показывающую распределение сдавших и не сдавших экзамен\n",
    "fl = len(a[a[:,-2] < 24]) / len(a[:,-2]) * 100\n",
    "al = 141\n",
    "fig, ax = plt.subplots()\n",
    "ax.pie([al - fl, fl], labels = [f'Сдали\\n({al-fl})', f'Не сдали\\n({fl})'], autopct='%1.2f%%')\n",
    "ax.axis('equal')\n",
    "ax.legend(loc = 'upper left', bbox_to_anchor = (1.0, 1.0))\n",
    "plt.show()"
   ]
  },
  {
   "cell_type": "code",
   "execution_count": 8,
   "id": "23c3ab19",
   "metadata": {},
   "outputs": [],
   "source": [
    "#6. Постройте ядерную оценку плотности распределению баллов за экзамен"
   ]
  },
  {
   "cell_type": "code",
   "execution_count": 9,
   "id": "5e20e08c",
   "metadata": {},
   "outputs": [
    {
     "name": "stdout",
     "output_type": "stream",
     "text": [
      "\n",
      "Экзамен на «отлично» = 12.056737588652481 %\n",
      "Экзамен на «хорошо» = 35.46099290780142 %\n",
      "Экзамен на «удовлетворительно» = 47.5177304964539 %\n",
      "Экзамен на «неудовлетворительно» = 0.7092198581560284 %\n",
      "\n"
     ]
    }
   ],
   "source": [
    "#7. Найдите процентное соотношение учащихся, сдавших экзамен на «отлично», «хорошо», «удовлетворительно», «неудовлетворительно».\n",
    "marks = a[:, -2]\n",
    "res = [a[:, -2] < 24]\n",
    "all = len(marks)\n",
    "great = marks[marks >= 80]\n",
    "okay = marks[(marks >= 65) & (marks < 80)]\n",
    "satisfactorily = marks[(marks < 65) & (marks >= 24)]\n",
    "unsatisfactory = res\n",
    "\n",
    "print(f'''\n",
    "Экзамен на «отлично» = {len(great) / all * 100} %\n",
    "Экзамен на «хорошо» = {len(okay) / all * 100} %\n",
    "Экзамен на «удовлетворительно» = {len(satisfactorily) / all * 100} %\n",
    "Экзамен на «неудовлетворительно» = {len(unsatisfactory) / all * 100} %\n",
    "''')"
   ]
  },
  {
   "cell_type": "code",
   "execution_count": 10,
   "id": "d0c9b09e",
   "metadata": {},
   "outputs": [
    {
     "name": "stdout",
     "output_type": "stream",
     "text": [
      "\n",
      "Men = 77.30496453900709 %\n",
      "Women = 22.69503546099291 %\n",
      "\n"
     ]
    }
   ],
   "source": [
    "#8. Какое процентное соотношение юношей и девушек писало данный экзамен?\n",
    "genders = a[:, 3]\n",
    "men = genders[genders == 'М']\n",
    "women = genders[genders == 'Ж']\n",
    "\n",
    "print(f'''\n",
    "Men = {len(men) / len(genders) * 100} %\n",
    "Women = {len(women) / len(genders) * 100} %\n",
    "''')"
   ]
  },
  {
   "cell_type": "code",
   "execution_count": 11,
   "id": "ed0559f5",
   "metadata": {},
   "outputs": [
    {
     "name": "stdout",
     "output_type": "stream",
     "text": [
      "Number of schools: 10\n"
     ]
    }
   ],
   "source": [
    "#9. Сколько школ принимало участие в экзамене?\n",
    "print(f'Number of schools: {np.count_nonzero(np.unique(a[:, 1]))}')"
   ]
  },
  {
   "cell_type": "markdown",
   "id": "7a0e49c0",
   "metadata": {},
   "source": [
    "## Дополнительные задания"
   ]
  },
  {
   "cell_type": "code",
   "execution_count": 12,
   "id": "04e6d6be",
   "metadata": {},
   "outputs": [],
   "source": [
    "#1. Сколько всего заданий с кратким ответом? С развернутым ответом?\n"
   ]
  },
  {
   "cell_type": "code",
   "execution_count": 13,
   "id": "dd63e2cc",
   "metadata": {},
   "outputs": [],
   "source": [
    "#2. Пусть задания с кратким ответом будут задания типа В. \n",
    "#   Соответственно всего по экзамену вопросов класса В: В 1 … В к \n",
    "#   Посчитайте процент выполненных и невыполненных заданий по каждому вопросу класса В.\n"
   ]
  },
  {
   "cell_type": "code",
   "execution_count": 14,
   "id": "8d3385ae",
   "metadata": {},
   "outputs": [],
   "source": [
    "#3. Аналогично и с типом С (ответы с развернутым ответом)\n"
   ]
  },
  {
   "cell_type": "code",
   "execution_count": 15,
   "id": "b0755794",
   "metadata": {},
   "outputs": [],
   "source": [
    "#4. Сделайте анализ по двум школам:\n",
    "#   a. по всем выполненным заданиям типа В\n"
   ]
  },
  {
   "cell_type": "code",
   "execution_count": 16,
   "id": "49a87fb8",
   "metadata": {},
   "outputs": [],
   "source": [
    "#   b. по заданиям типа С больше 50%\n"
   ]
  },
  {
   "cell_type": "code",
   "execution_count": 17,
   "id": "efe5b928",
   "metadata": {},
   "outputs": [],
   "source": [
    "#   c. по среднему балу юношей и девушек\n"
   ]
  },
  {
   "cell_type": "markdown",
   "id": "77a986df",
   "metadata": {},
   "source": [
    "## Контрольные вопросы"
   ]
  },
  {
   "cell_type": "code",
   "execution_count": 18,
   "id": "77a8d731",
   "metadata": {},
   "outputs": [
    {
     "data": {
      "text/plain": [
       "(10,)"
      ]
     },
     "execution_count": 18,
     "metadata": {},
     "output_type": "execute_result"
    }
   ],
   "source": [
    "#1. Какое свойство содержит количество элементов массива по измерениям?\n",
    "arr = np.empty(10)\n",
    "arr.shape"
   ]
  },
  {
   "cell_type": "code",
   "execution_count": 19,
   "id": "ae0223b6",
   "metadata": {},
   "outputs": [
    {
     "data": {
      "text/plain": [
       "array([0, 1, 2, 3, 4])"
      ]
     },
     "execution_count": 19,
     "metadata": {},
     "output_type": "execute_result"
    }
   ],
   "source": [
    "#2. Напишите функцию, создающую ndarray из массива [0, 1, 2, 3, 4]\n",
    "np.array([0, 1, 2, 3, 4]) "
   ]
  },
  {
   "cell_type": "code",
   "execution_count": 20,
   "id": "be49d91f",
   "metadata": {},
   "outputs": [
    {
     "data": {
      "text/plain": [
       "array([[[[0., 0.],\n",
       "         [0., 0.]],\n",
       "\n",
       "        [[0., 0.],\n",
       "         [0., 0.]]],\n",
       "\n",
       "\n",
       "       [[[0., 0.],\n",
       "         [0., 0.]],\n",
       "\n",
       "        [[0., 0.],\n",
       "         [0., 0.]]]])"
      ]
     },
     "execution_count": 20,
     "metadata": {},
     "output_type": "execute_result"
    }
   ],
   "source": [
    "#3. Как создать нулевой 4-мерный вектор?\n",
    "np.zeros([2 for _ in range(4)]) "
   ]
  },
  {
   "cell_type": "code",
   "execution_count": 21,
   "id": "fb6076c9",
   "metadata": {},
   "outputs": [
    {
     "data": {
      "text/plain": [
       "array([[1., 0., 0., 0.],\n",
       "       [0., 1., 0., 0.],\n",
       "       [0., 0., 1., 0.]])"
      ]
     },
     "execution_count": 21,
     "metadata": {},
     "output_type": "execute_result"
    }
   ],
   "source": [
    "#4. Как создать единичную диагональную матрицу 3х4?\n",
    "np.eye(3, 4) "
   ]
  },
  {
   "cell_type": "code",
   "execution_count": 22,
   "id": "bb69395d",
   "metadata": {},
   "outputs": [
    {
     "name": "stdout",
     "output_type": "stream",
     "text": [
      "\n",
      "Прямое умножение:\n",
      "[[ 2  3]\n",
      " [32 32]]\n",
      "\n",
      "Математическое умножение:\n",
      "[[10 11]\n",
      " [40 44]],\n",
      "[[10 11]\n",
      " [40 44]]\n",
      "\n"
     ]
    }
   ],
   "source": [
    "#5. Сколько операций умножения матриц существует в numpy?\n",
    "A = np.array([[1, 1], [4, 4]])\n",
    "B = np.array([[2, 3], [8, 8]])\n",
    "print(f'''\n",
    "Прямое умножение:\\n{A * B}\n",
    "\n",
    "Математическое умножение:\\n{A @ B},\\n{A.dot(B)}\n",
    "''')"
   ]
  },
  {
   "cell_type": "code",
   "execution_count": 23,
   "id": "5f70add0",
   "metadata": {},
   "outputs": [
    {
     "data": {
      "text/plain": [
       "array([10, 13, 16, 19, 22, 25, 28, 31, 34, 37, 40, 43])"
      ]
     },
     "execution_count": 23,
     "metadata": {},
     "output_type": "execute_result"
    }
   ],
   "source": [
    "#6. Напишите инструкцию, выбирающую каждый третий элемент массива А начиная с 10-го и заканчивая 45-м\n",
    "np.array(np.arange(88))[10:45][::3]"
   ]
  },
  {
   "cell_type": "code",
   "execution_count": 24,
   "id": "a00d88b3",
   "metadata": {},
   "outputs": [
    {
     "data": {
      "text/plain": [
       "array([[ 0,  1,  2],\n",
       "       [ 3,  4,  5],\n",
       "       [ 6,  7,  8],\n",
       "       [ 9, 10, 11]])"
      ]
     },
     "execution_count": 24,
     "metadata": {},
     "output_type": "execute_result"
    }
   ],
   "source": [
    "#7. Напишите инструкцию создания матрицы 4х3 из плоского массива из 12 элементов\n",
    "np.array(np.arange(12)).reshape((4,3))"
   ]
  },
  {
   "cell_type": "code",
   "execution_count": null,
   "id": "c3fa8806",
   "metadata": {},
   "outputs": [],
   "source": []
  }
 ],
 "metadata": {
  "kernelspec": {
   "display_name": "Python 3",
   "language": "python",
   "name": "python3"
  },
  "language_info": {
   "codemirror_mode": {
    "name": "ipython",
    "version": 3
   },
   "file_extension": ".py",
   "mimetype": "text/x-python",
   "name": "python",
   "nbconvert_exporter": "python",
   "pygments_lexer": "ipython3",
   "version": "3.8.8"
  }
 },
 "nbformat": 4,
 "nbformat_minor": 5
}
