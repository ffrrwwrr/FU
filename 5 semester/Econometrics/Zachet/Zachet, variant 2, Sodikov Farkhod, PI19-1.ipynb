{
 "cells": [
  {
   "cell_type": "code",
   "execution_count": 1,
   "id": "aea3f620",
   "metadata": {},
   "outputs": [],
   "source": [
    "import numpy as np\n",
    "import matplotlib.pyplot as plt"
   ]
  },
  {
   "cell_type": "code",
   "execution_count": 2,
   "id": "844b4787",
   "metadata": {},
   "outputs": [],
   "source": [
    "y = np.array([7,5,6,10,7,7,11,12,9,7,8,14,10,8,9,13])\n",
    "\n",
    "lags = []"
   ]
  },
  {
   "cell_type": "code",
   "execution_count": 3,
   "id": "db9ec230",
   "metadata": {},
   "outputs": [],
   "source": [
    "yi1_y1cp = np.subtract(y[1:], np.mean(y[1:]))\n",
    "yi2_y2cp = np.subtract(y[:-1], np.mean(y[:-1]))\n",
    "summ_yi1_y1cpXyi2_y2cp = np.sum(yi1_y1cp * yi2_y2cp)\n",
    "summ_yi1_y1cp2 = np.sum(yi1_y1cp**2)\n",
    "summ_yi2_y2cp2 = np.sum(yi2_y2cp**2)\n",
    "y1Sigma = np.sqrt(summ_yi1_y1cp2 / 7)\n",
    "y2Sigma = np.sqrt(summ_yi2_y2cp2 / 7)\n",
    "firstLag = summ_yi1_y1cpXyi2_y2cp / (y1Sigma * y2Sigma * 7)\n",
    "lags.append(firstLag)"
   ]
  },
  {
   "cell_type": "code",
   "execution_count": 4,
   "id": "4ac6a872",
   "metadata": {},
   "outputs": [],
   "source": [
    "yi3_y3cp = np.subtract(y[2:], np.mean(y[2:]))\n",
    "yi4_y4cp = np.subtract(y[:-2], np.mean(y[:-2]))\n",
    "summ_yi3_y3cpXyi4_y4cp = np.sum(yi3_y3cp * yi4_y4cp)\n",
    "summ_yi3_y3cp2 = np.sum(yi3_y3cp**2)\n",
    "summ_yi4_y4cp2 = np.sum(yi4_y4cp**2)\n",
    "y3Sigma = np.sqrt(summ_yi3_y3cp2 / 6)\n",
    "y4Sigma = np.sqrt(summ_yi4_y4cp2 / 6)\n",
    "secondLag = summ_yi3_y3cpXyi4_y4cp / (y3Sigma * y4Sigma * 6)\n",
    "lags.append(secondLag)"
   ]
  },
  {
   "cell_type": "code",
   "execution_count": 5,
   "id": "f05ff9b7",
   "metadata": {},
   "outputs": [],
   "source": [
    "yi5_y5cp = np.subtract(y[3:], np.mean(y[3:]))\n",
    "yi6_y6cp = np.subtract(y[:-3], np.mean(y[:-3]))\n",
    "summ_yi5_y5cpXyi6_y6cp = np.sum(yi5_y5cp * yi6_y6cp)\n",
    "summ_yi5_y5cp2 = np.sum(yi5_y5cp**2)\n",
    "summ_yi6_y6cp2 = np.sum(yi6_y6cp**2)\n",
    "y5Sigma = np.sqrt(summ_yi5_y5cp2/5)\n",
    "y6Sigma = np.sqrt(summ_yi6_y6cp2/5)\n",
    "thirdLag = summ_yi5_y5cpXyi6_y6cp / (y5Sigma * y6Sigma * 5)\n",
    "lags.append(thirdLag)"
   ]
  },
  {
   "cell_type": "code",
   "execution_count": 6,
   "id": "e381ab7b",
   "metadata": {},
   "outputs": [],
   "source": [
    "yi7_y7cp = np.subtract(y[4:], np.mean(y[4:]))\n",
    "yi8_y8cp = np.subtract(y[:-4], np.mean(y[:-4]))\n",
    "summ_yi7_y7cpXyi8_y8cp = np.sum(yi7_y7cp * yi8_y8cp)\n",
    "summ_yi7_y7cp2 = np.sum(yi7_y7cp**2)\n",
    "summ_yi8_y8cp2 = np.sum(yi8_y8cp**2)\n",
    "y7Sigma = np.sqrt(summ_yi7_y7cp2 / 4)\n",
    "y8Sigma = np.sqrt(summ_yi8_y8cp2 / 4)\n",
    "fourthLag = summ_yi7_y7cpXyi8_y8cp / (y7Sigma * y8Sigma * 4)\n",
    "lags.append(fourthLag)"
   ]
  },
  {
   "cell_type": "code",
   "execution_count": 9,
   "id": "9c4b6cce",
   "metadata": {},
   "outputs": [
    {
     "name": "stdout",
     "output_type": "stream",
     "text": [
      "Time series:  [0.25416157732092204, -0.35629031432159164, 0.08912498197109227, 0.7113731872068423]\n"
     ]
    },
    {
     "data": {
      "image/png": "[encoded data removed]",
      "text/plain": [
       "<Figure size 432x288 with 1 Axes>"
      ]
     },
     "metadata": {
      "needs_background": "light"
     },
     "output_type": "display_data"
    }
   ],
   "source": [
    "def line_draw(x, y):\n",
    "    print('Time series: ', y)\n",
    "    plt.plot(x, y, color = 'green')\n",
    "    plt.scatter(x, y, color = '#A60000', marker = '8', s = 30)\n",
    "    plt.xlabel('Лаги')\n",
    "    plt.ylabel('Потребление электро энергии, млн кВТ*ч, y(t)')\n",
    "    plt.show()\n",
    "\n",
    "line_draw(['ts1','ts2','ts3','ts4'], lags)"
   ]
  }
 ],
 "metadata": {
  "kernelspec": {
   "display_name": "Python 3",
   "language": "python",
   "name": "python3"
  },
  "language_info": {
   "codemirror_mode": {
    "name": "ipython",
    "version": 3
   },
   "file_extension": ".py",
   "mimetype": "text/x-python",
   "name": "python",
   "nbconvert_exporter": "python",
   "pygments_lexer": "ipython3",
   "version": "3.9.6"
  }
 },
 "nbformat": 4,
 "nbformat_minor": 5
}
