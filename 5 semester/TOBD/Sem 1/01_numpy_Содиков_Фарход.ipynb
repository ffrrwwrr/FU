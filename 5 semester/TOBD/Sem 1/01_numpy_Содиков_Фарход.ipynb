{
 "cells": [
  {
   "cell_type": "markdown",
   "source": [
    "# Numpy"
   ],
   "metadata": {}
  },
  {
   "cell_type": "markdown",
   "source": [
    "Материалы:\n",
    "* Макрушин С.В. \"Лекция 1: Библиотека Numpy\"\n",
    "* https://numpy.org/doc/stable/user/index.html\n",
    "* https://numpy.org/doc/stable/reference/index.html\n",
    "* Уэс Маккини. Python и анализ данных"
   ],
   "metadata": {}
  },
  {
   "cell_type": "markdown",
   "source": [
    "## Задачи для совместного разбора"
   ],
   "metadata": {}
  },
  {
   "cell_type": "code",
   "execution_count": 23,
   "source": [
    "import numpy as np\n",
    "\n",
    "lst = [1,2,3,4,5,6,7,8]\n",
    "lst"
   ],
   "outputs": [
    {
     "output_type": "execute_result",
     "data": {
      "text/plain": [
       "[1, 2, 3, 4, 5, 6, 7, 8]"
      ]
     },
     "metadata": {},
     "execution_count": 23
    }
   ],
   "metadata": {}
  },
  {
   "cell_type": "code",
   "execution_count": 24,
   "source": [
    "[i**2 for i in lst]"
   ],
   "outputs": [
    {
     "output_type": "execute_result",
     "data": {
      "text/plain": [
       "[1, 4, 9, 16, 25, 36, 49, 64]"
      ]
     },
     "metadata": {},
     "execution_count": 24
    }
   ],
   "metadata": {}
  },
  {
   "cell_type": "code",
   "execution_count": 25,
   "source": [
    "arr = np.array(lst)\n",
    "arr ** 2"
   ],
   "outputs": [
    {
     "output_type": "execute_result",
     "data": {
      "text/plain": [
       "array([ 1,  4,  9, 16, 25, 36, 49, 64])"
      ]
     },
     "metadata": {},
     "execution_count": 25
    }
   ],
   "metadata": {}
  },
  {
   "cell_type": "code",
   "execution_count": 26,
   "source": [
    "mask = arr < 4\n",
    "mask"
   ],
   "outputs": [
    {
     "output_type": "execute_result",
     "data": {
      "text/plain": [
       "array([ True,  True,  True, False, False, False, False, False])"
      ]
     },
     "metadata": {},
     "execution_count": 26
    }
   ],
   "metadata": {}
  },
  {
   "cell_type": "code",
   "execution_count": 27,
   "source": [
    "arr[mask]"
   ],
   "outputs": [
    {
     "output_type": "execute_result",
     "data": {
      "text/plain": [
       "array([1, 2, 3])"
      ]
     },
     "metadata": {},
     "execution_count": 27
    }
   ],
   "metadata": {}
  },
  {
   "cell_type": "code",
   "execution_count": 28,
   "source": [
    "arr = np.arange(20).reshape(5,4)\n",
    "arr"
   ],
   "outputs": [
    {
     "output_type": "execute_result",
     "data": {
      "text/plain": [
       "array([[ 0,  1,  2,  3],\n",
       "       [ 4,  5,  6,  7],\n",
       "       [ 8,  9, 10, 11],\n",
       "       [12, 13, 14, 15],\n",
       "       [16, 17, 18, 19]])"
      ]
     },
     "metadata": {},
     "execution_count": 28
    }
   ],
   "metadata": {}
  },
  {
   "cell_type": "code",
   "execution_count": 29,
   "source": [
    "arr[:3,]"
   ],
   "outputs": [
    {
     "output_type": "execute_result",
     "data": {
      "text/plain": [
       "array([[ 0,  1,  2,  3],\n",
       "       [ 4,  5,  6,  7],\n",
       "       [ 8,  9, 10, 11]])"
      ]
     },
     "metadata": {},
     "execution_count": 29
    }
   ],
   "metadata": {}
  },
  {
   "cell_type": "markdown",
   "source": [
    "1. Сгенерировать двухмерный массив `arr` размерности (4, 7), состоящий из случайных действительных чисел, равномерно распределенных в диапазоне от 0 до 20. Нормализовать значения массива с помощью преобразования вида  $𝑎𝑥+𝑏$  так, что после нормализации максимальный элемент масcива будет равен 1.0, минимальный 0.0"
   ],
   "metadata": {}
  },
  {
   "cell_type": "code",
   "execution_count": 30,
   "source": [
    "arr1 = np.random.uniform(0, 20, size=(4, 7))\n",
    "(arr1 - arr1.min()) / (arr1.max()- arr1.min())"
   ],
   "outputs": [
    {
     "output_type": "execute_result",
     "data": {
      "text/plain": [
       "array([[0.42050003, 0.90097251, 0.73372855, 0.28337064, 0.37986025,\n",
       "        0.98872384, 0.69345344],\n",
       "       [0.36696915, 0.57840017, 0.03026474, 0.92480912, 0.00885219,\n",
       "        0.25637542, 0.87225957],\n",
       "       [0.89650318, 0.90298155, 0.82847446, 0.86595052, 0.90024965,\n",
       "        0.98515772, 0.83121072],\n",
       "       [0.07160522, 0.0614332 , 0.53268248, 1.        , 0.        ,\n",
       "        0.65309447, 0.38148795]])"
      ]
     },
     "metadata": {},
     "execution_count": 30
    }
   ],
   "metadata": {}
  },
  {
   "cell_type": "markdown",
   "source": [
    "2. Создать матрицу 8 на 10 из случайных целых (используя модуль `numpy.random`) чисел из диапозона от 0 до 10 и найти в ней строку (ее индекс и вывести саму строку), в которой сумма значений минимальна."
   ],
   "metadata": {}
  },
  {
   "cell_type": "code",
   "execution_count": 31,
   "source": [
    "arr2 = np.random.randint(0,10,size=(8,10))\n",
    "arr2"
   ],
   "outputs": [
    {
     "output_type": "execute_result",
     "data": {
      "text/plain": [
       "array([[2, 2, 7, 9, 0, 8, 6, 4, 0, 7],\n",
       "       [7, 4, 1, 8, 8, 7, 4, 4, 5, 9],\n",
       "       [9, 8, 6, 1, 1, 3, 9, 2, 5, 1],\n",
       "       [6, 9, 7, 2, 8, 8, 2, 2, 9, 6],\n",
       "       [2, 5, 6, 1, 9, 1, 3, 2, 8, 1],\n",
       "       [8, 1, 7, 9, 0, 0, 5, 3, 5, 2],\n",
       "       [4, 3, 8, 0, 8, 5, 2, 8, 5, 6],\n",
       "       [1, 0, 8, 9, 5, 0, 1, 6, 1, 7]])"
      ]
     },
     "metadata": {},
     "execution_count": 31
    }
   ],
   "metadata": {}
  },
  {
   "cell_type": "code",
   "execution_count": 32,
   "source": [
    "str_col = arr2.sum(axis=1)\n",
    "arr2[str_col == str_col.min()]"
   ],
   "outputs": [
    {
     "output_type": "execute_result",
     "data": {
      "text/plain": [
       "array([[2, 5, 6, 1, 9, 1, 3, 2, 8, 1],\n",
       "       [1, 0, 8, 9, 5, 0, 1, 6, 1, 7]])"
      ]
     },
     "metadata": {},
     "execution_count": 32
    }
   ],
   "metadata": {}
  },
  {
   "cell_type": "markdown",
   "source": [
    "3. Найти евклидово расстояние между двумя одномерными векторами одинаковой размерности."
   ],
   "metadata": {}
  },
  {
   "cell_type": "code",
   "execution_count": 33,
   "source": [
    "arr31 = np.random.randint(0,10,size=(1,10))\n",
    "arr32 = np.random.randint(0,10,size=(1,10))\n",
    "print(f\"array 3.1:\\n{arr31}\\narray 3.2:\\n{arr32}\")\n",
    "\n",
    "formula = np.sqrt(((arr31 - arr32) ** 2).sum())\n",
    "print(f\"Answer:\\n{formula}\")"
   ],
   "outputs": [
    {
     "output_type": "stream",
     "name": "stdout",
     "text": [
      "array 3.1:\n",
      "[[3 6 2 8 4 7 2 5 8 1]]\n",
      "array 3.2:\n",
      "[[5 6 1 2 4 6 2 5 5 7]]\n",
      "Answer:\n",
      "9.327379053088816\n"
     ]
    }
   ],
   "metadata": {}
  },
  {
   "cell_type": "code",
   "execution_count": 34,
   "source": [
    "print(f\"Second method:\\n{np.linalg.norm(arr31-arr32)}\")"
   ],
   "outputs": [
    {
     "output_type": "stream",
     "name": "stdout",
     "text": [
      "Second method:\n",
      "9.327379053088816\n"
     ]
    }
   ],
   "metadata": {}
  },
  {
   "cell_type": "markdown",
   "source": [
    "4. Решить матричное уравнение `A*X*B=-C` - найти матрицу `X`. Где `A = [[-1, 2, 4], [-3, 1, 2], [-3, 0, 1]]`, `B=[[3, -1], [2, 1]]`, `C=[[7, 21], [11, 8], [8, 4]]`."
   ],
   "metadata": {}
  },
  {
   "cell_type": "code",
   "execution_count": 35,
   "source": [
    "# A * X * B = -C\n",
    "# X = \n",
    "a = np.array([[-1, 2, 4], [-3, 1, 2], [-3, 0, 1]])\n",
    "b = np.array([[3, -1], [2, 1]])\n",
    "c = np.array([[7, 21], [11, 8], [8, 4]])\n",
    "print(f\"a:\\n{a}\\nb:\\n{b}\\nc:\\n{c}\\n\")\n",
    "\n",
    "otvet = np.linalg.inv(a) @ (-c) @ np.linalg.inv(b)\n",
    "print(f\"Answer:\\n{otvet}\")"
   ],
   "outputs": [
    {
     "output_type": "stream",
     "name": "stdout",
     "text": [
      "a:\n",
      "[[-1  2  4]\n",
      " [-3  1  2]\n",
      " [-3  0  1]]\n",
      "b:\n",
      "[[ 3 -1]\n",
      " [ 2  1]]\n",
      "c:\n",
      "[[ 7 21]\n",
      " [11  8]\n",
      " [ 8  4]]\n",
      "\n",
      "Answer:\n",
      "[[ 1.00000000e+00  5.32907052e-16]\n",
      " [-2.00000000e+00  1.00000000e+00]\n",
      " [ 3.00000000e+00 -4.00000000e+00]]\n"
     ]
    }
   ],
   "metadata": {}
  },
  {
   "cell_type": "markdown",
   "source": [
    "## Лабораторная работа №1"
   ],
   "metadata": {}
  },
  {
   "cell_type": "markdown",
   "source": [
    "Замечание: при решении данных задач не подразумевается использования циклов или генераторов Python, если в задании не сказано обратного. Решение должно опираться на использования функционала библиотеки `numpy`."
   ],
   "metadata": {}
  },
  {
   "cell_type": "markdown",
   "source": [
    "1. Файл `minutes_n_ingredients.csv` содержит информацию об идентификаторе рецепта, времени его выполнения в минутах и количестве необходимых ингредиентов. Считайте данные из этого файла в виде массива `numpy` типа `int32`, используя `np.loadtxt`. Выведите на экран первые 5 строк массива."
   ],
   "metadata": {}
  },
  {
   "cell_type": "code",
   "execution_count": 36,
   "source": [
    "import numpy as np\n",
    "\n",
    "\n",
    "task01 = np.loadtxt('minutes_n_ingredients.csv', dtype = np.int32, delimiter = ',', skiprows = 1, max_rows = 5)\n",
    "print(f\"[Task 01] Answer:\\n\\nThe first 5 lines of the array:\\n{task01}\")"
   ],
   "outputs": [
    {
     "output_type": "stream",
     "name": "stdout",
     "text": [
      "[Task 01] Answer:\n",
      "\n",
      "The first 5 lines of the array:\n",
      "[[127244     60     16]\n",
      " [ 23891     25      7]\n",
      " [ 94746     10      6]\n",
      " [ 67660      5      6]\n",
      " [157911     60     14]]\n"
     ]
    }
   ],
   "metadata": {}
  },
  {
   "cell_type": "markdown",
   "source": [
    "2. Вычислите среднее значение, минимум, максимум и медиану по каждому из столбцов, кроме первого."
   ],
   "metadata": {}
  },
  {
   "cell_type": "code",
   "execution_count": 37,
   "source": [
    "task02 = np.loadtxt('minutes_n_ingredients.csv', dtype=np.int32, delimiter=',',skiprows=1,usecols=(1,2))\n",
    "print(f\"[Task 02] Answer:\\n\\nMean: [{task02[:,0].mean()}, {task02[:,1].mean()}]\\nMinimum: {task02.min(axis=0)}\\nMaximum: {task02.max(axis=0)} \\nMedian: {np.median(task02, axis=0)}\")"
   ],
   "outputs": [
    {
     "output_type": "stream",
     "name": "stdout",
     "text": [
      "[Task 02] Answer:\n",
      "\n",
      "Mean: [21601.00169, 9.05528]\n",
      "Minimum: [0 1]\n",
      "Maximum: [2147483647         39] \n",
      "Median: [40.  9.]\n"
     ]
    }
   ],
   "metadata": {}
  },
  {
   "cell_type": "markdown",
   "source": [
    "3. Ограничьте сверху значения продолжительности выполнения рецепта значением квантиля $q_{0.75}$. "
   ],
   "metadata": {}
  },
  {
   "cell_type": "code",
   "execution_count": 38,
   "source": [
    "task03 = np.loadtxt('minutes_n_ingredients.csv', dtype = np.int32, delimiter=',', skiprows=1)\n",
    "forQ = np.loadtxt('minutes_n_ingredients.csv', dtype = np.int32, delimiter=',', skiprows=1, usecols=1)\n",
    "q = np.quantile(forQ, 0.75, axis=0)\n",
    "print(f\"[Task 03] Answer:\\n\\n{task03[forQ < q]}\")\n",
    "#print(q)"
   ],
   "outputs": [
    {
     "output_type": "stream",
     "name": "stdout",
     "text": [
      "[Task 03] Answer:\n",
      "\n",
      "[[127244     60     16]\n",
      " [ 23891     25      7]\n",
      " [ 94746     10      6]\n",
      " ...\n",
      " [371794     35      8]\n",
      " [ 43407     35      7]\n",
      " [370915      5      4]]\n"
     ]
    }
   ],
   "metadata": {}
  },
  {
   "cell_type": "markdown",
   "source": [
    "4. Посчитайте, для скольких рецептов указана продолжительность, равная нулю. Замените для таких строк значение в данном столбце на 1."
   ],
   "metadata": {}
  },
  {
   "cell_type": "code",
   "execution_count": 39,
   "source": [
    "task04 = np.loadtxt('minutes_n_ingredients.csv', dtype = np.int32, delimiter=',', skiprows=1)\n",
    "arrForZeroVal = np.loadtxt('minutes_n_ingredients.csv', dtype = np.int32, delimiter=',', skiprows=1, usecols=1)\n",
    "\n",
    "# np.place(arr, mask, vals)\n",
    "np.place(task04[:,1], task04[:,1]==0, 1)\n",
    "print(f\"[Task 04] Answer: {np.size(arrForZeroVal[arrForZeroVal==0])}\")"
   ],
   "outputs": [
    {
     "output_type": "stream",
     "name": "stdout",
     "text": [
      "[Task 04] Answer: 479\n"
     ]
    }
   ],
   "metadata": {}
  },
  {
   "cell_type": "markdown",
   "source": [
    "5. Посчитайте, сколько уникальных рецептов находится в датасете."
   ],
   "metadata": {}
  },
  {
   "cell_type": "code",
   "execution_count": 40,
   "source": [
    "task05 = np.loadtxt('minutes_n_ingredients.csv', dtype = np.int32, delimiter=',', skiprows=1, usecols=0)\n",
    "\n",
    "# np.unique(arr, , , , axis)\n",
    "print(f\"[Task 05] Answer: {np.size(np.unique(task05))}\")"
   ],
   "outputs": [
    {
     "output_type": "stream",
     "name": "stdout",
     "text": [
      "[Task 05] Answer: 100000\n"
     ]
    }
   ],
   "metadata": {}
  },
  {
   "cell_type": "markdown",
   "source": [
    "6. Сколько и каких различных значений кол-ва ингредиентов присутвует в рецептах из датасета?"
   ],
   "metadata": {}
  },
  {
   "cell_type": "code",
   "execution_count": 45,
   "source": [
    "task06 = np.loadtxt('minutes_n_ingredients.csv', dtype = np.int32, delimiter=',', skiprows=1, usecols=2)\n",
    "\n",
    "# np.size - кол-во, np.unique - уникальное значение из массива\n",
    "print(f\"[Task 06] Answer: \\n\\nNumber of values: {np.size(np.unique(task06))}\\nAll different values of a variable: \\n{np.unique(task06)}\")"
   ],
   "outputs": [
    {
     "output_type": "stream",
     "name": "stdout",
     "text": [
      "[Task 06] Answer: \n",
      "\n",
      "Number of values: 37\n",
      "All different values of a variable: \n",
      "[ 1  2  3  4  5  6  7  8  9 10 11 12 13 14 15 16 17 18 19 20 21 22 23 24\n",
      " 25 26 27 28 29 30 31 32 33 34 35 37 39]\n"
     ]
    }
   ],
   "metadata": {}
  },
  {
   "cell_type": "markdown",
   "source": [
    "7. Создайте версию массива, содержащую информацию только о рецептах, состоящих не более чем из 5 ингредиентов."
   ],
   "metadata": {}
  },
  {
   "cell_type": "code",
   "execution_count": 74,
   "source": [
    "# task06 - кол-во ингредиентов \n",
    "task07 = np.loadtxt('minutes_n_ingredients.csv', dtype = np.int32, delimiter=',', skiprows=1)[task06<=5]\n",
    "print(f\"[Task 07] Answer:\\n\\n{task07}\")"
   ],
   "outputs": [
    {
     "output_type": "stream",
     "name": "stdout",
     "text": [
      "[Task 07] Answer:\n",
      "\n",
      "[[446597     15      5]\n",
      " [204134      5      3]\n",
      " [ 25623      6      4]\n",
      " ...\n",
      " [ 52088     60      5]\n",
      " [128811     15      4]\n",
      " [370915      5      4]]\n"
     ]
    }
   ],
   "metadata": {}
  },
  {
   "cell_type": "markdown",
   "source": [
    "8. Для каждого рецепта посчитайте, сколько в среднем ингредиентов приходится на одну минуту рецепта. Найдите максимальное значение этой величины для всего датасета"
   ],
   "metadata": {}
  },
  {
   "cell_type": "code",
   "execution_count": 49,
   "source": [
    "# НЕ ПОНЯЛ НЕ ПОНЯЛ НЕ ПОНЯЛ НЕ ПОНЯЛ НЕ ПОНЯЛ НЕ ПОНЯЛ НЕ ПОНЯЛ НЕ ПОНЯЛ \n",
    "\n",
    "#array of minutes\n",
    "task08 = np.loadtxt('minutes_n_ingredients.csv', dtype = np.int32, delimiter=',', skiprows=1, usecols=1)\n",
    "\n",
    "# np.place(task08, task08==0, 1)\n",
    "# answer=ingredients/minutes\n",
    "ans = task06/task08\n",
    "print(f\"[Task 08] Answer:\\n\\n{ans}\\nMax: {max(ans)}\")"
   ],
   "outputs": [
    {
     "output_type": "stream",
     "name": "stdout",
     "text": [
      "[Task 08] Answer:\n",
      "\n",
      "[0.26666667 0.28       0.6        ... 0.23076923 0.8        0.1       ]\n",
      "Max: inf\n"
     ]
    },
    {
     "output_type": "stream",
     "name": "stderr",
     "text": [
      "/var/folders/lf/d2lsgyp97ql5m98sdnhnmftm0000gn/T/ipykernel_805/3905447497.py:6: RuntimeWarning: divide by zero encountered in true_divide\n",
      "  ans = task06/task08\n"
     ]
    }
   ],
   "metadata": {}
  },
  {
   "cell_type": "markdown",
   "source": [
    "9. Вычислите среднее количество ингредиентов для топ-100 рецептов с наибольшей продолжительностью"
   ],
   "metadata": {}
  },
  {
   "cell_type": "code",
   "execution_count": 94,
   "source": [
    "task09 = np.loadtxt('minutes_n_ingredients.csv', dtype = np.int32, delimiter=',', skiprows=1)\n",
    "\n",
    "task09_01 = task09[task09[:, 1].argsort()[::-1]][:100, :]\n",
    "print(f\"[Task 09] Answer: {task09_01[:, 2].mean(axis=0)}\")\n"
   ],
   "outputs": [
    {
     "output_type": "stream",
     "name": "stdout",
     "text": [
      "[Task 09] Answer: 6.61\n"
     ]
    }
   ],
   "metadata": {}
  },
  {
   "cell_type": "markdown",
   "source": [
    "10. Выберите случайным образом и выведите информацию о 10 различных рецептах"
   ],
   "metadata": {}
  },
  {
   "cell_type": "code",
   "execution_count": 95,
   "source": [
    "task10 = np.loadtxt('minutes_n_ingredients.csv', dtype = np.int32, delimiter=',', skiprows=1)\n",
    "\n",
    "# np.replace.choice(a, size:int, replace:boolean, p)\n",
    "print(f\"[Task 10] Answer:\\n\\n{task10[np.random.choice(task10.shape[0], 10, replace=False)]}\")"
   ],
   "outputs": [
    {
     "output_type": "stream",
     "name": "stdout",
     "text": [
      "[Task 10] Answer:\n",
      "\n",
      "[[256045     20     11]\n",
      " [ 72510     25      6]\n",
      " [ 37690     35     14]\n",
      " [435745     40     12]\n",
      " [178839     45      7]\n",
      " [ 67049     15      4]\n",
      " [312034     40      8]\n",
      " [112727     22     11]\n",
      " [ 94841    250      5]\n",
      " [191292     15      6]]\n"
     ]
    }
   ],
   "metadata": {}
  },
  {
   "cell_type": "markdown",
   "source": [
    "11. Выведите процент рецептов, кол-во ингредиентов в которых меньше среднего."
   ],
   "metadata": {}
  },
  {
   "cell_type": "code",
   "execution_count": 97,
   "source": [
    "task11 = np.loadtxt('minutes_n_ingredients.csv', dtype = np.int32, delimiter=',', skiprows=1, usecols=2)\n",
    "\n",
    "# (кол-во рец ниже ср / кол-во всех) * 100\n",
    "task11_1 = np.size(task11[task11<task11.mean()]) / np.size(task11) * 100\n",
    "print(f\"[Task 11] Answer: {task11_1} %\")"
   ],
   "outputs": [
    {
     "output_type": "stream",
     "name": "stdout",
     "text": [
      "[Task 11] Answer: 58.802 %\n"
     ]
    }
   ],
   "metadata": {}
  },
  {
   "cell_type": "markdown",
   "source": [
    "12. Назовем \"простым\" такой рецепт, длительность выполнения которого не больше 20 минут и кол-во ингредиентов в котором не больше 5. Создайте версию датасета с дополнительным столбцом, значениями которого являются 1, если рецепт простой, и 0 в противном случае."
   ],
   "metadata": {}
  },
  {
   "cell_type": "code",
   "execution_count": 55,
   "source": [
    "task12 = np.loadtxt('minutes_n_ingredients.csv', dtype = np.int32, delimiter=',', skiprows=1) # id,m,n\n",
    "task12_1 = np.loadtxt('minutes_n_ingredients.csv', dtype = np.int32, delimiter=',', skiprows=1, usecols=1) # m\n",
    "task12_2 = np.loadtxt('minutes_n_ingredients.csv', dtype = np.int32, delimiter=',', skiprows=1, usecols=2) # n\n",
    "\n",
    "task12_3 = np.hsplit(np.where((task12_1 <= 20)&(task12_2 <= 5), 1, 0), np.size(task12_1))\n",
    "print(f\"[Task 12] Answer: \\n\\n{np.append(task12, task12_3, axis=1)}\")"
   ],
   "outputs": [
    {
     "output_type": "stream",
     "name": "stdout",
     "text": [
      "[Task 12] Answer: \n",
      "\n",
      "[[127244     60     16      0]\n",
      " [ 23891     25      7      0]\n",
      " [ 94746     10      6      0]\n",
      " ...\n",
      " [498432     65     15      0]\n",
      " [370915      5      4      1]\n",
      " [ 81993    140     14      0]]\n"
     ]
    }
   ],
   "metadata": {}
  },
  {
   "cell_type": "markdown",
   "source": [
    "13. Выведите процент \"простых\" рецептов в датасете"
   ],
   "metadata": {}
  },
  {
   "cell_type": "code",
   "execution_count": 98,
   "source": [
    "task13 = np.where((task12_1 <= 20)&(task12_2 <= 5), 1, 0)\n",
    "\n",
    "# (кол-во простых / кол-во всех) * 100\n",
    "print(f\"[Task 13] Answer: {np.size(task13[task13==1]) / np.size(task13) * 100} %\")"
   ],
   "outputs": [
    {
     "output_type": "stream",
     "name": "stdout",
     "text": [
      "[Task 13] Answer: 9.552 %\n"
     ]
    }
   ],
   "metadata": {}
  },
  {
   "cell_type": "markdown",
   "source": [
    "14. Разделим рецепты на группы по следующему правилу. Назовем рецепты короткими, если их продолжительность составляет менее 10 минут; стандартными, если их продолжительность составляет более 10, но менее 20 минут; и длинными, если их продолжительность составляет не менее 20 минут. Создайте трехмерный массив, где нулевая ось отвечает за номер группы (короткий, стандартный или длинный рецепт), первая ось - за сам рецепт и вторая ось - за характеристики рецепта. Выберите максимальное количество рецептов из каждой группы таким образом, чтобы было возможно сформировать трехмерный массив. Выведите форму полученного массива."
   ],
   "metadata": {}
  },
  {
   "cell_type": "code",
   "execution_count": 99,
   "source": [
    "task14 = np.loadtxt('minutes_n_ingredients.csv', dtype = np.int32, delimiter=',', skiprows=1, usecols=(0,1))\n",
    "task14_SecCol = np.loadtxt('minutes_n_ingredients.csv', dtype = np.int32, delimiter=',', skiprows=1, usecols=1)\n",
    "# условие, 1-short(-inf;10), 2-avarage(10;20), 3-long(20;+inf)\n",
    "task14_usl = np.where((task14_SecCol <= 10), 1, (np.where((task14_SecCol > 10)&(task14_SecCol <= 20), 2, 3)))\n",
    "# замена значений столбца id на 1,2,3\n",
    "task14_zam = np.insert(task14, 0, task14_usl, axis=1)\n",
    "task14_1 = task14_zam[task14_usl==1][:12466,:] # short\n",
    "task14_2 = task14_zam[task14_usl==2][:12466,:] # avarage\n",
    "task14_3 = task14_zam[task14_usl==3][:12466,:] # long\n",
    "print(f\"[Task 14] Answer: \\n\\n{np.stack([task14_1,task14_2, task14_3])}\")\n",
    "# print(f\"Short cooking time:\\n\\n{task14_1}\\n\\nAvarage cooking time:\\n\\n{task14_2}\\n\\nLong cooking time:\\n\\n{task14_3}\")"
   ],
   "outputs": [
    {
     "output_type": "stream",
     "name": "stdout",
     "text": [
      "[Task 14] Answer: \n",
      "\n",
      "[[[     1  94746     10]\n",
      "  [     1  67660      5]\n",
      "  [     1 366174      7]\n",
      "  ...\n",
      "  [     1 420725      5]\n",
      "  [     1   4747      0]\n",
      "  [     1 370915      5]]\n",
      "\n",
      " [[     2  33941     18]\n",
      "  [     2 446597     15]\n",
      "  [     2  74205     20]\n",
      "  ...\n",
      "  [     2 230115     20]\n",
      "  [     2 496131     20]\n",
      "  [     2 365818     20]]\n",
      "\n",
      " [[     3 127244     60]\n",
      "  [     3  23891     25]\n",
      "  [     3 157911     60]\n",
      "  ...\n",
      "  [     3  68428     70]\n",
      "  [     3 312995   1445]\n",
      "  [     3  93651    240]]]\n"
     ]
    }
   ],
   "metadata": {}
  },
  {
   "cell_type": "code",
   "execution_count": null,
   "source": [],
   "outputs": [],
   "metadata": {}
  }
 ],
 "metadata": {
  "kernelspec": {
   "name": "python3",
   "display_name": "Python 3.8.2 64-bit"
  },
  "language_info": {
   "codemirror_mode": {
    "name": "ipython",
    "version": 3
   },
   "file_extension": ".py",
   "mimetype": "text/x-python",
   "name": "python",
   "nbconvert_exporter": "python",
   "pygments_lexer": "ipython3",
   "version": "3.8.2"
  },
  "interpreter": {
   "hash": "31f2aee4e71d21fbe5cf8b01ff0e069b9275f58929596ceb00d14d90e3e16cd6"
  }
 },
 "nbformat": 4,
 "nbformat_minor": 4
}