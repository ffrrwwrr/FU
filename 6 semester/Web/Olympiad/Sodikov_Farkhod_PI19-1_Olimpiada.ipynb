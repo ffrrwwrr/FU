{
 "cells": [
  {
   "cell_type": "markdown",
   "id": "6fa0a5ff",
   "metadata": {},
   "source": [
    "# Содиков Фарход, ПИ19-1, Олимпиада по программированию"
   ]
  },
  {
   "cell_type": "code",
   "execution_count": 50,
   "id": "e29216bc",
   "metadata": {},
   "outputs": [],
   "source": [
    "import pandas as pd\n",
    "import numpy as np\n",
    "import math"
   ]
  },
  {
   "cell_type": "markdown",
   "id": "be4f8033",
   "metadata": {},
   "source": [
    "### Random data"
   ]
  },
  {
   "cell_type": "code",
   "execution_count": 51,
   "id": "d8bd66aa",
   "metadata": {},
   "outputs": [
    {
     "data": {
      "text/html": [
       "<div>\n",
       "<style scoped>\n",
       "    .dataframe tbody tr th:only-of-type {\n",
       "        vertical-align: middle;\n",
       "    }\n",
       "\n",
       "    .dataframe tbody tr th {\n",
       "        vertical-align: top;\n",
       "    }\n",
       "\n",
       "    .dataframe thead th {\n",
       "        text-align: right;\n",
       "    }\n",
       "</style>\n",
       "<table border=\"1\" class=\"dataframe\">\n",
       "  <thead>\n",
       "    <tr style=\"text-align: right;\">\n",
       "      <th></th>\n",
       "      <th>Debtor</th>\n",
       "      <th>Creditor</th>\n",
       "      <th>Amount of debt</th>\n",
       "    </tr>\n",
       "  </thead>\n",
       "  <tbody>\n",
       "    <tr>\n",
       "      <th>0</th>\n",
       "      <td>Person 01</td>\n",
       "      <td>Person 02</td>\n",
       "      <td>600</td>\n",
       "    </tr>\n",
       "    <tr>\n",
       "      <th>1</th>\n",
       "      <td>Person 02</td>\n",
       "      <td>Person 01</td>\n",
       "      <td>300</td>\n",
       "    </tr>\n",
       "    <tr>\n",
       "      <th>2</th>\n",
       "      <td>Person 03</td>\n",
       "      <td>Person 04</td>\n",
       "      <td>250</td>\n",
       "    </tr>\n",
       "    <tr>\n",
       "      <th>3</th>\n",
       "      <td>Person 02</td>\n",
       "      <td>Person 04</td>\n",
       "      <td>450</td>\n",
       "    </tr>\n",
       "    <tr>\n",
       "      <th>4</th>\n",
       "      <td>Person 03</td>\n",
       "      <td>Person 04</td>\n",
       "      <td>200</td>\n",
       "    </tr>\n",
       "    <tr>\n",
       "      <th>5</th>\n",
       "      <td>Person 01</td>\n",
       "      <td>Person 02</td>\n",
       "      <td>60</td>\n",
       "    </tr>\n",
       "  </tbody>\n",
       "</table>\n",
       "</div>"
      ],
      "text/plain": [
       "      Debtor   Creditor  Amount of debt\n",
       "0  Person 01  Person 02             600\n",
       "1  Person 02  Person 01             300\n",
       "2  Person 03  Person 04             250\n",
       "3  Person 02  Person 04             450\n",
       "4  Person 03  Person 04             200\n",
       "5  Person 01  Person 02              60"
      ]
     },
     "execution_count": 51,
     "metadata": {},
     "output_type": "execute_result"
    }
   ],
   "source": [
    "tb = {\n",
    "    'Debtor': ['Person 01', 'Person 02', 'Person 03', 'Person 02', 'Person 03', 'Person 01'], \n",
    "    'Creditor': ['Person 02', 'Person 01', 'Person 04', 'Person 04', 'Person 04', 'Person 02'],\n",
    "    'Amount of debt': [600, 300, 250, 450, 200, 60]\n",
    "     }\n",
    "\n",
    "mainData = pd.DataFrame(tb)\n",
    "mainData"
   ]
  },
  {
   "cell_type": "markdown",
   "id": "48eae673",
   "metadata": {},
   "source": [
    "### Grouping matching data"
   ]
  },
  {
   "cell_type": "code",
   "execution_count": 52,
   "id": "8395a6bd",
   "metadata": {},
   "outputs": [
    {
     "data": {
      "text/html": [
       "<div>\n",
       "<style scoped>\n",
       "    .dataframe tbody tr th:only-of-type {\n",
       "        vertical-align: middle;\n",
       "    }\n",
       "\n",
       "    .dataframe tbody tr th {\n",
       "        vertical-align: top;\n",
       "    }\n",
       "\n",
       "    .dataframe thead th {\n",
       "        text-align: right;\n",
       "    }\n",
       "</style>\n",
       "<table border=\"1\" class=\"dataframe\">\n",
       "  <thead>\n",
       "    <tr style=\"text-align: right;\">\n",
       "      <th></th>\n",
       "      <th>Debtor</th>\n",
       "      <th>Creditor</th>\n",
       "      <th>Amount of debt</th>\n",
       "    </tr>\n",
       "  </thead>\n",
       "  <tbody>\n",
       "    <tr>\n",
       "      <th>0</th>\n",
       "      <td>Person 01</td>\n",
       "      <td>Person 02</td>\n",
       "      <td>660</td>\n",
       "    </tr>\n",
       "    <tr>\n",
       "      <th>1</th>\n",
       "      <td>Person 02</td>\n",
       "      <td>Person 01</td>\n",
       "      <td>300</td>\n",
       "    </tr>\n",
       "    <tr>\n",
       "      <th>2</th>\n",
       "      <td>Person 02</td>\n",
       "      <td>Person 04</td>\n",
       "      <td>450</td>\n",
       "    </tr>\n",
       "    <tr>\n",
       "      <th>3</th>\n",
       "      <td>Person 03</td>\n",
       "      <td>Person 04</td>\n",
       "      <td>450</td>\n",
       "    </tr>\n",
       "  </tbody>\n",
       "</table>\n",
       "</div>"
      ],
      "text/plain": [
       "      Debtor   Creditor  Amount of debt\n",
       "0  Person 01  Person 02             660\n",
       "1  Person 02  Person 01             300\n",
       "2  Person 02  Person 04             450\n",
       "3  Person 03  Person 04             450"
      ]
     },
     "execution_count": 52,
     "metadata": {},
     "output_type": "execute_result"
    }
   ],
   "source": [
    "mainData = mainData.groupby(['Debtor', 'Creditor']).sum().reset_index()\n",
    "mainData"
   ]
  },
  {
   "cell_type": "code",
   "execution_count": 53,
   "id": "a10cfe58",
   "metadata": {},
   "outputs": [
    {
     "data": {
      "text/html": [
       "<div>\n",
       "<style scoped>\n",
       "    .dataframe tbody tr th:only-of-type {\n",
       "        vertical-align: middle;\n",
       "    }\n",
       "\n",
       "    .dataframe tbody tr th {\n",
       "        vertical-align: top;\n",
       "    }\n",
       "\n",
       "    .dataframe thead th {\n",
       "        text-align: right;\n",
       "    }\n",
       "</style>\n",
       "<table border=\"1\" class=\"dataframe\">\n",
       "  <thead>\n",
       "    <tr style=\"text-align: right;\">\n",
       "      <th></th>\n",
       "      <th>Debtor</th>\n",
       "      <th>Creditor</th>\n",
       "      <th>Amount of debt</th>\n",
       "    </tr>\n",
       "  </thead>\n",
       "  <tbody>\n",
       "    <tr>\n",
       "      <th>0</th>\n",
       "      <td>NaN</td>\n",
       "      <td>Person 01</td>\n",
       "      <td>-660</td>\n",
       "    </tr>\n",
       "    <tr>\n",
       "      <th>1</th>\n",
       "      <td>NaN</td>\n",
       "      <td>Person 02</td>\n",
       "      <td>-300</td>\n",
       "    </tr>\n",
       "    <tr>\n",
       "      <th>2</th>\n",
       "      <td>NaN</td>\n",
       "      <td>Person 02</td>\n",
       "      <td>-450</td>\n",
       "    </tr>\n",
       "    <tr>\n",
       "      <th>3</th>\n",
       "      <td>NaN</td>\n",
       "      <td>Person 03</td>\n",
       "      <td>-450</td>\n",
       "    </tr>\n",
       "  </tbody>\n",
       "</table>\n",
       "</div>"
      ],
      "text/plain": [
       "   Debtor   Creditor  Amount of debt\n",
       "0     NaN  Person 01            -660\n",
       "1     NaN  Person 02            -300\n",
       "2     NaN  Person 02            -450\n",
       "3     NaN  Person 03            -450"
      ]
     },
     "execution_count": 53,
     "metadata": {},
     "output_type": "execute_result"
    }
   ],
   "source": [
    "secondData = mainData.copy()\n",
    "secondData.rename(columns = {'Debtor' : 'Creditor', 'Creditor' : 'Должник'}, inplace = True)\n",
    "secondData = secondData.reindex(columns = ['Debtor','Creditor','Amount of debt'])\n",
    "secondData['Amount of debt'] = -mainData['Amount of debt']\n",
    "secondData"
   ]
  },
  {
   "cell_type": "markdown",
   "id": "fbfaa81b",
   "metadata": {},
   "source": [
    "### Joining two tables"
   ]
  },
  {
   "cell_type": "code",
   "execution_count": 54,
   "id": "99db8be8",
   "metadata": {},
   "outputs": [
    {
     "data": {
      "text/html": [
       "<div>\n",
       "<style scoped>\n",
       "    .dataframe tbody tr th:only-of-type {\n",
       "        vertical-align: middle;\n",
       "    }\n",
       "\n",
       "    .dataframe tbody tr th {\n",
       "        vertical-align: top;\n",
       "    }\n",
       "\n",
       "    .dataframe thead th {\n",
       "        text-align: right;\n",
       "    }\n",
       "</style>\n",
       "<table border=\"1\" class=\"dataframe\">\n",
       "  <thead>\n",
       "    <tr style=\"text-align: right;\">\n",
       "      <th></th>\n",
       "      <th>Debtor</th>\n",
       "      <th>Creditor</th>\n",
       "      <th>Amount of debt</th>\n",
       "    </tr>\n",
       "  </thead>\n",
       "  <tbody>\n",
       "    <tr>\n",
       "      <th>0</th>\n",
       "      <td>Person 01</td>\n",
       "      <td>Person 02</td>\n",
       "      <td>660</td>\n",
       "    </tr>\n",
       "    <tr>\n",
       "      <th>1</th>\n",
       "      <td>Person 02</td>\n",
       "      <td>Person 01</td>\n",
       "      <td>300</td>\n",
       "    </tr>\n",
       "    <tr>\n",
       "      <th>2</th>\n",
       "      <td>Person 02</td>\n",
       "      <td>Person 04</td>\n",
       "      <td>450</td>\n",
       "    </tr>\n",
       "    <tr>\n",
       "      <th>3</th>\n",
       "      <td>Person 03</td>\n",
       "      <td>Person 04</td>\n",
       "      <td>450</td>\n",
       "    </tr>\n",
       "  </tbody>\n",
       "</table>\n",
       "</div>"
      ],
      "text/plain": [
       "      Debtor   Creditor  Amount of debt\n",
       "0  Person 01  Person 02             660\n",
       "1  Person 02  Person 01             300\n",
       "2  Person 02  Person 04             450\n",
       "3  Person 03  Person 04             450"
      ]
     },
     "execution_count": 54,
     "metadata": {},
     "output_type": "execute_result"
    }
   ],
   "source": [
    "results = pd.concat([mainData , secondData]).groupby(['Debtor', 'Creditor']).sum().reset_index()\n",
    "results.drop(results[results['Amount of debt'] < 0].index, inplace = True)\n",
    "results"
   ]
  },
  {
   "cell_type": "code",
   "execution_count": null,
   "id": "cc7e13b4",
   "metadata": {},
   "outputs": [],
   "source": []
  }
 ],
 "metadata": {
  "kernelspec": {
   "display_name": "Python 3",
   "language": "python",
   "name": "python3"
  },
  "language_info": {
   "codemirror_mode": {
    "name": "ipython",
    "version": 3
   },
   "file_extension": ".py",
   "mimetype": "text/x-python",
   "name": "python",
   "nbconvert_exporter": "python",
   "pygments_lexer": "ipython3",
   "version": "3.8.8"
  }
 },
 "nbformat": 4,
 "nbformat_minor": 5
}
