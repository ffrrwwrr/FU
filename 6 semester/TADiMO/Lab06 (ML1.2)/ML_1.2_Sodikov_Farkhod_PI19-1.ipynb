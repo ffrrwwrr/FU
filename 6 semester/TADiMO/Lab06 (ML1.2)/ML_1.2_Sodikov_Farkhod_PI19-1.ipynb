{
 "cells": [
  {
   "cell_type": "markdown",
   "metadata": {},
   "source": [
    "# Содиков Фарход, ПИ19-1, ML1.2\n",
    "## Задания для выполнения.\n",
    "### 1. Ваша задача - построить предиктивную модель предсказания целевой переменной в зависимости от значения нескольких факторов (признаков)."
   ]
  },
  {
   "cell_type": "code",
   "execution_count": 129,
   "metadata": {},
   "outputs": [],
   "source": [
    "import random\n",
    "import numpy as np\n",
    "import pandas as pd\n",
    "import matplotlib.pyplot as plt\n",
    "import sklearn\n",
    "from sklearn import linear_model\n",
    "from sklearn.linear_model import LinearRegression\n",
    "from sklearn.model_selection import train_test_split\n",
    "from sklearn.metrics import r2_score,mean_squared_error, mean_absolute_error"
   ]
  },
  {
   "cell_type": "markdown",
   "metadata": {},
   "source": [
    "### 2.Загрузите датасет отсюда. Вам понадобится два файла - отдельно с признаками (помечен x) и значениями целевой переменной (помечен y). Файлы не содержат заголовков столбцов и строк."
   ]
  },
  {
   "cell_type": "code",
   "execution_count": 130,
   "metadata": {},
   "outputs": [],
   "source": [
    "x_dataset = pd.read_csv('./data/19_x.csv', names = ['x1','x2','x3'], header = None)\n",
    "y_dataset = pd.read_csv('./data/19_y.csv', names = ['Y'], header = None)"
   ]
  },
  {
   "cell_type": "markdown",
   "metadata": {},
   "source": [
    "### 3. Сделайте количественное описание датасета."
   ]
  },
  {
   "cell_type": "code",
   "execution_count": 131,
   "metadata": {},
   "outputs": [
    {
     "name": "stdout",
     "output_type": "stream",
     "text": [
      "\n",
      "Shape of X: (70, 3) \n",
      "Shape of Y: (70, 1)\n",
      "\n",
      "Describe of X:\n",
      "              x1         x2         x3\n",
      "count  70.000000  70.000000  70.000000\n",
      "mean    0.083273  -0.111627   0.002190\n",
      "std     1.060233   0.980703   0.840765\n",
      "min    -2.606880  -2.129910  -1.896352\n",
      "25%    -0.600220  -0.936378  -0.429161\n",
      "50%     0.128845  -0.049244   0.003797\n",
      "75%     0.611285   0.543912   0.556886\n",
      "max     3.483627   1.902446   2.503449\n",
      "\n",
      "Describe of Y:\n",
      "                Y\n",
      "count   70.000000\n",
      "mean     2.788599\n",
      "std     47.560602\n",
      "min   -117.088327\n",
      "25%    -30.715606\n",
      "50%      0.333113\n",
      "75%     25.953389\n",
      "max    121.263402\n",
      "\n",
      "Corr of X:\n",
      "          x1        x2        x3\n",
      "x1  1.000000  0.214792  0.038904\n",
      "x2  0.214792  1.000000  0.018413\n",
      "x3  0.038904  0.018413  1.000000\n",
      "\n"
     ]
    }
   ],
   "source": [
    "print(f'''\n",
    "Shape of X: {x_dataset.shape} \n",
    "Shape of Y: {y_dataset.shape}\n",
    "\n",
    "Describe of X:\n",
    "{x_dataset.describe()}\n",
    "\n",
    "Describe of Y:\n",
    "{y_dataset.describe()}\n",
    "\n",
    "Corr of X:\n",
    "{x_dataset.corr()}\n",
    "''')\n"
   ]
  },
  {
   "cell_type": "code",
   "execution_count": 132,
   "metadata": {},
   "outputs": [
    {
     "data": {
      "text/plain": [
       "LinearRegression()"
      ]
     },
     "execution_count": 132,
     "metadata": {},
     "output_type": "execute_result"
    }
   ],
   "source": [
    "reg = linear_model.LinearRegression() #create model\n",
    "reg.fit(x_dataset, y_dataset) #fit()"
   ]
  },
  {
   "cell_type": "code",
   "execution_count": 133,
   "metadata": {},
   "outputs": [
    {
     "name": "stdout",
     "output_type": "stream",
     "text": [
      "Coef: [[41.88849166  0.50737491 13.27827397]]\n",
      "\n",
      "Intercept: [-0.67202679]\n",
      "\n",
      "Prediction: [[ 2.01810448e+01]\n",
      " [ 2.50125286e+01]\n",
      " [-4.09094992e+01]\n",
      " [-6.84657012e-04]\n",
      " [ 8.96296107e+01]]\n",
      "\n",
      "Iloc:            Y\n",
      "0  12.847083\n",
      "1  32.599461\n",
      "2 -64.148684\n",
      "3  -4.926700\n",
      "4  76.160027\n"
     ]
    }
   ],
   "source": [
    "print(f'''Coef: {reg.coef_}\n",
    "\n",
    "Intercept: {reg.intercept_}\n",
    "\n",
    "Prediction: {reg.predict(x_dataset.iloc[0:5])}\n",
    "\n",
    "Iloc: {y_dataset.iloc[0:5]}''')\n"
   ]
  },
  {
   "cell_type": "markdown",
   "metadata": {},
   "source": [
    "### 4. Разделите все наблюдения на обучающую и тестовую выборки в соотношении 80-20."
   ]
  },
  {
   "cell_type": "code",
   "execution_count": 134,
   "metadata": {},
   "outputs": [],
   "source": [
    "x_train, x_test, y_train, y_test = train_test_split(x_dataset, y_dataset, test_size=0.2, random_state=123)"
   ]
  },
  {
   "cell_type": "code",
   "execution_count": 135,
   "metadata": {},
   "outputs": [
    {
     "data": {
      "text/html": [
       "<div>\n",
       "<style scoped>\n",
       "    .dataframe tbody tr th:only-of-type {\n",
       "        vertical-align: middle;\n",
       "    }\n",
       "\n",
       "    .dataframe tbody tr th {\n",
       "        vertical-align: top;\n",
       "    }\n",
       "\n",
       "    .dataframe thead th {\n",
       "        text-align: right;\n",
       "    }\n",
       "</style>\n",
       "<table border=\"1\" class=\"dataframe\">\n",
       "  <thead>\n",
       "    <tr style=\"text-align: right;\">\n",
       "      <th></th>\n",
       "      <th>x1</th>\n",
       "      <th>x2</th>\n",
       "      <th>x3</th>\n",
       "    </tr>\n",
       "  </thead>\n",
       "  <tbody>\n",
       "    <tr>\n",
       "      <th>0</th>\n",
       "      <td>0.849343</td>\n",
       "      <td>0.317037</td>\n",
       "      <td>-1.121040</td>\n",
       "    </tr>\n",
       "    <tr>\n",
       "      <th>1</th>\n",
       "      <td>0.452329</td>\n",
       "      <td>0.386385</td>\n",
       "      <td>0.492619</td>\n",
       "    </tr>\n",
       "    <tr>\n",
       "      <th>2</th>\n",
       "      <td>-0.971847</td>\n",
       "      <td>0.597311</td>\n",
       "      <td>0.012704</td>\n",
       "    </tr>\n",
       "    <tr>\n",
       "      <th>3</th>\n",
       "      <td>0.065406</td>\n",
       "      <td>-0.364863</td>\n",
       "      <td>-0.141833</td>\n",
       "    </tr>\n",
       "    <tr>\n",
       "      <th>4</th>\n",
       "      <td>1.937645</td>\n",
       "      <td>0.002707</td>\n",
       "      <td>0.687983</td>\n",
       "    </tr>\n",
       "  </tbody>\n",
       "</table>\n",
       "</div>"
      ],
      "text/plain": [
       "         x1        x2        x3\n",
       "0  0.849343  0.317037 -1.121040\n",
       "1  0.452329  0.386385  0.492619\n",
       "2 -0.971847  0.597311  0.012704\n",
       "3  0.065406 -0.364863 -0.141833\n",
       "4  1.937645  0.002707  0.687983"
      ]
     },
     "execution_count": 135,
     "metadata": {},
     "output_type": "execute_result"
    }
   ],
   "source": [
    "x_dataset.head()"
   ]
  },
  {
   "cell_type": "code",
   "execution_count": 136,
   "metadata": {},
   "outputs": [
    {
     "data": {
      "text/plain": [
       "((56, 3), (56, 1))"
      ]
     },
     "execution_count": 136,
     "metadata": {},
     "output_type": "execute_result"
    }
   ],
   "source": [
    "x_train.shape, y_train.shape"
   ]
  },
  {
   "cell_type": "code",
   "execution_count": 137,
   "metadata": {},
   "outputs": [
    {
     "data": {
      "text/plain": [
       "((14, 3), (14, 1))"
      ]
     },
     "execution_count": 137,
     "metadata": {},
     "output_type": "execute_result"
    }
   ],
   "source": [
    "x_test.shape, y_test.shape"
   ]
  },
  {
   "cell_type": "markdown",
   "metadata": {},
   "source": [
    "### 5. Для целевой и каждого из признаков постройте парную регрессионную модель. Визуализируйте линию регрессии и исходные данные на графике. При помощи коэффициентов оцените силу связи.\n"
   ]
  },
  {
   "cell_type": "code",
   "execution_count": 190,
   "metadata": {},
   "outputs": [],
   "source": [
    "r2 = []\n",
    "mse = []"
   ]
  },
  {
   "cell_type": "code",
   "execution_count": 139,
   "metadata": {},
   "outputs": [],
   "source": [
    "X1 = x_train[['x1']].values\n",
    "Y = y_train[['Y']].values\n",
    "X1_test = x_test[['x1']].values\n",
    "Y_test = y_test[['Y']].values\n",
    "\n",
    "x_f = x_dataset[['x1']].values\n",
    "y_f = y_dataset[['Y']].values"
   ]
  },
  {
   "cell_type": "markdown",
   "metadata": {},
   "source": [
    "#### y = a * x + b; а - slope, b - intercept"
   ]
  },
  {
   "cell_type": "code",
   "execution_count": 140,
   "metadata": {},
   "outputs": [
    {
     "name": "stdout",
     "output_type": "stream",
     "text": [
      "Slope: 42.44799744232766\n",
      "Intercept: -0.4697691494498255\n",
      "R^2 score for X1:  0.8679449927714634   0.8679449927714634\n",
      "Mean squared error:  168.050838442723\n"
     ]
    },
    {
     "data": {
      "image/png": "[encoded data removed]",
      "text/plain": [
       "<Figure size 432x288 with 1 Axes>"
      ]
     },
     "metadata": {
      "needs_background": "light"
     },
     "output_type": "display_data"
    }
   ],
   "source": [
    "slr = LinearRegression()\n",
    "slr.fit(X1, Y)\n",
    "y_pred1 = slr.predict(X1_test)\n",
    "\n",
    "\n",
    "plt.scatter(X1_test, Y_test, color = 'r')\n",
    "plt.plot(X1_test, y_pred1, color = 'g', linewidth=2)\n",
    "plt.show\n",
    "r2.append(slr.score(X1_test,Y_test))\n",
    "mse.append(mean_squared_error(Y_test, y_pred1))\n",
    "print('Slope:',slr.coef_[0][0])\n",
    "print('Intercept:',slr.intercept_[0])\n",
    "print('R^2 score for X1: ', slr.score(X1_test,Y_test), ' ', r2_score(Y_test,y_pred1))\n",
    "print('Mean squared error: ', mean_squared_error(Y_test, y_pred1))"
   ]
  },
  {
   "cell_type": "code",
   "execution_count": 141,
   "metadata": {},
   "outputs": [
    {
     "name": "stdout",
     "output_type": "stream",
     "text": [
      "Slope: 7.674009935027178\n",
      "Intercept: 2.385259637618513\n",
      "R^2 score for X1:  0.1699394165692083\n",
      "Mean squared error:  1056.3202405675731\n"
     ]
    },
    {
     "data": {
      "image/png": "[encoded data removed]",
      "text/plain": [
       "<Figure size 432x288 with 1 Axes>"
      ]
     },
     "metadata": {
      "needs_background": "light"
     },
     "output_type": "display_data"
    }
   ],
   "source": [
    "X2 = x_train[['x2']].values\n",
    "X2_test = x_test[['x2']].values\n",
    "y_pred2 = slr.predict(X2_test)\n",
    "\n",
    "slr = LinearRegression()\n",
    "slr.fit(X2, Y)\n",
    "y_pred2 = slr.predict(X2_test)\n",
    "r2.append(slr.score(X2_test, Y_test))\n",
    "\n",
    "plt.scatter(X2_test, Y_test, color = 'r')\n",
    "plt.plot(X2_test, slr.predict(X2_test), color = 'g', linewidth = 2)\n",
    "plt.show\n",
    "\n",
    "mse.append(mean_squared_error(Y_test, y_pred2))\n",
    "print('Slope:',slr.coef_[0][0])\n",
    "print('Intercept:',slr.intercept_[0])\n",
    "print('R^2 score for X1: ', slr.score(X2_test,Y_test))\n",
    "print('Mean squared error: ', mean_squared_error(Y_test, y_pred2))"
   ]
  },
  {
   "cell_type": "code",
   "execution_count": 142,
   "metadata": {
    "scrolled": true
   },
   "outputs": [
    {
     "name": "stdout",
     "output_type": "stream",
     "text": [
      "Slope: 16.0206581225697\n",
      "Intercept: 2.150131633075952\n",
      "R^2 score for X1:  -0.006114696688994448\n",
      "Mean squared error:  1280.363553769086\n"
     ]
    },
    {
     "data": {
      "image/png": "[encoded data removed]",
      "text/plain": [
       "<Figure size 432x288 with 1 Axes>"
      ]
     },
     "metadata": {
      "needs_background": "light"
     },
     "output_type": "display_data"
    }
   ],
   "source": [
    "X3 = x_train[['x3']].values\n",
    "X3_test = x_test[['x3']].values\n",
    "y_pred3 = slr.predict(X3_test)\n",
    "\n",
    "slr = LinearRegression()\n",
    "slr.fit(X3, Y)\n",
    "y_pred3 = slr.predict(X3_test)\n",
    "r2.append(slr.score(X3_test,Y_test))\n",
    "\n",
    "plt.scatter(X3_test, Y_test, color = 'r')\n",
    "plt.plot(X3_test, slr.predict(X3_test), color = 'g', linewidth = 2)\n",
    "plt.show\n",
    "\n",
    "mse.append(mean_squared_error(Y_test, y_pred3))\n",
    "print('Slope:',slr.coef_[0][0])\n",
    "print('Intercept:',slr.intercept_[0])\n",
    "print('R^2 score for X1: ', slr.score(X3_test,Y_test))\n",
    "print('Mean squared error: ', mean_squared_error(Y_test, y_pred3))"
   ]
  },
  {
   "cell_type": "code",
   "execution_count": 143,
   "metadata": {},
   "outputs": [
    {
     "data": {
      "image/png": "[encoded data removed]",
      "text/plain": [
       "<Figure size 432x288 with 1 Axes>"
      ]
     },
     "metadata": {
      "needs_background": "light"
     },
     "output_type": "display_data"
    }
   ],
   "source": [
    "# all lines\n",
    "X =[0,0,0,0,0,0]\n",
    "for i in range(1,4):\n",
    "    X[i] = x_train[[f'x{i}']].values\n",
    "    \n",
    "    slr = LinearRegression()\n",
    "    slr.fit(X[i], Y)\n",
    "    y_pred1 = slr.predict(X[i])\n",
    "\n",
    "    plt.plot(X[i], slr.predict(X[i]), color='g', linewidth = 2)\n",
    "    plt.show"
   ]
  },
  {
   "cell_type": "markdown",
   "metadata": {},
   "source": [
    "#### Method 'r2_score' - Return the coefficient of determination R^2 of the prediction."
   ]
  },
  {
   "cell_type": "code",
   "execution_count": 144,
   "metadata": {},
   "outputs": [
    {
     "name": "stdout",
     "output_type": "stream",
     "text": [
      "R^2 score for X1:  0.8679449927714634\n",
      "R^2 score for X2:  0.1699394165692083\n",
      "R^2 score for X3:  -0.006114696688994448\n"
     ]
    }
   ],
   "source": [
    "for i in range(3):\n",
    "    print(f'R^2 score for X{i+1}: ', r2[i])"
   ]
  },
  {
   "cell_type": "markdown",
   "metadata": {},
   "source": [
    "### 6. Постройте модель множественной линейной регрессии целевой переменной от всех показателей. Оцените качество регрессии, сделайте вывод."
   ]
  },
  {
   "cell_type": "code",
   "execution_count": 145,
   "metadata": {},
   "outputs": [
    {
     "data": {
      "text/plain": [
       "x1    56\n",
       "x2    56\n",
       "x3    56\n",
       "dtype: int64"
      ]
     },
     "execution_count": 145,
     "metadata": {},
     "output_type": "execute_result"
    }
   ],
   "source": [
    "x_train.count(axis = 0)"
   ]
  },
  {
   "cell_type": "code",
   "execution_count": 146,
   "metadata": {},
   "outputs": [
    {
     "data": {
      "text/plain": [
       "x1    14\n",
       "x2    14\n",
       "x3    14\n",
       "dtype: int64"
      ]
     },
     "execution_count": 146,
     "metadata": {},
     "output_type": "execute_result"
    }
   ],
   "source": [
    "x_test.count(axis = 0)"
   ]
  },
  {
   "cell_type": "code",
   "execution_count": 147,
   "metadata": {},
   "outputs": [],
   "source": [
    "lm = LinearRegression()"
   ]
  },
  {
   "cell_type": "code",
   "execution_count": 148,
   "metadata": {},
   "outputs": [
    {
     "data": {
      "text/html": [
       "<div>\n",
       "<style scoped>\n",
       "    .dataframe tbody tr th:only-of-type {\n",
       "        vertical-align: middle;\n",
       "    }\n",
       "\n",
       "    .dataframe tbody tr th {\n",
       "        vertical-align: top;\n",
       "    }\n",
       "\n",
       "    .dataframe thead th {\n",
       "        text-align: right;\n",
       "    }\n",
       "</style>\n",
       "<table border=\"1\" class=\"dataframe\">\n",
       "  <thead>\n",
       "    <tr style=\"text-align: right;\">\n",
       "      <th></th>\n",
       "      <th>x1</th>\n",
       "      <th>x2</th>\n",
       "      <th>x3</th>\n",
       "    </tr>\n",
       "  </thead>\n",
       "  <tbody>\n",
       "    <tr>\n",
       "      <th>24</th>\n",
       "      <td>0.214472</td>\n",
       "      <td>0.883814</td>\n",
       "      <td>-0.396336</td>\n",
       "    </tr>\n",
       "    <tr>\n",
       "      <th>59</th>\n",
       "      <td>-0.137075</td>\n",
       "      <td>-1.340306</td>\n",
       "      <td>-0.292585</td>\n",
       "    </tr>\n",
       "    <tr>\n",
       "      <th>60</th>\n",
       "      <td>1.101011</td>\n",
       "      <td>1.858947</td>\n",
       "      <td>-1.119612</td>\n",
       "    </tr>\n",
       "    <tr>\n",
       "      <th>56</th>\n",
       "      <td>-0.207828</td>\n",
       "      <td>1.773157</td>\n",
       "      <td>0.306821</td>\n",
       "    </tr>\n",
       "    <tr>\n",
       "      <th>29</th>\n",
       "      <td>1.383678</td>\n",
       "      <td>0.124525</td>\n",
       "      <td>-0.005110</td>\n",
       "    </tr>\n",
       "  </tbody>\n",
       "</table>\n",
       "</div>"
      ],
      "text/plain": [
       "          x1        x2        x3\n",
       "24  0.214472  0.883814 -0.396336\n",
       "59 -0.137075 -1.340306 -0.292585\n",
       "60  1.101011  1.858947 -1.119612\n",
       "56 -0.207828  1.773157  0.306821\n",
       "29  1.383678  0.124525 -0.005110"
      ]
     },
     "execution_count": 148,
     "metadata": {},
     "output_type": "execute_result"
    }
   ],
   "source": [
    "x_train.head()"
   ]
  },
  {
   "cell_type": "code",
   "execution_count": 149,
   "metadata": {},
   "outputs": [
    {
     "data": {
      "text/html": [
       "<div>\n",
       "<style scoped>\n",
       "    .dataframe tbody tr th:only-of-type {\n",
       "        vertical-align: middle;\n",
       "    }\n",
       "\n",
       "    .dataframe tbody tr th {\n",
       "        vertical-align: top;\n",
       "    }\n",
       "\n",
       "    .dataframe thead th {\n",
       "        text-align: right;\n",
       "    }\n",
       "</style>\n",
       "<table border=\"1\" class=\"dataframe\">\n",
       "  <thead>\n",
       "    <tr style=\"text-align: right;\">\n",
       "      <th></th>\n",
       "      <th>Y</th>\n",
       "    </tr>\n",
       "  </thead>\n",
       "  <tbody>\n",
       "    <tr>\n",
       "      <th>24</th>\n",
       "      <td>10.290008</td>\n",
       "    </tr>\n",
       "    <tr>\n",
       "      <th>59</th>\n",
       "      <td>-18.516920</td>\n",
       "    </tr>\n",
       "    <tr>\n",
       "      <th>60</th>\n",
       "      <td>19.442460</td>\n",
       "    </tr>\n",
       "    <tr>\n",
       "      <th>56</th>\n",
       "      <td>-1.982012</td>\n",
       "    </tr>\n",
       "    <tr>\n",
       "      <th>29</th>\n",
       "      <td>70.097225</td>\n",
       "    </tr>\n",
       "  </tbody>\n",
       "</table>\n",
       "</div>"
      ],
      "text/plain": [
       "            Y\n",
       "24  10.290008\n",
       "59 -18.516920\n",
       "60  19.442460\n",
       "56  -1.982012\n",
       "29  70.097225"
      ]
     },
     "execution_count": 149,
     "metadata": {},
     "output_type": "execute_result"
    }
   ],
   "source": [
    "y_train.head()"
   ]
  },
  {
   "cell_type": "code",
   "execution_count": 150,
   "metadata": {},
   "outputs": [
    {
     "data": {
      "text/plain": [
       "LinearRegression()"
      ]
     },
     "execution_count": 150,
     "metadata": {},
     "output_type": "execute_result"
    }
   ],
   "source": [
    "feature_cols = ['x1', 'x2', 'x3']\n",
    "lm = LinearRegression()\n",
    "lm.fit(x_train,y_train)\n"
   ]
  },
  {
   "cell_type": "code",
   "execution_count": 151,
   "metadata": {},
   "outputs": [
    {
     "name": "stdout",
     "output_type": "stream",
     "text": [
      "Intercept : 0.21818253879160054\n",
      "\n",
      "Slope:\n",
      "x1 =  41.96460237908957\n",
      "x2 =  0.036707280812841796\n",
      "x3 =  13.664682538101657\n",
      "R^2:  0.8990151377285438\n"
     ]
    }
   ],
   "source": [
    "# all x\n",
    "print (f'Intercept : {lm.intercept_[0]}')\n",
    "coef = lm.coef_[0]\n",
    "print(f'\\nSlope:')\n",
    "for i,j in zip(feature_cols,coef):\n",
    "    print(i,'= ', j)\n",
    "y_pred=lm.predict(x_test)\n",
    "print(f'R^2: ',r2_score(y_test, y_pred))   "
   ]
  },
  {
   "cell_type": "code",
   "execution_count": 152,
   "metadata": {},
   "outputs": [
    {
     "data": {
      "text/html": [
       "<div>\n",
       "<style scoped>\n",
       "    .dataframe tbody tr th:only-of-type {\n",
       "        vertical-align: middle;\n",
       "    }\n",
       "\n",
       "    .dataframe tbody tr th {\n",
       "        vertical-align: top;\n",
       "    }\n",
       "\n",
       "    .dataframe thead th {\n",
       "        text-align: right;\n",
       "    }\n",
       "</style>\n",
       "<table border=\"1\" class=\"dataframe\">\n",
       "  <thead>\n",
       "    <tr style=\"text-align: right;\">\n",
       "      <th></th>\n",
       "      <th>x1</th>\n",
       "      <th>x3</th>\n",
       "    </tr>\n",
       "  </thead>\n",
       "  <tbody>\n",
       "    <tr>\n",
       "      <th>0</th>\n",
       "      <td>0.849343</td>\n",
       "      <td>-1.121040</td>\n",
       "    </tr>\n",
       "    <tr>\n",
       "      <th>1</th>\n",
       "      <td>0.452329</td>\n",
       "      <td>0.492619</td>\n",
       "    </tr>\n",
       "    <tr>\n",
       "      <th>2</th>\n",
       "      <td>-0.971847</td>\n",
       "      <td>0.012704</td>\n",
       "    </tr>\n",
       "    <tr>\n",
       "      <th>3</th>\n",
       "      <td>0.065406</td>\n",
       "      <td>-0.141833</td>\n",
       "    </tr>\n",
       "    <tr>\n",
       "      <th>4</th>\n",
       "      <td>1.937645</td>\n",
       "      <td>0.687983</td>\n",
       "    </tr>\n",
       "    <tr>\n",
       "      <th>...</th>\n",
       "      <td>...</td>\n",
       "      <td>...</td>\n",
       "    </tr>\n",
       "    <tr>\n",
       "      <th>65</th>\n",
       "      <td>1.415500</td>\n",
       "      <td>-0.426184</td>\n",
       "    </tr>\n",
       "    <tr>\n",
       "      <th>66</th>\n",
       "      <td>-1.857439</td>\n",
       "      <td>0.627265</td>\n",
       "    </tr>\n",
       "    <tr>\n",
       "      <th>67</th>\n",
       "      <td>-1.206632</td>\n",
       "      <td>0.508770</td>\n",
       "    </tr>\n",
       "    <tr>\n",
       "      <th>68</th>\n",
       "      <td>-0.343812</td>\n",
       "      <td>0.530620</td>\n",
       "    </tr>\n",
       "    <tr>\n",
       "      <th>69</th>\n",
       "      <td>0.434837</td>\n",
       "      <td>-0.320294</td>\n",
       "    </tr>\n",
       "  </tbody>\n",
       "</table>\n",
       "<p>70 rows × 2 columns</p>\n",
       "</div>"
      ],
      "text/plain": [
       "          x1        x3\n",
       "0   0.849343 -1.121040\n",
       "1   0.452329  0.492619\n",
       "2  -0.971847  0.012704\n",
       "3   0.065406 -0.141833\n",
       "4   1.937645  0.687983\n",
       "..       ...       ...\n",
       "65  1.415500 -0.426184\n",
       "66 -1.857439  0.627265\n",
       "67 -1.206632  0.508770\n",
       "68 -0.343812  0.530620\n",
       "69  0.434837 -0.320294\n",
       "\n",
       "[70 rows x 2 columns]"
      ]
     },
     "execution_count": 152,
     "metadata": {},
     "output_type": "execute_result"
    }
   ],
   "source": [
    "# all without negative x2 in linear regression.\n",
    "x_t=pd.read_csv('./data/19_x.csv', names = ['x1','x2','x3'], header = None)\n",
    "y_t = pd.read_csv('./data/19_y.csv',names = ['Y'], header = None)\n",
    "\n",
    "x_t.drop(['x2'], axis = 'columns', inplace = True)\n",
    "x_t"
   ]
  },
  {
   "cell_type": "code",
   "execution_count": 153,
   "metadata": {},
   "outputs": [
    {
     "name": "stdout",
     "output_type": "stream",
     "text": [
      "Intercept : 0.2132626137700031\n",
      "\n",
      "Slope:\n",
      "x1 =  41.96902848892689\n",
      "x3 =  13.666956625308591\n",
      "R^2:  0.8988907298688288\n"
     ]
    }
   ],
   "source": [
    "train_x, test_x, train_y, test_y = train_test_split(x_t, y_t, test_size = 0.2, random_state = 123)\n",
    "\n",
    "feature_cols = ['x1', 'x3'] #without x2\n",
    "lm = LinearRegression()\n",
    "lm.fit(train_x, train_y)\n",
    "\n",
    "print (f'Intercept : {lm.intercept_[0]}')\n",
    "coef = lm.coef_[0]\n",
    "print(f'\\nSlope:')\n",
    "for i,j in zip(feature_cols, coef):\n",
    "    print(i,'= ', j)\n",
    "y_pred=lm.predict(test_x)\n",
    "print(f'R^2: ', r2_score(test_y, y_pred))   \n"
   ]
  },
  {
   "cell_type": "markdown",
   "metadata": {},
   "source": [
    "## Дополнительные задания."
   ]
  },
  {
   "cell_type": "markdown",
   "metadata": {},
   "source": [
    "### 1. Для целевой переменной и каждого из признаков постройте полиномиальную регрессию второго, третьего и десятого порядков. Сделайте вывод о значимости регрессии.\n"
   ]
  },
  {
   "cell_type": "code",
   "execution_count": 162,
   "metadata": {},
   "outputs": [],
   "source": [
    "from sklearn.linear_model import Ridge\n",
    "from sklearn.preprocessing import PolynomialFeatures\n",
    "from sklearn.pipeline import make_pipeline\n"
   ]
  },
  {
   "cell_type": "code",
   "execution_count": 163,
   "metadata": {},
   "outputs": [],
   "source": [
    "r2_10 =[]"
   ]
  },
  {
   "cell_type": "markdown",
   "metadata": {},
   "source": [
    "#### Полиномиальная регрессия 2 порядка для X1."
   ]
  },
  {
   "cell_type": "code",
   "execution_count": 164,
   "metadata": {},
   "outputs": [],
   "source": [
    "X1 = x_train[['x1']].values\n",
    "Y = y_train[['Y']].values\n",
    "X1_test = x_test[['x1']].values\n",
    "Y_test = y_test[['Y']].values\n",
    "\n",
    "X2 = x_train[['x2']].values\n",
    "X2_test = x_test[['x2']].values\n",
    "\n",
    "X3 = x_train[['x3']].values\n",
    "X3_test = x_test[['x3']].values"
   ]
  },
  {
   "cell_type": "code",
   "execution_count": 165,
   "metadata": {},
   "outputs": [
    {
     "data": {
      "text/plain": [
       "((14, 1), (14, 1))"
      ]
     },
     "execution_count": 165,
     "metadata": {},
     "output_type": "execute_result"
    }
   ],
   "source": [
    "X1_test.shape, Y_test.shape"
   ]
  },
  {
   "cell_type": "code",
   "execution_count": 166,
   "metadata": {},
   "outputs": [
    {
     "name": "stdout",
     "output_type": "stream",
     "text": [
      "\n",
      "[[ 0.         42.61448756 -0.36316129]]\n",
      "\n",
      "Coefficient of determination: 0.867639911910628\n",
      "Mean squared error: 168.4390788853402\n",
      "\n"
     ]
    }
   ],
   "source": [
    "poly_reg = PolynomialFeatures(degree = 2) #2\n",
    "X_pol_train = poly_reg.fit_transform(X1) #X1\n",
    "X_pol_test = poly_reg.fit_transform(X1_test)\n",
    "\n",
    "pol_reg = LinearRegression()\n",
    "test=pol_reg.fit(X_pol_train, Y)\n",
    "Y_pred = pol_reg.predict(X_pol_test)\n",
    "\n",
    "print(f'''\n",
    "{pol_reg.coef_}\n",
    "\n",
    "Coefficient of determination: {pol_reg.score(X_pol_test, Y_test)}\n",
    "Mean squared error: {mean_squared_error(Y_test, Y_pred)}\n",
    "''')"
   ]
  },
  {
   "cell_type": "markdown",
   "metadata": {},
   "source": [
    "#### Полиномиальная регрессия 3 порядка для X1."
   ]
  },
  {
   "cell_type": "code",
   "execution_count": 167,
   "metadata": {},
   "outputs": [
    {
     "name": "stdout",
     "output_type": "stream",
     "text": [
      "\n",
      "[[ 0.         45.96855832  0.85549969 -0.90756654]]\n",
      "\n",
      "Coefficient of determination: 0.8646919857898858\n",
      "Mean squared error: 172.19055689935118\n",
      "\n"
     ]
    }
   ],
   "source": [
    "poly_reg = PolynomialFeatures(degree = 3) #3\n",
    "X_pol_train = poly_reg.fit_transform(X1) #X1\n",
    "X_pol_test = poly_reg.fit_transform(X1_test)\n",
    "\n",
    "\n",
    "pol_reg = LinearRegression()\n",
    "test=pol_reg.fit(X_pol_train, Y)\n",
    "Y_pred = pol_reg.predict(X_pol_test)\n",
    "\n",
    "\n",
    "print(f'''\n",
    "{pol_reg.coef_}\n",
    "\n",
    "Coefficient of determination: {pol_reg.score(X_pol_test, Y_test)}\n",
    "Mean squared error: {mean_squared_error(Y_test, Y_pred)}\n",
    "''')\n"
   ]
  },
  {
   "cell_type": "markdown",
   "metadata": {},
   "source": [
    "#### Полиномиальная регрессия 10 порядка для X1."
   ]
  },
  {
   "cell_type": "code",
   "execution_count": 168,
   "metadata": {},
   "outputs": [
    {
     "name": "stdout",
     "output_type": "stream",
     "text": [
      "\n",
      "[[  0.          43.08747077 -36.79960418  -2.52313047  51.50052548\n",
      "    5.40805462 -23.64123312  -2.53722024   4.38105759   0.30362435\n",
      "   -0.26499597]]\n",
      "\n",
      "Coefficient of determination: 0.8385285102189541\n",
      "Mean squared error: 205.48572759031646\n",
      "\n"
     ]
    }
   ],
   "source": [
    "poly_reg = PolynomialFeatures(degree = 10) #10\n",
    "X_pol_train = poly_reg.fit_transform(X1) #X1\n",
    "X_pol_test = poly_reg.fit_transform(X1_test)\n",
    "\n",
    "\n",
    "pol_reg = LinearRegression()\n",
    "test=pol_reg.fit(X_pol_train, Y)\n",
    "Y_pred = pol_reg.predict(X_pol_test)\n",
    "\n",
    "mse.append(mean_squared_error(Y_test, Y_pred))\n",
    "r2_10.append(pol_reg.score(X_pol_test,Y_test))\n",
    "\n",
    "print(f'''\n",
    "{pol_reg.coef_}\n",
    "\n",
    "Coefficient of determination: {pol_reg.score(X_pol_test, Y_test)}\n",
    "Mean squared error: {mean_squared_error(Y_test, Y_pred)}\n",
    "''')\n"
   ]
  },
  {
   "cell_type": "markdown",
   "metadata": {},
   "source": [
    "#### Полиномиальная регрессия 2 порядка для X2."
   ]
  },
  {
   "cell_type": "code",
   "execution_count": 170,
   "metadata": {
    "scrolled": true
   },
   "outputs": [
    {
     "name": "stdout",
     "output_type": "stream",
     "text": [
      "\n",
      "[[0.         8.38908337 2.58444172]]\n",
      "\n",
      "Coefficient of determination: 0.1432010402151601\n",
      "Mean squared error: 1090.3470197045315\n",
      "\n"
     ]
    }
   ],
   "source": [
    "poly_reg = PolynomialFeatures(degree = 2) #2\n",
    "X_pol_train = poly_reg.fit_transform(X2) #x2\n",
    "X_pol_test = poly_reg.fit_transform(X2_test)\n",
    "\n",
    "\n",
    "pol_reg = LinearRegression()\n",
    "test=pol_reg.fit(X_pol_train, Y)\n",
    "Y_pred = pol_reg.predict(X_pol_test)\n",
    "\n",
    "print(f'''\n",
    "{pol_reg.coef_}\n",
    "\n",
    "Coefficient of determination: {pol_reg.score(X_pol_test, Y_test)}\n",
    "Mean squared error: {mean_squared_error(Y_test, Y_pred)}\n",
    "''')\n"
   ]
  },
  {
   "cell_type": "markdown",
   "metadata": {},
   "source": [
    "#### Полиномиальная регрессия 3 порядка для X2."
   ]
  },
  {
   "cell_type": "code",
   "execution_count": 171,
   "metadata": {},
   "outputs": [
    {
     "name": "stdout",
     "output_type": "stream",
     "text": [
      "\n",
      "[[ 0.         16.10265407  1.40440084 -3.80171661]]\n",
      "\n",
      "Coefficient of determination: 0.011643448650545563\n",
      "Mean squared error: 1257.764855876981\n",
      "\n"
     ]
    }
   ],
   "source": [
    "poly_reg = PolynomialFeatures(degree = 3) #3\n",
    "X_pol_train = poly_reg.fit_transform(X2) #x2\n",
    "X_pol_test = poly_reg.fit_transform(X2_test)\n",
    "\n",
    "\n",
    "pol_reg = LinearRegression()\n",
    "test = pol_reg.fit(X_pol_train, Y)\n",
    "Y_pred = pol_reg.predict(X_pol_test)\n",
    "\n",
    "print(f'''\n",
    "{pol_reg.coef_}\n",
    "\n",
    "Coefficient of determination: {pol_reg.score(X_pol_test, Y_test)}\n",
    "Mean squared error: {mean_squared_error(Y_test, Y_pred)}\n",
    "''')\n"
   ]
  },
  {
   "cell_type": "markdown",
   "metadata": {},
   "source": [
    "#### Полиномиальная регрессия 10 порядка для X2."
   ]
  },
  {
   "cell_type": "code",
   "execution_count": 172,
   "metadata": {},
   "outputs": [
    {
     "name": "stdout",
     "output_type": "stream",
     "text": [
      "\n",
      "[[ 0.00000000e+00  7.59188378e+01  8.75550688e-02 -2.50580359e+02\n",
      "  -1.32996740e+01  2.51357130e+02  2.95251411e+01 -9.12963764e+01\n",
      "  -1.61727615e+01  1.09614730e+01  2.54418318e+00]]\n",
      "\n",
      "Coefficient of determination: -0.2456344919459057\n",
      "Mean squared error: 1585.1721578600568\n",
      "\n"
     ]
    }
   ],
   "source": [
    "poly_reg = PolynomialFeatures(degree = 10) #10\n",
    "X_pol_train = poly_reg.fit_transform(X2) #x2\n",
    "X_pol_test = poly_reg.fit_transform(X2_test)\n",
    "\n",
    "pol_reg = LinearRegression()\n",
    "test = pol_reg.fit(X_pol_train, Y)\n",
    "Y_pred = pol_reg.predict(X_pol_test)\n",
    "\n",
    "mse.append(mean_squared_error(Y_test, Y_pred))\n",
    "r2_10.append(pol_reg.score(X_pol_test, Y_test))\n",
    "\n",
    "print(f'''\n",
    "{pol_reg.coef_}\n",
    "\n",
    "Coefficient of determination: {pol_reg.score(X_pol_test, Y_test)}\n",
    "Mean squared error: {mean_squared_error(Y_test, Y_pred)}\n",
    "''')"
   ]
  },
  {
   "cell_type": "markdown",
   "metadata": {},
   "source": [
    "#### Полиномиальная регрессия 2 порядка для X3."
   ]
  },
  {
   "cell_type": "code",
   "execution_count": 173,
   "metadata": {},
   "outputs": [
    {
     "name": "stdout",
     "output_type": "stream",
     "text": [
      "\n",
      "[[ 0.         15.57237111  9.24348933]]\n",
      "\n",
      "Coefficient of determination: 0.10541875184217231\n",
      "Mean squared error: 1138.4280835931356\n",
      "\n"
     ]
    }
   ],
   "source": [
    "poly_reg = PolynomialFeatures(degree = 2) #2\n",
    "X_pol_train = poly_reg.fit_transform(X3) #x3\n",
    "X_pol_test = poly_reg.fit_transform(X3_test)\n",
    "\n",
    "\n",
    "pol_reg = LinearRegression()\n",
    "test=pol_reg.fit(X_pol_train, Y)\n",
    "Y_pred = pol_reg.predict(X_pol_test)\n",
    "\n",
    "print(f'''\n",
    "{pol_reg.coef_}\n",
    "\n",
    "Coefficient of determination: {pol_reg.score(X_pol_test, Y_test)}\n",
    "Mean squared error: {mean_squared_error(Y_test, Y_pred)}\n",
    "''')"
   ]
  },
  {
   "cell_type": "markdown",
   "metadata": {},
   "source": [
    "#### Полиномиальная регрессия 3 порядка для X3."
   ]
  },
  {
   "cell_type": "code",
   "execution_count": 175,
   "metadata": {},
   "outputs": [
    {
     "name": "stdout",
     "output_type": "stream",
     "text": [
      "\n",
      "[[ 0.         11.46467517  8.36270685  1.6637616 ]]\n",
      "\n",
      "Coefficient of determination: 0.10026574129656662\n",
      "Mean squared error: 1144.9857125756896\n",
      "\n"
     ]
    }
   ],
   "source": [
    "poly_reg = PolynomialFeatures(degree = 3) #3\n",
    "X_pol_train = poly_reg.fit_transform(X3) #x3\n",
    "X_pol_test = poly_reg.fit_transform(X3_test)\n",
    "\n",
    "\n",
    "pol_reg = LinearRegression()\n",
    "test = pol_reg.fit(X_pol_train, Y)\n",
    "Y_pred = pol_reg.predict(X_pol_test)\n",
    "\n",
    "print(f'''\n",
    "{pol_reg.coef_}\n",
    "\n",
    "Coefficient of determination: {pol_reg.score(X_pol_test, Y_test)}\n",
    "Mean squared error: {mean_squared_error(Y_test, Y_pred)}\n",
    "''')"
   ]
  },
  {
   "cell_type": "markdown",
   "metadata": {},
   "source": [
    "#### Полиномиальная регрессия 10 порядка для X3."
   ]
  },
  {
   "cell_type": "code",
   "execution_count": 177,
   "metadata": {},
   "outputs": [
    {
     "name": "stdout",
     "output_type": "stream",
     "text": [
      "\n",
      "[[   0.           40.75600563  -60.03961086  -92.51203327  314.87158239\n",
      "    80.05052082 -308.45884482  -33.36183488  104.5170005     6.0445364\n",
      "   -11.01518598]]\n",
      "\n",
      "Coefficient of determination: 0.3476959344329752\n",
      "Mean squared error: 830.1104777376966\n",
      "\n"
     ]
    }
   ],
   "source": [
    "poly_reg = PolynomialFeatures(degree = 10) #10\n",
    "X_pol_train = poly_reg.fit_transform(X3) #x3\n",
    "X_pol_test = poly_reg.fit_transform(X3_test)\n",
    "\n",
    "pol_reg = LinearRegression()\n",
    "test = pol_reg.fit(X_pol_train, Y)\n",
    "Y_pred = pol_reg.predict(X_pol_test)\n",
    "\n",
    "mse.append(mean_squared_error(Y_test, Y_pred))\n",
    "r2_10.append(pol_reg.score(X_pol_test, Y_test))\n",
    "\n",
    "print(f'''\n",
    "{pol_reg.coef_}\n",
    "\n",
    "Coefficient of determination: {pol_reg.score(X_pol_test, Y_test)}\n",
    "Mean squared error: {mean_squared_error(Y_test, Y_pred)}\n",
    "''')"
   ]
  },
  {
   "cell_type": "markdown",
   "metadata": {},
   "source": [
    "### 2.Постройте сводную таблицу показателей точности всех построенных моделей по тестовой и обучающей выборке. Сделайте вывод, какие модели переобученнные, какие - недообученные.\n"
   ]
  },
  {
   "cell_type": "code",
   "execution_count": 178,
   "metadata": {},
   "outputs": [
    {
     "data": {
      "text/plain": [
       "[0.8385285102189541,\n",
       " -0.2456344919459057,\n",
       " 0.3476959344329752,\n",
       " 0.3476959344329752]"
      ]
     },
     "execution_count": 178,
     "metadata": {},
     "output_type": "execute_result"
    }
   ],
   "source": [
    "r2_10"
   ]
  },
  {
   "cell_type": "code",
   "execution_count": 188,
   "metadata": {},
   "outputs": [
    {
     "name": "stdout",
     "output_type": "stream",
     "text": [
      "R^2 for simple linear regression  R^2 for Polynomial Regression (degree = 10) \n",
      "R^2 score for X1:         0.86794                                0.83853\n",
      "R^2 score for X2:         0.16994                                -0.24563\n",
      "R^2 score for X3:         -0.00611                                0.34770\n",
      "\n",
      "MSE for simple linear regression  MSE for Polynomial Regression (degree = 10) \n",
      "MSE score for X1:         168.05                                      205.49\n",
      "MSE score for X2:         1056.32                                     1585.17\n",
      "MSE score for X3:         1280.36                                      830.11\n"
     ]
    }
   ],
   "source": [
    "print('R^2 for simple linear regression  R^2 for Polynomial Regression (degree = 10) ')\n",
    "for i in range(3):\n",
    "    print(f'R^2 score for X{i+1}: ','      ', '{:6.5f}'.format(r2[i]),'                              ','{:6.5f}'.format(r2_10[i]))\n",
    "print('')\n",
    "print('MSE for simple linear regression  MSE for Polynomial Regression (degree = 10) ')\n",
    "for i in range(3):\n",
    "    print(f'MSE score for X{i+1}: ','      ', '{:6.2f}'.format(mse[i]),'                              ','{:12.2f}'.format(mse[i+5]))\n",
    "  "
   ]
  },
  {
   "cell_type": "code",
   "execution_count": null,
   "metadata": {},
   "outputs": [],
   "source": []
  }
 ],
 "metadata": {
  "kernelspec": {
   "display_name": "Python 3",
   "language": "python",
   "name": "python3"
  },
  "language_info": {
   "codemirror_mode": {
    "name": "ipython",
    "version": 3
   },
   "file_extension": ".py",
   "mimetype": "text/x-python",
   "name": "python",
   "nbconvert_exporter": "python",
   "pygments_lexer": "ipython3",
   "version": "3.6.9"
  }
 },
 "nbformat": 4,
 "nbformat_minor": 4
}
