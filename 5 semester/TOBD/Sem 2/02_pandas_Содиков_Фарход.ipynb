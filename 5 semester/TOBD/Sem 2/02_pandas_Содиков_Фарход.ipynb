{
 "cells": [
  {
   "cell_type": "markdown",
   "source": [
    "# Pandas"
   ],
   "metadata": {}
  },
  {
   "cell_type": "markdown",
   "source": [
    "Материалы:\n",
    "* Макрушин С.В. \"Лекция 2: Библиотека Pandas\"\n",
    "* https://pandas.pydata.org/docs/user_guide/index.html#\n",
    "* https://pandas.pydata.org/docs/reference/index.html\n",
    "* Уэс Маккини. Python и анализ данных"
   ],
   "metadata": {}
  },
  {
   "cell_type": "markdown",
   "source": [
    "## Задачи для совместного разбора"
   ],
   "metadata": {}
  },
  {
   "cell_type": "markdown",
   "source": [
    "1. Загрузите данные из файла `sp500hst.txt` и обозначьте столбцы в соответствии с содержимым: `\"date\", \"ticker\", \"open\", \"high\", \"low\", \"close\", \"volume\"`."
   ],
   "metadata": {}
  },
  {
   "cell_type": "code",
   "execution_count": 1,
   "source": [
    "import pandas as pd\r\n",
    "\r\n",
    "df = pd.read_csv('data/sp500hst.txt')\r\n",
    "df.columns=[\"date\", \"ticker\", \"open\", \"high\", \"low\", \"close\", \"volume\"]\r\n",
    "print(f\"[Task 01] Dataframe: \\n\\n {df}\")"
   ],
   "outputs": [
    {
     "output_type": "stream",
     "name": "stdout",
     "text": [
      "[Task 01] Dataframe: \n",
      "\n",
      "             date ticker   open     high     low  close  volume\n",
      "0       20090824      A  25.64  25.7400  25.330  25.50   22247\n",
      "1       20090825      A  25.50  25.7000  25.225  25.34   30891\n",
      "2       20090826      A  25.32  25.6425  25.145  25.48   33334\n",
      "3       20090827      A  25.50  25.5700  25.230  25.54   70176\n",
      "4       20090828      A  25.67  26.0500  25.630  25.83   39694\n",
      "...          ...    ...    ...      ...     ...    ...     ...\n",
      "122568  20100813    ZMH  51.72  51.9000  51.380  51.44   14561\n",
      "122569  20100816    ZMH  51.13  51.4700  50.600  51.00   13489\n",
      "122570  20100817    ZMH  51.14  51.6000  50.890  51.21   20498\n",
      "122571  20100819    ZMH  51.63  51.6300  50.170  50.22   18259\n",
      "122572  20100820    ZMH  50.03  50.5500  49.480  49.82   17792\n",
      "\n",
      "[122573 rows x 7 columns]\n"
     ]
    }
   ],
   "metadata": {}
  },
  {
   "cell_type": "markdown",
   "source": [
    "2. Рассчитайте среднее значение показателей для каждого из столбцов c номерами 3-6."
   ],
   "metadata": {}
  },
  {
   "cell_type": "code",
   "execution_count": 2,
   "source": [
    "df = pd.read_csv('data/sp500hst.txt')\r\n",
    "df.columns=[\"date\", \"ticker\", \"open\", \"high\", \"low\", \"close\", \"volume\"]\r\n",
    "\r\n",
    "print(df[['open','high', 'low', 'close']].mean())"
   ],
   "outputs": [
    {
     "output_type": "stream",
     "name": "stdout",
     "text": [
      "open     42.595596\n",
      "high     43.102386\n",
      "low      42.054601\n",
      "close    42.602004\n",
      "dtype: float64\n"
     ]
    }
   ],
   "metadata": {}
  },
  {
   "cell_type": "markdown",
   "source": [
    "3. Добавьте столбец, содержащий только число месяца, к которому относится дата."
   ],
   "metadata": {}
  },
  {
   "cell_type": "code",
   "execution_count": 3,
   "source": [
    "df = pd.read_csv('data/sp500hst.txt')\r\n",
    "df.columns=[\"date\", \"ticker\", \"open\", \"high\", \"low\", \"close\", \"volume\"]\r\n",
    "\r\n",
    "print(pd.to_datetime(df['date'], format=\"%Y%m%d\").dt.month)"
   ],
   "outputs": [
    {
     "output_type": "stream",
     "name": "stdout",
     "text": [
      "0         8\n",
      "1         8\n",
      "2         8\n",
      "3         8\n",
      "4         8\n",
      "         ..\n",
      "122568    8\n",
      "122569    8\n",
      "122570    8\n",
      "122571    8\n",
      "122572    8\n",
      "Name: date, Length: 122573, dtype: int64\n"
     ]
    }
   ],
   "metadata": {}
  },
  {
   "cell_type": "markdown",
   "source": [
    "4. Рассчитайте суммарный объем торгов для для одинаковых значений тикеров."
   ],
   "metadata": {}
  },
  {
   "cell_type": "code",
   "execution_count": 4,
   "source": [
    "df = pd.read_csv('data/sp500hst.txt')\r\n",
    "df.columns=[\"date\", \"ticker\", \"open\", \"high\", \"low\", \"close\", \"volume\"]\r\n",
    "\r\n",
    "print(df.groupby('ticker')['volume'].sum())"
   ],
   "outputs": [
    {
     "output_type": "stream",
     "name": "stdout",
     "text": [
      "ticker\n",
      "A        8574578\n",
      "AA      81898998\n",
      "AAPL    52261170\n",
      "ABC      9006756\n",
      "ABT     18975870\n",
      "          ...   \n",
      "XTO     21297931\n",
      "YHOO    56837171\n",
      "YUM     10971538\n",
      "ZION    15551119\n",
      "ZMH      4938916\n",
      "Name: volume, Length: 524, dtype: int64\n"
     ]
    }
   ],
   "metadata": {}
  },
  {
   "cell_type": "markdown",
   "source": [
    "5. Загрузите данные из файла sp500hst.txt и обозначьте столбцы в соответствии с содержимым: \"date\", \"ticker\", \"open\", \"high\", \"low\", \"close\", \"volume\". Добавьте столбец с расшифровкой названия тикера, используя данные из файла `sp_data2.csv` . В случае нехватки данных об именах тикеров корректно обработать их."
   ],
   "metadata": {}
  },
  {
   "cell_type": "code",
   "execution_count": 5,
   "source": [
    "df = pd.read_csv('data/sp500hst.txt')\r\n",
    "df.columns=[\"date\", \"ticker\", \"open\", \"high\", \"low\", \"close\", \"volume\"]\r\n",
    "\r\n",
    "df1 = pd.read_csv('data/sp_data2.csv', sep=\";\" , names=['ticker', 'company', 'procent'])\r\n",
    "df2=df1.merge(df)\r\n",
    "\r\n",
    "print(f\"{df2}\")"
   ],
   "outputs": [
    {
     "output_type": "stream",
     "name": "stdout",
     "text": [
      "      ticker          company procent      date    open    high     low  \\\n",
      "0       AAPL            Apple    3.6%  20090821  167.81  169.37  166.80   \n",
      "1       AAPL            Apple    3.6%  20090824  170.00  170.71  168.27   \n",
      "2       AAPL            Apple    3.6%  20090825  169.43  170.94  169.13   \n",
      "3       AAPL            Apple    3.6%  20090826  168.94  169.55  166.76   \n",
      "4       AAPL            Apple    3.6%  20090827  168.59  169.57  164.83   \n",
      "...      ...              ...     ...       ...     ...     ...     ...   \n",
      "82166    RRC  Range Resources    0.0%  20100813   36.18   36.87   35.63   \n",
      "82167    RRC  Range Resources    0.0%  20100816   35.37   35.57   34.90   \n",
      "82168    RRC  Range Resources    0.0%  20100817   35.88   36.24   35.22   \n",
      "82169    RRC  Range Resources    0.0%  20100819   34.98   35.10   34.22   \n",
      "82170    RRC  Range Resources    0.0%  20100820   34.27   34.27   33.35   \n",
      "\n",
      "        close  volume  \n",
      "0      169.22  148597  \n",
      "1      169.06  145331  \n",
      "2      169.40  115840  \n",
      "3      167.41  108570  \n",
      "4      169.45  160421  \n",
      "...       ...     ...  \n",
      "82166   35.66   23961  \n",
      "82167   35.05   41176  \n",
      "82168   35.91   38073  \n",
      "82169   34.57   36762  \n",
      "82170   33.47   41591  \n",
      "\n",
      "[82171 rows x 9 columns]\n"
     ]
    }
   ],
   "metadata": {}
  },
  {
   "cell_type": "markdown",
   "source": [
    "## Лабораторная работа №2"
   ],
   "metadata": {}
  },
  {
   "cell_type": "markdown",
   "source": [
    "### Базовые операции с `DataFrame`"
   ],
   "metadata": {}
  },
  {
   "cell_type": "code",
   "execution_count": 6,
   "source": [
    "import pandas as pd"
   ],
   "outputs": [],
   "metadata": {}
  },
  {
   "cell_type": "markdown",
   "source": [
    "1.1 В файлах `recipes_sample.csv` и `reviews_sample.csv` находится информация об рецептах блюд и отзывах на эти рецепты соответственно. Загрузите данные из файлов в виде `pd.DataFrame` с названиями `recipes` и `reviews`. Обратите внимание на корректное считывание столбца(ов) с индексами."
   ],
   "metadata": {}
  },
  {
   "cell_type": "code",
   "execution_count": 7,
   "source": [
    "recipes = pd.read_csv('data/recipes_sample.csv', sep=',')\r\n",
    "reviews = pd.read_csv('data/reviews_sample.csv', sep=',')\r\n",
    "print(f\"[Task 1.1] Answer:\\n\\nRecipes:\\n{recipes}\\n\\nReviews:\\n{reviews}\")\r\n"
   ],
   "outputs": [
    {
     "output_type": "stream",
     "name": "stdout",
     "text": [
      "[Task 1.1] Answer:\n",
      "\n",
      "Recipes:\n",
      "                                               name      id  minutes  \\\n",
      "0             george s at the cove  black bean soup   44123       90   \n",
      "1                healthy for them  yogurt popsicles   67664       10   \n",
      "2                      i can t believe it s spinach   38798       30   \n",
      "3                              italian  gut busters   35173       45   \n",
      "4          love is in the air  beef fondue   sauces   84797       25   \n",
      "...                                             ...     ...      ...   \n",
      "29995  zurie s holey rustic olive and cheddar bread  267661       80   \n",
      "29996          zwetschgenkuchen  bavarian plum cake  386977      240   \n",
      "29997   zwiebelkuchen   southwest german onion cake  103312       75   \n",
      "29998                                   zydeco soup  486161       60   \n",
      "29999        cookies by design   cookies on a stick  298512       29   \n",
      "\n",
      "       contributor_id   submitted  n_steps  \\\n",
      "0               35193  2002-10-25      NaN   \n",
      "1               91970  2003-07-26      NaN   \n",
      "2                1533  2002-08-29      NaN   \n",
      "3               22724  2002-07-27      NaN   \n",
      "4                4470  2004-02-23      4.0   \n",
      "...               ...         ...      ...   \n",
      "29995          200862  2007-11-25     16.0   \n",
      "29996          177443  2009-08-24      NaN   \n",
      "29997          161745  2004-11-03      NaN   \n",
      "29998          227978  2012-08-29      NaN   \n",
      "29999          506822  2008-04-15      9.0   \n",
      "\n",
      "                                             description  n_ingredients  \n",
      "0      an original recipe created by chef scott meska...           18.0  \n",
      "1      my children and their friends ask for my homem...            NaN  \n",
      "2                these were so go, it surprised even me.            8.0  \n",
      "3      my sister-in-law made these for us at a family...            NaN  \n",
      "4      i think a fondue is a very romantic casual din...            NaN  \n",
      "...                                                  ...            ...  \n",
      "29995  this is based on a french recipe but i changed...           10.0  \n",
      "29996  this is a traditional fresh plum cake, thought...           11.0  \n",
      "29997  this is a traditional late summer early fall s...            NaN  \n",
      "29998  this is a delicious soup that i originally fou...            NaN  \n",
      "29999  i've heard of the 'cookies by design' company,...           10.0  \n",
      "\n",
      "[30000 rows x 8 columns]\n",
      "\n",
      "Reviews:\n",
      "        Unnamed: 0     user_id  recipe_id        date  rating  \\\n",
      "0           370476       21752      57993  2003-05-01       5   \n",
      "1           624300      431813     142201  2007-09-16       5   \n",
      "2           187037      400708     252013  2008-01-10       4   \n",
      "3           706134  2001852463     404716  2017-12-11       5   \n",
      "4           312179       95810     129396  2008-03-14       5   \n",
      "...            ...         ...        ...         ...     ...   \n",
      "126691     1013457     1270706     335534  2009-05-17       4   \n",
      "126692      158736     2282344       8701  2012-06-03       0   \n",
      "126693     1059834      689540     222001  2008-04-08       5   \n",
      "126694      453285  2000242659     354979  2015-06-02       5   \n",
      "126695      691207      463435     415599  2010-09-30       5   \n",
      "\n",
      "                                                   review  \n",
      "0       Last week whole sides of frozen salmon fillet ...  \n",
      "1       So simple and so tasty!  I used a yellow capsi...  \n",
      "2       Very nice breakfast HH, easy to make and yummy...  \n",
      "3       These are a favorite for the holidays and so e...  \n",
      "4       Excellent soup!  The tomato flavor is just gre...  \n",
      "...                                                   ...  \n",
      "126691  This recipe was great! I made it last night. I...  \n",
      "126692  This recipe is outstanding. I followed the rec...  \n",
      "126693  Well, we were not a crowd but it was a fabulou...  \n",
      "126694  I have been a steak eater and dedicated BBQ gr...  \n",
      "126695  Wonderful and simple to prepare seasoning blen...  \n",
      "\n",
      "[126696 rows x 6 columns]\n"
     ]
    }
   ],
   "metadata": {}
  },
  {
   "cell_type": "markdown",
   "source": [
    "1.2 Для каждой из таблиц выведите основные параметры:\n",
    "* количество точек данных (строк);\n",
    "* количество столбцов;\n",
    "* тип данных каждого столбца."
   ],
   "metadata": {}
  },
  {
   "cell_type": "code",
   "execution_count": 8,
   "source": [
    "print(f\"[Task 1.2] Answer:\\n\")\r\n",
    "print(f\"Recipes:\\nRows: {recipes.shape[0]}\\nColumns: {recipes.shape[1]}\\nTypes: {recipes.dtypes}\\n\")\r\n",
    "print(f\"Reviews:\\nRows: {reviews.shape[0]}\\nColumns: {reviews.shape[1]}\\nTypes: {reviews.dtypes}\")"
   ],
   "outputs": [
    {
     "output_type": "stream",
     "name": "stdout",
     "text": [
      "[Task 1.2] Answer:\n",
      "\n",
      "Recipes:\n",
      "Rows: 30000\n",
      "Columns: 8\n",
      "Types: name               object\n",
      "id                  int64\n",
      "minutes             int64\n",
      "contributor_id      int64\n",
      "submitted          object\n",
      "n_steps           float64\n",
      "description        object\n",
      "n_ingredients     float64\n",
      "dtype: object\n",
      "\n",
      "Reviews:\n",
      "Rows: 126696\n",
      "Columns: 6\n",
      "Types: Unnamed: 0     int64\n",
      "user_id        int64\n",
      "recipe_id      int64\n",
      "date          object\n",
      "rating         int64\n",
      "review        object\n",
      "dtype: object\n"
     ]
    }
   ],
   "metadata": {}
  },
  {
   "cell_type": "markdown",
   "source": [
    "1.3 Исследуйте, в каких столбцах таблиц содержатся пропуски. Посчитайте долю строк, содержащих пропуски, в отношении к общему количеству строк."
   ],
   "metadata": {}
  },
  {
   "cell_type": "code",
   "execution_count": 9,
   "source": [
    "print(f\"[Task 1.3] Answer:\\n\")\r\n",
    "print(f\"Recipes:\\n{recipes.isna().sum()}\\nShare from all lists: {(recipes.shape[0] - recipes.dropna().shape[0])/recipes.shape[0]*100}%\\n\")\r\n",
    "print(f\"Reviews:\\n{reviews.isna().sum()}\\nShare from all lists: {(reviews.shape[0] - reviews.dropna().shape[0])/reviews.shape[0]*100}%\")"
   ],
   "outputs": [
    {
     "output_type": "stream",
     "name": "stdout",
     "text": [
      "[Task 1.3] Answer:\n",
      "\n",
      "Recipes:\n",
      "name                  0\n",
      "id                    0\n",
      "minutes               0\n",
      "contributor_id        0\n",
      "submitted             0\n",
      "n_steps           11190\n",
      "description         623\n",
      "n_ingredients      8880\n",
      "dtype: int64\n",
      "Share from all lists: 56.846666666666664%\n",
      "\n",
      "Reviews:\n",
      "Unnamed: 0     0\n",
      "user_id        0\n",
      "recipe_id      0\n",
      "date           0\n",
      "rating         0\n",
      "review        17\n",
      "dtype: int64\n",
      "Share from all lists: 0.013417945317926377%\n"
     ]
    }
   ],
   "metadata": {}
  },
  {
   "cell_type": "markdown",
   "source": [
    "1.4 Рассчитайте среднее значение для каждого из числовых столбцов (где это имеет смысл)."
   ],
   "metadata": {}
  },
  {
   "cell_type": "code",
   "execution_count": 10,
   "source": [
    "print(f\"[Task 1.4] Answer:\\n\")\r\n",
    "print(f\"Recipes:\\n{recipes[['minutes', 'n_steps', 'n_ingredients']].mean()}\\n\")\r\n",
    "print(f\"Reviews:\\n{reviews[['rating']].mean()}\")"
   ],
   "outputs": [
    {
     "output_type": "stream",
     "name": "stdout",
     "text": [
      "[Task 1.4] Answer:\n",
      "\n",
      "Recipes:\n",
      "minutes          123.358133\n",
      "n_steps            9.805582\n",
      "n_ingredients      9.008286\n",
      "dtype: float64\n",
      "\n",
      "Reviews:\n",
      "rating    4.410802\n",
      "dtype: float64\n"
     ]
    }
   ],
   "metadata": {}
  },
  {
   "cell_type": "markdown",
   "source": [
    "1.5 Создайте серию из 10 случайных названий рецептов."
   ],
   "metadata": {}
  },
  {
   "cell_type": "code",
   "execution_count": 11,
   "source": [
    "print(f\"[Task 1.5] Answer:\\n\\n{recipes['name'].sample(n=10)}\")"
   ],
   "outputs": [
    {
     "output_type": "stream",
     "name": "stdout",
     "text": [
      "[Task 1.5] Answer:\n",
      "\n",
      "7386                                  cold cereal\n",
      "18305                           mushroom mountain\n",
      "24637                  smoky grilled cheese fries\n",
      "6794                     chocolate waffle cookies\n",
      "10487                                   el ritual\n",
      "557                          almost alice chicken\n",
      "18640                   new york style cheesecake\n",
      "10431                      eggplant curry  indian\n",
      "1171     artichoke  pancetta and spinach frittata\n",
      "28354                      tzatziki    gyro sauce\n",
      "Name: name, dtype: object\n"
     ]
    }
   ],
   "metadata": {}
  },
  {
   "cell_type": "markdown",
   "source": [
    "1.6 Измените индекс в таблице `reviews`, пронумеровав строки, начиная с нуля."
   ],
   "metadata": {}
  },
  {
   "cell_type": "code",
   "execution_count": 12,
   "source": [
    "print(f\"[Task 1.6] Answer:\\n\\n{reviews.sort_values('Unnamed: 0')}\")"
   ],
   "outputs": [
    {
     "output_type": "stream",
     "name": "stdout",
     "text": [
      "[Task 1.6] Answer:\n",
      "\n",
      "        Unnamed: 0     user_id  recipe_id        date  rating  \\\n",
      "19903            5       52282     120345  2005-05-21       4   \n",
      "30788            6      124416     120345  2011-08-06       0   \n",
      "119160           7  2000192946     120345  2015-05-10       2   \n",
      "29792            8       76535     134728  2005-09-02       4   \n",
      "27624            9      273745     134728  2005-12-22       5   \n",
      "...            ...         ...        ...         ...     ...   \n",
      "47918      1132291      681416     103587  2010-02-02       5   \n",
      "65847      1132292     1986433     103587  2011-08-19       1   \n",
      "90049      1132293     2317533     103587  2012-07-05       5   \n",
      "13818      1132326     1963163     451490  2015-05-23       5   \n",
      "108149     1132352     1269180     257796  2011-08-07       4   \n",
      "\n",
      "                                                   review  \n",
      "19903   very very sweet. after i waited the 2 days i b...  \n",
      "30788   Just an observation, so I will not rate.  I fo...  \n",
      "119160  This recipe was OVERLY too sweet.  I would sta...  \n",
      "29792                                          Very good!  \n",
      "27624                              Better than the real!!  \n",
      "...                                                   ...  \n",
      "47918   This is a delicious alternative to tartar sauc...  \n",
      "65847   Sorry, but this is awful the mix of ingredient...  \n",
      "90049   Outstanding dill sauce!  I used about a tsp of...  \n",
      "13818   Just made this for the first time today. This ...  \n",
      "108149  Very tender and juicy -  had trouble getting t...  \n",
      "\n",
      "[126696 rows x 6 columns]\n"
     ]
    }
   ],
   "metadata": {}
  },
  {
   "cell_type": "markdown",
   "source": [
    "1.7 Выведите информацию о рецептах, время выполнения которых не больше 20 минут и кол-во ингредиентов в которых не больше 5."
   ],
   "metadata": {}
  },
  {
   "cell_type": "code",
   "execution_count": 13,
   "source": [
    "print(f\"[Task 1.7] Answer:\\n\")\r\n",
    "print(recipes[ (recipes['minutes'] <= 20) & (recipes['n_ingredients'] <= 5)])"
   ],
   "outputs": [
    {
     "output_type": "stream",
     "name": "stdout",
     "text": [
      "[Task 1.7] Answer:\n",
      "\n",
      "                                                    name      id  minutes  \\\n",
      "28                                   quick biscuit bread  302399       20   \n",
      "60                         peas  fit for a king or queen  303944       20   \n",
      "90                     hawaiian sunrise           mimosa  100837        5   \n",
      "91            tasty dish s   banana pudding in 2 minutes  286484        2   \n",
      "94                                    1 minute meatballs   11361       13   \n",
      "...                                                  ...     ...      ...   \n",
      "29873  zip and steam red potatoes with butter and garlic  304922       13   \n",
      "29874                          ziplock vanilla ice cream   74250       10   \n",
      "29905                      zucchini and corn with cheese  256177       15   \n",
      "29980               zucchini with jalapeno monterey jack  320622       10   \n",
      "29983                          zucchini with serrano ham  162411       15   \n",
      "\n",
      "       contributor_id   submitted  n_steps  \\\n",
      "28             213909  2008-05-06     11.0   \n",
      "60             213909  2008-05-16      NaN   \n",
      "90              58104  2004-09-29      4.0   \n",
      "91              47892  2008-02-13      NaN   \n",
      "94               4470  2001-09-03      NaN   \n",
      "...               ...         ...      ...   \n",
      "29873          724218  2008-05-27      9.0   \n",
      "29874           24386  2003-10-29      8.0   \n",
      "29905          305531  2007-09-29      4.0   \n",
      "29980          305531  2008-08-20      3.0   \n",
      "29983          152500  2006-03-31      6.0   \n",
      "\n",
      "                                             description  n_ingredients  \n",
      "28     this is a wonderful quick bread to make as an ...            5.0  \n",
      "60     this recipe is so simple and the flavors are s...            5.0  \n",
      "90     pineapple mimosa was changed to hawaiian sunri...            3.0  \n",
      "91     \"mmmm, i love bananas!\" a --tasty dish-- origi...            4.0  \n",
      "94     this is a real short cut for cooks in a hurry....            2.0  \n",
      "...                                                  ...            ...  \n",
      "29873  i haven't tried this yet, but i am going to so...            5.0  \n",
      "29874  a fun thing for kids to do. may want to use mi...            3.0  \n",
      "29905  from betty crocker fresh spring recipes. i lik...            5.0  \n",
      "29980                                  simple and yummy!            3.0  \n",
      "29983  this dish is from tim malzer, a german chef wh...            5.0  \n",
      "\n",
      "[2019 rows x 8 columns]\n"
     ]
    }
   ],
   "metadata": {}
  },
  {
   "cell_type": "markdown",
   "source": [
    "### Работа с датами в `pandas`"
   ],
   "metadata": {}
  },
  {
   "cell_type": "markdown",
   "source": [
    "2.1 Преобразуйте столбец `submitted` из таблицы `recipes` в формат времени. Модифицируйте решение задачи 1.1 так, чтобы считать столбец сразу в нужном формате."
   ],
   "metadata": {}
  },
  {
   "cell_type": "code",
   "execution_count": 14,
   "source": [
    "print(f\"[Task 2.1] Answer:\\n\")\r\n",
    "t2_1 = pd.read_csv(\"data/recipes_sample.csv\")\r\n",
    "t2_1[\"submitted\"] = pd.to_datetime(t2_1[\"submitted\"])\r\n",
    "print(t2_1)"
   ],
   "outputs": [
    {
     "output_type": "stream",
     "name": "stdout",
     "text": [
      "[Task 2.1] Answer:\n",
      "\n",
      "                                               name      id  minutes  \\\n",
      "0             george s at the cove  black bean soup   44123       90   \n",
      "1                healthy for them  yogurt popsicles   67664       10   \n",
      "2                      i can t believe it s spinach   38798       30   \n",
      "3                              italian  gut busters   35173       45   \n",
      "4          love is in the air  beef fondue   sauces   84797       25   \n",
      "...                                             ...     ...      ...   \n",
      "29995  zurie s holey rustic olive and cheddar bread  267661       80   \n",
      "29996          zwetschgenkuchen  bavarian plum cake  386977      240   \n",
      "29997   zwiebelkuchen   southwest german onion cake  103312       75   \n",
      "29998                                   zydeco soup  486161       60   \n",
      "29999        cookies by design   cookies on a stick  298512       29   \n",
      "\n",
      "       contributor_id  submitted  n_steps  \\\n",
      "0               35193 2002-10-25      NaN   \n",
      "1               91970 2003-07-26      NaN   \n",
      "2                1533 2002-08-29      NaN   \n",
      "3               22724 2002-07-27      NaN   \n",
      "4                4470 2004-02-23      4.0   \n",
      "...               ...        ...      ...   \n",
      "29995          200862 2007-11-25     16.0   \n",
      "29996          177443 2009-08-24      NaN   \n",
      "29997          161745 2004-11-03      NaN   \n",
      "29998          227978 2012-08-29      NaN   \n",
      "29999          506822 2008-04-15      9.0   \n",
      "\n",
      "                                             description  n_ingredients  \n",
      "0      an original recipe created by chef scott meska...           18.0  \n",
      "1      my children and their friends ask for my homem...            NaN  \n",
      "2                these were so go, it surprised even me.            8.0  \n",
      "3      my sister-in-law made these for us at a family...            NaN  \n",
      "4      i think a fondue is a very romantic casual din...            NaN  \n",
      "...                                                  ...            ...  \n",
      "29995  this is based on a french recipe but i changed...           10.0  \n",
      "29996  this is a traditional fresh plum cake, thought...           11.0  \n",
      "29997  this is a traditional late summer early fall s...            NaN  \n",
      "29998  this is a delicious soup that i originally fou...            NaN  \n",
      "29999  i've heard of the 'cookies by design' company,...           10.0  \n",
      "\n",
      "[30000 rows x 8 columns]\n"
     ]
    }
   ],
   "metadata": {}
  },
  {
   "cell_type": "markdown",
   "source": [
    "2.2 Выведите информацию о рецептах, добавленных в датасет не позже 2010 года."
   ],
   "metadata": {}
  },
  {
   "cell_type": "code",
   "execution_count": 15,
   "source": [
    "print(f\"[Task 2.2] Answer:\\n\")\r\n",
    "print(t2_1[t2_1['submitted'] < pd.to_datetime('20100101', format=\"%Y%m%d\")])"
   ],
   "outputs": [
    {
     "output_type": "stream",
     "name": "stdout",
     "text": [
      "[Task 2.2] Answer:\n",
      "\n",
      "                                               name      id  minutes  \\\n",
      "0             george s at the cove  black bean soup   44123       90   \n",
      "1                healthy for them  yogurt popsicles   67664       10   \n",
      "2                      i can t believe it s spinach   38798       30   \n",
      "3                              italian  gut busters   35173       45   \n",
      "4          love is in the air  beef fondue   sauces   84797       25   \n",
      "...                                             ...     ...      ...   \n",
      "29993                     zuni caf zucchini pickles  316950     2895   \n",
      "29995  zurie s holey rustic olive and cheddar bread  267661       80   \n",
      "29996          zwetschgenkuchen  bavarian plum cake  386977      240   \n",
      "29997   zwiebelkuchen   southwest german onion cake  103312       75   \n",
      "29999        cookies by design   cookies on a stick  298512       29   \n",
      "\n",
      "       contributor_id  submitted  n_steps  \\\n",
      "0               35193 2002-10-25      NaN   \n",
      "1               91970 2003-07-26      NaN   \n",
      "2                1533 2002-08-29      NaN   \n",
      "3               22724 2002-07-27      NaN   \n",
      "4                4470 2004-02-23      4.0   \n",
      "...               ...        ...      ...   \n",
      "29993           62264 2008-07-31      NaN   \n",
      "29995          200862 2007-11-25     16.0   \n",
      "29996          177443 2009-08-24      NaN   \n",
      "29997          161745 2004-11-03      NaN   \n",
      "29999          506822 2008-04-15      9.0   \n",
      "\n",
      "                                             description  n_ingredients  \n",
      "0      an original recipe created by chef scott meska...           18.0  \n",
      "1      my children and their friends ask for my homem...            NaN  \n",
      "2                these were so go, it surprised even me.            8.0  \n",
      "3      my sister-in-law made these for us at a family...            NaN  \n",
      "4      i think a fondue is a very romantic casual din...            NaN  \n",
      "...                                                  ...            ...  \n",
      "29993  refrigerator pickles for some of the zucchini ...            8.0  \n",
      "29995  this is based on a french recipe but i changed...           10.0  \n",
      "29996  this is a traditional fresh plum cake, thought...           11.0  \n",
      "29997  this is a traditional late summer early fall s...            NaN  \n",
      "29999  i've heard of the 'cookies by design' company,...           10.0  \n",
      "\n",
      "[26123 rows x 8 columns]\n"
     ]
    }
   ],
   "metadata": {}
  },
  {
   "cell_type": "markdown",
   "source": [
    "### Работа со строковыми данными в `pandas`"
   ],
   "metadata": {}
  },
  {
   "cell_type": "markdown",
   "source": [
    "3.1  Добавьте в таблицу `recipes` столбец `description_length`, в котором хранится длина описания рецепта из столбца `description`."
   ],
   "metadata": {}
  },
  {
   "cell_type": "code",
   "execution_count": 16,
   "source": [
    "print(f\"[Task 3.1] Answer:\\n\")\r\n",
    "t3_1 = pd.read_csv(\"data/recipes_sample.csv\", parse_dates=['submitted'])\r\n",
    "t3_1_1 = t3_1.assign(description_length = t3_1['description'].str.len())\r\n",
    "print(t3_1_1)"
   ],
   "outputs": [
    {
     "output_type": "stream",
     "name": "stdout",
     "text": [
      "[Task 3.1] Answer:\n",
      "\n",
      "                                               name      id  minutes  \\\n",
      "0             george s at the cove  black bean soup   44123       90   \n",
      "1                healthy for them  yogurt popsicles   67664       10   \n",
      "2                      i can t believe it s spinach   38798       30   \n",
      "3                              italian  gut busters   35173       45   \n",
      "4          love is in the air  beef fondue   sauces   84797       25   \n",
      "...                                             ...     ...      ...   \n",
      "29995  zurie s holey rustic olive and cheddar bread  267661       80   \n",
      "29996          zwetschgenkuchen  bavarian plum cake  386977      240   \n",
      "29997   zwiebelkuchen   southwest german onion cake  103312       75   \n",
      "29998                                   zydeco soup  486161       60   \n",
      "29999        cookies by design   cookies on a stick  298512       29   \n",
      "\n",
      "       contributor_id  submitted  n_steps  \\\n",
      "0               35193 2002-10-25      NaN   \n",
      "1               91970 2003-07-26      NaN   \n",
      "2                1533 2002-08-29      NaN   \n",
      "3               22724 2002-07-27      NaN   \n",
      "4                4470 2004-02-23      4.0   \n",
      "...               ...        ...      ...   \n",
      "29995          200862 2007-11-25     16.0   \n",
      "29996          177443 2009-08-24      NaN   \n",
      "29997          161745 2004-11-03      NaN   \n",
      "29998          227978 2012-08-29      NaN   \n",
      "29999          506822 2008-04-15      9.0   \n",
      "\n",
      "                                             description  n_ingredients  \\\n",
      "0      an original recipe created by chef scott meska...           18.0   \n",
      "1      my children and their friends ask for my homem...            NaN   \n",
      "2                these were so go, it surprised even me.            8.0   \n",
      "3      my sister-in-law made these for us at a family...            NaN   \n",
      "4      i think a fondue is a very romantic casual din...            NaN   \n",
      "...                                                  ...            ...   \n",
      "29995  this is based on a french recipe but i changed...           10.0   \n",
      "29996  this is a traditional fresh plum cake, thought...           11.0   \n",
      "29997  this is a traditional late summer early fall s...            NaN   \n",
      "29998  this is a delicious soup that i originally fou...            NaN   \n",
      "29999  i've heard of the 'cookies by design' company,...           10.0   \n",
      "\n",
      "       description_length  \n",
      "0                   330.0  \n",
      "1                   255.0  \n",
      "2                    39.0  \n",
      "3                   154.0  \n",
      "4                   587.0  \n",
      "...                   ...  \n",
      "29995               484.0  \n",
      "29996               286.0  \n",
      "29997               311.0  \n",
      "29998               648.0  \n",
      "29999               125.0  \n",
      "\n",
      "[30000 rows x 9 columns]\n"
     ]
    }
   ],
   "metadata": {}
  },
  {
   "cell_type": "markdown",
   "source": [
    "3.2 Измените название каждого рецепта в таблице `recipes` таким образом, чтобы каждое слово в названии начиналось с прописной буквы."
   ],
   "metadata": {}
  },
  {
   "cell_type": "code",
   "execution_count": 17,
   "source": [
    "print(f\"[Task 3.2] Answer:\\n\")\r\n",
    "t3_1_1['name'] = t3_1_1['name'].str.title()\r\n",
    "print(f\"{t3_1_1}\")"
   ],
   "outputs": [
    {
     "output_type": "stream",
     "name": "stdout",
     "text": [
      "[Task 3.2] Answer:\n",
      "\n",
      "                                               name      id  minutes  \\\n",
      "0             George S At The Cove  Black Bean Soup   44123       90   \n",
      "1                Healthy For Them  Yogurt Popsicles   67664       10   \n",
      "2                      I Can T Believe It S Spinach   38798       30   \n",
      "3                              Italian  Gut Busters   35173       45   \n",
      "4          Love Is In The Air  Beef Fondue   Sauces   84797       25   \n",
      "...                                             ...     ...      ...   \n",
      "29995  Zurie S Holey Rustic Olive And Cheddar Bread  267661       80   \n",
      "29996          Zwetschgenkuchen  Bavarian Plum Cake  386977      240   \n",
      "29997   Zwiebelkuchen   Southwest German Onion Cake  103312       75   \n",
      "29998                                   Zydeco Soup  486161       60   \n",
      "29999        Cookies By Design   Cookies On A Stick  298512       29   \n",
      "\n",
      "       contributor_id  submitted  n_steps  \\\n",
      "0               35193 2002-10-25      NaN   \n",
      "1               91970 2003-07-26      NaN   \n",
      "2                1533 2002-08-29      NaN   \n",
      "3               22724 2002-07-27      NaN   \n",
      "4                4470 2004-02-23      4.0   \n",
      "...               ...        ...      ...   \n",
      "29995          200862 2007-11-25     16.0   \n",
      "29996          177443 2009-08-24      NaN   \n",
      "29997          161745 2004-11-03      NaN   \n",
      "29998          227978 2012-08-29      NaN   \n",
      "29999          506822 2008-04-15      9.0   \n",
      "\n",
      "                                             description  n_ingredients  \\\n",
      "0      an original recipe created by chef scott meska...           18.0   \n",
      "1      my children and their friends ask for my homem...            NaN   \n",
      "2                these were so go, it surprised even me.            8.0   \n",
      "3      my sister-in-law made these for us at a family...            NaN   \n",
      "4      i think a fondue is a very romantic casual din...            NaN   \n",
      "...                                                  ...            ...   \n",
      "29995  this is based on a french recipe but i changed...           10.0   \n",
      "29996  this is a traditional fresh plum cake, thought...           11.0   \n",
      "29997  this is a traditional late summer early fall s...            NaN   \n",
      "29998  this is a delicious soup that i originally fou...            NaN   \n",
      "29999  i've heard of the 'cookies by design' company,...           10.0   \n",
      "\n",
      "       description_length  \n",
      "0                   330.0  \n",
      "1                   255.0  \n",
      "2                    39.0  \n",
      "3                   154.0  \n",
      "4                   587.0  \n",
      "...                   ...  \n",
      "29995               484.0  \n",
      "29996               286.0  \n",
      "29997               311.0  \n",
      "29998               648.0  \n",
      "29999               125.0  \n",
      "\n",
      "[30000 rows x 9 columns]\n"
     ]
    }
   ],
   "metadata": {}
  },
  {
   "cell_type": "markdown",
   "source": [
    "3.3 Добавьте в таблицу `recipes` столбец `name_word_count`, в котором хранится количество слов из названии рецепта (считайте, что слова в названии разделяются только пробелами)."
   ],
   "metadata": {}
  },
  {
   "cell_type": "code",
   "execution_count": 18,
   "source": [
    "print(f\"[Task 3.3] Answer:\\n\")\r\n",
    "t3_3 = t3_1_1.assign(name_word_count = t3_1_1['name'].str.split(expand=True).count(axis=1))\r\n",
    "print(f\"{t3_3}\")"
   ],
   "outputs": [
    {
     "output_type": "stream",
     "name": "stdout",
     "text": [
      "[Task 3.3] Answer:\n",
      "\n",
      "                                               name      id  minutes  \\\n",
      "0             George S At The Cove  Black Bean Soup   44123       90   \n",
      "1                Healthy For Them  Yogurt Popsicles   67664       10   \n",
      "2                      I Can T Believe It S Spinach   38798       30   \n",
      "3                              Italian  Gut Busters   35173       45   \n",
      "4          Love Is In The Air  Beef Fondue   Sauces   84797       25   \n",
      "...                                             ...     ...      ...   \n",
      "29995  Zurie S Holey Rustic Olive And Cheddar Bread  267661       80   \n",
      "29996          Zwetschgenkuchen  Bavarian Plum Cake  386977      240   \n",
      "29997   Zwiebelkuchen   Southwest German Onion Cake  103312       75   \n",
      "29998                                   Zydeco Soup  486161       60   \n",
      "29999        Cookies By Design   Cookies On A Stick  298512       29   \n",
      "\n",
      "       contributor_id  submitted  n_steps  \\\n",
      "0               35193 2002-10-25      NaN   \n",
      "1               91970 2003-07-26      NaN   \n",
      "2                1533 2002-08-29      NaN   \n",
      "3               22724 2002-07-27      NaN   \n",
      "4                4470 2004-02-23      4.0   \n",
      "...               ...        ...      ...   \n",
      "29995          200862 2007-11-25     16.0   \n",
      "29996          177443 2009-08-24      NaN   \n",
      "29997          161745 2004-11-03      NaN   \n",
      "29998          227978 2012-08-29      NaN   \n",
      "29999          506822 2008-04-15      9.0   \n",
      "\n",
      "                                             description  n_ingredients  \\\n",
      "0      an original recipe created by chef scott meska...           18.0   \n",
      "1      my children and their friends ask for my homem...            NaN   \n",
      "2                these were so go, it surprised even me.            8.0   \n",
      "3      my sister-in-law made these for us at a family...            NaN   \n",
      "4      i think a fondue is a very romantic casual din...            NaN   \n",
      "...                                                  ...            ...   \n",
      "29995  this is based on a french recipe but i changed...           10.0   \n",
      "29996  this is a traditional fresh plum cake, thought...           11.0   \n",
      "29997  this is a traditional late summer early fall s...            NaN   \n",
      "29998  this is a delicious soup that i originally fou...            NaN   \n",
      "29999  i've heard of the 'cookies by design' company,...           10.0   \n",
      "\n",
      "       description_length  name_word_count  \n",
      "0                   330.0                8  \n",
      "1                   255.0                5  \n",
      "2                    39.0                7  \n",
      "3                   154.0                3  \n",
      "4                   587.0                8  \n",
      "...                   ...              ...  \n",
      "29995               484.0                8  \n",
      "29996               286.0                4  \n",
      "29997               311.0                5  \n",
      "29998               648.0                2  \n",
      "29999               125.0                7  \n",
      "\n",
      "[30000 rows x 10 columns]\n"
     ]
    }
   ],
   "metadata": {}
  },
  {
   "cell_type": "markdown",
   "source": [
    "### Группировки таблиц `pd.DataFrame`"
   ],
   "metadata": {}
  },
  {
   "cell_type": "markdown",
   "source": [
    "4.1 Посчитайте количество рецептов, представленных каждым из участников (`contributor_id`). Какой участник добавил максимальное кол-во рецептов?"
   ],
   "metadata": {}
  },
  {
   "cell_type": "code",
   "execution_count": 19,
   "source": [
    "print(f\"[Task 4.1] Answer:\")\r\n",
    "t4_1 = t3_3.groupby(['contributor_id'])['id'].count()\r\n",
    "print(f\"Number of recipes for each contributor:\\n\\n{t4_1}\\n\\nContributors with the most recipes:\\n{t4_1[t4_1 == t4_1.max()]}\")\r\n"
   ],
   "outputs": [
    {
     "output_type": "stream",
     "name": "stdout",
     "text": [
      "[Task 4.1] Answer:\n",
      "Number of recipes for each contributor:\n",
      "\n",
      "contributor_id\n",
      "1530            5\n",
      "1533          186\n",
      "1534           50\n",
      "1535           40\n",
      "1538            8\n",
      "             ... \n",
      "2001968497      2\n",
      "2002059754      1\n",
      "2002234079      1\n",
      "2002234259      1\n",
      "2002247884      1\n",
      "Name: id, Length: 8404, dtype: int64\n",
      "\n",
      "Contributors with the most recipes:\n",
      "contributor_id\n",
      "89831    421\n",
      "Name: id, dtype: int64\n"
     ]
    }
   ],
   "metadata": {}
  },
  {
   "cell_type": "markdown",
   "source": [
    "4.2 Посчитайте средний рейтинг к каждому из рецептов. Для скольких рецептов отсутствуют отзывы?"
   ],
   "metadata": {}
  },
  {
   "cell_type": "code",
   "execution_count": 20,
   "source": [
    "print(f\"[Task 4.2] Answer:\")\r\n",
    "t4_2 = pd.read_csv(\"data/reviews_sample.csv\").groupby('recipe_id')['rating'].mean()\r\n",
    "print(f\"Average rating for each recipes:\\n\\n{t4_2}\\nNumber of recipes without reviews: {t3_3.shape[0] - t4_2.shape[0]}\")"
   ],
   "outputs": [
    {
     "output_type": "stream",
     "name": "stdout",
     "text": [
      "[Task 4.2] Answer:\n",
      "Average rating for each recipes:\n",
      "\n",
      "recipe_id\n",
      "48        1.000000\n",
      "55        4.750000\n",
      "66        4.944444\n",
      "91        4.750000\n",
      "94        5.000000\n",
      "            ...   \n",
      "536547    5.000000\n",
      "536610    0.000000\n",
      "536728    4.000000\n",
      "536729    4.750000\n",
      "536747    0.000000\n",
      "Name: rating, Length: 28100, dtype: float64\n",
      "Number of recipes without reviews: 1900\n"
     ]
    }
   ],
   "metadata": {}
  },
  {
   "cell_type": "markdown",
   "source": [
    "4.3 Посчитайте количество рецептов с разбивкой по годам создания."
   ],
   "metadata": {}
  },
  {
   "cell_type": "code",
   "execution_count": 21,
   "source": [
    "print(f\"[Task 4.3] Answer:\")\r\n",
    "t4_3 = t3_3\r\n",
    "print(f\"Number of recipes by year of creation:\\n\\n{t4_3.groupby(pd.to_datetime(t4_3['submitted']).dt.year)['id'].count()}\")"
   ],
   "outputs": [
    {
     "output_type": "stream",
     "name": "stdout",
     "text": [
      "[Task 4.3] Answer:\n",
      "Number of recipes by year of creation:\n",
      "\n",
      "submitted\n",
      "1999     275\n",
      "2000     104\n",
      "2001     589\n",
      "2002    2644\n",
      "2003    2334\n",
      "2004    2153\n",
      "2005    3130\n",
      "2006    3473\n",
      "2007    4429\n",
      "2008    4029\n",
      "2009    2963\n",
      "2010    1538\n",
      "2011     922\n",
      "2012     659\n",
      "2013     490\n",
      "2014     139\n",
      "2015      42\n",
      "2016      24\n",
      "2017      39\n",
      "2018      24\n",
      "Name: id, dtype: int64\n"
     ]
    }
   ],
   "metadata": {}
  },
  {
   "cell_type": "markdown",
   "source": [
    "### Объединение таблиц `pd.DataFrame`"
   ],
   "metadata": {}
  },
  {
   "cell_type": "markdown",
   "source": [
    "5.1 При помощи объединения таблиц, создайте `DataFrame`, состоящий из четырех столбцов: `id`, `name`, `user_id`, `rating`. Рецепты без отзывов должны отсутствовать в данной таблице. Подтвердите правильность работы вашего кода, выбрав рецепт, не имеющий отзывов, и выведя на экран строку из полученного `DataFrame`, содержащую информацию об этом отзыве."
   ],
   "metadata": {}
  },
  {
   "cell_type": "code",
   "execution_count": 22,
   "source": [
    "print(f\"[Task 5.1] Answer:\\n\")\r\n",
    "t5_1 = pd.read_csv(\"data/recipes_sample.csv\")\r\n",
    "t5_1_1 = pd.read_csv(\"data/reviews_sample.csv\")\r\n",
    "\r\n",
    "t5_1_2 = t5_1.merge(t5_1_1, left_on = 'id', right_on = 'recipe_id')[[\"id\", \"name\", \"user_id\", \"rating\"]]\r\n",
    "print(f\"Recipes only with reviews :\\n{t5_1_2}\")\r\n",
    "\r\n",
    "t5_1_4 = t5_1.merge(t5_1_1, left_on = 'id', right_on = 'recipe_id', how = 'left')\r\n",
    "t5_1_5 = t5_1_4[pd.isnull(t5_1_4['user_id'])][[\"id\", \"name\", \"user_id\", \"rating\"]]\r\n",
    "print(f\"Recipes without reviews:\\n{t5_1_5}\")\r\n",
    "\r\n",
    "# print(f\"Test:\\n{t5_1_2[t5_1_2['id'] == 223349]}\")"
   ],
   "outputs": [
    {
     "output_type": "stream",
     "name": "stdout",
     "text": [
      "[Task 5.1] Answer:\n",
      "\n",
      "Recipes only with reviews :\n",
      "            id                                    name  user_id  rating\n",
      "0        44123   george s at the cove  black bean soup   743566       5\n",
      "1        44123   george s at the cove  black bean soup    76503       5\n",
      "2        44123   george s at the cove  black bean soup    34206       5\n",
      "3        67664      healthy for them  yogurt popsicles   494084       5\n",
      "4        67664      healthy for them  yogurt popsicles   303445       5\n",
      "...        ...                                     ...      ...     ...\n",
      "126691  486161                             zydeco soup   305531       5\n",
      "126692  486161                             zydeco soup  1271506       5\n",
      "126693  486161                             zydeco soup   724631       5\n",
      "126694  486161                             zydeco soup   133174       5\n",
      "126695  298512  cookies by design   cookies on a stick   804234       1\n",
      "\n",
      "[126696 rows x 4 columns]\n",
      "Recipes without reviews:\n",
      "            id                                     name  user_id  rating\n",
      "191     223349            pasta  with shrimp   eggplant      NaN     NaN\n",
      "195     342620          secret ingredient  bbq meatloaf      NaN     NaN\n",
      "216     276594        windy s  sweet and sour meatballs      NaN     NaN\n",
      "282     216068  goulashy  beef stew for the slow cooker      NaN     NaN\n",
      "300     306590             old bay  grilled steak fries      NaN     NaN\n",
      "...        ...                                      ...      ...     ...\n",
      "128149   66966                       zingy potato salad      NaN     NaN\n",
      "128256  249846       zucchini  mock green papaya  salad      NaN     NaN\n",
      "128273  256177            zucchini and corn with cheese      NaN     NaN\n",
      "128436  178243                       zucchini nut salad      NaN     NaN\n",
      "128535  363362     zucchini with bell pepper and tomato      NaN     NaN\n",
      "\n",
      "[1900 rows x 4 columns]\n"
     ]
    }
   ],
   "metadata": {}
  },
  {
   "cell_type": "markdown",
   "source": [
    "5.2 При помощи объединения таблиц и группировок, создайте `DataFrame`, состоящий из трех столбцов: `recipe_id`, `name`, `review_count`. У рецептов, для которых отсутствуют отзывы, в соответствущем столбце должен быть указан 0. Подтвердите правильность работы вашего кода, выбрав рецепт, не имеющий отзывов, и выведя на экран строку из полученного `DataFrame`, содержащую информацию об этом отзыве.\n"
   ],
   "metadata": {}
  },
  {
   "cell_type": "code",
   "execution_count": 23,
   "source": [
    "print(f\"[Task 5.2] Answer:\\n\")\r\n",
    "t5_2 = t5_1.merge(t5_1_1, left_on = 'id', right_on = 'recipe_id', how = 'left').groupby('id').count()['review'].reset_index()\r\n",
    "t5_2_1 = t5_1[['id', 'name']].merge(t5_2, on = 'id').rename(columns={'id': 'recipe_id', 'review': 'review_count'})\r\n",
    "print(f\"{t5_2_1}\\n\\nTest:\\n{t5_2_1[t5_2_1['review_count'] == 0]}\")"
   ],
   "outputs": [
    {
     "output_type": "stream",
     "name": "stdout",
     "text": [
      "[Task 5.2] Answer:\n",
      "\n",
      "       recipe_id                                          name  review_count\n",
      "0          44123         george s at the cove  black bean soup             3\n",
      "1          67664            healthy for them  yogurt popsicles             8\n",
      "2          38798                  i can t believe it s spinach             3\n",
      "3          35173                          italian  gut busters             1\n",
      "4          84797      love is in the air  beef fondue   sauces             8\n",
      "...          ...                                           ...           ...\n",
      "29995     267661  zurie s holey rustic olive and cheddar bread             4\n",
      "29996     386977          zwetschgenkuchen  bavarian plum cake             2\n",
      "29997     103312   zwiebelkuchen   southwest german onion cake             6\n",
      "29998     486161                                   zydeco soup             6\n",
      "29999     298512        cookies by design   cookies on a stick             1\n",
      "\n",
      "[30000 rows x 3 columns]\n",
      "\n",
      "Test:\n",
      "       recipe_id                                     name  review_count\n",
      "26        223349            pasta  with shrimp   eggplant             0\n",
      "29        342620          secret ingredient  bbq meatloaf             0\n",
      "35        276594        windy s  sweet and sour meatballs             0\n",
      "49        216068  goulashy  beef stew for the slow cooker             0\n",
      "59        306590             old bay  grilled steak fries             0\n",
      "...          ...                                      ...           ...\n",
      "29871      66966                       zingy potato salad             0\n",
      "29903     249846       zucchini  mock green papaya  salad             0\n",
      "29905     256177            zucchini and corn with cheese             0\n",
      "29951     178243                       zucchini nut salad             0\n",
      "29979     363362     zucchini with bell pepper and tomato             0\n",
      "\n",
      "[1900 rows x 3 columns]\n"
     ]
    }
   ],
   "metadata": {}
  },
  {
   "cell_type": "markdown",
   "source": [
    "5.3. Выясните, отзывы, добавленные в каком году, имеют наименьший средний рейтинг?"
   ],
   "metadata": {}
  },
  {
   "cell_type": "code",
   "execution_count": 24,
   "source": [
    "print(f\"[Task 5.3] Answer:\\n\")\r\n",
    "t5_3 = t5_1_1['rating'].groupby(pd.to_datetime(t5_1_1['date']).dt.year).mean().reset_index()\r\n",
    "print(f\"{t5_3[t5_3['rating'] == t5_3['rating'].min()]}\\n\\nAverage rating for each year:\\n\\n{t5_3}\")"
   ],
   "outputs": [
    {
     "output_type": "stream",
     "name": "stdout",
     "text": [
      "[Task 5.3] Answer:\n",
      "\n",
      "    date    rating\n",
      "17  2017  3.353042\n",
      "\n",
      "Average rating for each year:\n",
      "\n",
      "    date    rating\n",
      "0   2000  3.384615\n",
      "1   2001  4.134426\n",
      "2   2002  4.481556\n",
      "3   2003  4.526940\n",
      "4   2004  4.546548\n",
      "5   2005  4.563680\n",
      "6   2006  4.603673\n",
      "7   2007  4.547077\n",
      "8   2008  4.484635\n",
      "9   2009  4.524728\n",
      "10  2010  4.454440\n",
      "11  2011  4.302045\n",
      "12  2012  4.341427\n",
      "13  2013  4.274168\n",
      "14  2014  4.110595\n",
      "15  2015  4.047145\n",
      "16  2016  3.912603\n",
      "17  2017  3.353042\n",
      "18  2018  3.504076\n"
     ]
    }
   ],
   "metadata": {}
  },
  {
   "cell_type": "markdown",
   "source": [
    "### Сохранение таблиц `pd.DataFrame`"
   ],
   "metadata": {}
  },
  {
   "cell_type": "markdown",
   "source": [
    "6.1 Отсортируйте таблицу в порядке убывания величины столбца `name_word_count` и сохраните результаты выполнения заданий 3.1-3.3 в csv файл. "
   ],
   "metadata": {}
  },
  {
   "cell_type": "code",
   "execution_count": 33,
   "source": [
    "print(f\"[Task 6.1] Answer:\\n\")\r\n",
    "t6_1 = t3_3.sort_values(by = 'name_word_count', ascending=False)\r\n",
    "\r\n",
    "t3_1_1.to_csv(\"Task 3.1-3.2.csv\", index=False)\r\n",
    "t6_1.to_csv(\"Task 3.3.csv\", index=False)"
   ],
   "outputs": [
    {
     "output_type": "stream",
     "name": "stdout",
     "text": [
      "[Task 6.1] Answer:\n",
      "\n"
     ]
    }
   ],
   "metadata": {}
  },
  {
   "cell_type": "markdown",
   "source": [
    "6.2 Воспользовавшись `pd.ExcelWriter`, cохраните результаты 5.1 и 5.2 в файл: на лист с названием `Рецепты с оценками` сохраните результаты выполнения 5.1; на лист с названием `Количество отзывов по рецептам` сохраните результаты выполнения 5.2."
   ],
   "metadata": {}
  },
  {
   "cell_type": "code",
   "execution_count": 34,
   "source": [
    "print(f\"[Task 6.2] Answer:\\n\")\r\n",
    "t6_2 = pd.ExcelWriter('6.2.xlsx')\r\n",
    "t5_1_2.to_excel(t6_2, sheet_name=\"Recipes with ratings\", index=False)\r\n",
    "t5_2_1.to_excel(t6_2, sheet_name=\"Number of reviews by recipes\", index=False)\r\n",
    "t6_2.save()"
   ],
   "outputs": [
    {
     "output_type": "stream",
     "name": "stdout",
     "text": [
      "[Task 6.2] Answer:\n",
      "\n"
     ]
    }
   ],
   "metadata": {}
  }
 ],
 "metadata": {
  "interpreter": {
   "hash": "247ab06e135bb35fa78c5eff31b2a9a0050dcb5fb773c2631d2a29ac689eeccb"
  },
  "kernelspec": {
   "name": "python3",
   "display_name": "Python 3.9.6 64-bit"
  },
  "language_info": {
   "codemirror_mode": {
    "name": "ipython",
    "version": 3
   },
   "file_extension": ".py",
   "mimetype": "text/x-python",
   "name": "python",
   "nbconvert_exporter": "python",
   "pygments_lexer": "ipython3",
   "version": "3.9.6"
  }
 },
 "nbformat": 4,
 "nbformat_minor": 4
}